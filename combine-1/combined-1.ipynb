{
 "cells": [
  {
   "cell_type": "markdown",
   "metadata": {},
   "source": [
    "# Исследование"
   ]
  },
  {
   "cell_type": "markdown",
   "metadata": {},
   "source": [
    "<h3> Бриф <a class=\"tocSkip\"></h2>"
   ]
  },
  {
   "cell_type": "markdown",
   "metadata": {},
   "source": [
    "Интернет-магазин «Стримчик», который продаёт по всему миру компьютерные игры. Из открытых источников доступны исторические данные о продажах игр, оценки пользователей и экспертов, жанры и платформы.\n",
    "\n",
    "Перед нами данные до 2016 года, и мы планируем кампанию на 2017-й."
   ]
  },
  {
   "cell_type": "markdown",
   "metadata": {},
   "source": [
    "<h3> Цель исследования <a class=\"tocSkip\"></h2>"
   ]
  },
  {
   "cell_type": "markdown",
   "metadata": {},
   "source": [
    "Выявить определяющие успешность игры закономерности. Это позволит сделать ставку на потенциально популярный продукт и спланировать рекламные кампании."
   ]
  },
  {
   "cell_type": "markdown",
   "metadata": {},
   "source": [
    "<h3> План работы <a class=\"tocSkip\"></h2>"
   ]
  },
  {
   "cell_type": "markdown",
   "metadata": {},
   "source": [
    "1. Входные данные — сторические данные о продажах игр, оценки пользователей и экспертов, жанры и платформы. Следует определить качество данных, соответственно первым шагом будет являться их обзор\n",
    "2. Предобработка данных\n",
    "3. Исследовательский анализ данных, визуализация общей информации о пользователях и играх, поиск зависимостей\n",
    "4. Составление портрета пользователя каждого региона\n",
    "5. Проверка гипотез на основе входных данных\n",
    "6. Общий вывод"
   ]
  },
  {
   "cell_type": "markdown",
   "metadata": {},
   "source": [
    "####"
   ]
  },
  {
   "cell_type": "markdown",
   "metadata": {},
   "source": [
    "### Обзор данных"
   ]
  },
  {
   "cell_type": "code",
   "execution_count": 1,
   "metadata": {},
   "outputs": [],
   "source": [
    "# загрузка библиотек\n",
    "import pandas as pd\n",
    "import matplotlib.pyplot as plt\n",
    "from scipy import stats as st\n",
    "import numpy as np\n",
    "import seaborn as sns"
   ]
  },
  {
   "cell_type": "code",
   "execution_count": 2,
   "metadata": {},
   "outputs": [],
   "source": [
    "# чтение файла\n",
    "games = pd.read_csv('/datasets/games.csv')"
   ]
  },
  {
   "cell_type": "code",
   "execution_count": 3,
   "metadata": {},
   "outputs": [
    {
     "data": {
      "text/html": [
       "<div>\n",
       "<style scoped>\n",
       "    .dataframe tbody tr th:only-of-type {\n",
       "        vertical-align: middle;\n",
       "    }\n",
       "\n",
       "    .dataframe tbody tr th {\n",
       "        vertical-align: top;\n",
       "    }\n",
       "\n",
       "    .dataframe thead th {\n",
       "        text-align: right;\n",
       "    }\n",
       "</style>\n",
       "<table border=\"1\" class=\"dataframe\">\n",
       "  <thead>\n",
       "    <tr style=\"text-align: right;\">\n",
       "      <th></th>\n",
       "      <th>Name</th>\n",
       "      <th>Platform</th>\n",
       "      <th>Year_of_Release</th>\n",
       "      <th>Genre</th>\n",
       "      <th>NA_sales</th>\n",
       "      <th>EU_sales</th>\n",
       "      <th>JP_sales</th>\n",
       "      <th>Other_sales</th>\n",
       "      <th>Critic_Score</th>\n",
       "      <th>User_Score</th>\n",
       "      <th>Rating</th>\n",
       "    </tr>\n",
       "  </thead>\n",
       "  <tbody>\n",
       "    <tr>\n",
       "      <th>0</th>\n",
       "      <td>Wii Sports</td>\n",
       "      <td>Wii</td>\n",
       "      <td>2006.0</td>\n",
       "      <td>Sports</td>\n",
       "      <td>41.36</td>\n",
       "      <td>28.96</td>\n",
       "      <td>3.77</td>\n",
       "      <td>8.45</td>\n",
       "      <td>76.0</td>\n",
       "      <td>8</td>\n",
       "      <td>E</td>\n",
       "    </tr>\n",
       "    <tr>\n",
       "      <th>1</th>\n",
       "      <td>Super Mario Bros.</td>\n",
       "      <td>NES</td>\n",
       "      <td>1985.0</td>\n",
       "      <td>Platform</td>\n",
       "      <td>29.08</td>\n",
       "      <td>3.58</td>\n",
       "      <td>6.81</td>\n",
       "      <td>0.77</td>\n",
       "      <td>NaN</td>\n",
       "      <td>NaN</td>\n",
       "      <td>NaN</td>\n",
       "    </tr>\n",
       "    <tr>\n",
       "      <th>2</th>\n",
       "      <td>Mario Kart Wii</td>\n",
       "      <td>Wii</td>\n",
       "      <td>2008.0</td>\n",
       "      <td>Racing</td>\n",
       "      <td>15.68</td>\n",
       "      <td>12.76</td>\n",
       "      <td>3.79</td>\n",
       "      <td>3.29</td>\n",
       "      <td>82.0</td>\n",
       "      <td>8.3</td>\n",
       "      <td>E</td>\n",
       "    </tr>\n",
       "    <tr>\n",
       "      <th>3</th>\n",
       "      <td>Wii Sports Resort</td>\n",
       "      <td>Wii</td>\n",
       "      <td>2009.0</td>\n",
       "      <td>Sports</td>\n",
       "      <td>15.61</td>\n",
       "      <td>10.93</td>\n",
       "      <td>3.28</td>\n",
       "      <td>2.95</td>\n",
       "      <td>80.0</td>\n",
       "      <td>8</td>\n",
       "      <td>E</td>\n",
       "    </tr>\n",
       "    <tr>\n",
       "      <th>4</th>\n",
       "      <td>Pokemon Red/Pokemon Blue</td>\n",
       "      <td>GB</td>\n",
       "      <td>1996.0</td>\n",
       "      <td>Role-Playing</td>\n",
       "      <td>11.27</td>\n",
       "      <td>8.89</td>\n",
       "      <td>10.22</td>\n",
       "      <td>1.00</td>\n",
       "      <td>NaN</td>\n",
       "      <td>NaN</td>\n",
       "      <td>NaN</td>\n",
       "    </tr>\n",
       "    <tr>\n",
       "      <th>5</th>\n",
       "      <td>Tetris</td>\n",
       "      <td>GB</td>\n",
       "      <td>1989.0</td>\n",
       "      <td>Puzzle</td>\n",
       "      <td>23.20</td>\n",
       "      <td>2.26</td>\n",
       "      <td>4.22</td>\n",
       "      <td>0.58</td>\n",
       "      <td>NaN</td>\n",
       "      <td>NaN</td>\n",
       "      <td>NaN</td>\n",
       "    </tr>\n",
       "    <tr>\n",
       "      <th>6</th>\n",
       "      <td>New Super Mario Bros.</td>\n",
       "      <td>DS</td>\n",
       "      <td>2006.0</td>\n",
       "      <td>Platform</td>\n",
       "      <td>11.28</td>\n",
       "      <td>9.14</td>\n",
       "      <td>6.50</td>\n",
       "      <td>2.88</td>\n",
       "      <td>89.0</td>\n",
       "      <td>8.5</td>\n",
       "      <td>E</td>\n",
       "    </tr>\n",
       "    <tr>\n",
       "      <th>7</th>\n",
       "      <td>Wii Play</td>\n",
       "      <td>Wii</td>\n",
       "      <td>2006.0</td>\n",
       "      <td>Misc</td>\n",
       "      <td>13.96</td>\n",
       "      <td>9.18</td>\n",
       "      <td>2.93</td>\n",
       "      <td>2.84</td>\n",
       "      <td>58.0</td>\n",
       "      <td>6.6</td>\n",
       "      <td>E</td>\n",
       "    </tr>\n",
       "    <tr>\n",
       "      <th>8</th>\n",
       "      <td>New Super Mario Bros. Wii</td>\n",
       "      <td>Wii</td>\n",
       "      <td>2009.0</td>\n",
       "      <td>Platform</td>\n",
       "      <td>14.44</td>\n",
       "      <td>6.94</td>\n",
       "      <td>4.70</td>\n",
       "      <td>2.24</td>\n",
       "      <td>87.0</td>\n",
       "      <td>8.4</td>\n",
       "      <td>E</td>\n",
       "    </tr>\n",
       "    <tr>\n",
       "      <th>9</th>\n",
       "      <td>Duck Hunt</td>\n",
       "      <td>NES</td>\n",
       "      <td>1984.0</td>\n",
       "      <td>Shooter</td>\n",
       "      <td>26.93</td>\n",
       "      <td>0.63</td>\n",
       "      <td>0.28</td>\n",
       "      <td>0.47</td>\n",
       "      <td>NaN</td>\n",
       "      <td>NaN</td>\n",
       "      <td>NaN</td>\n",
       "    </tr>\n",
       "  </tbody>\n",
       "</table>\n",
       "</div>"
      ],
      "text/plain": [
       "                        Name Platform  Year_of_Release         Genre  \\\n",
       "0                 Wii Sports      Wii           2006.0        Sports   \n",
       "1          Super Mario Bros.      NES           1985.0      Platform   \n",
       "2             Mario Kart Wii      Wii           2008.0        Racing   \n",
       "3          Wii Sports Resort      Wii           2009.0        Sports   \n",
       "4   Pokemon Red/Pokemon Blue       GB           1996.0  Role-Playing   \n",
       "5                     Tetris       GB           1989.0        Puzzle   \n",
       "6      New Super Mario Bros.       DS           2006.0      Platform   \n",
       "7                   Wii Play      Wii           2006.0          Misc   \n",
       "8  New Super Mario Bros. Wii      Wii           2009.0      Platform   \n",
       "9                  Duck Hunt      NES           1984.0       Shooter   \n",
       "\n",
       "   NA_sales  EU_sales  JP_sales  Other_sales  Critic_Score User_Score Rating  \n",
       "0     41.36     28.96      3.77         8.45          76.0          8      E  \n",
       "1     29.08      3.58      6.81         0.77           NaN        NaN    NaN  \n",
       "2     15.68     12.76      3.79         3.29          82.0        8.3      E  \n",
       "3     15.61     10.93      3.28         2.95          80.0          8      E  \n",
       "4     11.27      8.89     10.22         1.00           NaN        NaN    NaN  \n",
       "5     23.20      2.26      4.22         0.58           NaN        NaN    NaN  \n",
       "6     11.28      9.14      6.50         2.88          89.0        8.5      E  \n",
       "7     13.96      9.18      2.93         2.84          58.0        6.6      E  \n",
       "8     14.44      6.94      4.70         2.24          87.0        8.4      E  \n",
       "9     26.93      0.63      0.28         0.47           NaN        NaN    NaN  "
      ]
     },
     "execution_count": 3,
     "metadata": {},
     "output_type": "execute_result"
    }
   ],
   "source": [
    "games.head(10)"
   ]
  },
  {
   "cell_type": "code",
   "execution_count": 4,
   "metadata": {},
   "outputs": [
    {
     "name": "stdout",
     "output_type": "stream",
     "text": [
      "<class 'pandas.core.frame.DataFrame'>\n",
      "RangeIndex: 16715 entries, 0 to 16714\n",
      "Data columns (total 11 columns):\n",
      " #   Column           Non-Null Count  Dtype  \n",
      "---  ------           --------------  -----  \n",
      " 0   Name             16713 non-null  object \n",
      " 1   Platform         16715 non-null  object \n",
      " 2   Year_of_Release  16446 non-null  float64\n",
      " 3   Genre            16713 non-null  object \n",
      " 4   NA_sales         16715 non-null  float64\n",
      " 5   EU_sales         16715 non-null  float64\n",
      " 6   JP_sales         16715 non-null  float64\n",
      " 7   Other_sales      16715 non-null  float64\n",
      " 8   Critic_Score     8137 non-null   float64\n",
      " 9   User_Score       10014 non-null  object \n",
      " 10  Rating           9949 non-null   object \n",
      "dtypes: float64(6), object(5)\n",
      "memory usage: 1.4+ MB\n"
     ]
    }
   ],
   "source": [
    "games.info()"
   ]
  },
  {
   "cell_type": "markdown",
   "metadata": {},
   "source": [
    "**Промежуточный вывод**"
   ]
  },
  {
   "cell_type": "markdown",
   "metadata": {},
   "source": [
    "При осмотре данных были выявлены следующие моменты:\n",
    "1. Названия столбцов начинаются с заглавной буквы\n",
    "2. `'Year_of_Release'` обладает вещественным типом данных, `'User_Score'` заполнен строковыми значениями\n",
    "3. Присутстсвуют пропуски в столбцах `'Name'`, `'Year_of_Release'`, `'Genre'`, `'Critic_Score'`, `'User_Score'`, `'Rating'`"
   ]
  },
  {
   "cell_type": "markdown",
   "metadata": {},
   "source": [
    "####"
   ]
  },
  {
   "cell_type": "markdown",
   "metadata": {},
   "source": [
    "### Предобработка данных"
   ]
  },
  {
   "cell_type": "code",
   "execution_count": 5,
   "metadata": {},
   "outputs": [
    {
     "data": {
      "text/plain": [
       "Index(['name', 'platform', 'year_of_release', 'genre', 'na_sales', 'eu_sales',\n",
       "       'jp_sales', 'other_sales', 'critic_score', 'user_score', 'rating'],\n",
       "      dtype='object')"
      ]
     },
     "execution_count": 5,
     "metadata": {},
     "output_type": "execute_result"
    }
   ],
   "source": [
    "# приведем названия столбцов к нижнему регистру\n",
    "games.columns = games.columns.str.lower()\n",
    "games.columns"
   ]
  },
  {
   "cell_type": "code",
   "execution_count": 6,
   "metadata": {},
   "outputs": [
    {
     "data": {
      "text/plain": [
       "name                  2\n",
       "platform              0\n",
       "year_of_release     269\n",
       "genre                 2\n",
       "na_sales              0\n",
       "eu_sales              0\n",
       "jp_sales              0\n",
       "other_sales           0\n",
       "critic_score       8578\n",
       "user_score         6701\n",
       "rating             6766\n",
       "dtype: int64"
      ]
     },
     "execution_count": 6,
     "metadata": {},
     "output_type": "execute_result"
    }
   ],
   "source": [
    "# посмотрим на количество пропусков в столбцах\n",
    "games.isna().sum()"
   ]
  },
  {
   "cell_type": "markdown",
   "metadata": {},
   "source": [
    "По два пропуска в `'name'` и `'genre'` и 269 в `'year_of_release'`. Эти пропуски можно удалить, в таком количестве это не повлияет на дальнейший анализ, к тому же их сложно восстановить, не исказив при этом распределение.\n",
    "\n",
    "Пропуски здесь могли появиться как из-за технических ошибок, так и реальной не популярности игр."
   ]
  },
  {
   "cell_type": "code",
   "execution_count": 7,
   "metadata": {},
   "outputs": [
    {
     "data": {
      "text/plain": [
       "name                  0\n",
       "platform              0\n",
       "year_of_release       0\n",
       "genre                 0\n",
       "na_sales              0\n",
       "eu_sales              0\n",
       "jp_sales              0\n",
       "other_sales           0\n",
       "critic_score       8461\n",
       "user_score         6605\n",
       "rating             6676\n",
       "dtype: int64"
      ]
     },
     "execution_count": 7,
     "metadata": {},
     "output_type": "execute_result"
    }
   ],
   "source": [
    "games = games.dropna(subset=['name', 'year_of_release', 'genre'])\n",
    "games.isna().sum()"
   ]
  },
  {
   "cell_type": "markdown",
   "metadata": {},
   "source": [
    "Остаются пропуски в столбцах с оценками, что достаточно естественно (люди, не всегда ставят оценки и отзывы, зачастую пропускают этот шаг). Пропусков слишком много, чтобы их удалять, поэтому их можно оставить."
   ]
  },
  {
   "cell_type": "code",
   "execution_count": 8,
   "metadata": {},
   "outputs": [
    {
     "data": {
      "text/plain": [
       "array(['8', nan, '8.3', '8.5', '6.6', '8.4', '8.6', '7.7', '6.3', '7.4',\n",
       "       '8.2', '9', '7.9', '8.1', '8.7', '7.1', '3.4', '5.3', '4.8', '3.2',\n",
       "       '8.9', '6.4', '7.8', '7.5', '2.6', '7.2', '9.2', '7', '7.3', '4.3',\n",
       "       '7.6', '5.7', '5', '9.1', '6.5', 'tbd', '8.8', '6.9', '9.4', '6.8',\n",
       "       '6.1', '6.7', '5.4', '4', '4.9', '4.5', '9.3', '6.2', '4.2', '6',\n",
       "       '3.7', '4.1', '5.8', '5.6', '5.5', '4.4', '4.6', '5.9', '3.9',\n",
       "       '3.1', '2.9', '5.2', '3.3', '4.7', '5.1', '3.5', '2.5', '1.9', '3',\n",
       "       '2.7', '2.2', '2', '9.5', '2.1', '3.6', '2.8', '1.8', '3.8', '0',\n",
       "       '1.6', '9.6', '2.4', '1.7', '1.1', '0.3', '1.5', '0.7', '1.2',\n",
       "       '2.3', '0.5', '1.3', '0.2', '0.6', '1.4', '0.9', '1', '9.7'],\n",
       "      dtype=object)"
      ]
     },
     "execution_count": 8,
     "metadata": {},
     "output_type": "execute_result"
    }
   ],
   "source": [
    "# проверим список уникальных значений в оценках пользователей\n",
    "games['user_score'].unique()"
   ]
  },
  {
   "cell_type": "markdown",
   "metadata": {},
   "source": [
    "**tbd** — это аббревиатура, которая обозначает «to be determined» (англ. «будет определено»). Это выражение используется в различных областях и означает, что некоторые детали еще не известны или не определены."
   ]
  },
  {
   "cell_type": "code",
   "execution_count": 9,
   "metadata": {},
   "outputs": [],
   "source": [
    "# заменим tbd на NaN\n",
    "games['user_score'] = games['user_score'].replace('tbd', np.NaN)"
   ]
  },
  {
   "cell_type": "code",
   "execution_count": 10,
   "metadata": {
    "scrolled": true
   },
   "outputs": [
    {
     "data": {
      "text/plain": [
       "name                  0\n",
       "platform              0\n",
       "year_of_release       0\n",
       "genre                 0\n",
       "na_sales              0\n",
       "eu_sales              0\n",
       "jp_sales              0\n",
       "other_sales           0\n",
       "critic_score       8461\n",
       "user_score         8981\n",
       "rating             6676\n",
       "dtype: int64"
      ]
     },
     "execution_count": 10,
     "metadata": {},
     "output_type": "execute_result"
    }
   ],
   "source": [
    "games.isna().sum()"
   ]
  },
  {
   "cell_type": "code",
   "execution_count": 11,
   "metadata": {},
   "outputs": [
    {
     "name": "stdout",
     "output_type": "stream",
     "text": [
      "<class 'pandas.core.frame.DataFrame'>\n",
      "Int64Index: 16444 entries, 0 to 16714\n",
      "Data columns (total 11 columns):\n",
      " #   Column           Non-Null Count  Dtype  \n",
      "---  ------           --------------  -----  \n",
      " 0   name             16444 non-null  object \n",
      " 1   platform         16444 non-null  object \n",
      " 2   year_of_release  16444 non-null  int64  \n",
      " 3   genre            16444 non-null  object \n",
      " 4   na_sales         16444 non-null  float64\n",
      " 5   eu_sales         16444 non-null  float64\n",
      " 6   jp_sales         16444 non-null  float64\n",
      " 7   other_sales      16444 non-null  float64\n",
      " 8   critic_score     7983 non-null   float64\n",
      " 9   user_score       7463 non-null   float64\n",
      " 10  rating           9768 non-null   object \n",
      "dtypes: float64(6), int64(1), object(4)\n",
      "memory usage: 1.5+ MB\n"
     ]
    }
   ],
   "source": [
    "# изменим тип данных\n",
    "games['year_of_release'] = games['year_of_release'].astype('int')\n",
    "games['user_score'] = games['user_score'].astype('float')\n",
    "games.info()"
   ]
  },
  {
   "cell_type": "code",
   "execution_count": 12,
   "metadata": {},
   "outputs": [
    {
     "data": {
      "text/html": [
       "<div>\n",
       "<style scoped>\n",
       "    .dataframe tbody tr th:only-of-type {\n",
       "        vertical-align: middle;\n",
       "    }\n",
       "\n",
       "    .dataframe tbody tr th {\n",
       "        vertical-align: top;\n",
       "    }\n",
       "\n",
       "    .dataframe thead th {\n",
       "        text-align: right;\n",
       "    }\n",
       "</style>\n",
       "<table border=\"1\" class=\"dataframe\">\n",
       "  <thead>\n",
       "    <tr style=\"text-align: right;\">\n",
       "      <th></th>\n",
       "      <th>name</th>\n",
       "      <th>platform</th>\n",
       "      <th>year_of_release</th>\n",
       "      <th>genre</th>\n",
       "      <th>na_sales</th>\n",
       "      <th>eu_sales</th>\n",
       "      <th>jp_sales</th>\n",
       "      <th>other_sales</th>\n",
       "      <th>critic_score</th>\n",
       "      <th>user_score</th>\n",
       "      <th>rating</th>\n",
       "      <th>total_sales</th>\n",
       "    </tr>\n",
       "  </thead>\n",
       "  <tbody>\n",
       "    <tr>\n",
       "      <th>0</th>\n",
       "      <td>Wii Sports</td>\n",
       "      <td>Wii</td>\n",
       "      <td>2006</td>\n",
       "      <td>Sports</td>\n",
       "      <td>41.36</td>\n",
       "      <td>28.96</td>\n",
       "      <td>3.77</td>\n",
       "      <td>8.45</td>\n",
       "      <td>76.0</td>\n",
       "      <td>8.0</td>\n",
       "      <td>E</td>\n",
       "      <td>82.54</td>\n",
       "    </tr>\n",
       "    <tr>\n",
       "      <th>1</th>\n",
       "      <td>Super Mario Bros.</td>\n",
       "      <td>NES</td>\n",
       "      <td>1985</td>\n",
       "      <td>Platform</td>\n",
       "      <td>29.08</td>\n",
       "      <td>3.58</td>\n",
       "      <td>6.81</td>\n",
       "      <td>0.77</td>\n",
       "      <td>NaN</td>\n",
       "      <td>NaN</td>\n",
       "      <td>NaN</td>\n",
       "      <td>40.24</td>\n",
       "    </tr>\n",
       "    <tr>\n",
       "      <th>2</th>\n",
       "      <td>Mario Kart Wii</td>\n",
       "      <td>Wii</td>\n",
       "      <td>2008</td>\n",
       "      <td>Racing</td>\n",
       "      <td>15.68</td>\n",
       "      <td>12.76</td>\n",
       "      <td>3.79</td>\n",
       "      <td>3.29</td>\n",
       "      <td>82.0</td>\n",
       "      <td>8.3</td>\n",
       "      <td>E</td>\n",
       "      <td>35.52</td>\n",
       "    </tr>\n",
       "    <tr>\n",
       "      <th>3</th>\n",
       "      <td>Wii Sports Resort</td>\n",
       "      <td>Wii</td>\n",
       "      <td>2009</td>\n",
       "      <td>Sports</td>\n",
       "      <td>15.61</td>\n",
       "      <td>10.93</td>\n",
       "      <td>3.28</td>\n",
       "      <td>2.95</td>\n",
       "      <td>80.0</td>\n",
       "      <td>8.0</td>\n",
       "      <td>E</td>\n",
       "      <td>32.77</td>\n",
       "    </tr>\n",
       "    <tr>\n",
       "      <th>4</th>\n",
       "      <td>Pokemon Red/Pokemon Blue</td>\n",
       "      <td>GB</td>\n",
       "      <td>1996</td>\n",
       "      <td>Role-Playing</td>\n",
       "      <td>11.27</td>\n",
       "      <td>8.89</td>\n",
       "      <td>10.22</td>\n",
       "      <td>1.00</td>\n",
       "      <td>NaN</td>\n",
       "      <td>NaN</td>\n",
       "      <td>NaN</td>\n",
       "      <td>31.38</td>\n",
       "    </tr>\n",
       "  </tbody>\n",
       "</table>\n",
       "</div>"
      ],
      "text/plain": [
       "                       name platform  year_of_release         genre  na_sales  \\\n",
       "0                Wii Sports      Wii             2006        Sports     41.36   \n",
       "1         Super Mario Bros.      NES             1985      Platform     29.08   \n",
       "2            Mario Kart Wii      Wii             2008        Racing     15.68   \n",
       "3         Wii Sports Resort      Wii             2009        Sports     15.61   \n",
       "4  Pokemon Red/Pokemon Blue       GB             1996  Role-Playing     11.27   \n",
       "\n",
       "   eu_sales  jp_sales  other_sales  critic_score  user_score rating  \\\n",
       "0     28.96      3.77         8.45          76.0         8.0      E   \n",
       "1      3.58      6.81         0.77           NaN         NaN    NaN   \n",
       "2     12.76      3.79         3.29          82.0         8.3      E   \n",
       "3     10.93      3.28         2.95          80.0         8.0      E   \n",
       "4      8.89     10.22         1.00           NaN         NaN    NaN   \n",
       "\n",
       "   total_sales  \n",
       "0        82.54  \n",
       "1        40.24  \n",
       "2        35.52  \n",
       "3        32.77  \n",
       "4        31.38  "
      ]
     },
     "execution_count": 12,
     "metadata": {},
     "output_type": "execute_result"
    }
   ],
   "source": [
    "# рассчет суммарных продаж игр по регионам\n",
    "games['total_sales'] = games[['na_sales','eu_sales','jp_sales', 'other_sales']].sum(axis = 1)\n",
    "games.head()"
   ]
  },
  {
   "cell_type": "code",
   "execution_count": 13,
   "metadata": {},
   "outputs": [
    {
     "data": {
      "text/plain": [
       "0"
      ]
     },
     "execution_count": 13,
     "metadata": {},
     "output_type": "execute_result"
    }
   ],
   "source": [
    "# проверка на явные дубликаты\n",
    "games.duplicated().sum()"
   ]
  },
  {
   "cell_type": "code",
   "execution_count": 14,
   "metadata": {},
   "outputs": [
    {
     "data": {
      "text/plain": [
       "1"
      ]
     },
     "execution_count": 14,
     "metadata": {},
     "output_type": "execute_result"
    }
   ],
   "source": [
    "# проверим на неполные дубликаты\n",
    "games.duplicated(subset=['name', 'platform', 'year_of_release']).sum()"
   ]
  },
  {
   "cell_type": "code",
   "execution_count": 15,
   "metadata": {},
   "outputs": [
    {
     "data": {
      "text/plain": [
       "0"
      ]
     },
     "execution_count": 15,
     "metadata": {},
     "output_type": "execute_result"
    }
   ],
   "source": [
    "games = games.drop_duplicates(subset=['name', 'platform', 'year_of_release'], keep='first')\n",
    "games.duplicated(subset=['name', 'platform', 'year_of_release']).sum()"
   ]
  },
  {
   "cell_type": "markdown",
   "metadata": {},
   "source": [
    "**Промежуточный вывод**"
   ]
  },
  {
   "cell_type": "markdown",
   "metadata": {},
   "source": [
    "В ходе предобработки данных были выполнены следующие мероприятия:\n",
    "1. Замена названий столбцов на более приятные\n",
    "2. Обработка пропусков и анализ их появления в данных\n",
    "3. Изменение типов данных\n",
    "4. Рассчет суммарных продаж во всех регионах\n",
    "5. Не было найдено полных дубликатов, только один неполный"
   ]
  },
  {
   "cell_type": "markdown",
   "metadata": {},
   "source": [
    "####"
   ]
  },
  {
   "cell_type": "markdown",
   "metadata": {},
   "source": [
    "### Исследовательский анализ данных"
   ]
  },
  {
   "cell_type": "markdown",
   "metadata": {},
   "source": [
    "**статистика выпуска игр по годам**"
   ]
  },
  {
   "cell_type": "code",
   "execution_count": 16,
   "metadata": {},
   "outputs": [
    {
     "data": {
      "text/html": [
       "<div>\n",
       "<style scoped>\n",
       "    .dataframe tbody tr th:only-of-type {\n",
       "        vertical-align: middle;\n",
       "    }\n",
       "\n",
       "    .dataframe tbody tr th {\n",
       "        vertical-align: top;\n",
       "    }\n",
       "\n",
       "    .dataframe thead th {\n",
       "        text-align: right;\n",
       "    }\n",
       "</style>\n",
       "<table border=\"1\" class=\"dataframe\">\n",
       "  <thead>\n",
       "    <tr style=\"text-align: right;\">\n",
       "      <th></th>\n",
       "      <th>count</th>\n",
       "    </tr>\n",
       "    <tr>\n",
       "      <th>year_of_release</th>\n",
       "      <th></th>\n",
       "    </tr>\n",
       "  </thead>\n",
       "  <tbody>\n",
       "    <tr>\n",
       "      <th>1980</th>\n",
       "      <td>9</td>\n",
       "    </tr>\n",
       "    <tr>\n",
       "      <th>1981</th>\n",
       "      <td>46</td>\n",
       "    </tr>\n",
       "    <tr>\n",
       "      <th>1982</th>\n",
       "      <td>36</td>\n",
       "    </tr>\n",
       "    <tr>\n",
       "      <th>1983</th>\n",
       "      <td>17</td>\n",
       "    </tr>\n",
       "    <tr>\n",
       "      <th>1984</th>\n",
       "      <td>14</td>\n",
       "    </tr>\n",
       "  </tbody>\n",
       "</table>\n",
       "</div>"
      ],
      "text/plain": [
       "                 count\n",
       "year_of_release       \n",
       "1980                 9\n",
       "1981                46\n",
       "1982                36\n",
       "1983                17\n",
       "1984                14"
      ]
     },
     "execution_count": 16,
     "metadata": {},
     "output_type": "execute_result"
    }
   ],
   "source": [
    "games_per_year = games.pivot_table(index='year_of_release', values='name' ,aggfunc='count')\n",
    "games_per_year.columns = ['count']\n",
    "games_per_year.head()"
   ]
  },
  {
   "cell_type": "code",
   "execution_count": 17,
   "metadata": {},
   "outputs": [
    {
     "data": {
      "image/png": "[encoded data removed]",
      "text/plain": [
       "<Figure size 864x432 with 1 Axes>"
      ]
     },
     "metadata": {
      "needs_background": "light"
     },
     "output_type": "display_data"
    }
   ],
   "source": [
    "games_per_year.plot(kind='bar',\n",
    "                    figsize = (12,6), \n",
    "                    legend = False, \n",
    "                    fontsize = 12)\n",
    "\n",
    "plt.title('Количество выпускаемых игр по годам' + \"\\n\", fontsize=15)\n",
    "plt.xlabel('Год')\n",
    "plt.ylabel('Количество');"
   ]
  },
  {
   "cell_type": "markdown",
   "metadata": {},
   "source": [
    "На графике можно заметить, что активным рост количества выпускаемых игр начинается с 1993 года, что можно объяснить технологическим развитием и увеличением количества компьютеров. В 2002 году случился резкий рост, а пик выпуска приходится на 2008 и 2009 годы. Впоследствии объемы выпуска компьютреных игр уменьшаются, что может быть связано с использованием мобильных устройств как основных.\n",
    "\n",
    "Логично рассматривать данные в период с 2001 г."
   ]
  },
  {
   "cell_type": "markdown",
   "metadata": {},
   "source": [
    "**продажи по платформам**"
   ]
  },
  {
   "cell_type": "code",
   "execution_count": 18,
   "metadata": {},
   "outputs": [],
   "source": [
    "sale_plat = games.pivot_table(index='platform', values='total_sales', aggfunc='sum')\n",
    "sale_plat.columns = ['sum']\n",
    "sale_plat = sale_plat.sort_values('sum')"
   ]
  },
  {
   "cell_type": "code",
   "execution_count": 19,
   "metadata": {},
   "outputs": [
    {
     "data": {
      "image/png": "[encoded data removed]",
      "text/plain": [
       "<Figure size 864x576 with 1 Axes>"
      ]
     },
     "metadata": {
      "needs_background": "light"
     },
     "output_type": "display_data"
    }
   ],
   "source": [
    "sale_plat.plot(kind = 'barh', \n",
    "               figsize = (12,8), \n",
    "               legend = False, \n",
    "               fontsize = 12)\n",
    "\n",
    "plt.title('Количество выпускаемых игр по платформам' + \"\\n\", fontsize=15)\n",
    "plt.xlabel('Количество')\n",
    "plt.ylabel('Платформы');"
   ]
  },
  {
   "cell_type": "markdown",
   "metadata": {},
   "source": [
    "Для анализа возьмем топ-5 платформ: PS2, X360, PS3, Wii, DS"
   ]
  },
  {
   "cell_type": "code",
   "execution_count": 20,
   "metadata": {},
   "outputs": [],
   "source": [
    "# создаем сводную таблицу с суммарными продажами по годам\n",
    "sales_by_platform_year = games.pivot_table(index='year_of_release', columns='platform', values='total_sales', aggfunc='sum')\n",
    "\n",
    "# выбираем топ-5 платформ с наибольшими суммарными продажами\n",
    "top_platforms = sale_plat.sort_values('sum', ascending=False).head().index"
   ]
  },
  {
   "cell_type": "code",
   "execution_count": 21,
   "metadata": {},
   "outputs": [
    {
     "data": {
      "image/png": "[encoded data removed]",
      "text/plain": [
       "<Figure size 864x576 with 1 Axes>"
      ]
     },
     "metadata": {
      "needs_background": "light"
     },
     "output_type": "display_data"
    }
   ],
   "source": [
    "# строим графики продаж для выбранных платформ по годам\n",
    "sales_by_platform_year[top_platforms].plot(kind='line',\n",
    "                                           figsize=(12, 8),\n",
    "                                           fontsize=12)\n",
    "\n",
    "plt.title('Продажи игр по платформам по годам' + \"\\n\", fontsize=15)\n",
    "plt.xlabel('Год выпуска')\n",
    "plt.ylabel('Продажи')\n",
    "plt.legend(title='Платформа');"
   ]
  },
  {
   "cell_type": "markdown",
   "metadata": {},
   "source": [
    "На графике прослеживается определенный паттерн: жизненный цикл платформы, занимающейся созданием и продажей компьютерных игр, в среднем составляет 10 лет."
   ]
  },
  {
   "cell_type": "markdown",
   "metadata": {},
   "source": [
    "Для того, чтобы построить прогноз на 2017 год, следует определить актуальный период, который будет отражать релевантные данные для анализа. \n",
    "\n",
    "Для построения прогноза на 2017 год следуют использовать релефантные данные, близкие к нынешнему периоду. Поэтому временные рамки будут определены следующими рамками: 2012-2016 гг."
   ]
  },
  {
   "cell_type": "code",
   "execution_count": 22,
   "metadata": {},
   "outputs": [],
   "source": [
    "actual_data = games.query('year_of_release >= 2012')"
   ]
  },
  {
   "cell_type": "markdown",
   "metadata": {},
   "source": [
    "**динамика продаж по платформам**"
   ]
  },
  {
   "cell_type": "code",
   "execution_count": 23,
   "metadata": {},
   "outputs": [
    {
     "data": {
      "text/html": [
       "<div>\n",
       "<style scoped>\n",
       "    .dataframe tbody tr th:only-of-type {\n",
       "        vertical-align: middle;\n",
       "    }\n",
       "\n",
       "    .dataframe tbody tr th {\n",
       "        vertical-align: top;\n",
       "    }\n",
       "\n",
       "    .dataframe thead th {\n",
       "        text-align: right;\n",
       "    }\n",
       "</style>\n",
       "<table border=\"1\" class=\"dataframe\">\n",
       "  <thead>\n",
       "    <tr style=\"text-align: right;\">\n",
       "      <th></th>\n",
       "      <th>total_sales</th>\n",
       "    </tr>\n",
       "    <tr>\n",
       "      <th>platform</th>\n",
       "      <th></th>\n",
       "    </tr>\n",
       "  </thead>\n",
       "  <tbody>\n",
       "    <tr>\n",
       "      <th>PS4</th>\n",
       "      <td>314.14</td>\n",
       "    </tr>\n",
       "    <tr>\n",
       "      <th>PS3</th>\n",
       "      <td>288.78</td>\n",
       "    </tr>\n",
       "    <tr>\n",
       "      <th>X360</th>\n",
       "      <td>236.54</td>\n",
       "    </tr>\n",
       "    <tr>\n",
       "      <th>3DS</th>\n",
       "      <td>194.61</td>\n",
       "    </tr>\n",
       "    <tr>\n",
       "      <th>XOne</th>\n",
       "      <td>159.32</td>\n",
       "    </tr>\n",
       "  </tbody>\n",
       "</table>\n",
       "</div>"
      ],
      "text/plain": [
       "          total_sales\n",
       "platform             \n",
       "PS4            314.14\n",
       "PS3            288.78\n",
       "X360           236.54\n",
       "3DS            194.61\n",
       "XOne           159.32"
      ]
     },
     "execution_count": 23,
     "metadata": {},
     "output_type": "execute_result"
    }
   ],
   "source": [
    "actual_sales = actual_data.pivot_table(index='platform', values='total_sales' ,aggfunc='sum')\n",
    "actual_sales = actual_sales.sort_values('total_sales', ascending=False)\n",
    "actual_sales.head()"
   ]
  },
  {
   "cell_type": "code",
   "execution_count": 24,
   "metadata": {},
   "outputs": [
    {
     "data": {
      "image/png": "[encoded data removed]",
      "text/plain": [
       "<Figure size 864x432 with 1 Axes>"
      ]
     },
     "metadata": {
      "needs_background": "light"
     },
     "output_type": "display_data"
    }
   ],
   "source": [
    "actual_sales.plot(kind='bar',\n",
    "                  figsize = (12,6), \n",
    "                  legend = False, \n",
    "                  fontsize = 12)\n",
    "\n",
    "plt.title('Рейтинг платформ по продажам' + \"\\n\", fontsize=15)\n",
    "plt.xlabel('Платформа')\n",
    "plt.ylabel('Продажи');"
   ]
  },
  {
   "cell_type": "markdown",
   "metadata": {},
   "source": [
    "Безусловными лидерами по продажам можно назвать PS4, PS3, X360. \n",
    "\n",
    "Однако данный график показывает лишь объем продаж, а не их динамику на момент 2016 года."
   ]
  },
  {
   "cell_type": "code",
   "execution_count": 25,
   "metadata": {},
   "outputs": [
    {
     "data": {
      "image/png": "[encoded data removed]",
      "text/plain": [
       "<Figure size 864x432 with 1 Axes>"
      ]
     },
     "metadata": {
      "needs_background": "light"
     },
     "output_type": "display_data"
    }
   ],
   "source": [
    "actual_dynamics = actual_data.pivot_table(index='year_of_release', columns='platform', values='total_sales', aggfunc='sum')\n",
    "actual_dynamics.plot(figsize=(12,6))\n",
    "plt.title('Динамика глобальных продаж' + \"\\n\", fontsize=15)\n",
    "plt.xlabel('Год релиза')\n",
    "plt.ylabel('Продажи');"
   ]
  },
  {
   "cell_type": "markdown",
   "metadata": {},
   "source": [
    "Видим, что все платформы терпят снижение глобальных продаж. Однако большинство продолжительное время находится на минимуме продаж, кроме двух платформ, которые только с 2015 года претерпевают снижение уровня продаж: PS4 и XOne.\n",
    "\n",
    "Рассмотрим подробнее значения глобальных продаж потенциально прибыльных платформ."
   ]
  },
  {
   "cell_type": "code",
   "execution_count": 26,
   "metadata": {
    "scrolled": true
   },
   "outputs": [
    {
     "data": {
      "text/html": [
       "<div>\n",
       "<style scoped>\n",
       "    .dataframe tbody tr th:only-of-type {\n",
       "        vertical-align: middle;\n",
       "    }\n",
       "\n",
       "    .dataframe tbody tr th {\n",
       "        vertical-align: top;\n",
       "    }\n",
       "\n",
       "    .dataframe thead th {\n",
       "        text-align: right;\n",
       "    }\n",
       "</style>\n",
       "<table border=\"1\" class=\"dataframe\">\n",
       "  <thead>\n",
       "    <tr style=\"text-align: right;\">\n",
       "      <th>platform</th>\n",
       "      <th>PS4</th>\n",
       "      <th>PS3</th>\n",
       "      <th>X360</th>\n",
       "      <th>3DS</th>\n",
       "      <th>XOne</th>\n",
       "    </tr>\n",
       "    <tr>\n",
       "      <th>year_of_release</th>\n",
       "      <th></th>\n",
       "      <th></th>\n",
       "      <th></th>\n",
       "      <th></th>\n",
       "      <th></th>\n",
       "    </tr>\n",
       "  </thead>\n",
       "  <tbody>\n",
       "    <tr>\n",
       "      <th>2012</th>\n",
       "      <td>NaN</td>\n",
       "      <td>107.35</td>\n",
       "      <td>99.74</td>\n",
       "      <td>51.36</td>\n",
       "      <td>NaN</td>\n",
       "    </tr>\n",
       "    <tr>\n",
       "      <th>2013</th>\n",
       "      <td>25.99</td>\n",
       "      <td>113.25</td>\n",
       "      <td>88.58</td>\n",
       "      <td>56.57</td>\n",
       "      <td>18.96</td>\n",
       "    </tr>\n",
       "    <tr>\n",
       "      <th>2014</th>\n",
       "      <td>100.00</td>\n",
       "      <td>47.76</td>\n",
       "      <td>34.74</td>\n",
       "      <td>43.76</td>\n",
       "      <td>54.07</td>\n",
       "    </tr>\n",
       "    <tr>\n",
       "      <th>2015</th>\n",
       "      <td>118.90</td>\n",
       "      <td>16.82</td>\n",
       "      <td>11.96</td>\n",
       "      <td>27.78</td>\n",
       "      <td>60.14</td>\n",
       "    </tr>\n",
       "    <tr>\n",
       "      <th>2016</th>\n",
       "      <td>69.25</td>\n",
       "      <td>3.60</td>\n",
       "      <td>1.52</td>\n",
       "      <td>15.14</td>\n",
       "      <td>26.15</td>\n",
       "    </tr>\n",
       "  </tbody>\n",
       "</table>\n",
       "</div>"
      ],
      "text/plain": [
       "platform            PS4     PS3   X360    3DS   XOne\n",
       "year_of_release                                     \n",
       "2012                NaN  107.35  99.74  51.36    NaN\n",
       "2013              25.99  113.25  88.58  56.57  18.96\n",
       "2014             100.00   47.76  34.74  43.76  54.07\n",
       "2015             118.90   16.82  11.96  27.78  60.14\n",
       "2016              69.25    3.60   1.52  15.14  26.15"
      ]
     },
     "execution_count": 26,
     "metadata": {},
     "output_type": "execute_result"
    }
   ],
   "source": [
    "dynamics_top = actual_data.pivot_table(index='year_of_release', columns='platform', values='total_sales', aggfunc='sum')\n",
    "dynamics_top = dynamics_top[['PS4', 'PS3', 'X360', '3DS', 'XOne']]\n",
    "dynamics_top"
   ]
  },
  {
   "cell_type": "code",
   "execution_count": 27,
   "metadata": {},
   "outputs": [
    {
     "data": {
      "image/png": "[encoded data removed]",
      "text/plain": [
       "<Figure size 936x720 with 6 Axes>"
      ]
     },
     "metadata": {
      "needs_background": "light"
     },
     "output_type": "display_data"
    }
   ],
   "source": [
    "dynamics_top.plot(subplots=True,\n",
    "                  layout=(2, 3),\n",
    "                  kind='bar',\n",
    "                  figsize=(13, 10),\n",
    "                  sharey=True,\n",
    "                  grid=True,\n",
    "                  legend=False,\n",
    "                  rot=45,\n",
    "                  xlabel='Год релиза',\n",
    "                  ylabel='Глобальные продажи'\n",
    "                 )\n",
    "plt.show()\n"
   ]
  },
  {
   "cell_type": "markdown",
   "metadata": {},
   "source": [
    "Видим, что все платформы терпят снижение общих продаж, кто-то уже давно, а, например, у PS4 снижение началось только в 2016 году. Нельзя также забывать, что данные по 2016 году ещё не полные."
   ]
  },
  {
   "cell_type": "code",
   "execution_count": 28,
   "metadata": {},
   "outputs": [
    {
     "data": {
      "image/png": "[encoded data removed]",
      "text/plain": [
       "<Figure size 864x432 with 1 Axes>"
      ]
     },
     "metadata": {
      "needs_background": "light"
     },
     "output_type": "display_data"
    }
   ],
   "source": [
    "fig, ax = plt.subplots(figsize=(12,6))\n",
    "sns.boxplot(data=dynamics_top)\n",
    "plt.xlabel('Платформы')\n",
    "plt.ylabel('Продажи');"
   ]
  },
  {
   "cell_type": "markdown",
   "metadata": {},
   "source": [
    "Медианное значение глобальных продаж выше всего у PS4 (почти в два раза больше, чем у остальных)."
   ]
  },
  {
   "cell_type": "markdown",
   "metadata": {},
   "source": [
    "**влияние отзывов на продажи**"
   ]
  },
  {
   "cell_type": "code",
   "execution_count": 29,
   "metadata": {},
   "outputs": [],
   "source": [
    "ps4 = actual_data[['platform', 'user_score', 'critic_score', 'total_sales']].query('platform == \"PS4\"')\n",
    "ps3 = actual_data[['platform', 'user_score', 'critic_score' ,'total_sales']].query('platform == \"PS3\"')\n",
    "x360 = actual_data[['platform', 'user_score', 'critic_score' ,'total_sales']].query('platform == \"X360\"')"
   ]
  },
  {
   "cell_type": "code",
   "execution_count": 30,
   "metadata": {},
   "outputs": [
    {
     "data": {
      "image/png": "[encoded data removed]",
      "text/plain": [
       "<Figure size 936x360 with 6 Axes>"
      ]
     },
     "metadata": {
      "needs_background": "light"
     },
     "output_type": "display_data"
    }
   ],
   "source": [
    "fig, axes = plt.subplots(1, 3, figsize=(13, 5))\n",
    "\n",
    "sns.heatmap(ps4.corr(), ax=axes[0])\n",
    "axes[0].set_title('Корреляция между отзывами и продажами PS4', fontsize=9)\n",
    "\n",
    "sns.heatmap(ps3.corr(), ax=axes[1])\n",
    "axes[1].set_title('Корреляция между отзывами и продажами PS3', fontsize=9)\n",
    "\n",
    "sns.heatmap(x360.corr(), ax=axes[2])\n",
    "axes[2].set_title('Корреляция между отзывами и продажами X360', fontsize=9)\n",
    "\n",
    "plt.tight_layout()\n",
    "plt.show()"
   ]
  },
  {
   "cell_type": "markdown",
   "metadata": {},
   "source": [
    "Нельзя сказать, что прослеживается сильная корреляция между продажами и отзывами как пользователей, так и критиков.\n",
    "\n",
    "Причем, корреляция между отзывами критиков и продажами есть, но очень низкая (около 0.3), а отзывы пользователей в принципе не влияют на успешность продаж."
   ]
  },
  {
   "cell_type": "code",
   "execution_count": 31,
   "metadata": {},
   "outputs": [
    {
     "data": {
      "image/png": "[encoded data removed]",
      "text/plain": [
       "<Figure size 1008x216 with 3 Axes>"
      ]
     },
     "metadata": {
      "needs_background": "light"
     },
     "output_type": "display_data"
    }
   ],
   "source": [
    "fig, axes = plt.subplots(1, 3, figsize=(14, 3))\n",
    "\n",
    "ps4.plot(x='user_score', y='total_sales', kind='scatter', ax=axes[0])\n",
    "axes[0].set_title('Зависимость между оценками пользователей и продажами PS4', fontsize=9)\n",
    "axes[0].set_xlabel('Рейтинг пользователей')\n",
    "axes[0].set_ylabel('Продажи')\n",
    "\n",
    "ps3.plot(x='user_score', y='total_sales', kind='scatter', color='green', ax=axes[1])\n",
    "axes[1].set_title('Зависимость между оценками пользователей и продажами PS3', fontsize=9)\n",
    "axes[1].set_xlabel('Рейтинг пользователей')\n",
    "axes[1].set_ylabel('Продажи')\n",
    "\n",
    "x360.plot(x='user_score', y='total_sales', kind='scatter', color='yellow', ax=axes[2])\n",
    "axes[2].set_title('Зависимость между оценками пользователей и продажами X360', fontsize=9)\n",
    "axes[2].set_xlabel('Рейтинг пользователей')\n",
    "axes[2].set_ylabel('Продажи')\n",
    "\n",
    "plt.tight_layout()\n",
    "plt.show()"
   ]
  },
  {
   "cell_type": "code",
   "execution_count": 32,
   "metadata": {},
   "outputs": [
    {
     "data": {
      "image/png": "[encoded data removed]",
      "text/plain": [
       "<Figure size 1008x216 with 3 Axes>"
      ]
     },
     "metadata": {
      "needs_background": "light"
     },
     "output_type": "display_data"
    }
   ],
   "source": [
    "fig, axes = plt.subplots(1, 3, figsize=(14, 3))\n",
    "\n",
    "ps4.plot(x='critic_score', y='total_sales', kind='scatter', ax=axes[0])\n",
    "axes[0].set_title('Зависимость между оценками критиков с продажами PS4', fontsize=9)\n",
    "axes[0].set_xlabel('Рейтинг критиков')\n",
    "axes[0].set_ylabel('Продажи')\n",
    "\n",
    "ps3.plot(x='critic_score', y='total_sales', kind='scatter', color='green', ax=axes[1])\n",
    "axes[1].set_title('Зависимость между оценками критиков с продажами PS3', fontsize=9)\n",
    "axes[1].set_xlabel('Рейтинг критиков')\n",
    "axes[1].set_ylabel('Продажи')\n",
    "\n",
    "x360.plot(x='critic_score', y='total_sales', kind='scatter', color='yellow', ax=axes[2])\n",
    "axes[2].set_title('Зависимость между оценками критиков с продажами X360', fontsize=9)\n",
    "axes[2].set_xlabel('Рейтинг критиков')\n",
    "axes[2].set_ylabel('Продажи')\n",
    "\n",
    "plt.tight_layout()\n",
    "plt.show()"
   ]
  },
  {
   "cell_type": "markdown",
   "metadata": {},
   "source": [
    "Сильной зависимости между отзывами и продажами на графиках не наблюдается. Скопление точек все же обозначает определенную тенденцию: чем выше оценки, тем выше продажи. Но на продажи могут влиять различные факторы, поэтому не все так однозначно."
   ]
  },
  {
   "cell_type": "markdown",
   "metadata": {},
   "source": [
    "**общее распределение игр по жанрам**"
   ]
  },
  {
   "cell_type": "code",
   "execution_count": 33,
   "metadata": {},
   "outputs": [
    {
     "data": {
      "image/png": "[encoded data removed]",
      "text/plain": [
       "<Figure size 864x432 with 1 Axes>"
      ]
     },
     "metadata": {
      "needs_background": "light"
     },
     "output_type": "display_data"
    }
   ],
   "source": [
    "genre_pop = (actual_data\n",
    "            .pivot_table(index='genre', values='total_sales')\n",
    "            .sort_values('total_sales', ascending=False)\n",
    "            .plot(kind='bar', y='total_sales', figsize=(12, 6), rot=45, legend=False)\n",
    "            .set(title='Общее распределение игр по жанрам', xlabel='Жанр', ylabel='Глобальные продажи'))"
   ]
  },
  {
   "cell_type": "markdown",
   "metadata": {},
   "source": [
    "Самыми популярными жанрами является Shooter, после него почти на одном уровне Platform и Sports"
   ]
  },
  {
   "cell_type": "markdown",
   "metadata": {},
   "source": [
    "**Промежуточный вывод**"
   ]
  },
  {
   "cell_type": "markdown",
   "metadata": {},
   "source": [
    "В рамках исследовательского анализа данных были сделаны следующие выводы:\n",
    "1. На исторических данных видно, что активный рост количества выпускаемых игр начинается с 1993 года,  в 2002 году случился резкий рост, а пик выпуска приходится на 2008 и 2009 годы.\n",
    "2. Жизненный цикл платформы, занимающейся созданием и продажей компьютерных игр, в среднем составляет 10 лет.\n",
    "3. На данный момент все платформы терпят снижение глобальных продаж, большинство продолжительное время находится на минимуме продаж, кроме двух платформ: PS4 и XOne.\n",
    "4. Корреляция между продажами и отзывами как пользователей, так и критиков, не прослеживается\n",
    "5. Самыми популярным игровым жанром является shooter."
   ]
  },
  {
   "cell_type": "markdown",
   "metadata": {},
   "source": [
    "####"
   ]
  },
  {
   "cell_type": "markdown",
   "metadata": {},
   "source": [
    "### Портрет пользователя каждого региона"
   ]
  },
  {
   "cell_type": "code",
   "execution_count": 34,
   "metadata": {},
   "outputs": [],
   "source": [
    "# функция для агрегирования данных\n",
    "def pivot_func(col):\n",
    "    return (\n",
    "    actual_data\n",
    "        .pivot_table(index=col, values=region, aggfunc='sum')\n",
    "        .sort_values(region, ascending=False)\n",
    "        .head()\n",
    "    )"
   ]
  },
  {
   "cell_type": "code",
   "execution_count": 35,
   "metadata": {},
   "outputs": [],
   "source": [
    "# функция для построения круговой диаграммы\n",
    "def pie_chart(data):\n",
    "    return (\n",
    "    data\n",
    "        .plot(y=region, \n",
    "               kind='pie', \n",
    "               figsize=(12, 7),\n",
    "               autopct='%1.0f%%')\n",
    "    )"
   ]
  },
  {
   "cell_type": "markdown",
   "metadata": {},
   "source": [
    "**Северная Америка**"
   ]
  },
  {
   "cell_type": "code",
   "execution_count": 47,
   "metadata": {},
   "outputs": [
    {
     "data": {
      "image/png": "[encoded data removed]",
      "text/plain": [
       "<Figure size 864x504 with 1 Axes>"
      ]
     },
     "metadata": {},
     "output_type": "display_data"
    }
   ],
   "source": [
    "region = 'na_sales'\n",
    "pie_chart(pivot_func('platform'))\n",
    "plt.title('Самые популярные платформы в Северной Америке' + \"\\n\", fontsize=15)\n",
    "plt.ylabel('');"
   ]
  },
  {
   "cell_type": "markdown",
   "metadata": {},
   "source": [
    "Xbox занимает треть северо-американского рынка и лидирует на нем, на втором месте идут консоли PS4 и PS3, занимающие по 22%, после XOne, 3DS"
   ]
  },
  {
   "cell_type": "code",
   "execution_count": 37,
   "metadata": {},
   "outputs": [
    {
     "data": {
      "image/png": "[encoded data removed]",
      "text/plain": [
       "<Figure size 864x504 with 1 Axes>"
      ]
     },
     "metadata": {},
     "output_type": "display_data"
    }
   ],
   "source": [
    "pie_chart(pivot_func('genre'))\n",
    "plt.title('Самые популярные жанры в Северной Америке' + \"\\n\", fontsize=15)\n",
    "plt.ylabel('');"
   ]
  },
  {
   "cell_type": "markdown",
   "metadata": {},
   "source": [
    "Самыми продаваемыми жанрами в Северной Америке явлются Action, Sports, Shooter, что совпадает с общемировым распределением игр по жанрам."
   ]
  },
  {
   "cell_type": "code",
   "execution_count": 48,
   "metadata": {},
   "outputs": [
    {
     "data": {
      "image/png": "[encoded data removed]",
      "text/plain": [
       "<Figure size 864x504 with 1 Axes>"
      ]
     },
     "metadata": {},
     "output_type": "display_data"
    }
   ],
   "source": [
    "pie_chart(pivot_func('rating'))\n",
    "plt.title('Рейтинг ESRB в Северной Америке' + \"\\n\", fontsize=15)\n",
    "plt.ylabel('');"
   ]
  },
  {
   "cell_type": "markdown",
   "metadata": {},
   "source": [
    "Большинство игр (38%) имеют категорию M (mature), т.е. большиство игр ориентированно именно на взрослую аудиторию (17+)"
   ]
  },
  {
   "cell_type": "markdown",
   "metadata": {},
   "source": [
    "**Европа**"
   ]
  },
  {
   "cell_type": "code",
   "execution_count": 49,
   "metadata": {},
   "outputs": [
    {
     "data": {
      "image/png": "[encoded data removed]",
      "text/plain": [
       "<Figure size 864x504 with 1 Axes>"
      ]
     },
     "metadata": {},
     "output_type": "display_data"
    }
   ],
   "source": [
    "region = 'eu_sales'\n",
    "pie_chart(pivot_func('platform'))\n",
    "plt.title('Самые популярные платформы в Европе' + \"\\n\", fontsize=15)\n",
    "plt.ylabel('');"
   ]
  },
  {
   "cell_type": "markdown",
   "metadata": {},
   "source": [
    "Лидирующие позиции на европейском рынке занимает PS4 и PS3."
   ]
  },
  {
   "cell_type": "code",
   "execution_count": 40,
   "metadata": {},
   "outputs": [
    {
     "data": {
      "image/png": "[encoded data removed]",
      "text/plain": [
       "<Figure size 864x504 with 1 Axes>"
      ]
     },
     "metadata": {},
     "output_type": "display_data"
    }
   ],
   "source": [
    "pie_chart(pivot_func('genre'))\n",
    "plt.title('Самые популярные жанры в Европе' + \"\\n\", fontsize=15)\n",
    "plt.ylabel('');"
   ]
  },
  {
   "cell_type": "markdown",
   "metadata": {},
   "source": [
    "Все также самыми продаваемыми жанрами явлются Action, Sports, Shooter."
   ]
  },
  {
   "cell_type": "code",
   "execution_count": 50,
   "metadata": {},
   "outputs": [
    {
     "data": {
      "image/png": "[encoded data removed]",
      "text/plain": [
       "<Figure size 864x504 with 1 Axes>"
      ]
     },
     "metadata": {},
     "output_type": "display_data"
    }
   ],
   "source": [
    "pie_chart(pivot_func('rating'))\n",
    "plt.title('Рейтинг ESRB в Европе' + \"\\n\", fontsize=15)\n",
    "plt.ylabel('');"
   ]
  },
  {
   "cell_type": "markdown",
   "metadata": {},
   "source": [
    "В Европе также почти половина игр производится для взрослой аудитории, а 27% игр имеет маркировку для всех возрастов"
   ]
  },
  {
   "cell_type": "markdown",
   "metadata": {},
   "source": [
    "**Япония**"
   ]
  },
  {
   "cell_type": "code",
   "execution_count": 51,
   "metadata": {},
   "outputs": [
    {
     "data": {
      "image/png": "[encoded data removed]",
      "text/plain": [
       "<Figure size 864x504 with 1 Axes>"
      ]
     },
     "metadata": {},
     "output_type": "display_data"
    }
   ],
   "source": [
    "region = 'jp_sales'\n",
    "pie_chart(pivot_func('platform'))\n",
    "plt.title('Самые популярные платформы в Японии' + \"\\n\", fontsize=15)\n",
    "plt.ylabel('');"
   ]
  },
  {
   "cell_type": "markdown",
   "metadata": {},
   "source": [
    "На японском рынке самой успешной игровой компанией является Nintendo: консоль 3DS лидирует на рынке, PS3 занимает 2 место. PS4 занимает 9% рынка."
   ]
  },
  {
   "cell_type": "code",
   "execution_count": 43,
   "metadata": {},
   "outputs": [
    {
     "data": {
      "image/png": "[encoded data removed]",
      "text/plain": [
       "<Figure size 864x504 with 1 Axes>"
      ]
     },
     "metadata": {},
     "output_type": "display_data"
    }
   ],
   "source": [
    "pie_chart(pivot_func('genre'))\n",
    "plt.title('Самые популярные жанры в Японии' + \"\\n\", fontsize=15)\n",
    "plt.ylabel('');"
   ]
  },
  {
   "cell_type": "markdown",
   "metadata": {},
   "source": [
    "Также как и в европе и северной америке"
   ]
  },
  {
   "cell_type": "code",
   "execution_count": 52,
   "metadata": {},
   "outputs": [
    {
     "data": {
      "image/png": "[encoded data removed]",
      "text/plain": [
       "<Figure size 864x504 with 1 Axes>"
      ]
     },
     "metadata": {},
     "output_type": "display_data"
    }
   ],
   "source": [
    "pie_chart(pivot_func('rating'))\n",
    "plt.title('Рейтинг ESRB в Японии' + \"\\n\", fontsize=15)\n",
    "plt.ylabel('');"
   ]
  },
  {
   "cell_type": "markdown",
   "metadata": {},
   "source": [
    "Большинство игр предназначено для несовершеннолетних: категория E 42%, категория T (teens) 29%, только 15% игр выпускается для взрослых."
   ]
  },
  {
   "cell_type": "markdown",
   "metadata": {},
   "source": [
    "**Промежуточный вывод**"
   ]
  },
  {
   "cell_type": "markdown",
   "metadata": {},
   "source": [
    "Сравнивая продажи по трем регионам, можно проследить следующее:\n",
    "1. Портреты пользователей Северной Америки и Европы достаточно сильно похожи:\n",
    "    * тройка лидирующих платформ совпадает\n",
    "    * популярные жанры также совпадают\n",
    "    * почти равные доли занимают игры для детей и для взрослых\n",
    "2. Япония разительно отличается от предыдущих регионах:\n",
    "    * основные платформы и жанры отличаются от западно-европейских \n",
    "    * большинство игр предназначено для несовершеннолетних"
   ]
  },
  {
   "cell_type": "markdown",
   "metadata": {},
   "source": [
    "####"
   ]
  },
  {
   "cell_type": "markdown",
   "metadata": {},
   "source": [
    "### Проверка гипотез"
   ]
  },
  {
   "cell_type": "markdown",
   "metadata": {},
   "source": [
    "Гипотезы:\n",
    "* Средние пользовательские рейтинги платформ Xbox One и PC одинаковые;\n",
    "* Средние пользовательские рейтинги жанров Action (англ. «действие», экшен-игры) и Sports (англ. «спортивные соревнования») разные.\n",
    "\n",
    "Условия обеих гипотез проверяются на равенство средних значений, альтернативная гипотеза же будет двухсторонней. Обе выборки достаточно большие, поэтому будем считать по умолчанию, что их дисперсии равны. Также в выборках присутстсвуют пропущенные значения, вследствие чего добавим параметр nan_policy и установим уровень значимости в 1%."
   ]
  },
  {
   "cell_type": "markdown",
   "metadata": {},
   "source": [
    "**Гипотеза:** *средние пользовательские рейтинги платформ Xbox One и PC одинаковые*\n",
    "\n",
    "Проверим гипотезу, используя данные о пользовательских рейтингах данных платформ в период с 2006 по 2016 гг.\n",
    "\n",
    "Пусть\n",
    "\n",
    "**H0:** среднее значение `'user_score'` платформы `Xbox One` = среднее значение `'user_score'` платформы `PC`\n",
    "\n",
    "**H1:** среднее значение `'user_score'` платформы `Xbox One` != среднее значение `'user_score'` платформы `PC`"
   ]
  },
  {
   "cell_type": "code",
   "execution_count": 45,
   "metadata": {},
   "outputs": [
    {
     "name": "stdout",
     "output_type": "stream",
     "text": [
      "p-значение: 0.5535080500643738\n",
      "Не получилось отвергнуть нулевую гипотезу\n"
     ]
    }
   ],
   "source": [
    "pc = actual_data[['platform', 'user_score', 'critic_score' ,'total_sales']].query('platform == \"PC\"')\n",
    "xone = actual_data[['platform', 'user_score', 'critic_score' ,'total_sales']].query('platform == \"XOne\"')\n",
    "\n",
    "alpha = .01\n",
    "\n",
    "results = st.ttest_ind(xone['user_score'],\n",
    "                       pc['user_score'],\n",
    "                       nan_policy='omit') # игнорируем nan\n",
    "\n",
    "print('p-значение:', results.pvalue)\n",
    "\n",
    "if results.pvalue < alpha:\n",
    "    print('Отвергаем нулевую гипотезу')\n",
    "else:\n",
    "    print('Не получилось отвергнуть нулевую гипотезу')"
   ]
  },
  {
   "cell_type": "markdown",
   "metadata": {},
   "source": [
    "Значение p-value больше заданного уровня значимости и составляет 1.4%, технически мы не можем отвергнуть нулевую гипотезу. Но это слишком маленькая вероятность, чтобы наверняка утверждать, что пользовательские рейтинги платформ Xbox One и PC одинаковые.\n",
    "\n",
    "**Вывод**\n",
    "\n",
    "Гипотеза подтвердилась\n"
   ]
  },
  {
   "cell_type": "markdown",
   "metadata": {},
   "source": [
    "**Гипотеза:** *средние пользовательские рейтинги жанров Action и Sports разные*\n",
    "\n",
    "Проверим гипотезу, используя данные о пользовательских рейтингах данных жанров в период с 2006 по 2016 гг.\n",
    "\n",
    "Пусть\n",
    "\n",
    "**H0:** среднее значение `'user_score'` игр жанра `Action` = среднее значение `'user_score'` игр жанра `Sports`\n",
    "\n",
    "**H1:** среднее значение `'user_score'` игр жанра `Action` != среднее значение `'user_score'` игр жанра `Sports`"
   ]
  },
  {
   "cell_type": "code",
   "execution_count": 46,
   "metadata": {},
   "outputs": [
    {
     "name": "stdout",
     "output_type": "stream",
     "text": [
      "p-значение: 4.8045233804629176e-26\n",
      "Отвергаем нулевую гипотезу\n"
     ]
    }
   ],
   "source": [
    "action_games = actual_data[['genre', 'user_score']].query('genre == \"Action\"')\n",
    "sports_games = actual_data[['genre', 'user_score']].query('genre == \"Sports\"')\n",
    "\n",
    "alpha = .01\n",
    "\n",
    "results = st.ttest_ind(action_games['user_score'],\n",
    "                       sports_games['user_score'],\n",
    "                       nan_policy='omit') # игнорируем nan\n",
    "\n",
    "print('p-значение:', results.pvalue)\n",
    "\n",
    "if results.pvalue < alpha:\n",
    "    print('Отвергаем нулевую гипотезу')\n",
    "else:\n",
    "    print('Не получилось отвергнуть нулевую гипотезу')"
   ]
  },
  {
   "cell_type": "markdown",
   "metadata": {},
   "source": [
    "Полученное значение p-value меньше заданного уровня значимости, поэтому можно отвергнуть нулевую гипотезу. Есть основания говорить, что пользовательские рейтинги жанров Action и Sports разные.\n",
    "\n",
    "**Вывод**\n",
    "\n",
    "Гипотеза подтвердилась"
   ]
  },
  {
   "cell_type": "markdown",
   "metadata": {},
   "source": [
    "####"
   ]
  },
  {
   "cell_type": "markdown",
   "metadata": {},
   "source": [
    "### Общий вывод"
   ]
  },
  {
   "cell_type": "markdown",
   "metadata": {},
   "source": [
    "Инсайты, полученные в ходе анализа:\n",
    "1. Жизненный цикл платформы, занимающейся созданием и продажей компьютерных игр, в среднем составляет 10 лет\n",
    "2. На данный момент все платформы терпят снижение глобальных продаж, перспективными платформами можно назвать PS4 и XOne.\n",
    "3. Япония следует рассматривать как отдельный и самостоятельный рынок, потребители которого по своим потребностям не похожи на западно-европейских.\n",
    "4. Самыми популярными жанрами игр являются Action, Sports и Shooter\n",
    "5. Самая распространенная возрастная категория игр - для всех, т.е. включая детей\n",
    "6. Средние пользовательские рейтинги платформ Xbox One и PC одинаковые\n",
    "7. Средние пользовательские рейтинги жанров Action и Sports разные"
   ]
  }
 ],
 "metadata": {
  "ExecuteTimeLog": [
   {
    "duration": 1363,
    "start_time": "2023-08-07T11:04:36.897Z"
   },
   {
    "duration": 147,
    "start_time": "2023-08-07T11:04:38.268Z"
   },
   {
    "duration": 17,
    "start_time": "2023-08-07T11:04:38.417Z"
   },
   {
    "duration": 64,
    "start_time": "2023-08-07T11:04:38.435Z"
   },
   {
    "duration": 14,
    "start_time": "2023-08-07T11:12:13.314Z"
   },
   {
    "duration": 1003,
    "start_time": "2023-08-07T11:27:36.763Z"
   },
   {
    "duration": 4,
    "start_time": "2023-08-07T11:28:07.696Z"
   },
   {
    "duration": 8,
    "start_time": "2023-08-07T11:28:16.666Z"
   },
   {
    "duration": 8,
    "start_time": "2023-08-07T11:28:21.282Z"
   },
   {
    "duration": 4,
    "start_time": "2023-08-07T11:28:36.182Z"
   },
   {
    "duration": 3,
    "start_time": "2023-08-07T11:31:04.104Z"
   },
   {
    "duration": 6,
    "start_time": "2023-08-07T11:31:13.262Z"
   },
   {
    "duration": 21,
    "start_time": "2023-08-07T11:31:25.932Z"
   },
   {
    "duration": 9,
    "start_time": "2023-08-07T11:31:49.108Z"
   },
   {
    "duration": 5,
    "start_time": "2023-08-07T11:31:52.616Z"
   },
   {
    "duration": 15,
    "start_time": "2023-08-07T11:38:01.486Z"
   },
   {
    "duration": 16,
    "start_time": "2023-08-07T11:40:45.118Z"
   },
   {
    "duration": 13,
    "start_time": "2023-08-07T11:44:25.477Z"
   },
   {
    "duration": 17,
    "start_time": "2023-08-07T11:44:34.178Z"
   },
   {
    "duration": 13,
    "start_time": "2023-08-07T11:45:06.750Z"
   },
   {
    "duration": 4,
    "start_time": "2023-08-07T11:45:12.681Z"
   },
   {
    "duration": 79,
    "start_time": "2023-08-07T11:45:12.687Z"
   },
   {
    "duration": 15,
    "start_time": "2023-08-07T11:45:12.768Z"
   },
   {
    "duration": 19,
    "start_time": "2023-08-07T11:45:12.785Z"
   },
   {
    "duration": 4,
    "start_time": "2023-08-07T11:45:12.807Z"
   },
   {
    "duration": 23,
    "start_time": "2023-08-07T11:45:28.828Z"
   },
   {
    "duration": 5,
    "start_time": "2023-08-07T12:14:16.378Z"
   },
   {
    "duration": 6,
    "start_time": "2023-08-07T12:14:28.426Z"
   },
   {
    "duration": 13,
    "start_time": "2023-08-07T12:15:52.863Z"
   },
   {
    "duration": 22,
    "start_time": "2023-08-07T12:15:59.069Z"
   },
   {
    "duration": 9,
    "start_time": "2023-08-07T12:16:47.726Z"
   },
   {
    "duration": 6,
    "start_time": "2023-08-07T12:16:51.788Z"
   },
   {
    "duration": 28,
    "start_time": "2023-08-07T12:17:09.028Z"
   },
   {
    "duration": 7,
    "start_time": "2023-08-07T12:17:20.528Z"
   },
   {
    "duration": 5,
    "start_time": "2023-08-07T12:18:16.918Z"
   },
   {
    "duration": 5,
    "start_time": "2023-08-07T12:31:22.992Z"
   },
   {
    "duration": 5,
    "start_time": "2023-08-07T12:31:46.681Z"
   },
   {
    "duration": 26,
    "start_time": "2023-08-07T12:32:05.230Z"
   },
   {
    "duration": 11,
    "start_time": "2023-08-07T12:32:56.475Z"
   },
   {
    "duration": 20,
    "start_time": "2023-08-07T12:33:48.669Z"
   },
   {
    "duration": 13,
    "start_time": "2023-08-07T12:36:14.221Z"
   },
   {
    "duration": 5,
    "start_time": "2023-08-07T12:37:10.209Z"
   },
   {
    "duration": 13,
    "start_time": "2023-08-07T12:37:20.623Z"
   },
   {
    "duration": 14,
    "start_time": "2023-08-07T12:43:56.887Z"
   },
   {
    "duration": 208,
    "start_time": "2023-08-07T12:50:09.056Z"
   },
   {
    "duration": 463,
    "start_time": "2023-08-07T12:50:17.249Z"
   },
   {
    "duration": 428,
    "start_time": "2023-08-07T12:50:31.101Z"
   },
   {
    "duration": 602,
    "start_time": "2023-08-07T12:50:34.470Z"
   },
   {
    "duration": 24,
    "start_time": "2023-08-07T12:54:58.168Z"
   },
   {
    "duration": 226,
    "start_time": "2023-08-07T12:55:04.394Z"
   },
   {
    "duration": 312,
    "start_time": "2023-08-07T12:56:24.334Z"
   },
   {
    "duration": 0,
    "start_time": "2023-08-07T13:03:24.767Z"
   },
   {
    "duration": 0,
    "start_time": "2023-08-07T13:03:24.776Z"
   },
   {
    "duration": 0,
    "start_time": "2023-08-07T13:03:24.779Z"
   },
   {
    "duration": 0,
    "start_time": "2023-08-07T13:03:24.783Z"
   },
   {
    "duration": 0,
    "start_time": "2023-08-07T13:03:24.787Z"
   },
   {
    "duration": 0,
    "start_time": "2023-08-07T13:03:24.790Z"
   },
   {
    "duration": 0,
    "start_time": "2023-08-07T13:03:24.792Z"
   },
   {
    "duration": 0,
    "start_time": "2023-08-07T13:03:24.794Z"
   },
   {
    "duration": 0,
    "start_time": "2023-08-07T13:03:24.797Z"
   },
   {
    "duration": 0,
    "start_time": "2023-08-07T13:03:24.799Z"
   },
   {
    "duration": 0,
    "start_time": "2023-08-07T13:03:24.802Z"
   },
   {
    "duration": 0,
    "start_time": "2023-08-07T13:03:24.804Z"
   },
   {
    "duration": 3,
    "start_time": "2023-08-07T13:04:24.898Z"
   },
   {
    "duration": 84,
    "start_time": "2023-08-07T13:04:25.316Z"
   },
   {
    "duration": 14,
    "start_time": "2023-08-07T13:04:25.818Z"
   },
   {
    "duration": 13,
    "start_time": "2023-08-07T13:04:26.510Z"
   },
   {
    "duration": 6,
    "start_time": "2023-08-07T13:04:27.992Z"
   },
   {
    "duration": 21,
    "start_time": "2023-08-07T13:04:28.359Z"
   },
   {
    "duration": 25,
    "start_time": "2023-08-07T13:04:29.059Z"
   },
   {
    "duration": 11,
    "start_time": "2023-08-07T13:04:29.967Z"
   },
   {
    "duration": 4,
    "start_time": "2023-08-07T13:04:30.582Z"
   },
   {
    "duration": 11,
    "start_time": "2023-08-07T13:04:30.878Z"
   },
   {
    "duration": 16,
    "start_time": "2023-08-07T13:04:31.186Z"
   },
   {
    "duration": 15,
    "start_time": "2023-08-07T13:04:31.501Z"
   },
   {
    "duration": 17,
    "start_time": "2023-08-07T13:05:17.838Z"
   },
   {
    "duration": 24,
    "start_time": "2023-08-07T13:05:26.692Z"
   },
   {
    "duration": 35,
    "start_time": "2023-08-07T13:16:17.086Z"
   },
   {
    "duration": 693,
    "start_time": "2023-08-07T13:16:26.024Z"
   },
   {
    "duration": 33,
    "start_time": "2023-08-07T13:16:40.922Z"
   },
   {
    "duration": 17,
    "start_time": "2023-08-07T13:16:57.037Z"
   },
   {
    "duration": 14,
    "start_time": "2023-08-07T13:17:20.195Z"
   },
   {
    "duration": 19,
    "start_time": "2023-08-07T13:17:34.616Z"
   },
   {
    "duration": 14,
    "start_time": "2023-08-07T13:17:50.254Z"
   },
   {
    "duration": 285,
    "start_time": "2023-08-07T13:19:27.422Z"
   },
   {
    "duration": 11,
    "start_time": "2023-08-07T13:28:46.192Z"
   },
   {
    "duration": 280,
    "start_time": "2023-08-07T13:28:46.728Z"
   },
   {
    "duration": 15,
    "start_time": "2023-08-07T13:29:55.808Z"
   },
   {
    "duration": 15,
    "start_time": "2023-08-07T13:30:01.285Z"
   },
   {
    "duration": 11,
    "start_time": "2023-08-07T13:30:05.716Z"
   },
   {
    "duration": 280,
    "start_time": "2023-08-07T13:30:06.297Z"
   },
   {
    "duration": 11,
    "start_time": "2023-08-07T13:30:13.723Z"
   },
   {
    "duration": 282,
    "start_time": "2023-08-07T13:30:15.405Z"
   },
   {
    "duration": 269,
    "start_time": "2023-08-07T13:30:23.561Z"
   },
   {
    "duration": 265,
    "start_time": "2023-08-07T13:30:29.169Z"
   },
   {
    "duration": 270,
    "start_time": "2023-08-07T13:32:24.959Z"
   },
   {
    "duration": 18,
    "start_time": "2023-08-07T13:44:26.835Z"
   },
   {
    "duration": 16,
    "start_time": "2023-08-07T13:44:31.200Z"
   },
   {
    "duration": 22,
    "start_time": "2023-08-07T13:44:39.431Z"
   },
   {
    "duration": 15,
    "start_time": "2023-08-07T13:45:55.250Z"
   },
   {
    "duration": 286,
    "start_time": "2023-08-07T13:45:57.685Z"
   },
   {
    "duration": 3,
    "start_time": "2023-08-07T13:48:40.611Z"
   },
   {
    "duration": 7,
    "start_time": "2023-08-07T13:49:41.067Z"
   },
   {
    "duration": 7,
    "start_time": "2023-08-07T13:50:01.105Z"
   },
   {
    "duration": 17,
    "start_time": "2023-08-07T13:50:15.372Z"
   },
   {
    "duration": 11,
    "start_time": "2023-08-07T13:50:22.512Z"
   },
   {
    "duration": 250,
    "start_time": "2023-08-07T13:50:23.288Z"
   },
   {
    "duration": 8,
    "start_time": "2023-08-07T13:50:26.924Z"
   },
   {
    "duration": 24,
    "start_time": "2023-08-07T14:01:51.012Z"
   },
   {
    "duration": 12,
    "start_time": "2023-08-07T14:06:22.232Z"
   },
   {
    "duration": 14,
    "start_time": "2023-08-07T14:06:24.941Z"
   },
   {
    "duration": 19,
    "start_time": "2023-08-07T14:06:36.878Z"
   },
   {
    "duration": 16,
    "start_time": "2023-08-07T14:06:43.927Z"
   },
   {
    "duration": 18,
    "start_time": "2023-08-07T14:11:43.268Z"
   },
   {
    "duration": 19,
    "start_time": "2023-08-07T14:11:59.650Z"
   },
   {
    "duration": 15,
    "start_time": "2023-08-07T14:15:05.354Z"
   },
   {
    "duration": 599,
    "start_time": "2023-08-07T14:18:53.791Z"
   },
   {
    "duration": 16,
    "start_time": "2023-08-07T14:19:09.615Z"
   },
   {
    "duration": 10,
    "start_time": "2023-08-07T14:49:34.983Z"
   },
   {
    "duration": 220,
    "start_time": "2023-08-07T14:50:40.491Z"
   },
   {
    "duration": 221,
    "start_time": "2023-08-07T14:54:11.056Z"
   },
   {
    "duration": 2322,
    "start_time": "2023-08-07T14:55:22.243Z"
   },
   {
    "duration": 1860,
    "start_time": "2023-08-07T14:55:42.071Z"
   },
   {
    "duration": 2,
    "start_time": "2023-08-07T14:55:54.957Z"
   },
   {
    "duration": 2,
    "start_time": "2023-08-07T14:56:11.751Z"
   },
   {
    "duration": 6,
    "start_time": "2023-08-07T14:56:15.796Z"
   },
   {
    "duration": 1475,
    "start_time": "2023-08-08T15:20:30.918Z"
   },
   {
    "duration": 99,
    "start_time": "2023-08-08T15:20:32.395Z"
   },
   {
    "duration": 30,
    "start_time": "2023-08-08T15:20:32.496Z"
   },
   {
    "duration": 16,
    "start_time": "2023-08-08T15:20:32.527Z"
   },
   {
    "duration": 9,
    "start_time": "2023-08-08T15:20:32.545Z"
   },
   {
    "duration": 27,
    "start_time": "2023-08-08T15:20:32.556Z"
   },
   {
    "duration": 18,
    "start_time": "2023-08-08T15:20:32.586Z"
   },
   {
    "duration": 6,
    "start_time": "2023-08-08T15:20:32.609Z"
   },
   {
    "duration": 14,
    "start_time": "2023-08-08T15:20:32.616Z"
   },
   {
    "duration": 9,
    "start_time": "2023-08-08T15:20:32.632Z"
   },
   {
    "duration": 20,
    "start_time": "2023-08-08T15:20:32.643Z"
   },
   {
    "duration": 17,
    "start_time": "2023-08-08T15:20:32.665Z"
   },
   {
    "duration": 39,
    "start_time": "2023-08-08T15:20:32.683Z"
   },
   {
    "duration": 359,
    "start_time": "2023-08-08T15:20:32.724Z"
   },
   {
    "duration": 27,
    "start_time": "2023-08-08T15:20:33.085Z"
   },
   {
    "duration": 305,
    "start_time": "2023-08-08T15:20:33.114Z"
   },
   {
    "duration": 15,
    "start_time": "2023-08-08T15:20:33.421Z"
   },
   {
    "duration": 60,
    "start_time": "2023-08-08T15:20:41.383Z"
   },
   {
    "duration": 240,
    "start_time": "2023-08-08T15:22:12.559Z"
   },
   {
    "duration": 15,
    "start_time": "2023-08-08T15:27:34.296Z"
   },
   {
    "duration": 215,
    "start_time": "2023-08-08T15:27:45.345Z"
   },
   {
    "duration": 8,
    "start_time": "2023-08-08T15:41:36.538Z"
   },
   {
    "duration": 14,
    "start_time": "2023-08-08T15:55:57.759Z"
   },
   {
    "duration": 230,
    "start_time": "2023-08-08T15:55:58.067Z"
   },
   {
    "duration": 16,
    "start_time": "2023-08-08T15:56:38.225Z"
   },
   {
    "duration": 223,
    "start_time": "2023-08-08T15:56:38.811Z"
   },
   {
    "duration": 15,
    "start_time": "2023-08-08T15:56:51.211Z"
   },
   {
    "duration": 293,
    "start_time": "2023-08-08T15:56:51.544Z"
   },
   {
    "duration": 217,
    "start_time": "2023-08-08T15:57:13.775Z"
   },
   {
    "duration": 8,
    "start_time": "2023-08-08T15:59:10.354Z"
   },
   {
    "duration": 15,
    "start_time": "2023-08-08T15:59:11.926Z"
   },
   {
    "duration": 190,
    "start_time": "2023-08-08T15:59:12.797Z"
   },
   {
    "duration": 15,
    "start_time": "2023-08-08T16:06:23.479Z"
   },
   {
    "duration": 882,
    "start_time": "2023-08-08T16:21:12.286Z"
   },
   {
    "duration": 1062,
    "start_time": "2023-08-08T16:21:56.309Z"
   },
   {
    "duration": 389,
    "start_time": "2023-08-08T16:22:36.979Z"
   },
   {
    "duration": 948,
    "start_time": "2023-08-08T16:22:52.252Z"
   },
   {
    "duration": 122,
    "start_time": "2023-08-08T16:25:25.238Z"
   },
   {
    "duration": 36,
    "start_time": "2023-08-08T16:26:56.065Z"
   },
   {
    "duration": 34,
    "start_time": "2023-08-08T16:27:15.844Z"
   },
   {
    "duration": 1053,
    "start_time": "2023-08-08T16:27:28.128Z"
   },
   {
    "duration": 3349,
    "start_time": "2023-08-08T16:28:11.182Z"
   },
   {
    "duration": 1115,
    "start_time": "2023-08-08T16:28:25.137Z"
   },
   {
    "duration": 1461,
    "start_time": "2023-08-08T16:29:43.779Z"
   },
   {
    "duration": 5760,
    "start_time": "2023-08-08T16:30:02.668Z"
   },
   {
    "duration": 2333,
    "start_time": "2023-08-08T16:30:37.744Z"
   },
   {
    "duration": 913,
    "start_time": "2023-08-08T16:38:56.702Z"
   },
   {
    "duration": 167,
    "start_time": "2023-08-08T17:43:17.161Z"
   },
   {
    "duration": 313,
    "start_time": "2023-08-08T17:45:09.368Z"
   },
   {
    "duration": 1262,
    "start_time": "2023-08-08T17:47:10.131Z"
   },
   {
    "duration": 1247,
    "start_time": "2023-08-08T17:48:24.905Z"
   },
   {
    "duration": 280,
    "start_time": "2023-08-08T17:48:37.641Z"
   },
   {
    "duration": 1194,
    "start_time": "2023-08-08T17:51:12.541Z"
   },
   {
    "duration": 316,
    "start_time": "2023-08-08T17:51:26.201Z"
   },
   {
    "duration": 307,
    "start_time": "2023-08-08T17:55:10.726Z"
   },
   {
    "duration": 12,
    "start_time": "2023-08-08T18:03:40.448Z"
   },
   {
    "duration": 170,
    "start_time": "2023-08-08T18:03:47.363Z"
   },
   {
    "duration": 107,
    "start_time": "2023-08-08T18:05:56.036Z"
   },
   {
    "duration": 273,
    "start_time": "2023-08-08T18:06:30.773Z"
   },
   {
    "duration": 22,
    "start_time": "2023-08-08T18:07:47.848Z"
   },
   {
    "duration": 46,
    "start_time": "2023-08-09T09:59:01.732Z"
   },
   {
    "duration": 1323,
    "start_time": "2023-08-09T09:59:13.879Z"
   },
   {
    "duration": 194,
    "start_time": "2023-08-09T09:59:15.204Z"
   },
   {
    "duration": 20,
    "start_time": "2023-08-09T09:59:15.400Z"
   },
   {
    "duration": 43,
    "start_time": "2023-08-09T09:59:15.422Z"
   },
   {
    "duration": 18,
    "start_time": "2023-08-09T09:59:15.467Z"
   },
   {
    "duration": 20,
    "start_time": "2023-08-09T09:59:15.486Z"
   },
   {
    "duration": 21,
    "start_time": "2023-08-09T09:59:15.508Z"
   },
   {
    "duration": 14,
    "start_time": "2023-08-09T09:59:15.531Z"
   },
   {
    "duration": 21,
    "start_time": "2023-08-09T09:59:15.547Z"
   },
   {
    "duration": 9,
    "start_time": "2023-08-09T09:59:15.571Z"
   },
   {
    "duration": 23,
    "start_time": "2023-08-09T09:59:15.582Z"
   },
   {
    "duration": 15,
    "start_time": "2023-08-09T09:59:15.607Z"
   },
   {
    "duration": 74,
    "start_time": "2023-08-09T09:59:15.624Z"
   },
   {
    "duration": 316,
    "start_time": "2023-08-09T09:59:15.701Z"
   },
   {
    "duration": 10,
    "start_time": "2023-08-09T09:59:16.019Z"
   },
   {
    "duration": 279,
    "start_time": "2023-08-09T09:59:16.030Z"
   },
   {
    "duration": 14,
    "start_time": "2023-08-09T09:59:16.311Z"
   },
   {
    "duration": 224,
    "start_time": "2023-08-09T09:59:16.327Z"
   },
   {
    "duration": 9,
    "start_time": "2023-08-09T09:59:16.557Z"
   },
   {
    "duration": 16,
    "start_time": "2023-08-09T09:59:16.568Z"
   },
   {
    "duration": 220,
    "start_time": "2023-08-09T09:59:16.585Z"
   },
   {
    "duration": 330,
    "start_time": "2023-08-09T09:59:16.807Z"
   },
   {
    "duration": 229,
    "start_time": "2023-08-09T09:59:17.140Z"
   },
   {
    "duration": 253,
    "start_time": "2023-08-09T09:59:37.982Z"
   },
   {
    "duration": 14,
    "start_time": "2023-08-09T10:00:29.458Z"
   },
   {
    "duration": 95,
    "start_time": "2023-08-09T10:02:41.563Z"
   },
   {
    "duration": 109,
    "start_time": "2023-08-09T10:05:12.842Z"
   },
   {
    "duration": 97,
    "start_time": "2023-08-09T10:12:31.453Z"
   },
   {
    "duration": 32,
    "start_time": "2023-08-09T10:12:43.180Z"
   },
   {
    "duration": 111,
    "start_time": "2023-08-09T10:12:48.754Z"
   },
   {
    "duration": 96,
    "start_time": "2023-08-09T10:13:11.444Z"
   },
   {
    "duration": 14,
    "start_time": "2023-08-09T10:31:36.421Z"
   },
   {
    "duration": 7,
    "start_time": "2023-08-09T10:32:05.084Z"
   },
   {
    "duration": 9,
    "start_time": "2023-08-09T10:32:09.192Z"
   },
   {
    "duration": 357,
    "start_time": "2023-08-09T10:32:51.302Z"
   },
   {
    "duration": 327,
    "start_time": "2023-08-09T10:34:26.608Z"
   },
   {
    "duration": 337,
    "start_time": "2023-08-09T10:34:58.721Z"
   },
   {
    "duration": 295,
    "start_time": "2023-08-09T10:35:07.570Z"
   },
   {
    "duration": 298,
    "start_time": "2023-08-09T10:35:11.270Z"
   },
   {
    "duration": 305,
    "start_time": "2023-08-09T10:35:14.931Z"
   },
   {
    "duration": 312,
    "start_time": "2023-08-09T10:35:18.325Z"
   },
   {
    "duration": 308,
    "start_time": "2023-08-09T10:35:28.613Z"
   },
   {
    "duration": 277,
    "start_time": "2023-08-09T10:35:52.451Z"
   },
   {
    "duration": 348,
    "start_time": "2023-08-09T10:36:23.599Z"
   },
   {
    "duration": 391,
    "start_time": "2023-08-09T10:36:33.719Z"
   },
   {
    "duration": 528,
    "start_time": "2023-08-09T10:36:36.294Z"
   },
   {
    "duration": 132,
    "start_time": "2023-08-09T10:39:24.271Z"
   },
   {
    "duration": 75,
    "start_time": "2023-08-09T10:39:27.870Z"
   },
   {
    "duration": 172,
    "start_time": "2023-08-09T10:39:30.982Z"
   },
   {
    "duration": 202,
    "start_time": "2023-08-09T10:39:54.945Z"
   },
   {
    "duration": 397,
    "start_time": "2023-08-09T10:40:00.953Z"
   },
   {
    "duration": 789,
    "start_time": "2023-08-09T10:40:35.890Z"
   },
   {
    "duration": 589,
    "start_time": "2023-08-09T10:40:44.136Z"
   },
   {
    "duration": 302,
    "start_time": "2023-08-09T10:41:58.629Z"
   },
   {
    "duration": 162,
    "start_time": "2023-08-09T10:43:24.170Z"
   },
   {
    "duration": 295,
    "start_time": "2023-08-09T10:43:58.380Z"
   },
   {
    "duration": 321,
    "start_time": "2023-08-09T10:46:35.371Z"
   },
   {
    "duration": 307,
    "start_time": "2023-08-09T10:46:58.703Z"
   },
   {
    "duration": 300,
    "start_time": "2023-08-09T10:47:01.902Z"
   },
   {
    "duration": 308,
    "start_time": "2023-08-09T10:47:56.035Z"
   },
   {
    "duration": 1302,
    "start_time": "2023-08-09T12:18:02.821Z"
   },
   {
    "duration": 1185,
    "start_time": "2023-08-09T12:18:11.170Z"
   },
   {
    "duration": 392,
    "start_time": "2023-08-09T12:18:17.272Z"
   },
   {
    "duration": 583,
    "start_time": "2023-08-09T12:18:30.446Z"
   },
   {
    "duration": 410,
    "start_time": "2023-08-09T12:18:37.743Z"
   },
   {
    "duration": 27,
    "start_time": "2023-08-09T12:19:02.652Z"
   },
   {
    "duration": 412,
    "start_time": "2023-08-09T12:19:09.075Z"
   },
   {
    "duration": 416,
    "start_time": "2023-08-09T12:21:20.336Z"
   },
   {
    "duration": 378,
    "start_time": "2023-08-09T12:25:58.949Z"
   },
   {
    "duration": 333,
    "start_time": "2023-08-09T12:26:09.337Z"
   },
   {
    "duration": 4,
    "start_time": "2023-08-09T13:19:21.473Z"
   },
   {
    "duration": 4,
    "start_time": "2023-08-09T13:25:07.039Z"
   },
   {
    "duration": 18,
    "start_time": "2023-08-09T13:26:06.493Z"
   },
   {
    "duration": 16,
    "start_time": "2023-08-09T13:26:27.368Z"
   },
   {
    "duration": 16,
    "start_time": "2023-08-09T13:26:55.369Z"
   },
   {
    "duration": 4,
    "start_time": "2023-08-09T13:26:57.809Z"
   },
   {
    "duration": 15,
    "start_time": "2023-08-09T13:26:59.634Z"
   },
   {
    "duration": 4,
    "start_time": "2023-08-09T13:27:16.209Z"
   },
   {
    "duration": 5,
    "start_time": "2023-08-09T13:27:16.762Z"
   },
   {
    "duration": 3,
    "start_time": "2023-08-09T13:29:09.521Z"
   },
   {
    "duration": 3,
    "start_time": "2023-08-09T13:29:09.839Z"
   },
   {
    "duration": 14,
    "start_time": "2023-08-09T13:29:11.532Z"
   },
   {
    "duration": 4,
    "start_time": "2023-08-09T13:29:33.648Z"
   },
   {
    "duration": 3,
    "start_time": "2023-08-09T13:29:33.934Z"
   },
   {
    "duration": 15,
    "start_time": "2023-08-09T13:29:35.025Z"
   },
   {
    "duration": 4,
    "start_time": "2023-08-09T13:29:52.688Z"
   },
   {
    "duration": 3,
    "start_time": "2023-08-09T13:29:53.636Z"
   },
   {
    "duration": 15,
    "start_time": "2023-08-09T13:29:54.433Z"
   },
   {
    "duration": 3,
    "start_time": "2023-08-09T13:29:59.890Z"
   },
   {
    "duration": 3,
    "start_time": "2023-08-09T13:30:00.229Z"
   },
   {
    "duration": 15,
    "start_time": "2023-08-09T13:30:01.095Z"
   },
   {
    "duration": 17,
    "start_time": "2023-08-09T13:31:28.932Z"
   },
   {
    "duration": 15,
    "start_time": "2023-08-09T13:32:05.012Z"
   },
   {
    "duration": 3,
    "start_time": "2023-08-09T13:32:11.302Z"
   },
   {
    "duration": 4,
    "start_time": "2023-08-09T13:32:11.805Z"
   },
   {
    "duration": 9,
    "start_time": "2023-08-09T13:32:12.733Z"
   },
   {
    "duration": 448,
    "start_time": "2023-08-09T13:32:20.796Z"
   },
   {
    "duration": 4,
    "start_time": "2023-08-09T13:33:03.880Z"
   },
   {
    "duration": 3,
    "start_time": "2023-08-09T13:33:04.213Z"
   },
   {
    "duration": 63,
    "start_time": "2023-08-09T13:33:06.248Z"
   },
   {
    "duration": 215,
    "start_time": "2023-08-09T13:33:26.200Z"
   },
   {
    "duration": 3,
    "start_time": "2023-08-09T13:34:12.576Z"
   },
   {
    "duration": 4,
    "start_time": "2023-08-09T13:34:13.711Z"
   },
   {
    "duration": 205,
    "start_time": "2023-08-09T13:34:14.488Z"
   },
   {
    "duration": 208,
    "start_time": "2023-08-09T13:34:53.195Z"
   },
   {
    "duration": 209,
    "start_time": "2023-08-09T13:35:27.285Z"
   },
   {
    "duration": 82,
    "start_time": "2023-08-09T13:36:42.262Z"
   },
   {
    "duration": 3,
    "start_time": "2023-08-09T13:37:12.460Z"
   },
   {
    "duration": 255,
    "start_time": "2023-08-09T13:37:14.380Z"
   },
   {
    "duration": 80,
    "start_time": "2023-08-09T13:37:26.377Z"
   },
   {
    "duration": 72,
    "start_time": "2023-08-09T13:37:31.534Z"
   },
   {
    "duration": 105,
    "start_time": "2023-08-09T13:37:40.609Z"
   },
   {
    "duration": 69,
    "start_time": "2023-08-09T13:37:53.085Z"
   },
   {
    "duration": 3,
    "start_time": "2023-08-09T13:38:15.546Z"
   },
   {
    "duration": 204,
    "start_time": "2023-08-09T13:38:18.590Z"
   },
   {
    "duration": 199,
    "start_time": "2023-08-09T13:38:43.614Z"
   },
   {
    "duration": 202,
    "start_time": "2023-08-09T13:52:33.727Z"
   },
   {
    "duration": 196,
    "start_time": "2023-08-09T13:56:01.996Z"
   },
   {
    "duration": 286,
    "start_time": "2023-08-09T13:56:47.286Z"
   },
   {
    "duration": 198,
    "start_time": "2023-08-09T13:56:57.921Z"
   },
   {
    "duration": 236,
    "start_time": "2023-08-09T13:57:02.074Z"
   },
   {
    "duration": 194,
    "start_time": "2023-08-09T14:01:04.308Z"
   },
   {
    "duration": 251,
    "start_time": "2023-08-09T14:06:28.937Z"
   },
   {
    "duration": 201,
    "start_time": "2023-08-09T14:06:34.102Z"
   },
   {
    "duration": 22,
    "start_time": "2023-08-09T15:11:29.090Z"
   },
   {
    "duration": 11,
    "start_time": "2023-08-09T15:12:15.574Z"
   },
   {
    "duration": 15,
    "start_time": "2023-08-09T15:14:29.133Z"
   },
   {
    "duration": 15,
    "start_time": "2023-08-09T15:21:21.070Z"
   },
   {
    "duration": 14,
    "start_time": "2023-08-09T16:11:47.299Z"
   },
   {
    "duration": 19,
    "start_time": "2023-08-09T16:11:51.456Z"
   },
   {
    "duration": 17,
    "start_time": "2023-08-09T16:11:55.852Z"
   },
   {
    "duration": 17,
    "start_time": "2023-08-09T16:11:59.348Z"
   },
   {
    "duration": 1154,
    "start_time": "2023-08-09T16:55:37.122Z"
   },
   {
    "duration": 53,
    "start_time": "2023-08-09T16:55:38.278Z"
   },
   {
    "duration": 27,
    "start_time": "2023-08-09T16:55:38.332Z"
   },
   {
    "duration": 32,
    "start_time": "2023-08-09T16:55:38.362Z"
   },
   {
    "duration": 30,
    "start_time": "2023-08-09T16:55:38.396Z"
   },
   {
    "duration": 49,
    "start_time": "2023-08-09T16:55:38.428Z"
   },
   {
    "duration": 36,
    "start_time": "2023-08-09T16:55:38.479Z"
   },
   {
    "duration": 43,
    "start_time": "2023-08-09T16:55:38.517Z"
   },
   {
    "duration": 47,
    "start_time": "2023-08-09T16:55:38.562Z"
   },
   {
    "duration": 47,
    "start_time": "2023-08-09T16:55:38.612Z"
   },
   {
    "duration": 37,
    "start_time": "2023-08-09T16:55:38.661Z"
   },
   {
    "duration": 54,
    "start_time": "2023-08-09T16:55:38.700Z"
   },
   {
    "duration": 56,
    "start_time": "2023-08-09T16:55:38.756Z"
   },
   {
    "duration": 340,
    "start_time": "2023-08-09T16:55:38.814Z"
   },
   {
    "duration": 9,
    "start_time": "2023-08-09T16:55:39.156Z"
   },
   {
    "duration": 286,
    "start_time": "2023-08-09T16:55:39.167Z"
   },
   {
    "duration": 14,
    "start_time": "2023-08-09T16:55:39.455Z"
   },
   {
    "duration": 226,
    "start_time": "2023-08-09T16:55:39.470Z"
   },
   {
    "duration": 6,
    "start_time": "2023-08-09T16:55:39.698Z"
   },
   {
    "duration": 97,
    "start_time": "2023-08-09T16:55:39.705Z"
   },
   {
    "duration": 218,
    "start_time": "2023-08-09T16:55:39.804Z"
   },
   {
    "duration": 332,
    "start_time": "2023-08-09T16:55:40.024Z"
   },
   {
    "duration": 102,
    "start_time": "2023-08-09T16:55:40.358Z"
   },
   {
    "duration": 186,
    "start_time": "2023-08-09T16:55:40.461Z"
   },
   {
    "duration": 10,
    "start_time": "2023-08-09T16:55:40.650Z"
   },
   {
    "duration": 495,
    "start_time": "2023-08-09T16:55:40.662Z"
   },
   {
    "duration": 315,
    "start_time": "2023-08-09T16:55:41.159Z"
   },
   {
    "duration": 287,
    "start_time": "2023-08-09T16:55:41.478Z"
   },
   {
    "duration": 342,
    "start_time": "2023-08-09T16:55:41.766Z"
   },
   {
    "duration": 3,
    "start_time": "2023-08-09T16:55:42.111Z"
   },
   {
    "duration": 26,
    "start_time": "2023-08-09T16:55:42.116Z"
   },
   {
    "duration": 202,
    "start_time": "2023-08-09T16:55:42.144Z"
   },
   {
    "duration": 188,
    "start_time": "2023-08-09T16:55:42.348Z"
   },
   {
    "duration": 179,
    "start_time": "2023-08-09T16:55:42.538Z"
   },
   {
    "duration": 184,
    "start_time": "2023-08-09T16:55:42.719Z"
   },
   {
    "duration": 190,
    "start_time": "2023-08-09T16:55:42.905Z"
   },
   {
    "duration": 270,
    "start_time": "2023-08-09T16:55:43.097Z"
   },
   {
    "duration": 182,
    "start_time": "2023-08-09T16:55:43.369Z"
   },
   {
    "duration": 194,
    "start_time": "2023-08-09T16:55:43.553Z"
   },
   {
    "duration": 201,
    "start_time": "2023-08-09T16:55:43.749Z"
   },
   {
    "duration": 11,
    "start_time": "2023-08-09T16:55:43.952Z"
   },
   {
    "duration": 27,
    "start_time": "2023-08-09T16:55:43.965Z"
   },
   {
    "duration": 1320,
    "start_time": "2023-08-11T13:24:37.163Z"
   },
   {
    "duration": 115,
    "start_time": "2023-08-11T13:24:38.487Z"
   },
   {
    "duration": 18,
    "start_time": "2023-08-11T13:24:38.604Z"
   },
   {
    "duration": 43,
    "start_time": "2023-08-11T13:24:38.624Z"
   },
   {
    "duration": 105,
    "start_time": "2023-08-11T13:24:40.803Z"
   },
   {
    "duration": 4,
    "start_time": "2023-08-11T13:24:51.253Z"
   },
   {
    "duration": 8,
    "start_time": "2023-08-11T13:24:57.135Z"
   },
   {
    "duration": 8,
    "start_time": "2023-08-11T13:25:10.302Z"
   },
   {
    "duration": 10,
    "start_time": "2023-08-11T13:25:17.597Z"
   },
   {
    "duration": 7,
    "start_time": "2023-08-11T13:25:48.714Z"
   },
   {
    "duration": 8,
    "start_time": "2023-08-11T13:26:08.199Z"
   },
   {
    "duration": 3,
    "start_time": "2023-08-11T13:26:11.619Z"
   },
   {
    "duration": 67,
    "start_time": "2023-08-11T13:26:12.116Z"
   },
   {
    "duration": 22,
    "start_time": "2023-08-11T13:26:12.987Z"
   },
   {
    "duration": 14,
    "start_time": "2023-08-11T13:26:13.410Z"
   },
   {
    "duration": 4,
    "start_time": "2023-08-11T13:26:15.623Z"
   },
   {
    "duration": 5,
    "start_time": "2023-08-11T13:26:27.961Z"
   },
   {
    "duration": 6,
    "start_time": "2023-08-11T13:26:41.403Z"
   },
   {
    "duration": 9,
    "start_time": "2023-08-11T13:26:57.487Z"
   },
   {
    "duration": 3,
    "start_time": "2023-08-11T13:27:17.438Z"
   },
   {
    "duration": 100,
    "start_time": "2023-08-11T13:27:17.443Z"
   },
   {
    "duration": 18,
    "start_time": "2023-08-11T13:27:17.546Z"
   },
   {
    "duration": 60,
    "start_time": "2023-08-11T13:27:17.566Z"
   },
   {
    "duration": 40,
    "start_time": "2023-08-11T13:27:17.628Z"
   },
   {
    "duration": 47,
    "start_time": "2023-08-11T13:27:17.670Z"
   },
   {
    "duration": 66,
    "start_time": "2023-08-11T13:27:17.718Z"
   },
   {
    "duration": 22,
    "start_time": "2023-08-11T13:27:17.785Z"
   },
   {
    "duration": 57,
    "start_time": "2023-08-11T13:27:17.808Z"
   },
   {
    "duration": 55,
    "start_time": "2023-08-11T13:27:17.866Z"
   },
   {
    "duration": 73,
    "start_time": "2023-08-11T13:27:17.923Z"
   },
   {
    "duration": 18,
    "start_time": "2023-08-11T13:27:23.339Z"
   },
   {
    "duration": 17,
    "start_time": "2023-08-11T13:27:42.724Z"
   },
   {
    "duration": 15,
    "start_time": "2023-08-11T13:28:34.726Z"
   },
   {
    "duration": 10,
    "start_time": "2023-08-11T13:29:09.028Z"
   },
   {
    "duration": 5,
    "start_time": "2023-08-11T13:32:47.420Z"
   },
   {
    "duration": 91,
    "start_time": "2023-08-11T13:33:54.987Z"
   },
   {
    "duration": 10,
    "start_time": "2023-08-11T13:33:57.937Z"
   },
   {
    "duration": 13,
    "start_time": "2023-08-11T13:35:22.772Z"
   },
   {
    "duration": 10,
    "start_time": "2023-08-11T13:35:28.614Z"
   },
   {
    "duration": 17,
    "start_time": "2023-08-11T13:35:48.157Z"
   },
   {
    "duration": 28,
    "start_time": "2023-08-11T13:36:03.875Z"
   },
   {
    "duration": 8,
    "start_time": "2023-08-11T13:36:11.932Z"
   },
   {
    "duration": 7,
    "start_time": "2023-08-11T13:39:29.216Z"
   },
   {
    "duration": 7,
    "start_time": "2023-08-11T15:56:46.263Z"
   },
   {
    "duration": 3,
    "start_time": "2023-08-11T15:56:53.621Z"
   },
   {
    "duration": 77,
    "start_time": "2023-08-11T15:56:53.627Z"
   },
   {
    "duration": 25,
    "start_time": "2023-08-11T15:56:53.707Z"
   },
   {
    "duration": 36,
    "start_time": "2023-08-11T15:56:53.733Z"
   },
   {
    "duration": 6,
    "start_time": "2023-08-11T15:56:53.771Z"
   },
   {
    "duration": 18,
    "start_time": "2023-08-11T15:56:53.778Z"
   },
   {
    "duration": 22,
    "start_time": "2023-08-11T15:56:53.801Z"
   },
   {
    "duration": 5,
    "start_time": "2023-08-11T15:56:53.825Z"
   },
   {
    "duration": 5,
    "start_time": "2023-08-11T15:56:53.832Z"
   },
   {
    "duration": 10,
    "start_time": "2023-08-11T15:56:53.838Z"
   },
   {
    "duration": 48,
    "start_time": "2023-08-11T15:56:53.850Z"
   },
   {
    "duration": 23,
    "start_time": "2023-08-11T15:56:53.905Z"
   },
   {
    "duration": 17,
    "start_time": "2023-08-11T15:56:53.932Z"
   },
   {
    "duration": 7,
    "start_time": "2023-08-11T15:56:53.951Z"
   },
   {
    "duration": 47,
    "start_time": "2023-08-11T15:56:53.959Z"
   },
   {
    "duration": 358,
    "start_time": "2023-08-11T15:56:54.008Z"
   },
   {
    "duration": 10,
    "start_time": "2023-08-11T15:56:54.368Z"
   },
   {
    "duration": 328,
    "start_time": "2023-08-11T15:56:54.386Z"
   },
   {
    "duration": 20,
    "start_time": "2023-08-11T15:56:54.716Z"
   },
   {
    "duration": 311,
    "start_time": "2023-08-11T15:56:54.739Z"
   },
   {
    "duration": 10,
    "start_time": "2023-08-11T15:56:55.051Z"
   },
   {
    "duration": 58,
    "start_time": "2023-08-11T15:56:55.065Z"
   },
   {
    "duration": 224,
    "start_time": "2023-08-11T15:56:55.124Z"
   },
   {
    "duration": 338,
    "start_time": "2023-08-11T15:56:55.350Z"
   },
   {
    "duration": 24,
    "start_time": "2023-08-11T15:56:55.690Z"
   },
   {
    "duration": 128,
    "start_time": "2023-08-11T15:56:55.716Z"
   },
   {
    "duration": 181,
    "start_time": "2023-08-11T15:56:55.846Z"
   },
   {
    "duration": 8,
    "start_time": "2023-08-11T15:56:56.029Z"
   },
   {
    "duration": 949,
    "start_time": "2023-08-11T15:56:56.039Z"
   },
   {
    "duration": 608,
    "start_time": "2023-08-11T15:56:56.990Z"
   },
   {
    "duration": 707,
    "start_time": "2023-08-11T15:56:57.600Z"
   },
   {
    "duration": 801,
    "start_time": "2023-08-11T15:56:58.309Z"
   },
   {
    "duration": 3,
    "start_time": "2023-08-11T15:56:59.112Z"
   },
   {
    "duration": 4,
    "start_time": "2023-08-11T15:56:59.116Z"
   },
   {
    "duration": 400,
    "start_time": "2023-08-11T15:56:59.122Z"
   },
   {
    "duration": 473,
    "start_time": "2023-08-11T15:56:59.524Z"
   },
   {
    "duration": 353,
    "start_time": "2023-08-11T15:57:00.001Z"
   },
   {
    "duration": 199,
    "start_time": "2023-08-11T15:57:00.356Z"
   },
   {
    "duration": 239,
    "start_time": "2023-08-11T15:57:00.557Z"
   },
   {
    "duration": 252,
    "start_time": "2023-08-11T15:57:00.799Z"
   },
   {
    "duration": 216,
    "start_time": "2023-08-11T15:57:01.053Z"
   },
   {
    "duration": 248,
    "start_time": "2023-08-11T15:57:01.271Z"
   },
   {
    "duration": 205,
    "start_time": "2023-08-11T15:57:01.522Z"
   },
   {
    "duration": 10,
    "start_time": "2023-08-11T15:57:01.729Z"
   },
   {
    "duration": 119,
    "start_time": "2023-08-11T15:57:01.740Z"
   },
   {
    "duration": 37,
    "start_time": "2023-08-11T16:00:07.200Z"
   },
   {
    "duration": 602,
    "start_time": "2023-08-11T16:05:58.429Z"
   },
   {
    "duration": 1098,
    "start_time": "2023-08-11T16:06:24.135Z"
   },
   {
    "duration": 993,
    "start_time": "2023-08-11T16:06:58.213Z"
   },
   {
    "duration": 1159,
    "start_time": "2023-08-11T16:07:10.631Z"
   },
   {
    "duration": 18,
    "start_time": "2023-08-11T16:12:44.532Z"
   },
   {
    "duration": 16,
    "start_time": "2023-08-11T16:12:51.164Z"
   },
   {
    "duration": 6,
    "start_time": "2023-08-11T16:13:00.345Z"
   },
   {
    "duration": 14,
    "start_time": "2023-08-11T16:13:02.607Z"
   },
   {
    "duration": 188,
    "start_time": "2023-08-11T16:13:04.530Z"
   },
   {
    "duration": 7,
    "start_time": "2023-08-11T16:13:13.518Z"
   },
   {
    "duration": 19,
    "start_time": "2023-08-11T16:13:15.139Z"
   },
   {
    "duration": 177,
    "start_time": "2023-08-11T16:13:15.640Z"
   },
   {
    "duration": 1372,
    "start_time": "2023-08-14T14:06:26.367Z"
   },
   {
    "duration": 189,
    "start_time": "2023-08-14T14:06:27.741Z"
   },
   {
    "duration": 21,
    "start_time": "2023-08-14T14:06:27.932Z"
   },
   {
    "duration": 14,
    "start_time": "2023-08-14T14:06:27.955Z"
   },
   {
    "duration": 4,
    "start_time": "2023-08-14T14:06:27.970Z"
   },
   {
    "duration": 17,
    "start_time": "2023-08-14T14:06:27.976Z"
   },
   {
    "duration": 15,
    "start_time": "2023-08-14T14:06:27.994Z"
   },
   {
    "duration": 5,
    "start_time": "2023-08-14T14:06:28.010Z"
   },
   {
    "duration": 12,
    "start_time": "2023-08-14T14:06:28.016Z"
   },
   {
    "duration": 30,
    "start_time": "2023-08-14T14:06:28.031Z"
   },
   {
    "duration": 19,
    "start_time": "2023-08-14T14:06:28.063Z"
   },
   {
    "duration": 18,
    "start_time": "2023-08-14T14:06:28.084Z"
   },
   {
    "duration": 15,
    "start_time": "2023-08-14T14:06:28.104Z"
   },
   {
    "duration": 36,
    "start_time": "2023-08-14T14:06:28.120Z"
   },
   {
    "duration": 19,
    "start_time": "2023-08-14T14:06:28.158Z"
   },
   {
    "duration": 347,
    "start_time": "2023-08-14T14:06:28.178Z"
   },
   {
    "duration": 12,
    "start_time": "2023-08-14T14:06:28.527Z"
   },
   {
    "duration": 324,
    "start_time": "2023-08-14T14:06:28.541Z"
   },
   {
    "duration": 20,
    "start_time": "2023-08-14T14:06:28.867Z"
   },
   {
    "duration": 303,
    "start_time": "2023-08-14T14:06:28.889Z"
   },
   {
    "duration": 6,
    "start_time": "2023-08-14T14:06:29.194Z"
   },
   {
    "duration": 24,
    "start_time": "2023-08-14T14:06:29.203Z"
   },
   {
    "duration": 197,
    "start_time": "2023-08-14T14:06:29.229Z"
   },
   {
    "duration": 353,
    "start_time": "2023-08-14T14:06:29.428Z"
   },
   {
    "duration": 15,
    "start_time": "2023-08-14T14:06:29.783Z"
   },
   {
    "duration": 1073,
    "start_time": "2023-08-14T14:06:29.800Z"
   },
   {
    "duration": 0,
    "start_time": "2023-08-14T14:06:30.875Z"
   },
   {
    "duration": 0,
    "start_time": "2023-08-14T14:06:30.876Z"
   },
   {
    "duration": 0,
    "start_time": "2023-08-14T14:06:30.877Z"
   },
   {
    "duration": 0,
    "start_time": "2023-08-14T14:06:30.878Z"
   },
   {
    "duration": 0,
    "start_time": "2023-08-14T14:06:30.879Z"
   },
   {
    "duration": 0,
    "start_time": "2023-08-14T14:06:30.880Z"
   },
   {
    "duration": 0,
    "start_time": "2023-08-14T14:06:30.882Z"
   },
   {
    "duration": 0,
    "start_time": "2023-08-14T14:06:30.883Z"
   },
   {
    "duration": 0,
    "start_time": "2023-08-14T14:06:30.883Z"
   },
   {
    "duration": 1,
    "start_time": "2023-08-14T14:06:30.884Z"
   },
   {
    "duration": 0,
    "start_time": "2023-08-14T14:06:30.886Z"
   },
   {
    "duration": 0,
    "start_time": "2023-08-14T14:06:30.887Z"
   },
   {
    "duration": 0,
    "start_time": "2023-08-14T14:06:30.888Z"
   },
   {
    "duration": 0,
    "start_time": "2023-08-14T14:06:30.889Z"
   },
   {
    "duration": 0,
    "start_time": "2023-08-14T14:06:30.890Z"
   },
   {
    "duration": 0,
    "start_time": "2023-08-14T14:06:30.891Z"
   },
   {
    "duration": 0,
    "start_time": "2023-08-14T14:06:30.892Z"
   },
   {
    "duration": 0,
    "start_time": "2023-08-14T14:06:30.893Z"
   },
   {
    "duration": 0,
    "start_time": "2023-08-14T14:06:30.894Z"
   },
   {
    "duration": 0,
    "start_time": "2023-08-14T14:06:30.895Z"
   },
   {
    "duration": 1800,
    "start_time": "2023-08-14T14:08:28.660Z"
   },
   {
    "duration": 1028,
    "start_time": "2023-08-14T14:08:42.902Z"
   },
   {
    "duration": 1194,
    "start_time": "2023-08-14T14:14:50.189Z"
   },
   {
    "duration": 1049,
    "start_time": "2023-08-14T14:15:28.924Z"
   },
   {
    "duration": 1271,
    "start_time": "2023-08-14T14:16:18.938Z"
   },
   {
    "duration": 1276,
    "start_time": "2023-08-14T14:18:14.617Z"
   },
   {
    "duration": 1031,
    "start_time": "2023-08-14T14:18:59.166Z"
   },
   {
    "duration": 2198,
    "start_time": "2023-08-14T14:19:49.494Z"
   },
   {
    "duration": 1315,
    "start_time": "2023-08-14T14:19:59.598Z"
   },
   {
    "duration": 1624,
    "start_time": "2023-08-14T14:26:15.904Z"
   },
   {
    "duration": 1229,
    "start_time": "2023-08-14T14:26:31.612Z"
   },
   {
    "duration": 1230,
    "start_time": "2023-08-14T14:27:19.489Z"
   },
   {
    "duration": 1292,
    "start_time": "2023-08-14T14:27:25.505Z"
   },
   {
    "duration": 919,
    "start_time": "2023-08-14T14:27:38.637Z"
   },
   {
    "duration": 1353,
    "start_time": "2023-08-14T14:27:43.582Z"
   },
   {
    "duration": 1327,
    "start_time": "2023-08-14T14:29:17.995Z"
   },
   {
    "duration": 1319,
    "start_time": "2023-08-14T14:29:25.966Z"
   },
   {
    "duration": 1292,
    "start_time": "2023-08-14T14:29:33.706Z"
   },
   {
    "duration": 1282,
    "start_time": "2023-08-14T14:29:40.880Z"
   },
   {
    "duration": 838,
    "start_time": "2023-08-14T14:29:54.880Z"
   },
   {
    "duration": 1206,
    "start_time": "2023-08-14T14:30:00.977Z"
   },
   {
    "duration": 22,
    "start_time": "2023-08-14T14:33:54.434Z"
   },
   {
    "duration": 288,
    "start_time": "2023-08-14T14:33:59.783Z"
   },
   {
    "duration": 16,
    "start_time": "2023-08-14T14:35:54.068Z"
   },
   {
    "duration": 347,
    "start_time": "2023-08-14T14:35:54.586Z"
   },
   {
    "duration": 7,
    "start_time": "2023-08-14T14:36:00.074Z"
   },
   {
    "duration": 16,
    "start_time": "2023-08-14T14:36:01.261Z"
   },
   {
    "duration": 177,
    "start_time": "2023-08-14T14:36:01.821Z"
   },
   {
    "duration": 14,
    "start_time": "2023-08-14T14:36:13.381Z"
   },
   {
    "duration": 232,
    "start_time": "2023-08-14T14:36:13.761Z"
   },
   {
    "duration": 6,
    "start_time": "2023-08-14T14:36:14.971Z"
   },
   {
    "duration": 15,
    "start_time": "2023-08-14T14:36:17.669Z"
   },
   {
    "duration": 220,
    "start_time": "2023-08-14T14:39:27.323Z"
   },
   {
    "duration": 289,
    "start_time": "2023-08-14T14:39:36.388Z"
   },
   {
    "duration": 9,
    "start_time": "2023-08-14T14:54:21.730Z"
   },
   {
    "duration": 16,
    "start_time": "2023-08-14T14:54:26.720Z"
   },
   {
    "duration": 18,
    "start_time": "2023-08-14T14:54:47.000Z"
   },
   {
    "duration": 322,
    "start_time": "2023-08-14T14:55:52.360Z"
   },
   {
    "duration": 263,
    "start_time": "2023-08-14T14:56:06.599Z"
   },
   {
    "duration": 266,
    "start_time": "2023-08-14T14:56:11.588Z"
   },
   {
    "duration": 413,
    "start_time": "2023-08-14T14:56:20.493Z"
   },
   {
    "duration": 289,
    "start_time": "2023-08-14T14:56:27.502Z"
   },
   {
    "duration": 311,
    "start_time": "2023-08-14T14:56:43.075Z"
   },
   {
    "duration": 261,
    "start_time": "2023-08-14T14:56:46.199Z"
   },
   {
    "duration": 265,
    "start_time": "2023-08-14T14:56:51.185Z"
   },
   {
    "duration": 376,
    "start_time": "2023-08-14T14:56:55.459Z"
   },
   {
    "duration": 323,
    "start_time": "2023-08-14T14:57:34.559Z"
   },
   {
    "duration": 22,
    "start_time": "2023-08-14T14:57:37.729Z"
   },
   {
    "duration": 271,
    "start_time": "2023-08-14T14:57:40.233Z"
   },
   {
    "duration": 290,
    "start_time": "2023-08-14T14:57:47.357Z"
   },
   {
    "duration": 275,
    "start_time": "2023-08-14T14:59:01.310Z"
   },
   {
    "duration": 385,
    "start_time": "2023-08-14T14:59:32.526Z"
   },
   {
    "duration": 273,
    "start_time": "2023-08-14T14:59:50.600Z"
   },
   {
    "duration": 281,
    "start_time": "2023-08-14T14:59:54.617Z"
   },
   {
    "duration": 280,
    "start_time": "2023-08-14T14:59:59.459Z"
   },
   {
    "duration": 20,
    "start_time": "2023-08-14T15:01:05.985Z"
   },
   {
    "duration": 399,
    "start_time": "2023-08-14T15:01:14.514Z"
   },
   {
    "duration": 608,
    "start_time": "2023-08-14T15:01:21.304Z"
   },
   {
    "duration": 698,
    "start_time": "2023-08-14T15:02:22.559Z"
   },
   {
    "duration": 498,
    "start_time": "2023-08-14T15:02:31.035Z"
   },
   {
    "duration": 645,
    "start_time": "2023-08-14T15:02:35.295Z"
   },
   {
    "duration": 2145,
    "start_time": "2023-08-14T15:08:30.659Z"
   },
   {
    "duration": 2524,
    "start_time": "2023-08-14T15:09:10.860Z"
   },
   {
    "duration": 657,
    "start_time": "2023-08-14T15:09:35.030Z"
   },
   {
    "duration": 99,
    "start_time": "2023-08-14T15:23:25.270Z"
   },
   {
    "duration": 98,
    "start_time": "2023-08-14T15:23:26.194Z"
   },
   {
    "duration": 18,
    "start_time": "2023-08-14T15:25:55.697Z"
   },
   {
    "duration": 274,
    "start_time": "2023-08-14T15:26:03.488Z"
   },
   {
    "duration": 145,
    "start_time": "2023-08-14T15:26:09.898Z"
   },
   {
    "duration": 166,
    "start_time": "2023-08-14T15:26:57.072Z"
   },
   {
    "duration": 166,
    "start_time": "2023-08-14T15:29:32.474Z"
   },
   {
    "duration": 15,
    "start_time": "2023-08-14T15:31:20.374Z"
   },
   {
    "duration": 575,
    "start_time": "2023-08-14T15:31:20.935Z"
   },
   {
    "duration": 191,
    "start_time": "2023-08-14T15:33:13.149Z"
   },
   {
    "duration": 637,
    "start_time": "2023-08-14T15:33:22.696Z"
   },
   {
    "duration": 545,
    "start_time": "2023-08-14T15:33:32.374Z"
   },
   {
    "duration": 327,
    "start_time": "2023-08-14T15:34:32.611Z"
   },
   {
    "duration": 574,
    "start_time": "2023-08-14T15:34:40.033Z"
   },
   {
    "duration": 114,
    "start_time": "2023-08-14T15:40:30.170Z"
   },
   {
    "duration": 174,
    "start_time": "2023-08-14T15:42:19.174Z"
   },
   {
    "duration": 185,
    "start_time": "2023-08-14T15:42:27.156Z"
   },
   {
    "duration": 438,
    "start_time": "2023-08-14T15:42:56.055Z"
   },
   {
    "duration": 495,
    "start_time": "2023-08-14T15:43:07.926Z"
   },
   {
    "duration": 575,
    "start_time": "2023-08-14T15:43:13.234Z"
   },
   {
    "duration": 601,
    "start_time": "2023-08-14T15:44:47.972Z"
   },
   {
    "duration": 602,
    "start_time": "2023-08-14T15:45:01.276Z"
   },
   {
    "duration": 595,
    "start_time": "2023-08-14T15:45:06.345Z"
   },
   {
    "duration": 561,
    "start_time": "2023-08-14T15:45:11.064Z"
   },
   {
    "duration": 556,
    "start_time": "2023-08-14T15:45:19.544Z"
   },
   {
    "duration": 402,
    "start_time": "2023-08-14T15:45:41.612Z"
   },
   {
    "duration": 303,
    "start_time": "2023-08-14T15:46:54.392Z"
   },
   {
    "duration": 15,
    "start_time": "2023-08-14T15:49:56.160Z"
   },
   {
    "duration": 896,
    "start_time": "2023-08-14T15:50:18.216Z"
   },
   {
    "duration": 676,
    "start_time": "2023-08-14T15:50:27.206Z"
   },
   {
    "duration": 845,
    "start_time": "2023-08-14T15:50:31.081Z"
   },
   {
    "duration": 759,
    "start_time": "2023-08-14T15:50:50.193Z"
   },
   {
    "duration": 985,
    "start_time": "2023-08-14T15:50:56.271Z"
   },
   {
    "duration": 842,
    "start_time": "2023-08-14T15:51:02.097Z"
   },
   {
    "duration": 758,
    "start_time": "2023-08-14T15:51:37.972Z"
   },
   {
    "duration": 787,
    "start_time": "2023-08-14T15:51:42.430Z"
   },
   {
    "duration": 812,
    "start_time": "2023-08-14T15:51:46.602Z"
   },
   {
    "duration": 839,
    "start_time": "2023-08-14T15:51:57.978Z"
   },
   {
    "duration": 964,
    "start_time": "2023-08-14T15:52:07.377Z"
   },
   {
    "duration": 925,
    "start_time": "2023-08-14T15:53:24.375Z"
   },
   {
    "duration": 476,
    "start_time": "2023-08-14T15:54:06.968Z"
   },
   {
    "duration": 440,
    "start_time": "2023-08-14T15:54:14.882Z"
   },
   {
    "duration": 817,
    "start_time": "2023-08-14T15:54:23.321Z"
   },
   {
    "duration": 986,
    "start_time": "2023-08-14T15:54:28.191Z"
   },
   {
    "duration": 755,
    "start_time": "2023-08-14T15:54:32.596Z"
   },
   {
    "duration": 804,
    "start_time": "2023-08-14T15:54:37.600Z"
   },
   {
    "duration": 775,
    "start_time": "2023-08-14T15:54:42.367Z"
   },
   {
    "duration": 765,
    "start_time": "2023-08-14T15:54:47.072Z"
   },
   {
    "duration": 936,
    "start_time": "2023-08-14T15:54:52.644Z"
   },
   {
    "duration": 826,
    "start_time": "2023-08-14T15:55:00.018Z"
   },
   {
    "duration": 4,
    "start_time": "2023-08-14T15:58:15.482Z"
   },
   {
    "duration": 765,
    "start_time": "2023-08-14T15:59:52.563Z"
   },
   {
    "duration": 207,
    "start_time": "2023-08-14T16:00:27.735Z"
   },
   {
    "duration": 814,
    "start_time": "2023-08-14T16:01:02.711Z"
   },
   {
    "duration": 205,
    "start_time": "2023-08-14T16:02:33.830Z"
   },
   {
    "duration": 4,
    "start_time": "2023-08-14T16:02:38.501Z"
   },
   {
    "duration": 233,
    "start_time": "2023-08-14T16:02:39.073Z"
   },
   {
    "duration": 244,
    "start_time": "2023-08-14T16:04:11.257Z"
   },
   {
    "duration": 320,
    "start_time": "2023-08-14T16:05:29.710Z"
   },
   {
    "duration": 179,
    "start_time": "2023-08-14T16:06:07.665Z"
   },
   {
    "duration": 190,
    "start_time": "2023-08-14T16:06:21.173Z"
   },
   {
    "duration": 188,
    "start_time": "2023-08-14T16:07:05.226Z"
   },
   {
    "duration": 443,
    "start_time": "2023-08-14T16:09:00.900Z"
   },
   {
    "duration": 440,
    "start_time": "2023-08-14T16:11:34.795Z"
   },
   {
    "duration": 392,
    "start_time": "2023-08-14T16:11:42.767Z"
   },
   {
    "duration": 404,
    "start_time": "2023-08-14T16:12:00.574Z"
   },
   {
    "duration": 400,
    "start_time": "2023-08-14T16:12:05.184Z"
   },
   {
    "duration": 394,
    "start_time": "2023-08-14T16:13:02.809Z"
   },
   {
    "duration": 264,
    "start_time": "2023-08-14T16:13:21.154Z"
   },
   {
    "duration": 601,
    "start_time": "2023-08-14T16:13:27.666Z"
   },
   {
    "duration": 437,
    "start_time": "2023-08-14T16:13:37.428Z"
   },
   {
    "duration": 457,
    "start_time": "2023-08-14T16:13:51.395Z"
   },
   {
    "duration": 514,
    "start_time": "2023-08-14T16:14:02.235Z"
   },
   {
    "duration": 324,
    "start_time": "2023-08-14T16:16:19.036Z"
   },
   {
    "duration": 629,
    "start_time": "2023-08-14T16:16:40.353Z"
   },
   {
    "duration": 80,
    "start_time": "2023-08-14T16:22:10.582Z"
   },
   {
    "duration": 10,
    "start_time": "2023-08-14T16:23:40.185Z"
   },
   {
    "duration": 195,
    "start_time": "2023-08-14T16:23:48.590Z"
   },
   {
    "duration": 400,
    "start_time": "2023-08-14T16:24:02.128Z"
   },
   {
    "duration": 208,
    "start_time": "2023-08-14T16:25:03.195Z"
   },
   {
    "duration": 180,
    "start_time": "2023-08-14T16:25:39.398Z"
   },
   {
    "duration": 197,
    "start_time": "2023-08-14T16:26:04.880Z"
   },
   {
    "duration": 10,
    "start_time": "2023-08-14T16:28:24.749Z"
   },
   {
    "duration": 4,
    "start_time": "2023-08-14T16:28:37.292Z"
   },
   {
    "duration": 3,
    "start_time": "2023-08-14T16:28:37.981Z"
   },
   {
    "duration": 221,
    "start_time": "2023-08-14T16:28:39.103Z"
   },
   {
    "duration": 200,
    "start_time": "2023-08-14T16:30:09.270Z"
   },
   {
    "duration": 194,
    "start_time": "2023-08-14T16:30:35.900Z"
   },
   {
    "duration": 196,
    "start_time": "2023-08-14T16:30:41.253Z"
   },
   {
    "duration": 165,
    "start_time": "2023-08-14T16:31:06.715Z"
   },
   {
    "duration": 395,
    "start_time": "2023-08-14T16:31:58.684Z"
   },
   {
    "duration": 208,
    "start_time": "2023-08-14T16:32:56.555Z"
   },
   {
    "duration": 206,
    "start_time": "2023-08-14T16:33:11.859Z"
   },
   {
    "duration": 191,
    "start_time": "2023-08-14T16:33:16.615Z"
   },
   {
    "duration": 181,
    "start_time": "2023-08-14T16:33:31.152Z"
   },
   {
    "duration": 193,
    "start_time": "2023-08-14T16:33:56.915Z"
   },
   {
    "duration": 207,
    "start_time": "2023-08-14T16:33:57.942Z"
   },
   {
    "duration": 195,
    "start_time": "2023-08-14T16:33:58.718Z"
   },
   {
    "duration": 219,
    "start_time": "2023-08-14T16:34:53.051Z"
   },
   {
    "duration": 1516,
    "start_time": "2023-08-15T08:45:31.021Z"
   },
   {
    "duration": 206,
    "start_time": "2023-08-15T08:45:32.539Z"
   },
   {
    "duration": 22,
    "start_time": "2023-08-15T08:45:32.747Z"
   },
   {
    "duration": 62,
    "start_time": "2023-08-15T08:45:32.771Z"
   },
   {
    "duration": 18,
    "start_time": "2023-08-15T08:45:32.836Z"
   },
   {
    "duration": 16,
    "start_time": "2023-08-15T08:45:32.856Z"
   },
   {
    "duration": 37,
    "start_time": "2023-08-15T08:45:32.874Z"
   },
   {
    "duration": 12,
    "start_time": "2023-08-15T08:45:32.913Z"
   },
   {
    "duration": 29,
    "start_time": "2023-08-15T08:45:32.927Z"
   },
   {
    "duration": 26,
    "start_time": "2023-08-15T08:45:32.957Z"
   },
   {
    "duration": 36,
    "start_time": "2023-08-15T08:45:32.985Z"
   },
   {
    "duration": 19,
    "start_time": "2023-08-15T08:45:33.023Z"
   },
   {
    "duration": 47,
    "start_time": "2023-08-15T08:45:33.044Z"
   },
   {
    "duration": 11,
    "start_time": "2023-08-15T08:45:33.095Z"
   },
   {
    "duration": 30,
    "start_time": "2023-08-15T08:45:33.107Z"
   },
   {
    "duration": 408,
    "start_time": "2023-08-15T08:45:33.139Z"
   },
   {
    "duration": 13,
    "start_time": "2023-08-15T08:45:33.555Z"
   },
   {
    "duration": 320,
    "start_time": "2023-08-15T08:45:33.570Z"
   },
   {
    "duration": 16,
    "start_time": "2023-08-15T08:45:33.892Z"
   },
   {
    "duration": 250,
    "start_time": "2023-08-15T08:45:33.910Z"
   },
   {
    "duration": 7,
    "start_time": "2023-08-15T08:45:34.162Z"
   },
   {
    "duration": 41,
    "start_time": "2023-08-15T08:45:34.171Z"
   },
   {
    "duration": 190,
    "start_time": "2023-08-15T08:45:34.214Z"
   },
   {
    "duration": 379,
    "start_time": "2023-08-15T08:45:34.406Z"
   },
   {
    "duration": 24,
    "start_time": "2023-08-15T08:45:34.787Z"
   },
   {
    "duration": 892,
    "start_time": "2023-08-15T08:45:34.816Z"
   },
   {
    "duration": 194,
    "start_time": "2023-08-15T08:45:35.710Z"
   },
   {
    "duration": 15,
    "start_time": "2023-08-15T08:45:35.906Z"
   },
   {
    "duration": 818,
    "start_time": "2023-08-15T08:45:35.923Z"
   },
   {
    "duration": 534,
    "start_time": "2023-08-15T08:45:36.742Z"
   },
   {
    "duration": 553,
    "start_time": "2023-08-15T08:45:37.278Z"
   },
   {
    "duration": 209,
    "start_time": "2023-08-15T08:45:37.833Z"
   },
   {
    "duration": 3,
    "start_time": "2023-08-15T08:45:38.044Z"
   },
   {
    "duration": 12,
    "start_time": "2023-08-15T08:45:38.049Z"
   },
   {
    "duration": 338,
    "start_time": "2023-08-15T08:45:38.063Z"
   },
   {
    "duration": 234,
    "start_time": "2023-08-15T08:45:38.403Z"
   },
   {
    "duration": 201,
    "start_time": "2023-08-15T08:45:38.639Z"
   },
   {
    "duration": 282,
    "start_time": "2023-08-15T08:45:38.842Z"
   },
   {
    "duration": 235,
    "start_time": "2023-08-15T08:45:39.126Z"
   },
   {
    "duration": 193,
    "start_time": "2023-08-15T08:45:39.363Z"
   },
   {
    "duration": 223,
    "start_time": "2023-08-15T08:45:39.560Z"
   },
   {
    "duration": 232,
    "start_time": "2023-08-15T08:45:39.785Z"
   },
   {
    "duration": 204,
    "start_time": "2023-08-15T08:45:40.020Z"
   },
   {
    "duration": 116,
    "start_time": "2023-08-15T08:45:40.226Z"
   },
   {
    "duration": 0,
    "start_time": "2023-08-15T08:45:40.344Z"
   },
   {
    "duration": 1235,
    "start_time": "2023-08-15T08:46:09.665Z"
   },
   {
    "duration": 72,
    "start_time": "2023-08-15T08:46:10.903Z"
   },
   {
    "duration": 35,
    "start_time": "2023-08-15T08:46:10.977Z"
   },
   {
    "duration": 21,
    "start_time": "2023-08-15T08:46:11.014Z"
   },
   {
    "duration": 7,
    "start_time": "2023-08-15T08:46:11.058Z"
   },
   {
    "duration": 24,
    "start_time": "2023-08-15T08:46:11.068Z"
   },
   {
    "duration": 19,
    "start_time": "2023-08-15T08:46:11.094Z"
   },
   {
    "duration": 7,
    "start_time": "2023-08-15T08:46:11.115Z"
   },
   {
    "duration": 33,
    "start_time": "2023-08-15T08:46:11.125Z"
   },
   {
    "duration": 11,
    "start_time": "2023-08-15T08:46:11.160Z"
   },
   {
    "duration": 21,
    "start_time": "2023-08-15T08:46:11.172Z"
   },
   {
    "duration": 21,
    "start_time": "2023-08-15T08:46:11.195Z"
   },
   {
    "duration": 50,
    "start_time": "2023-08-15T08:46:11.218Z"
   },
   {
    "duration": 9,
    "start_time": "2023-08-15T08:46:11.273Z"
   },
   {
    "duration": 21,
    "start_time": "2023-08-15T08:46:11.284Z"
   },
   {
    "duration": 393,
    "start_time": "2023-08-15T08:46:11.308Z"
   },
   {
    "duration": 16,
    "start_time": "2023-08-15T08:46:11.703Z"
   },
   {
    "duration": 326,
    "start_time": "2023-08-15T08:46:11.721Z"
   },
   {
    "duration": 19,
    "start_time": "2023-08-15T08:46:12.056Z"
   },
   {
    "duration": 283,
    "start_time": "2023-08-15T08:46:12.077Z"
   },
   {
    "duration": 6,
    "start_time": "2023-08-15T08:46:12.362Z"
   },
   {
    "duration": 39,
    "start_time": "2023-08-15T08:46:12.370Z"
   },
   {
    "duration": 206,
    "start_time": "2023-08-15T08:46:12.415Z"
   },
   {
    "duration": 378,
    "start_time": "2023-08-15T08:46:12.623Z"
   },
   {
    "duration": 25,
    "start_time": "2023-08-15T08:46:13.004Z"
   },
   {
    "duration": 880,
    "start_time": "2023-08-15T08:46:13.031Z"
   },
   {
    "duration": 237,
    "start_time": "2023-08-15T08:46:13.913Z"
   },
   {
    "duration": 15,
    "start_time": "2023-08-15T08:46:14.156Z"
   },
   {
    "duration": 896,
    "start_time": "2023-08-15T08:46:14.174Z"
   },
   {
    "duration": 640,
    "start_time": "2023-08-15T08:46:15.072Z"
   },
   {
    "duration": 567,
    "start_time": "2023-08-15T08:46:15.714Z"
   },
   {
    "duration": 276,
    "start_time": "2023-08-15T08:46:16.283Z"
   },
   {
    "duration": 4,
    "start_time": "2023-08-15T08:46:16.561Z"
   },
   {
    "duration": 10,
    "start_time": "2023-08-15T08:46:16.567Z"
   },
   {
    "duration": 371,
    "start_time": "2023-08-15T08:46:16.579Z"
   },
   {
    "duration": 247,
    "start_time": "2023-08-15T08:46:16.956Z"
   },
   {
    "duration": 210,
    "start_time": "2023-08-15T08:46:17.206Z"
   },
   {
    "duration": 270,
    "start_time": "2023-08-15T08:46:17.418Z"
   },
   {
    "duration": 229,
    "start_time": "2023-08-15T08:46:17.690Z"
   },
   {
    "duration": 196,
    "start_time": "2023-08-15T08:46:17.921Z"
   },
   {
    "duration": 228,
    "start_time": "2023-08-15T08:46:18.122Z"
   },
   {
    "duration": 262,
    "start_time": "2023-08-15T08:46:18.352Z"
   },
   {
    "duration": 201,
    "start_time": "2023-08-15T08:46:18.616Z"
   },
   {
    "duration": 124,
    "start_time": "2023-08-15T08:46:18.819Z"
   },
   {
    "duration": 0,
    "start_time": "2023-08-15T08:46:18.945Z"
   },
   {
    "duration": 1350,
    "start_time": "2023-08-15T10:05:17.649Z"
   },
   {
    "duration": 113,
    "start_time": "2023-08-15T10:05:19.002Z"
   },
   {
    "duration": 27,
    "start_time": "2023-08-15T10:05:19.117Z"
   },
   {
    "duration": 13,
    "start_time": "2023-08-15T10:05:19.146Z"
   },
   {
    "duration": 19,
    "start_time": "2023-08-15T10:05:19.160Z"
   },
   {
    "duration": 39,
    "start_time": "2023-08-15T10:05:19.180Z"
   },
   {
    "duration": 31,
    "start_time": "2023-08-15T10:05:19.220Z"
   },
   {
    "duration": 12,
    "start_time": "2023-08-15T10:05:19.253Z"
   },
   {
    "duration": 17,
    "start_time": "2023-08-15T10:05:19.266Z"
   },
   {
    "duration": 26,
    "start_time": "2023-08-15T10:05:19.285Z"
   },
   {
    "duration": 22,
    "start_time": "2023-08-15T10:05:19.314Z"
   },
   {
    "duration": 30,
    "start_time": "2023-08-15T10:05:19.337Z"
   },
   {
    "duration": 28,
    "start_time": "2023-08-15T10:05:19.369Z"
   },
   {
    "duration": 6,
    "start_time": "2023-08-15T10:05:19.399Z"
   },
   {
    "duration": 35,
    "start_time": "2023-08-15T10:05:19.407Z"
   },
   {
    "duration": 322,
    "start_time": "2023-08-15T10:05:19.443Z"
   },
   {
    "duration": 10,
    "start_time": "2023-08-15T10:05:19.766Z"
   },
   {
    "duration": 276,
    "start_time": "2023-08-15T10:05:19.777Z"
   },
   {
    "duration": 14,
    "start_time": "2023-08-15T10:05:20.054Z"
   },
   {
    "duration": 219,
    "start_time": "2023-08-15T10:05:20.069Z"
   },
   {
    "duration": 16,
    "start_time": "2023-08-15T10:05:20.291Z"
   },
   {
    "duration": 39,
    "start_time": "2023-08-15T10:05:20.309Z"
   },
   {
    "duration": 192,
    "start_time": "2023-08-15T10:05:20.350Z"
   },
   {
    "duration": 302,
    "start_time": "2023-08-15T10:05:20.544Z"
   },
   {
    "duration": 18,
    "start_time": "2023-08-15T10:05:20.847Z"
   },
   {
    "duration": 744,
    "start_time": "2023-08-15T10:05:20.866Z"
   },
   {
    "duration": 157,
    "start_time": "2023-08-15T10:05:21.612Z"
   },
   {
    "duration": 10,
    "start_time": "2023-08-15T10:05:21.772Z"
   },
   {
    "duration": 710,
    "start_time": "2023-08-15T10:05:21.783Z"
   },
   {
    "duration": 437,
    "start_time": "2023-08-15T10:05:22.495Z"
   },
   {
    "duration": 453,
    "start_time": "2023-08-15T10:05:22.933Z"
   },
   {
    "duration": 190,
    "start_time": "2023-08-15T10:05:23.387Z"
   },
   {
    "duration": 2,
    "start_time": "2023-08-15T10:05:23.579Z"
   },
   {
    "duration": 12,
    "start_time": "2023-08-15T10:05:23.583Z"
   },
   {
    "duration": 255,
    "start_time": "2023-08-15T10:05:23.596Z"
   },
   {
    "duration": 186,
    "start_time": "2023-08-15T10:05:23.853Z"
   },
   {
    "duration": 159,
    "start_time": "2023-08-15T10:05:24.040Z"
   },
   {
    "duration": 176,
    "start_time": "2023-08-15T10:05:24.201Z"
   },
   {
    "duration": 182,
    "start_time": "2023-08-15T10:05:24.379Z"
   },
   {
    "duration": 160,
    "start_time": "2023-08-15T10:05:24.562Z"
   },
   {
    "duration": 184,
    "start_time": "2023-08-15T10:05:24.723Z"
   },
   {
    "duration": 168,
    "start_time": "2023-08-15T10:05:24.912Z"
   },
   {
    "duration": 171,
    "start_time": "2023-08-15T10:05:25.081Z"
   },
   {
    "duration": 115,
    "start_time": "2023-08-15T10:05:25.254Z"
   },
   {
    "duration": 0,
    "start_time": "2023-08-15T10:05:25.371Z"
   },
   {
    "duration": 1661,
    "start_time": "2023-08-15T16:26:52.606Z"
   },
   {
    "duration": 134,
    "start_time": "2023-08-15T16:26:54.270Z"
   },
   {
    "duration": 26,
    "start_time": "2023-08-15T16:26:54.406Z"
   },
   {
    "duration": 22,
    "start_time": "2023-08-15T16:26:54.435Z"
   },
   {
    "duration": 6,
    "start_time": "2023-08-15T16:26:54.459Z"
   },
   {
    "duration": 33,
    "start_time": "2023-08-15T16:26:54.467Z"
   },
   {
    "duration": 23,
    "start_time": "2023-08-15T16:26:54.502Z"
   },
   {
    "duration": 7,
    "start_time": "2023-08-15T16:26:54.528Z"
   },
   {
    "duration": 11,
    "start_time": "2023-08-15T16:26:54.536Z"
   },
   {
    "duration": 13,
    "start_time": "2023-08-15T16:26:54.552Z"
   },
   {
    "duration": 53,
    "start_time": "2023-08-15T16:26:54.567Z"
   },
   {
    "duration": 33,
    "start_time": "2023-08-15T16:26:54.623Z"
   },
   {
    "duration": 40,
    "start_time": "2023-08-15T16:26:54.659Z"
   },
   {
    "duration": 14,
    "start_time": "2023-08-15T16:26:54.703Z"
   },
   {
    "duration": 18,
    "start_time": "2023-08-15T16:26:54.721Z"
   },
   {
    "duration": 448,
    "start_time": "2023-08-15T16:26:54.742Z"
   },
   {
    "duration": 22,
    "start_time": "2023-08-15T16:26:55.192Z"
   },
   {
    "duration": 389,
    "start_time": "2023-08-15T16:26:55.215Z"
   },
   {
    "duration": 21,
    "start_time": "2023-08-15T16:26:55.606Z"
   },
   {
    "duration": 304,
    "start_time": "2023-08-15T16:26:55.629Z"
   },
   {
    "duration": 7,
    "start_time": "2023-08-15T16:26:55.935Z"
   },
   {
    "duration": 17,
    "start_time": "2023-08-15T16:26:55.943Z"
   },
   {
    "duration": 199,
    "start_time": "2023-08-15T16:26:55.963Z"
   },
   {
    "duration": 420,
    "start_time": "2023-08-15T16:26:56.165Z"
   },
   {
    "duration": 36,
    "start_time": "2023-08-15T16:26:56.587Z"
   },
   {
    "duration": 942,
    "start_time": "2023-08-15T16:26:56.625Z"
   },
   {
    "duration": 261,
    "start_time": "2023-08-15T16:26:57.569Z"
   },
   {
    "duration": 16,
    "start_time": "2023-08-15T16:26:57.834Z"
   },
   {
    "duration": 931,
    "start_time": "2023-08-15T16:26:57.852Z"
   },
   {
    "duration": 549,
    "start_time": "2023-08-15T16:26:58.785Z"
   },
   {
    "duration": 515,
    "start_time": "2023-08-15T16:26:59.336Z"
   },
   {
    "duration": 214,
    "start_time": "2023-08-15T16:26:59.853Z"
   },
   {
    "duration": 4,
    "start_time": "2023-08-15T16:27:00.069Z"
   },
   {
    "duration": 126,
    "start_time": "2023-08-15T16:27:00.074Z"
   },
   {
    "duration": 426,
    "start_time": "2023-08-15T16:27:00.203Z"
   },
   {
    "duration": 243,
    "start_time": "2023-08-15T16:27:00.632Z"
   },
   {
    "duration": 202,
    "start_time": "2023-08-15T16:27:00.877Z"
   },
   {
    "duration": 263,
    "start_time": "2023-08-15T16:27:01.081Z"
   },
   {
    "duration": 239,
    "start_time": "2023-08-15T16:27:01.345Z"
   },
   {
    "duration": 213,
    "start_time": "2023-08-15T16:27:01.586Z"
   },
   {
    "duration": 232,
    "start_time": "2023-08-15T16:27:01.801Z"
   },
   {
    "duration": 239,
    "start_time": "2023-08-15T16:27:02.034Z"
   },
   {
    "duration": 229,
    "start_time": "2023-08-15T16:27:02.275Z"
   },
   {
    "duration": 198,
    "start_time": "2023-08-15T16:27:02.508Z"
   },
   {
    "duration": 0,
    "start_time": "2023-08-15T16:27:02.709Z"
   },
   {
    "duration": 14,
    "start_time": "2023-08-15T16:32:44.506Z"
   },
   {
    "duration": 13,
    "start_time": "2023-08-15T16:32:50.523Z"
   },
   {
    "duration": 9,
    "start_time": "2023-08-15T16:32:55.468Z"
   },
   {
    "duration": 23,
    "start_time": "2023-08-15T16:33:01.066Z"
   },
   {
    "duration": 8,
    "start_time": "2023-08-15T16:34:24.644Z"
   },
   {
    "duration": 33,
    "start_time": "2023-08-15T16:34:26.268Z"
   },
   {
    "duration": 11,
    "start_time": "2023-08-15T16:34:37.080Z"
   },
   {
    "duration": 32,
    "start_time": "2023-08-15T16:34:41.479Z"
   },
   {
    "duration": 10,
    "start_time": "2023-08-15T16:34:42.529Z"
   },
   {
    "duration": 17,
    "start_time": "2023-08-15T16:35:02.695Z"
   },
   {
    "duration": 15,
    "start_time": "2023-08-15T16:35:03.226Z"
   },
   {
    "duration": 21,
    "start_time": "2023-08-15T16:35:33.409Z"
   },
   {
    "duration": 588,
    "start_time": "2023-08-15T16:42:17.775Z"
   },
   {
    "duration": 618,
    "start_time": "2023-08-15T16:42:23.931Z"
   },
   {
    "duration": 15,
    "start_time": "2023-08-15T16:43:27.791Z"
   },
   {
    "duration": 1256,
    "start_time": "2023-08-15T16:44:28.988Z"
   },
   {
    "duration": 65,
    "start_time": "2023-08-15T16:44:30.249Z"
   },
   {
    "duration": 26,
    "start_time": "2023-08-15T16:44:30.316Z"
   },
   {
    "duration": 17,
    "start_time": "2023-08-15T16:44:30.345Z"
   },
   {
    "duration": 10,
    "start_time": "2023-08-15T16:44:30.364Z"
   },
   {
    "duration": 48,
    "start_time": "2023-08-15T16:44:30.376Z"
   },
   {
    "duration": 35,
    "start_time": "2023-08-15T16:44:30.426Z"
   },
   {
    "duration": 22,
    "start_time": "2023-08-15T16:44:30.462Z"
   },
   {
    "duration": 49,
    "start_time": "2023-08-15T16:44:30.485Z"
   },
   {
    "duration": 76,
    "start_time": "2023-08-15T16:44:30.535Z"
   },
   {
    "duration": 31,
    "start_time": "2023-08-15T16:44:30.614Z"
   },
   {
    "duration": 35,
    "start_time": "2023-08-15T16:44:30.647Z"
   },
   {
    "duration": 27,
    "start_time": "2023-08-15T16:44:30.685Z"
   },
   {
    "duration": 15,
    "start_time": "2023-08-15T16:44:30.715Z"
   },
   {
    "duration": 45,
    "start_time": "2023-08-15T16:44:30.732Z"
   },
   {
    "duration": 44,
    "start_time": "2023-08-15T16:44:30.779Z"
   },
   {
    "duration": 365,
    "start_time": "2023-08-15T16:44:30.825Z"
   },
   {
    "duration": 14,
    "start_time": "2023-08-15T16:44:31.192Z"
   },
   {
    "duration": 322,
    "start_time": "2023-08-15T16:44:31.207Z"
   },
   {
    "duration": 15,
    "start_time": "2023-08-15T16:44:31.531Z"
   },
   {
    "duration": 265,
    "start_time": "2023-08-15T16:44:31.547Z"
   },
   {
    "duration": 9,
    "start_time": "2023-08-15T16:44:31.815Z"
   },
   {
    "duration": 130,
    "start_time": "2023-08-15T16:44:31.825Z"
   },
   {
    "duration": 214,
    "start_time": "2023-08-15T16:44:31.956Z"
   },
   {
    "duration": 391,
    "start_time": "2023-08-15T16:44:32.172Z"
   },
   {
    "duration": 22,
    "start_time": "2023-08-15T16:44:32.565Z"
   },
   {
    "duration": 795,
    "start_time": "2023-08-15T16:44:32.589Z"
   },
   {
    "duration": 186,
    "start_time": "2023-08-15T16:44:33.385Z"
   },
   {
    "duration": 12,
    "start_time": "2023-08-15T16:44:33.572Z"
   },
   {
    "duration": 796,
    "start_time": "2023-08-15T16:44:33.598Z"
   },
   {
    "duration": 526,
    "start_time": "2023-08-15T16:44:34.396Z"
   },
   {
    "duration": 533,
    "start_time": "2023-08-15T16:44:34.924Z"
   },
   {
    "duration": 224,
    "start_time": "2023-08-15T16:44:35.458Z"
   },
   {
    "duration": 3,
    "start_time": "2023-08-15T16:44:35.684Z"
   },
   {
    "duration": 9,
    "start_time": "2023-08-15T16:44:35.689Z"
   },
   {
    "duration": 347,
    "start_time": "2023-08-15T16:44:35.700Z"
   },
   {
    "duration": 231,
    "start_time": "2023-08-15T16:44:36.049Z"
   },
   {
    "duration": 210,
    "start_time": "2023-08-15T16:44:36.282Z"
   },
   {
    "duration": 238,
    "start_time": "2023-08-15T16:44:36.494Z"
   },
   {
    "duration": 249,
    "start_time": "2023-08-15T16:44:36.738Z"
   },
   {
    "duration": 192,
    "start_time": "2023-08-15T16:44:36.989Z"
   },
   {
    "duration": 239,
    "start_time": "2023-08-15T16:44:37.183Z"
   },
   {
    "duration": 236,
    "start_time": "2023-08-15T16:44:37.424Z"
   },
   {
    "duration": 203,
    "start_time": "2023-08-15T16:44:37.661Z"
   },
   {
    "duration": 12,
    "start_time": "2023-08-15T16:44:37.866Z"
   },
   {
    "duration": 32,
    "start_time": "2023-08-15T16:44:37.880Z"
   },
   {
    "duration": 517,
    "start_time": "2023-08-15T16:46:59.521Z"
   },
   {
    "duration": 1274,
    "start_time": "2023-08-15T16:48:10.167Z"
   },
   {
    "duration": 58,
    "start_time": "2023-08-15T16:48:11.443Z"
   },
   {
    "duration": 25,
    "start_time": "2023-08-15T16:48:11.505Z"
   },
   {
    "duration": 15,
    "start_time": "2023-08-15T16:48:11.532Z"
   },
   {
    "duration": 5,
    "start_time": "2023-08-15T16:48:11.548Z"
   },
   {
    "duration": 15,
    "start_time": "2023-08-15T16:48:11.555Z"
   },
   {
    "duration": 38,
    "start_time": "2023-08-15T16:48:11.572Z"
   },
   {
    "duration": 6,
    "start_time": "2023-08-15T16:48:11.612Z"
   },
   {
    "duration": 7,
    "start_time": "2023-08-15T16:48:11.620Z"
   },
   {
    "duration": 12,
    "start_time": "2023-08-15T16:48:11.629Z"
   },
   {
    "duration": 20,
    "start_time": "2023-08-15T16:48:11.642Z"
   },
   {
    "duration": 52,
    "start_time": "2023-08-15T16:48:11.664Z"
   },
   {
    "duration": 14,
    "start_time": "2023-08-15T16:48:11.719Z"
   },
   {
    "duration": 9,
    "start_time": "2023-08-15T16:48:11.735Z"
   },
   {
    "duration": 15,
    "start_time": "2023-08-15T16:48:11.745Z"
   },
   {
    "duration": 37,
    "start_time": "2023-08-15T16:48:11.762Z"
   },
   {
    "duration": 406,
    "start_time": "2023-08-15T16:48:11.801Z"
   },
   {
    "duration": 16,
    "start_time": "2023-08-15T16:48:12.208Z"
   },
   {
    "duration": 359,
    "start_time": "2023-08-15T16:48:12.225Z"
   },
   {
    "duration": 23,
    "start_time": "2023-08-15T16:48:12.586Z"
   },
   {
    "duration": 252,
    "start_time": "2023-08-15T16:48:12.611Z"
   },
   {
    "duration": 6,
    "start_time": "2023-08-15T16:48:12.865Z"
   },
   {
    "duration": 28,
    "start_time": "2023-08-15T16:48:12.873Z"
   },
   {
    "duration": 206,
    "start_time": "2023-08-15T16:48:12.903Z"
   },
   {
    "duration": 348,
    "start_time": "2023-08-15T16:48:13.111Z"
   },
   {
    "duration": 20,
    "start_time": "2023-08-15T16:48:13.461Z"
   },
   {
    "duration": 752,
    "start_time": "2023-08-15T16:48:13.483Z"
   },
   {
    "duration": 199,
    "start_time": "2023-08-15T16:48:14.239Z"
   },
   {
    "duration": 12,
    "start_time": "2023-08-15T16:48:14.440Z"
   },
   {
    "duration": 835,
    "start_time": "2023-08-15T16:48:14.453Z"
   },
   {
    "duration": 544,
    "start_time": "2023-08-15T16:48:15.289Z"
   },
   {
    "duration": 540,
    "start_time": "2023-08-15T16:48:15.835Z"
   },
   {
    "duration": 217,
    "start_time": "2023-08-15T16:48:16.378Z"
   },
   {
    "duration": 4,
    "start_time": "2023-08-15T16:48:16.596Z"
   },
   {
    "duration": 14,
    "start_time": "2023-08-15T16:48:16.602Z"
   },
   {
    "duration": 353,
    "start_time": "2023-08-15T16:48:16.618Z"
   },
   {
    "duration": 245,
    "start_time": "2023-08-15T16:48:16.973Z"
   },
   {
    "duration": 194,
    "start_time": "2023-08-15T16:48:17.220Z"
   },
   {
    "duration": 217,
    "start_time": "2023-08-15T16:48:17.416Z"
   },
   {
    "duration": 213,
    "start_time": "2023-08-15T16:48:17.634Z"
   },
   {
    "duration": 199,
    "start_time": "2023-08-15T16:48:17.848Z"
   },
   {
    "duration": 225,
    "start_time": "2023-08-15T16:48:18.049Z"
   },
   {
    "duration": 251,
    "start_time": "2023-08-15T16:48:18.276Z"
   },
   {
    "duration": 216,
    "start_time": "2023-08-15T16:48:18.528Z"
   },
   {
    "duration": 12,
    "start_time": "2023-08-15T16:48:18.746Z"
   },
   {
    "duration": 32,
    "start_time": "2023-08-15T16:48:18.759Z"
   },
   {
    "duration": 1369,
    "start_time": "2023-08-16T12:42:33.731Z"
   },
   {
    "duration": 100,
    "start_time": "2023-08-16T12:42:35.102Z"
   },
   {
    "duration": 21,
    "start_time": "2023-08-16T12:42:35.204Z"
   },
   {
    "duration": 18,
    "start_time": "2023-08-16T12:42:35.226Z"
   },
   {
    "duration": 50,
    "start_time": "2023-08-16T12:42:35.247Z"
   },
   {
    "duration": 21,
    "start_time": "2023-08-16T12:42:35.298Z"
   },
   {
    "duration": 41,
    "start_time": "2023-08-16T12:42:35.321Z"
   },
   {
    "duration": 30,
    "start_time": "2023-08-16T12:42:35.364Z"
   },
   {
    "duration": 9,
    "start_time": "2023-08-16T12:42:35.396Z"
   },
   {
    "duration": 29,
    "start_time": "2023-08-16T12:42:35.407Z"
   },
   {
    "duration": 42,
    "start_time": "2023-08-16T12:42:35.438Z"
   },
   {
    "duration": 179,
    "start_time": "2023-08-16T12:42:35.481Z"
   },
   {
    "duration": 22,
    "start_time": "2023-08-16T12:42:35.663Z"
   },
   {
    "duration": 11,
    "start_time": "2023-08-16T12:42:35.690Z"
   },
   {
    "duration": 22,
    "start_time": "2023-08-16T12:42:35.703Z"
   },
   {
    "duration": 43,
    "start_time": "2023-08-16T12:42:35.727Z"
   },
   {
    "duration": 347,
    "start_time": "2023-08-16T12:42:35.772Z"
   },
   {
    "duration": 12,
    "start_time": "2023-08-16T12:42:36.120Z"
   },
   {
    "duration": 308,
    "start_time": "2023-08-16T12:42:36.134Z"
   },
   {
    "duration": 21,
    "start_time": "2023-08-16T12:42:36.444Z"
   },
   {
    "duration": 246,
    "start_time": "2023-08-16T12:42:36.467Z"
   },
   {
    "duration": 6,
    "start_time": "2023-08-16T12:42:36.715Z"
   },
   {
    "duration": 18,
    "start_time": "2023-08-16T12:42:36.722Z"
   },
   {
    "duration": 193,
    "start_time": "2023-08-16T12:42:36.742Z"
   },
   {
    "duration": 337,
    "start_time": "2023-08-16T12:42:36.937Z"
   },
   {
    "duration": 21,
    "start_time": "2023-08-16T12:42:37.276Z"
   },
   {
    "duration": 795,
    "start_time": "2023-08-16T12:42:37.298Z"
   },
   {
    "duration": 200,
    "start_time": "2023-08-16T12:42:38.094Z"
   },
   {
    "duration": 16,
    "start_time": "2023-08-16T12:42:38.296Z"
   },
   {
    "duration": 858,
    "start_time": "2023-08-16T12:42:38.314Z"
   },
   {
    "duration": 508,
    "start_time": "2023-08-16T12:42:39.174Z"
   },
   {
    "duration": 513,
    "start_time": "2023-08-16T12:42:39.685Z"
   },
   {
    "duration": 214,
    "start_time": "2023-08-16T12:42:40.200Z"
   },
   {
    "duration": 3,
    "start_time": "2023-08-16T12:42:40.416Z"
   },
   {
    "duration": 14,
    "start_time": "2023-08-16T12:42:40.422Z"
   },
   {
    "duration": 308,
    "start_time": "2023-08-16T12:42:40.438Z"
   },
   {
    "duration": 217,
    "start_time": "2023-08-16T12:42:40.748Z"
   },
   {
    "duration": 193,
    "start_time": "2023-08-16T12:42:40.966Z"
   },
   {
    "duration": 226,
    "start_time": "2023-08-16T12:42:41.161Z"
   },
   {
    "duration": 213,
    "start_time": "2023-08-16T12:42:41.389Z"
   },
   {
    "duration": 184,
    "start_time": "2023-08-16T12:42:41.606Z"
   },
   {
    "duration": 216,
    "start_time": "2023-08-16T12:42:41.791Z"
   },
   {
    "duration": 222,
    "start_time": "2023-08-16T12:42:42.009Z"
   },
   {
    "duration": 195,
    "start_time": "2023-08-16T12:42:42.234Z"
   },
   {
    "duration": 30,
    "start_time": "2023-08-16T12:42:42.431Z"
   },
   {
    "duration": 15,
    "start_time": "2023-08-16T12:42:42.463Z"
   },
   {
    "duration": 56,
    "start_time": "2023-10-30T15:15:13.586Z"
   },
   {
    "duration": 1318,
    "start_time": "2023-10-30T15:15:22.634Z"
   },
   {
    "duration": 105,
    "start_time": "2023-10-30T15:15:23.957Z"
   },
   {
    "duration": 21,
    "start_time": "2023-10-30T15:15:24.064Z"
   },
   {
    "duration": 16,
    "start_time": "2023-10-30T15:15:24.087Z"
   },
   {
    "duration": 6,
    "start_time": "2023-10-30T15:15:24.105Z"
   },
   {
    "duration": 16,
    "start_time": "2023-10-30T15:15:24.112Z"
   },
   {
    "duration": 40,
    "start_time": "2023-10-30T15:15:24.130Z"
   },
   {
    "duration": 6,
    "start_time": "2023-10-30T15:15:24.172Z"
   },
   {
    "duration": 37,
    "start_time": "2023-10-30T15:15:24.179Z"
   },
   {
    "duration": 23,
    "start_time": "2023-10-30T15:15:24.219Z"
   },
   {
    "duration": 32,
    "start_time": "2023-10-30T15:15:24.243Z"
   },
   {
    "duration": 21,
    "start_time": "2023-10-30T15:15:24.277Z"
   },
   {
    "duration": 35,
    "start_time": "2023-10-30T15:15:24.300Z"
   },
   {
    "duration": 16,
    "start_time": "2023-10-30T15:15:24.337Z"
   },
   {
    "duration": 19,
    "start_time": "2023-10-30T15:15:24.355Z"
   },
   {
    "duration": 14,
    "start_time": "2023-10-30T15:15:24.376Z"
   },
   {
    "duration": 405,
    "start_time": "2023-10-30T15:15:24.392Z"
   },
   {
    "duration": 12,
    "start_time": "2023-10-30T15:15:24.800Z"
   },
   {
    "duration": 646,
    "start_time": "2023-10-30T15:15:24.814Z"
   },
   {
    "duration": 29,
    "start_time": "2023-10-30T15:15:25.462Z"
   },
   {
    "duration": 771,
    "start_time": "2023-10-30T15:15:25.493Z"
   },
   {
    "duration": 6,
    "start_time": "2023-10-30T15:15:26.266Z"
   },
   {
    "duration": 21,
    "start_time": "2023-10-30T15:15:26.274Z"
   },
   {
    "duration": 466,
    "start_time": "2023-10-30T15:15:26.297Z"
   },
   {
    "duration": 783,
    "start_time": "2023-10-30T15:15:26.767Z"
   },
   {
    "duration": 25,
    "start_time": "2023-10-30T15:15:27.558Z"
   },
   {
    "duration": 300,
    "start_time": "2023-10-30T15:15:27.585Z"
   },
   {
    "duration": 0,
    "start_time": "2023-10-30T15:15:27.889Z"
   },
   {
    "duration": 0,
    "start_time": "2023-10-30T15:15:27.890Z"
   },
   {
    "duration": 0,
    "start_time": "2023-10-30T15:15:27.892Z"
   },
   {
    "duration": 0,
    "start_time": "2023-10-30T15:15:27.894Z"
   },
   {
    "duration": 0,
    "start_time": "2023-10-30T15:15:27.895Z"
   },
   {
    "duration": 0,
    "start_time": "2023-10-30T15:15:27.897Z"
   },
   {
    "duration": 0,
    "start_time": "2023-10-30T15:15:27.898Z"
   },
   {
    "duration": 0,
    "start_time": "2023-10-30T15:15:27.900Z"
   },
   {
    "duration": 0,
    "start_time": "2023-10-30T15:15:27.901Z"
   },
   {
    "duration": 0,
    "start_time": "2023-10-30T15:15:27.903Z"
   },
   {
    "duration": 0,
    "start_time": "2023-10-30T15:15:27.904Z"
   },
   {
    "duration": 0,
    "start_time": "2023-10-30T15:15:27.906Z"
   },
   {
    "duration": 0,
    "start_time": "2023-10-30T15:15:27.946Z"
   },
   {
    "duration": 0,
    "start_time": "2023-10-30T15:15:27.947Z"
   },
   {
    "duration": 0,
    "start_time": "2023-10-30T15:15:27.950Z"
   },
   {
    "duration": 0,
    "start_time": "2023-10-30T15:15:27.951Z"
   },
   {
    "duration": 0,
    "start_time": "2023-10-30T15:15:27.952Z"
   },
   {
    "duration": 0,
    "start_time": "2023-10-30T15:15:27.953Z"
   },
   {
    "duration": 0,
    "start_time": "2023-10-30T15:15:27.954Z"
   },
   {
    "duration": 1,
    "start_time": "2023-10-30T15:15:28.071Z"
   },
   {
    "duration": 142,
    "start_time": "2023-10-30T15:15:39.215Z"
   },
   {
    "duration": 245,
    "start_time": "2023-10-30T15:16:42.043Z"
   },
   {
    "duration": 838,
    "start_time": "2023-10-30T15:17:27.615Z"
   },
   {
    "duration": 984,
    "start_time": "2023-10-30T15:18:36.448Z"
   },
   {
    "duration": 1145,
    "start_time": "2023-10-30T15:19:28.630Z"
   },
   {
    "duration": 979,
    "start_time": "2023-10-30T15:19:40.683Z"
   },
   {
    "duration": 692,
    "start_time": "2023-10-30T15:20:38.617Z"
   },
   {
    "duration": 588,
    "start_time": "2023-10-30T15:21:41.847Z"
   },
   {
    "duration": 722,
    "start_time": "2023-10-30T15:22:40.268Z"
   },
   {
    "duration": 1374,
    "start_time": "2023-10-30T15:22:58.763Z"
   },
   {
    "duration": 61,
    "start_time": "2023-10-30T15:23:00.140Z"
   },
   {
    "duration": 40,
    "start_time": "2023-10-30T15:23:00.203Z"
   },
   {
    "duration": 41,
    "start_time": "2023-10-30T15:23:00.245Z"
   },
   {
    "duration": 33,
    "start_time": "2023-10-30T15:23:00.290Z"
   },
   {
    "duration": 47,
    "start_time": "2023-10-30T15:23:00.326Z"
   },
   {
    "duration": 56,
    "start_time": "2023-10-30T15:23:00.375Z"
   },
   {
    "duration": 30,
    "start_time": "2023-10-30T15:23:00.433Z"
   },
   {
    "duration": 19,
    "start_time": "2023-10-30T15:23:00.465Z"
   },
   {
    "duration": 31,
    "start_time": "2023-10-30T15:23:00.487Z"
   },
   {
    "duration": 68,
    "start_time": "2023-10-30T15:23:00.520Z"
   },
   {
    "duration": 87,
    "start_time": "2023-10-30T15:23:00.590Z"
   },
   {
    "duration": 24,
    "start_time": "2023-10-30T15:23:00.679Z"
   },
   {
    "duration": 49,
    "start_time": "2023-10-30T15:23:00.707Z"
   },
   {
    "duration": 49,
    "start_time": "2023-10-30T15:23:00.758Z"
   },
   {
    "duration": 32,
    "start_time": "2023-10-30T15:23:00.809Z"
   },
   {
    "duration": 445,
    "start_time": "2023-10-30T15:23:00.842Z"
   },
   {
    "duration": 12,
    "start_time": "2023-10-30T15:23:01.289Z"
   },
   {
    "duration": 379,
    "start_time": "2023-10-30T15:23:01.302Z"
   },
   {
    "duration": 16,
    "start_time": "2023-10-30T15:23:01.683Z"
   },
   {
    "duration": 337,
    "start_time": "2023-10-30T15:23:01.702Z"
   },
   {
    "duration": 20,
    "start_time": "2023-10-30T15:23:02.041Z"
   },
   {
    "duration": 127,
    "start_time": "2023-10-30T15:23:02.063Z"
   },
   {
    "duration": 249,
    "start_time": "2023-10-30T15:23:02.192Z"
   },
   {
    "duration": 386,
    "start_time": "2023-10-30T15:23:02.443Z"
   },
   {
    "duration": 27,
    "start_time": "2023-10-30T15:23:02.831Z"
   },
   {
    "duration": 960,
    "start_time": "2023-10-30T15:23:02.861Z"
   },
   {
    "duration": 222,
    "start_time": "2023-10-30T15:23:03.822Z"
   },
   {
    "duration": 28,
    "start_time": "2023-10-30T15:23:04.046Z"
   },
   {
    "duration": 953,
    "start_time": "2023-10-30T15:23:04.077Z"
   },
   {
    "duration": 627,
    "start_time": "2023-10-30T15:23:05.032Z"
   },
   {
    "duration": 626,
    "start_time": "2023-10-30T15:23:05.666Z"
   },
   {
    "duration": 242,
    "start_time": "2023-10-30T15:23:06.294Z"
   },
   {
    "duration": 4,
    "start_time": "2023-10-30T15:23:06.537Z"
   },
   {
    "duration": 17,
    "start_time": "2023-10-30T15:23:06.542Z"
   },
   {
    "duration": 373,
    "start_time": "2023-10-30T15:23:06.561Z"
   },
   {
    "duration": 285,
    "start_time": "2023-10-30T15:23:06.936Z"
   },
   {
    "duration": 208,
    "start_time": "2023-10-30T15:23:07.223Z"
   },
   {
    "duration": 248,
    "start_time": "2023-10-30T15:23:07.433Z"
   },
   {
    "duration": 253,
    "start_time": "2023-10-30T15:23:07.683Z"
   },
   {
    "duration": 219,
    "start_time": "2023-10-30T15:23:07.947Z"
   },
   {
    "duration": 249,
    "start_time": "2023-10-30T15:23:08.168Z"
   },
   {
    "duration": 259,
    "start_time": "2023-10-30T15:23:08.419Z"
   },
   {
    "duration": 221,
    "start_time": "2023-10-30T15:23:08.680Z"
   },
   {
    "duration": 13,
    "start_time": "2023-10-30T15:23:08.903Z"
   },
   {
    "duration": 25,
    "start_time": "2023-10-30T15:23:08.918Z"
   },
   {
    "duration": 209,
    "start_time": "2023-10-30T15:24:04.226Z"
   },
   {
    "duration": 176,
    "start_time": "2023-10-30T15:24:16.480Z"
   },
   {
    "duration": 215,
    "start_time": "2023-10-30T15:24:23.335Z"
   },
   {
    "duration": 263,
    "start_time": "2023-10-30T15:24:28.538Z"
   },
   {
    "duration": 225,
    "start_time": "2023-10-30T15:24:33.899Z"
   },
   {
    "duration": 197,
    "start_time": "2023-10-30T15:24:39.728Z"
   }
  ],
  "kernelspec": {
   "display_name": "Python 3 (ipykernel)",
   "language": "python",
   "name": "python3"
  },
  "language_info": {
   "codemirror_mode": {
    "name": "ipython",
    "version": 3
   },
   "file_extension": ".py",
   "mimetype": "text/x-python",
   "name": "python",
   "nbconvert_exporter": "python",
   "pygments_lexer": "ipython3",
   "version": "3.10.10"
  },
  "toc": {
   "base_numbering": 1,
   "nav_menu": {},
   "number_sections": true,
   "sideBar": true,
   "skip_h1_title": true,
   "title_cell": "Table of Contents",
   "title_sidebar": "Contents",
   "toc_cell": false,
   "toc_position": {
    "height": "calc(100% - 180px)",
    "left": "10px",
    "top": "150px",
    "width": "296.625px"
   },
   "toc_section_display": true,
   "toc_window_display": true
  }
 },
 "nbformat": 4,
 "nbformat_minor": 2
}
