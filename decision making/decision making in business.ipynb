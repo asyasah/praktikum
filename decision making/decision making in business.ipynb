{
 "cells": [
  {
   "cell_type": "markdown",
   "metadata": {},
   "source": [
    "# Проверка гипотез по увеличению выручки в интернет-магазине"
   ]
  },
  {
   "cell_type": "markdown",
   "metadata": {},
   "source": [
    "<h3> Бриф <a class=\"tocSkip\"></h2>"
   ]
  },
  {
   "cell_type": "markdown",
   "metadata": {},
   "source": [
    "Вы — аналитик крупного интернет-магазина. Вместе с отделом маркетинга вы подготовили список гипотез для увеличения выручки."
   ]
  },
  {
   "cell_type": "markdown",
   "metadata": {},
   "source": [
    "<h3> Цель исследования <a class=\"tocSkip\"></h2>"
   ]
  },
  {
   "cell_type": "markdown",
   "metadata": {},
   "source": [
    "Приоритизировать гипотезы, запустить A/B-тест и проанализировать его результаты. "
   ]
  },
  {
   "cell_type": "markdown",
   "metadata": {},
   "source": [
    "<h3> План работы <a class=\"tocSkip\"></h2>"
   ]
  },
  {
   "cell_type": "markdown",
   "metadata": {},
   "source": [
    "1. Обзор данных\n",
    "2. Приоритизация гипотез\n",
    "3. Анализ A/B-теста\n",
    "4. Анализ выбросов и всплесков\n",
    "5. Проверка статистической значимости\n",
    "6. Общий вывод"
   ]
  },
  {
   "cell_type": "markdown",
   "metadata": {},
   "source": [
    "### Обзор данных"
   ]
  },
  {
   "cell_type": "code",
   "execution_count": 1,
   "metadata": {},
   "outputs": [],
   "source": [
    "# загрузка библиотек\n",
    "import pandas as pd\n",
    "import matplotlib.pyplot as plt\n",
    "import numpy as np\n",
    "import scipy.stats as stats"
   ]
  },
  {
   "cell_type": "code",
   "execution_count": 2,
   "metadata": {},
   "outputs": [],
   "source": [
    "# чтение файлов\n",
    "hypothesis = pd.read_csv('hypothesis.csv')\n",
    "orders = pd.read_csv('orders.csv')\n",
    "visitors = pd.read_csv('visitors.csv')"
   ]
  },
  {
   "cell_type": "code",
   "execution_count": 3,
   "metadata": {},
   "outputs": [
    {
     "data": {
      "text/html": [
       "<div>\n",
       "<style scoped>\n",
       "    .dataframe tbody tr th:only-of-type {\n",
       "        vertical-align: middle;\n",
       "    }\n",
       "\n",
       "    .dataframe tbody tr th {\n",
       "        vertical-align: top;\n",
       "    }\n",
       "\n",
       "    .dataframe thead th {\n",
       "        text-align: right;\n",
       "    }\n",
       "</style>\n",
       "<table border=\"1\" class=\"dataframe\">\n",
       "  <thead>\n",
       "    <tr style=\"text-align: right;\">\n",
       "      <th></th>\n",
       "      <th>Hypothesis</th>\n",
       "      <th>Reach</th>\n",
       "      <th>Impact</th>\n",
       "      <th>Confidence</th>\n",
       "      <th>Efforts</th>\n",
       "    </tr>\n",
       "  </thead>\n",
       "  <tbody>\n",
       "    <tr>\n",
       "      <th>0</th>\n",
       "      <td>Добавить два новых канала привлечения трафика,...</td>\n",
       "      <td>3</td>\n",
       "      <td>10</td>\n",
       "      <td>8</td>\n",
       "      <td>6</td>\n",
       "    </tr>\n",
       "    <tr>\n",
       "      <th>1</th>\n",
       "      <td>Запустить собственную службу доставки, что сок...</td>\n",
       "      <td>2</td>\n",
       "      <td>5</td>\n",
       "      <td>4</td>\n",
       "      <td>10</td>\n",
       "    </tr>\n",
       "    <tr>\n",
       "      <th>2</th>\n",
       "      <td>Добавить блоки рекомендаций товаров на сайт ин...</td>\n",
       "      <td>8</td>\n",
       "      <td>3</td>\n",
       "      <td>7</td>\n",
       "      <td>3</td>\n",
       "    </tr>\n",
       "    <tr>\n",
       "      <th>3</th>\n",
       "      <td>Изменить структура категорий, что увеличит кон...</td>\n",
       "      <td>8</td>\n",
       "      <td>3</td>\n",
       "      <td>3</td>\n",
       "      <td>8</td>\n",
       "    </tr>\n",
       "    <tr>\n",
       "      <th>4</th>\n",
       "      <td>Изменить цвет фона главной страницы, чтобы уве...</td>\n",
       "      <td>3</td>\n",
       "      <td>1</td>\n",
       "      <td>1</td>\n",
       "      <td>1</td>\n",
       "    </tr>\n",
       "  </tbody>\n",
       "</table>\n",
       "</div>"
      ],
      "text/plain": [
       "                                          Hypothesis  Reach  Impact  \\\n",
       "0  Добавить два новых канала привлечения трафика,...      3      10   \n",
       "1  Запустить собственную службу доставки, что сок...      2       5   \n",
       "2  Добавить блоки рекомендаций товаров на сайт ин...      8       3   \n",
       "3  Изменить структура категорий, что увеличит кон...      8       3   \n",
       "4  Изменить цвет фона главной страницы, чтобы уве...      3       1   \n",
       "\n",
       "   Confidence  Efforts  \n",
       "0           8        6  \n",
       "1           4       10  \n",
       "2           7        3  \n",
       "3           3        8  \n",
       "4           1        1  "
      ]
     },
     "metadata": {},
     "output_type": "display_data"
    },
    {
     "data": {
      "text/html": [
       "<div>\n",
       "<style scoped>\n",
       "    .dataframe tbody tr th:only-of-type {\n",
       "        vertical-align: middle;\n",
       "    }\n",
       "\n",
       "    .dataframe tbody tr th {\n",
       "        vertical-align: top;\n",
       "    }\n",
       "\n",
       "    .dataframe thead th {\n",
       "        text-align: right;\n",
       "    }\n",
       "</style>\n",
       "<table border=\"1\" class=\"dataframe\">\n",
       "  <thead>\n",
       "    <tr style=\"text-align: right;\">\n",
       "      <th></th>\n",
       "      <th>transactionId</th>\n",
       "      <th>visitorId</th>\n",
       "      <th>date</th>\n",
       "      <th>revenue</th>\n",
       "      <th>group</th>\n",
       "    </tr>\n",
       "  </thead>\n",
       "  <tbody>\n",
       "    <tr>\n",
       "      <th>0</th>\n",
       "      <td>3667963787</td>\n",
       "      <td>3312258926</td>\n",
       "      <td>2019-08-15</td>\n",
       "      <td>1650</td>\n",
       "      <td>B</td>\n",
       "    </tr>\n",
       "    <tr>\n",
       "      <th>1</th>\n",
       "      <td>2804400009</td>\n",
       "      <td>3642806036</td>\n",
       "      <td>2019-08-15</td>\n",
       "      <td>730</td>\n",
       "      <td>B</td>\n",
       "    </tr>\n",
       "    <tr>\n",
       "      <th>2</th>\n",
       "      <td>2961555356</td>\n",
       "      <td>4069496402</td>\n",
       "      <td>2019-08-15</td>\n",
       "      <td>400</td>\n",
       "      <td>A</td>\n",
       "    </tr>\n",
       "    <tr>\n",
       "      <th>3</th>\n",
       "      <td>3797467345</td>\n",
       "      <td>1196621759</td>\n",
       "      <td>2019-08-15</td>\n",
       "      <td>9759</td>\n",
       "      <td>B</td>\n",
       "    </tr>\n",
       "    <tr>\n",
       "      <th>4</th>\n",
       "      <td>2282983706</td>\n",
       "      <td>2322279887</td>\n",
       "      <td>2019-08-15</td>\n",
       "      <td>2308</td>\n",
       "      <td>B</td>\n",
       "    </tr>\n",
       "  </tbody>\n",
       "</table>\n",
       "</div>"
      ],
      "text/plain": [
       "   transactionId   visitorId        date  revenue group\n",
       "0     3667963787  3312258926  2019-08-15     1650     B\n",
       "1     2804400009  3642806036  2019-08-15      730     B\n",
       "2     2961555356  4069496402  2019-08-15      400     A\n",
       "3     3797467345  1196621759  2019-08-15     9759     B\n",
       "4     2282983706  2322279887  2019-08-15     2308     B"
      ]
     },
     "metadata": {},
     "output_type": "display_data"
    },
    {
     "data": {
      "text/html": [
       "<div>\n",
       "<style scoped>\n",
       "    .dataframe tbody tr th:only-of-type {\n",
       "        vertical-align: middle;\n",
       "    }\n",
       "\n",
       "    .dataframe tbody tr th {\n",
       "        vertical-align: top;\n",
       "    }\n",
       "\n",
       "    .dataframe thead th {\n",
       "        text-align: right;\n",
       "    }\n",
       "</style>\n",
       "<table border=\"1\" class=\"dataframe\">\n",
       "  <thead>\n",
       "    <tr style=\"text-align: right;\">\n",
       "      <th></th>\n",
       "      <th>date</th>\n",
       "      <th>group</th>\n",
       "      <th>visitors</th>\n",
       "    </tr>\n",
       "  </thead>\n",
       "  <tbody>\n",
       "    <tr>\n",
       "      <th>0</th>\n",
       "      <td>2019-08-01</td>\n",
       "      <td>A</td>\n",
       "      <td>719</td>\n",
       "    </tr>\n",
       "    <tr>\n",
       "      <th>1</th>\n",
       "      <td>2019-08-02</td>\n",
       "      <td>A</td>\n",
       "      <td>619</td>\n",
       "    </tr>\n",
       "    <tr>\n",
       "      <th>2</th>\n",
       "      <td>2019-08-03</td>\n",
       "      <td>A</td>\n",
       "      <td>507</td>\n",
       "    </tr>\n",
       "    <tr>\n",
       "      <th>3</th>\n",
       "      <td>2019-08-04</td>\n",
       "      <td>A</td>\n",
       "      <td>717</td>\n",
       "    </tr>\n",
       "    <tr>\n",
       "      <th>4</th>\n",
       "      <td>2019-08-05</td>\n",
       "      <td>A</td>\n",
       "      <td>756</td>\n",
       "    </tr>\n",
       "  </tbody>\n",
       "</table>\n",
       "</div>"
      ],
      "text/plain": [
       "         date group  visitors\n",
       "0  2019-08-01     A       719\n",
       "1  2019-08-02     A       619\n",
       "2  2019-08-03     A       507\n",
       "3  2019-08-04     A       717\n",
       "4  2019-08-05     A       756"
      ]
     },
     "execution_count": 3,
     "metadata": {},
     "output_type": "execute_result"
    }
   ],
   "source": [
    "display(hypothesis.head())\n",
    "display(orders.head())\n",
    "visitors.head()"
   ]
  },
  {
   "cell_type": "code",
   "execution_count": 4,
   "metadata": {},
   "outputs": [
    {
     "name": "stdout",
     "output_type": "stream",
     "text": [
      "<class 'pandas.core.frame.DataFrame'>\n",
      "RangeIndex: 9 entries, 0 to 8\n",
      "Data columns (total 5 columns):\n",
      " #   Column      Non-Null Count  Dtype \n",
      "---  ------      --------------  ----- \n",
      " 0   Hypothesis  9 non-null      object\n",
      " 1   Reach       9 non-null      int64 \n",
      " 2   Impact      9 non-null      int64 \n",
      " 3   Confidence  9 non-null      int64 \n",
      " 4   Efforts     9 non-null      int64 \n",
      "dtypes: int64(4), object(1)\n",
      "memory usage: 488.0+ bytes\n"
     ]
    },
    {
     "data": {
      "text/plain": [
       "None"
      ]
     },
     "metadata": {},
     "output_type": "display_data"
    },
    {
     "name": "stdout",
     "output_type": "stream",
     "text": [
      "<class 'pandas.core.frame.DataFrame'>\n",
      "RangeIndex: 1197 entries, 0 to 1196\n",
      "Data columns (total 5 columns):\n",
      " #   Column         Non-Null Count  Dtype \n",
      "---  ------         --------------  ----- \n",
      " 0   transactionId  1197 non-null   int64 \n",
      " 1   visitorId      1197 non-null   int64 \n",
      " 2   date           1197 non-null   object\n",
      " 3   revenue        1197 non-null   int64 \n",
      " 4   group          1197 non-null   object\n",
      "dtypes: int64(3), object(2)\n",
      "memory usage: 46.9+ KB\n"
     ]
    },
    {
     "data": {
      "text/plain": [
       "None"
      ]
     },
     "metadata": {},
     "output_type": "display_data"
    },
    {
     "name": "stdout",
     "output_type": "stream",
     "text": [
      "<class 'pandas.core.frame.DataFrame'>\n",
      "RangeIndex: 62 entries, 0 to 61\n",
      "Data columns (total 3 columns):\n",
      " #   Column    Non-Null Count  Dtype \n",
      "---  ------    --------------  ----- \n",
      " 0   date      62 non-null     object\n",
      " 1   group     62 non-null     object\n",
      " 2   visitors  62 non-null     int64 \n",
      "dtypes: int64(1), object(2)\n",
      "memory usage: 1.6+ KB\n"
     ]
    }
   ],
   "source": [
    "display(hypothesis.info())\n",
    "display(orders.info())\n",
    "visitors.info()"
   ]
  },
  {
   "cell_type": "markdown",
   "metadata": {},
   "source": [
    "**Промежуточный вывод**"
   ]
  },
  {
   "cell_type": "markdown",
   "metadata": {},
   "source": [
    "При осмотре данных были выявлены следующие моменты:\n",
    "1. В `hypothesis` названия столбцов начинаются с заглавной буквы\n",
    "2. В `orders` названия столбцов без snake_case\n",
    "3. Столбцы с датами не обладают соответствующим типом данных\n",
    "4. Пропусков нет."
   ]
  },
  {
   "cell_type": "markdown",
   "metadata": {},
   "source": [
    "####"
   ]
  },
  {
   "cell_type": "markdown",
   "metadata": {},
   "source": [
    "### Предобработка данных"
   ]
  },
  {
   "cell_type": "code",
   "execution_count": 5,
   "metadata": {},
   "outputs": [
    {
     "name": "stdout",
     "output_type": "stream",
     "text": [
      "Index(['hypothesis', 'reach', 'impact', 'confidence', 'efforts'], dtype='object')\n"
     ]
    }
   ],
   "source": [
    "# змейка\n",
    "orders = orders.rename(columns={\n",
    "        'transactionId': 'transaction_id',\n",
    "        'visitorId': 'visitor_id'\n",
    "})\n",
    "# приведем названия столбцов к нижнему регистру\n",
    "for column in hypothesis:\n",
    "    hypothesis.columns = hypothesis.columns.str.lower()\n",
    "print(hypothesis.columns)"
   ]
  },
  {
   "cell_type": "code",
   "execution_count": 6,
   "metadata": {},
   "outputs": [
    {
     "name": "stdout",
     "output_type": "stream",
     "text": [
      "<class 'pandas.core.frame.DataFrame'>\n",
      "RangeIndex: 62 entries, 0 to 61\n",
      "Data columns (total 3 columns):\n",
      " #   Column    Non-Null Count  Dtype         \n",
      "---  ------    --------------  -----         \n",
      " 0   date      62 non-null     datetime64[ns]\n",
      " 1   group     62 non-null     object        \n",
      " 2   visitors  62 non-null     int64         \n",
      "dtypes: datetime64[ns](1), int64(1), object(1)\n",
      "memory usage: 1.6+ KB\n",
      "None\n",
      "<class 'pandas.core.frame.DataFrame'>\n",
      "RangeIndex: 1197 entries, 0 to 1196\n",
      "Data columns (total 5 columns):\n",
      " #   Column          Non-Null Count  Dtype         \n",
      "---  ------          --------------  -----         \n",
      " 0   transaction_id  1197 non-null   int64         \n",
      " 1   visitor_id      1197 non-null   int64         \n",
      " 2   date            1197 non-null   datetime64[ns]\n",
      " 3   revenue         1197 non-null   int64         \n",
      " 4   group           1197 non-null   object        \n",
      "dtypes: datetime64[ns](1), int64(3), object(1)\n",
      "memory usage: 46.9+ KB\n"
     ]
    }
   ],
   "source": [
    "# меняем тип данных\n",
    "visitors['date'] = pd.to_datetime(visitors['date'], format = '%Y-%m-%d')\n",
    "orders['date'] = pd.to_datetime(orders['date'], format = '%Y-%m-%d')\n",
    "print(visitors.info())\n",
    "orders.info()"
   ]
  },
  {
   "cell_type": "code",
   "execution_count": 7,
   "metadata": {},
   "outputs": [
    {
     "name": "stdout",
     "output_type": "stream",
     "text": [
      "0\n",
      "0\n"
     ]
    }
   ],
   "source": [
    "# проверка на дубликаты\n",
    "for table in [orders, visitors]:\n",
    "    print(table.duplicated().sum())"
   ]
  },
  {
   "cell_type": "markdown",
   "metadata": {},
   "source": [
    "**Изучим дополнительную информацию о данных A/B-теста**"
   ]
  },
  {
   "cell_type": "code",
   "execution_count": 8,
   "metadata": {},
   "outputs": [
    {
     "data": {
      "text/plain": [
       "array(['A', 'B'], dtype=object)"
      ]
     },
     "execution_count": 8,
     "metadata": {},
     "output_type": "execute_result"
    }
   ],
   "source": [
    "# определим количество групп в тесте\n",
    "visitors['group'].unique()"
   ]
  },
  {
   "cell_type": "markdown",
   "metadata": {},
   "source": [
    "Всего две группы в тесте"
   ]
  },
  {
   "cell_type": "code",
   "execution_count": 9,
   "metadata": {},
   "outputs": [
    {
     "name": "stdout",
     "output_type": "stream",
     "text": [
      "Дата начала проведения теста: 2019-08-01 00:00:00\n",
      "Дата окончания проведения теста: 2019-08-31 00:00:00\n"
     ]
    }
   ],
   "source": [
    "# изучим временной интервал теста\n",
    "print('Дата начала проведения теста:', visitors.date.min())\n",
    "print('Дата окончания проведения теста:', visitors.date.max())"
   ]
  },
  {
   "cell_type": "markdown",
   "metadata": {},
   "source": [
    "A/B тестирование проводилось 31 день"
   ]
  },
  {
   "cell_type": "code",
   "execution_count": 10,
   "metadata": {},
   "outputs": [
    {
     "data": {
      "text/plain": [
       "group\n",
       "A    18736\n",
       "B    18916\n",
       "Name: visitors, dtype: int64"
      ]
     },
     "execution_count": 10,
     "metadata": {},
     "output_type": "execute_result"
    }
   ],
   "source": [
    "# посмотрим на количество пользователей в каждой группе\n",
    "visitors.groupby('group')['visitors'].sum()"
   ]
  },
  {
   "cell_type": "markdown",
   "metadata": {},
   "source": [
    "Группа В больше, чем группа А"
   ]
  },
  {
   "cell_type": "code",
   "execution_count": 11,
   "metadata": {},
   "outputs": [
    {
     "name": "stdout",
     "output_type": "stream",
     "text": [
      "Есть пересечения по пользователям\n"
     ]
    }
   ],
   "source": [
    "# посмотрим не попадают ли какие-то пользователи в обе группы\n",
    "\n",
    "groupA_orders = orders[orders['group'] == 'A'][['visitor_id', 'group']]\n",
    "groupB_orders = orders[orders['group'] == 'B'][['visitor_id', 'group']]\n",
    "\n",
    "intersection = groupA_orders.merge(groupB_orders, on='visitor_id', how='inner')\n",
    "\n",
    "if intersection.empty:\n",
    "    print('Нет пересечений по пользователям')\n",
    "else:\n",
    "    print('Есть пересечения по пользователям')"
   ]
  },
  {
   "cell_type": "code",
   "execution_count": 12,
   "metadata": {},
   "outputs": [
    {
     "data": {
      "image/png": "[encoded data removed]",
      "text/plain": [
       "<Figure size 936x360 with 1 Axes>"
      ]
     },
     "metadata": {
      "needs_background": "light"
     },
     "output_type": "display_data"
    }
   ],
   "source": [
    "# посмотрим на динамику посетителей по дням и по группам\n",
    "\n",
    "# датафрейм с количеством пользователей по дням в группе А\n",
    "groupA = visitors[visitors['group']=='A'].groupby('date').agg({'visitors': 'sum'}).reset_index()\n",
    "\n",
    "# датафрейм с количеством пользователей по дням в группе B\n",
    "groupB = visitors[visitors['group']=='B'].groupby('date').agg({'visitors': 'sum'}).reset_index()\n",
    "\n",
    "plt.figure(figsize=(13, 5))\n",
    "\n",
    "# Строим график с количеством пользователей по дням группы А\n",
    "plt.plot(groupA['date'], groupA['visitors'], label='A')\n",
    "\n",
    "# Строим график с количеством пользователей по дням группы B\n",
    "plt.plot(groupB['date'], groupB['visitors'], label='B')\n",
    "\n",
    "plt.legend()\n",
    "plt.title('Динамика посетителей по дням и по группам')\n",
    "plt.xlabel('Даты')\n",
    "plt.ylabel('Количество посетителей');"
   ]
  },
  {
   "cell_type": "markdown",
   "metadata": {},
   "source": [
    "По графику нельзя точно определить, пользователи из какой группы чаще заходят на сайт интернет-магазина."
   ]
  },
  {
   "cell_type": "markdown",
   "metadata": {},
   "source": [
    "####"
   ]
  },
  {
   "cell_type": "markdown",
   "metadata": {},
   "source": [
    "### Приоритизация гипотез"
   ]
  },
  {
   "cell_type": "code",
   "execution_count": 13,
   "metadata": {},
   "outputs": [
    {
     "data": {
      "text/html": [
       "<div>\n",
       "<style scoped>\n",
       "    .dataframe tbody tr th:only-of-type {\n",
       "        vertical-align: middle;\n",
       "    }\n",
       "\n",
       "    .dataframe tbody tr th {\n",
       "        vertical-align: top;\n",
       "    }\n",
       "\n",
       "    .dataframe thead th {\n",
       "        text-align: right;\n",
       "    }\n",
       "</style>\n",
       "<table border=\"1\" class=\"dataframe\">\n",
       "  <thead>\n",
       "    <tr style=\"text-align: right;\">\n",
       "      <th></th>\n",
       "      <th>hypothesis</th>\n",
       "      <th>ice</th>\n",
       "    </tr>\n",
       "  </thead>\n",
       "  <tbody>\n",
       "    <tr>\n",
       "      <th>8</th>\n",
       "      <td>Запустить акцию, дающую скидку на товар в день рождения</td>\n",
       "      <td>16.20</td>\n",
       "    </tr>\n",
       "    <tr>\n",
       "      <th>0</th>\n",
       "      <td>Добавить два новых канала привлечения трафика, что позволит привлекать на 30% больше пользователей</td>\n",
       "      <td>13.33</td>\n",
       "    </tr>\n",
       "    <tr>\n",
       "      <th>7</th>\n",
       "      <td>Добавить форму подписки на все основные страницы, чтобы собрать базу клиентов для email-рассылок</td>\n",
       "      <td>11.20</td>\n",
       "    </tr>\n",
       "    <tr>\n",
       "      <th>6</th>\n",
       "      <td>Показать на главной странице баннеры с актуальными акциями и распродажами, чтобы увеличить конверсию</td>\n",
       "      <td>8.00</td>\n",
       "    </tr>\n",
       "    <tr>\n",
       "      <th>2</th>\n",
       "      <td>Добавить блоки рекомендаций товаров на сайт интернет магазина, чтобы повысить конверсию и средний чек заказа</td>\n",
       "      <td>7.00</td>\n",
       "    </tr>\n",
       "    <tr>\n",
       "      <th>1</th>\n",
       "      <td>Запустить собственную службу доставки, что сократит срок доставки заказов</td>\n",
       "      <td>2.00</td>\n",
       "    </tr>\n",
       "    <tr>\n",
       "      <th>5</th>\n",
       "      <td>Добавить страницу отзывов клиентов о магазине, что позволит увеличить количество заказов</td>\n",
       "      <td>1.33</td>\n",
       "    </tr>\n",
       "    <tr>\n",
       "      <th>3</th>\n",
       "      <td>Изменить структура категорий, что увеличит конверсию, т.к. пользователи быстрее найдут нужный товар</td>\n",
       "      <td>1.12</td>\n",
       "    </tr>\n",
       "    <tr>\n",
       "      <th>4</th>\n",
       "      <td>Изменить цвет фона главной страницы, чтобы увеличить вовлеченность пользователей</td>\n",
       "      <td>1.00</td>\n",
       "    </tr>\n",
       "  </tbody>\n",
       "</table>\n",
       "</div>"
      ],
      "text/plain": [
       "                                                                                                     hypothesis  \\\n",
       "8                                                       Запустить акцию, дающую скидку на товар в день рождения   \n",
       "0            Добавить два новых канала привлечения трафика, что позволит привлекать на 30% больше пользователей   \n",
       "7              Добавить форму подписки на все основные страницы, чтобы собрать базу клиентов для email-рассылок   \n",
       "6          Показать на главной странице баннеры с актуальными акциями и распродажами, чтобы увеличить конверсию   \n",
       "2  Добавить блоки рекомендаций товаров на сайт интернет магазина, чтобы повысить конверсию и средний чек заказа   \n",
       "1                                     Запустить собственную службу доставки, что сократит срок доставки заказов   \n",
       "5                      Добавить страницу отзывов клиентов о магазине, что позволит увеличить количество заказов   \n",
       "3           Изменить структура категорий, что увеличит конверсию, т.к. пользователи быстрее найдут нужный товар   \n",
       "4                              Изменить цвет фона главной страницы, чтобы увеличить вовлеченность пользователей   \n",
       "\n",
       "     ice  \n",
       "8  16.20  \n",
       "0  13.33  \n",
       "7  11.20  \n",
       "6   8.00  \n",
       "2   7.00  \n",
       "1   2.00  \n",
       "5   1.33  \n",
       "3   1.12  \n",
       "4   1.00  "
      ]
     },
     "execution_count": 13,
     "metadata": {},
     "output_type": "execute_result"
    }
   ],
   "source": [
    "# применим к гипотезам фреймворк ICE\n",
    "pd.set_option('max_colwidth', 110)\n",
    "\n",
    "hypothesis['ice'] = (hypothesis.impact * hypothesis.confidence) / hypothesis.efforts\n",
    "\n",
    "round(hypothesis[['hypothesis', 'ice']].sort_values('ice', ascending=False), 2)"
   ]
  },
  {
   "cell_type": "markdown",
   "metadata": {},
   "source": [
    "Самыми \"важными\" гипотезами по фреймворку ICE получились:\n",
    "1. Запустить акцию, дающую скидку на товар в день рождения (ice 16.2)\n",
    "2. Добавить два новых канала привлечения трафика, что позволит привлекать на 30% больше пользователей (ice 13.33)\n",
    "3. Добавить форму подписки на все основные страницы, чтобы собрать базу клиентов для email-рассылок (ice 11.2)"
   ]
  },
  {
   "cell_type": "code",
   "execution_count": 14,
   "metadata": {},
   "outputs": [
    {
     "data": {
      "text/html": [
       "<div>\n",
       "<style scoped>\n",
       "    .dataframe tbody tr th:only-of-type {\n",
       "        vertical-align: middle;\n",
       "    }\n",
       "\n",
       "    .dataframe tbody tr th {\n",
       "        vertical-align: top;\n",
       "    }\n",
       "\n",
       "    .dataframe thead th {\n",
       "        text-align: right;\n",
       "    }\n",
       "</style>\n",
       "<table border=\"1\" class=\"dataframe\">\n",
       "  <thead>\n",
       "    <tr style=\"text-align: right;\">\n",
       "      <th></th>\n",
       "      <th>hypothesis</th>\n",
       "      <th>rice</th>\n",
       "    </tr>\n",
       "  </thead>\n",
       "  <tbody>\n",
       "    <tr>\n",
       "      <th>7</th>\n",
       "      <td>Добавить форму подписки на все основные страницы, чтобы собрать базу клиентов для email-рассылок</td>\n",
       "      <td>112.0</td>\n",
       "    </tr>\n",
       "    <tr>\n",
       "      <th>2</th>\n",
       "      <td>Добавить блоки рекомендаций товаров на сайт интернет магазина, чтобы повысить конверсию и средний чек заказа</td>\n",
       "      <td>56.0</td>\n",
       "    </tr>\n",
       "    <tr>\n",
       "      <th>0</th>\n",
       "      <td>Добавить два новых канала привлечения трафика, что позволит привлекать на 30% больше пользователей</td>\n",
       "      <td>40.0</td>\n",
       "    </tr>\n",
       "    <tr>\n",
       "      <th>6</th>\n",
       "      <td>Показать на главной странице баннеры с актуальными акциями и распродажами, чтобы увеличить конверсию</td>\n",
       "      <td>40.0</td>\n",
       "    </tr>\n",
       "    <tr>\n",
       "      <th>8</th>\n",
       "      <td>Запустить акцию, дающую скидку на товар в день рождения</td>\n",
       "      <td>16.2</td>\n",
       "    </tr>\n",
       "    <tr>\n",
       "      <th>3</th>\n",
       "      <td>Изменить структура категорий, что увеличит конверсию, т.к. пользователи быстрее найдут нужный товар</td>\n",
       "      <td>9.0</td>\n",
       "    </tr>\n",
       "    <tr>\n",
       "      <th>1</th>\n",
       "      <td>Запустить собственную службу доставки, что сократит срок доставки заказов</td>\n",
       "      <td>4.0</td>\n",
       "    </tr>\n",
       "    <tr>\n",
       "      <th>5</th>\n",
       "      <td>Добавить страницу отзывов клиентов о магазине, что позволит увеличить количество заказов</td>\n",
       "      <td>4.0</td>\n",
       "    </tr>\n",
       "    <tr>\n",
       "      <th>4</th>\n",
       "      <td>Изменить цвет фона главной страницы, чтобы увеличить вовлеченность пользователей</td>\n",
       "      <td>3.0</td>\n",
       "    </tr>\n",
       "  </tbody>\n",
       "</table>\n",
       "</div>"
      ],
      "text/plain": [
       "                                                                                                     hypothesis  \\\n",
       "7              Добавить форму подписки на все основные страницы, чтобы собрать базу клиентов для email-рассылок   \n",
       "2  Добавить блоки рекомендаций товаров на сайт интернет магазина, чтобы повысить конверсию и средний чек заказа   \n",
       "0            Добавить два новых канала привлечения трафика, что позволит привлекать на 30% больше пользователей   \n",
       "6          Показать на главной странице баннеры с актуальными акциями и распродажами, чтобы увеличить конверсию   \n",
       "8                                                       Запустить акцию, дающую скидку на товар в день рождения   \n",
       "3           Изменить структура категорий, что увеличит конверсию, т.к. пользователи быстрее найдут нужный товар   \n",
       "1                                     Запустить собственную службу доставки, что сократит срок доставки заказов   \n",
       "5                      Добавить страницу отзывов клиентов о магазине, что позволит увеличить количество заказов   \n",
       "4                              Изменить цвет фона главной страницы, чтобы увеличить вовлеченность пользователей   \n",
       "\n",
       "    rice  \n",
       "7  112.0  \n",
       "2   56.0  \n",
       "0   40.0  \n",
       "6   40.0  \n",
       "8   16.2  \n",
       "3    9.0  \n",
       "1    4.0  \n",
       "5    4.0  \n",
       "4    3.0  "
      ]
     },
     "execution_count": 14,
     "metadata": {},
     "output_type": "execute_result"
    }
   ],
   "source": [
    "# применим к гипотезам фреймворк RICE\n",
    "\n",
    "hypothesis['rice'] = (hypothesis.reach * hypothesis.impact * hypothesis.confidence) / hypothesis.efforts\n",
    "\n",
    "round(hypothesis[['hypothesis', 'rice']].sort_values('rice', ascending=False), 2)"
   ]
  },
  {
   "cell_type": "code",
   "execution_count": 15,
   "metadata": {},
   "outputs": [
    {
     "data": {
      "text/html": [
       "<div>\n",
       "<style scoped>\n",
       "    .dataframe tbody tr th:only-of-type {\n",
       "        vertical-align: middle;\n",
       "    }\n",
       "\n",
       "    .dataframe tbody tr th {\n",
       "        vertical-align: top;\n",
       "    }\n",
       "\n",
       "    .dataframe thead th {\n",
       "        text-align: right;\n",
       "    }\n",
       "</style>\n",
       "<table border=\"1\" class=\"dataframe\">\n",
       "  <thead>\n",
       "    <tr style=\"text-align: right;\">\n",
       "      <th></th>\n",
       "      <th>hypothesis</th>\n",
       "      <th>reach</th>\n",
       "      <th>impact</th>\n",
       "      <th>confidence</th>\n",
       "      <th>efforts</th>\n",
       "      <th>ice</th>\n",
       "      <th>rice</th>\n",
       "    </tr>\n",
       "  </thead>\n",
       "  <tbody>\n",
       "    <tr>\n",
       "      <th>7</th>\n",
       "      <td>Добавить форму подписки на все основные страницы, чтобы собрать базу клиентов для email-рассылок</td>\n",
       "      <td>10</td>\n",
       "      <td>7</td>\n",
       "      <td>8</td>\n",
       "      <td>5</td>\n",
       "      <td>11.200000</td>\n",
       "      <td>112.0</td>\n",
       "    </tr>\n",
       "    <tr>\n",
       "      <th>2</th>\n",
       "      <td>Добавить блоки рекомендаций товаров на сайт интернет магазина, чтобы повысить конверсию и средний чек заказа</td>\n",
       "      <td>8</td>\n",
       "      <td>3</td>\n",
       "      <td>7</td>\n",
       "      <td>3</td>\n",
       "      <td>7.000000</td>\n",
       "      <td>56.0</td>\n",
       "    </tr>\n",
       "    <tr>\n",
       "      <th>3</th>\n",
       "      <td>Изменить структура категорий, что увеличит конверсию, т.к. пользователи быстрее найдут нужный товар</td>\n",
       "      <td>8</td>\n",
       "      <td>3</td>\n",
       "      <td>3</td>\n",
       "      <td>8</td>\n",
       "      <td>1.125000</td>\n",
       "      <td>9.0</td>\n",
       "    </tr>\n",
       "    <tr>\n",
       "      <th>6</th>\n",
       "      <td>Показать на главной странице баннеры с актуальными акциями и распродажами, чтобы увеличить конверсию</td>\n",
       "      <td>5</td>\n",
       "      <td>3</td>\n",
       "      <td>8</td>\n",
       "      <td>3</td>\n",
       "      <td>8.000000</td>\n",
       "      <td>40.0</td>\n",
       "    </tr>\n",
       "    <tr>\n",
       "      <th>0</th>\n",
       "      <td>Добавить два новых канала привлечения трафика, что позволит привлекать на 30% больше пользователей</td>\n",
       "      <td>3</td>\n",
       "      <td>10</td>\n",
       "      <td>8</td>\n",
       "      <td>6</td>\n",
       "      <td>13.333333</td>\n",
       "      <td>40.0</td>\n",
       "    </tr>\n",
       "    <tr>\n",
       "      <th>4</th>\n",
       "      <td>Изменить цвет фона главной страницы, чтобы увеличить вовлеченность пользователей</td>\n",
       "      <td>3</td>\n",
       "      <td>1</td>\n",
       "      <td>1</td>\n",
       "      <td>1</td>\n",
       "      <td>1.000000</td>\n",
       "      <td>3.0</td>\n",
       "    </tr>\n",
       "    <tr>\n",
       "      <th>5</th>\n",
       "      <td>Добавить страницу отзывов клиентов о магазине, что позволит увеличить количество заказов</td>\n",
       "      <td>3</td>\n",
       "      <td>2</td>\n",
       "      <td>2</td>\n",
       "      <td>3</td>\n",
       "      <td>1.333333</td>\n",
       "      <td>4.0</td>\n",
       "    </tr>\n",
       "    <tr>\n",
       "      <th>1</th>\n",
       "      <td>Запустить собственную службу доставки, что сократит срок доставки заказов</td>\n",
       "      <td>2</td>\n",
       "      <td>5</td>\n",
       "      <td>4</td>\n",
       "      <td>10</td>\n",
       "      <td>2.000000</td>\n",
       "      <td>4.0</td>\n",
       "    </tr>\n",
       "    <tr>\n",
       "      <th>8</th>\n",
       "      <td>Запустить акцию, дающую скидку на товар в день рождения</td>\n",
       "      <td>1</td>\n",
       "      <td>9</td>\n",
       "      <td>9</td>\n",
       "      <td>5</td>\n",
       "      <td>16.200000</td>\n",
       "      <td>16.2</td>\n",
       "    </tr>\n",
       "  </tbody>\n",
       "</table>\n",
       "</div>"
      ],
      "text/plain": [
       "                                                                                                     hypothesis  \\\n",
       "7              Добавить форму подписки на все основные страницы, чтобы собрать базу клиентов для email-рассылок   \n",
       "2  Добавить блоки рекомендаций товаров на сайт интернет магазина, чтобы повысить конверсию и средний чек заказа   \n",
       "3           Изменить структура категорий, что увеличит конверсию, т.к. пользователи быстрее найдут нужный товар   \n",
       "6          Показать на главной странице баннеры с актуальными акциями и распродажами, чтобы увеличить конверсию   \n",
       "0            Добавить два новых канала привлечения трафика, что позволит привлекать на 30% больше пользователей   \n",
       "4                              Изменить цвет фона главной страницы, чтобы увеличить вовлеченность пользователей   \n",
       "5                      Добавить страницу отзывов клиентов о магазине, что позволит увеличить количество заказов   \n",
       "1                                     Запустить собственную службу доставки, что сократит срок доставки заказов   \n",
       "8                                                       Запустить акцию, дающую скидку на товар в день рождения   \n",
       "\n",
       "   reach  impact  confidence  efforts        ice   rice  \n",
       "7     10       7           8        5  11.200000  112.0  \n",
       "2      8       3           7        3   7.000000   56.0  \n",
       "3      8       3           3        8   1.125000    9.0  \n",
       "6      5       3           8        3   8.000000   40.0  \n",
       "0      3      10           8        6  13.333333   40.0  \n",
       "4      3       1           1        1   1.000000    3.0  \n",
       "5      3       2           2        3   1.333333    4.0  \n",
       "1      2       5           4       10   2.000000    4.0  \n",
       "8      1       9           9        5  16.200000   16.2  "
      ]
     },
     "execution_count": 15,
     "metadata": {},
     "output_type": "execute_result"
    }
   ],
   "source": [
    "hypothesis.sort_values('reach', ascending=False)"
   ]
  },
  {
   "cell_type": "markdown",
   "metadata": {},
   "source": [
    "Видим, что при добавлении критерия охвата приоритетность гипотез поменялась. Лидируют теперь гипотезы:\n",
    "1. Добавить форму подписки на все основные страницы, чтобы собрать базу клиентов для email-рассылок (112.0)\n",
    "2. Добавить блоки рекомендаций товаров на сайт интернет магазина, чтобы повысить конверсию и средний чек заказа\t(56.0)\n",
    "3. Изменить структура категорий, что увеличит конверсию, т.к. пользователи быстрее найдут нужный товар (9.0)\n",
    "\n",
    "Для первой гипотезы параметр охвата поставлен максимальным, далее идет вторая по силе критерия гипотеза с оценкой в 8 баллов для критерия охвата."
   ]
  },
  {
   "cell_type": "markdown",
   "metadata": {},
   "source": [
    "####"
   ]
  },
  {
   "cell_type": "markdown",
   "metadata": {},
   "source": [
    "### Анализ A/B-теста"
   ]
  },
  {
   "cell_type": "markdown",
   "metadata": {},
   "source": [
    "**График кумулятивной выручки по группам**"
   ]
  },
  {
   "cell_type": "code",
   "execution_count": 16,
   "metadata": {},
   "outputs": [
    {
     "data": {
      "text/html": [
       "<div>\n",
       "<style scoped>\n",
       "    .dataframe tbody tr th:only-of-type {\n",
       "        vertical-align: middle;\n",
       "    }\n",
       "\n",
       "    .dataframe tbody tr th {\n",
       "        vertical-align: top;\n",
       "    }\n",
       "\n",
       "    .dataframe thead th {\n",
       "        text-align: right;\n",
       "    }\n",
       "</style>\n",
       "<table border=\"1\" class=\"dataframe\">\n",
       "  <thead>\n",
       "    <tr style=\"text-align: right;\">\n",
       "      <th></th>\n",
       "      <th>date</th>\n",
       "      <th>group</th>\n",
       "      <th>orders</th>\n",
       "      <th>buyers</th>\n",
       "      <th>revenue</th>\n",
       "      <th>visitors</th>\n",
       "    </tr>\n",
       "  </thead>\n",
       "  <tbody>\n",
       "    <tr>\n",
       "      <th>0</th>\n",
       "      <td>2019-08-01</td>\n",
       "      <td>A</td>\n",
       "      <td>24</td>\n",
       "      <td>20</td>\n",
       "      <td>148579</td>\n",
       "      <td>719</td>\n",
       "    </tr>\n",
       "    <tr>\n",
       "      <th>1</th>\n",
       "      <td>2019-08-01</td>\n",
       "      <td>B</td>\n",
       "      <td>21</td>\n",
       "      <td>20</td>\n",
       "      <td>101217</td>\n",
       "      <td>713</td>\n",
       "    </tr>\n",
       "    <tr>\n",
       "      <th>2</th>\n",
       "      <td>2019-08-02</td>\n",
       "      <td>A</td>\n",
       "      <td>44</td>\n",
       "      <td>38</td>\n",
       "      <td>242401</td>\n",
       "      <td>1338</td>\n",
       "    </tr>\n",
       "    <tr>\n",
       "      <th>3</th>\n",
       "      <td>2019-08-02</td>\n",
       "      <td>B</td>\n",
       "      <td>45</td>\n",
       "      <td>43</td>\n",
       "      <td>266748</td>\n",
       "      <td>1294</td>\n",
       "    </tr>\n",
       "    <tr>\n",
       "      <th>4</th>\n",
       "      <td>2019-08-03</td>\n",
       "      <td>A</td>\n",
       "      <td>68</td>\n",
       "      <td>62</td>\n",
       "      <td>354874</td>\n",
       "      <td>1845</td>\n",
       "    </tr>\n",
       "  </tbody>\n",
       "</table>\n",
       "</div>"
      ],
      "text/plain": [
       "        date group  orders  buyers  revenue  visitors\n",
       "0 2019-08-01     A      24      20   148579       719\n",
       "1 2019-08-01     B      21      20   101217       713\n",
       "2 2019-08-02     A      44      38   242401      1338\n",
       "3 2019-08-02     B      45      43   266748      1294\n",
       "4 2019-08-03     A      68      62   354874      1845"
      ]
     },
     "execution_count": 16,
     "metadata": {},
     "output_type": "execute_result"
    }
   ],
   "source": [
    "# создаем массив уникальных пар значений дат и групп теста\n",
    "date_groups = orders[['date','group']].drop_duplicates()\n",
    "\n",
    "# соберём агрегированные кумулятивные по дням данные о заказах\n",
    "orders_agg = date_groups.apply(\n",
    "    lambda x: orders[\n",
    "        np.logical_and(orders[\"date\"] <= x[\"date\"], orders[\"group\"] == x[\"group\"])\n",
    "    ].agg(\n",
    "        {\n",
    "            \"date\": \"max\",\n",
    "            \"group\": \"max\",\n",
    "            \"transaction_id\": \"nunique\",\n",
    "            \"visitor_id\": \"nunique\",\n",
    "            \"revenue\": \"sum\",\n",
    "        }\n",
    "    ),\n",
    "    axis=1,\n",
    ").sort_values(by=[\"date\", \"group\"])\n",
    "\n",
    "# соберём агрегированные кумулятивные по дням данные о пользователях\n",
    "visitors_agg = date_groups.apply(\n",
    "    lambda x: visitors[\n",
    "        np.logical_and(visitors['date'] <= x['date'], visitors['group'] == x['group'])\n",
    "    ].agg(\n",
    "        {\n",
    "            'date' : 'max', \n",
    "            'group' : 'max', \n",
    "            'visitors' : 'sum'\n",
    "        }\n",
    "    ), \n",
    "    axis=1\n",
    ").sort_values(by=['date','group'])\n",
    "\n",
    "# объединяем кумулятивные данные в одной таблице и присваиваем ее столбцам понятные названия\n",
    "cumulative_df = orders_agg.merge(visitors_agg, on=['date', 'group'])\n",
    "cumulative_df.columns = ['date', 'group', 'orders', 'buyers', 'revenue', 'visitors']\n",
    "\n",
    "cumulative_df.head()"
   ]
  },
  {
   "cell_type": "code",
   "execution_count": 17,
   "metadata": {},
   "outputs": [
    {
     "name": "stdout",
     "output_type": "stream",
     "text": [
      "2019-08-01 00:00:00\n",
      "2019-08-31 00:00:00\n"
     ]
    }
   ],
   "source": [
    "# проверим корректно ли создан датафрейм cumulative_df\n",
    "print(cumulative_df.date.min())\n",
    "print(cumulative_df.date.max())"
   ]
  },
  {
   "cell_type": "markdown",
   "metadata": {},
   "source": [
    "Даты проведения тестирования в cumulative_df совпадают с датами в исходном файле"
   ]
  },
  {
   "cell_type": "code",
   "execution_count": 18,
   "metadata": {},
   "outputs": [
    {
     "data": {
      "image/png": "[encoded data removed]",
      "text/plain": [
       "<Figure size 936x360 with 1 Axes>"
      ]
     },
     "metadata": {
      "needs_background": "light"
     },
     "output_type": "display_data"
    }
   ],
   "source": [
    "# датафрейм с кумулятивным количеством заказов и кумулятивной выручкой по дням в группе А\n",
    "cumulativeRevenueA = cumulative_df[cumulative_df['group']=='A'][['date','revenue', 'orders']]\n",
    "\n",
    "# датафрейм с кумулятивным количеством заказов и кумулятивной выручкой по дням в группе B\n",
    "cumulativeRevenueB = cumulative_df[cumulative_df['group']=='B'][['date','revenue', 'orders']]\n",
    "\n",
    "plt.figure(figsize=(13, 5))\n",
    "\n",
    "# Строим график выручки группы А\n",
    "plt.plot(cumulativeRevenueA['date'], cumulativeRevenueA['revenue'], label='A')\n",
    "\n",
    "# Строим график выручки группы B\n",
    "plt.plot(cumulativeRevenueB['date'], cumulativeRevenueB['revenue'], label='B')\n",
    "\n",
    "plt.legend()\n",
    "plt.title('График кумулятивной выручки по дням и группам A/B-тестирования')\n",
    "plt.xlabel('Даты')\n",
    "plt.ylabel('Выручка');"
   ]
  },
  {
   "cell_type": "markdown",
   "metadata": {},
   "source": [
    "**Выводы**\n",
    "\n",
    "1. Выручка почти равномерно увеличивается в течение всего теста.\n",
    "2. График выручки группы В резко растет в одной точке. Причиной этому может быть резкий всплеск числа заказов или же увеличение среднего чека группы В. Также резкий рост выручки в группе В может быть связан с аномальными значениями, выбросами.\n",
    "3. Пока что по графику можно сказать, что группа В приносит больше выручки, чем группа А."
   ]
  },
  {
   "cell_type": "markdown",
   "metadata": {},
   "source": [
    "**График кумулятивного среднего чека по группам**"
   ]
  },
  {
   "cell_type": "code",
   "execution_count": 19,
   "metadata": {},
   "outputs": [
    {
     "data": {
      "image/png": "[encoded data removed]",
      "text/plain": [
       "<Figure size 936x360 with 1 Axes>"
      ]
     },
     "metadata": {
      "needs_background": "light"
     },
     "output_type": "display_data"
    }
   ],
   "source": [
    "plt.figure(figsize=(13, 5))\n",
    "\n",
    "plt.plot(cumulativeRevenueA['date'], cumulativeRevenueA['revenue']/cumulativeRevenueA['orders'], label='A')\n",
    "plt.plot(cumulativeRevenueB['date'], cumulativeRevenueB['revenue']/cumulativeRevenueB['orders'], label='B')\n",
    "\n",
    "plt.legend()\n",
    "plt.title('График кумулятивного среднего чека по группам')\n",
    "plt.xlabel('Даты');"
   ]
  },
  {
   "cell_type": "markdown",
   "metadata": {},
   "source": [
    "**Выводы**\n",
    "\n",
    "1. В начале тестирования графики обеих групп нестабильны, заметны резкие скачки\n",
    "2. На графике кумулятивной выручки группы В был резкий рост выручки в районе 18 августа, также и на графике кумулятивного среднего чека виден резкий скачок. Возможно высокий средний чек в выборке связан с тем, что в этот день было большое число заказов или магазин разместил более дорогие товары.\n",
    "3. Средние чеки обеих групп к концу становятся равномернее и стабильнее, но видна тенденция к снижению в группах\n",
    "4. С учетом аномальных значений средний чек В выше, чем А"
   ]
  },
  {
   "cell_type": "markdown",
   "metadata": {},
   "source": [
    "**График относительного изменения кумулятивного среднего чека группы B к группе A**"
   ]
  },
  {
   "cell_type": "code",
   "execution_count": 20,
   "metadata": {},
   "outputs": [
    {
     "data": {
      "image/png": "[encoded data removed]",
      "text/plain": [
       "<Figure size 936x360 with 1 Axes>"
      ]
     },
     "metadata": {
      "needs_background": "light"
     },
     "output_type": "display_data"
    }
   ],
   "source": [
    "# собираем данные в одном датафрейме\n",
    "merged_cumulative_revenue = cumulativeRevenueA.merge(\n",
    "    cumulativeRevenueB, on='date', how='left', suffixes=['A', 'B']\n",
    ")\n",
    "\n",
    "plt.figure(figsize=(13, 5))\n",
    "\n",
    "# cтроим отношение средних чеков\n",
    "plt.plot(\n",
    "    merged_cumulative_revenue['date'],\n",
    "    (merged_cumulative_revenue['revenueB'] / merged_cumulative_revenue['ordersB'])\n",
    "    / (merged_cumulative_revenue['revenueA'] / merged_cumulative_revenue['ordersA'])\n",
    "    - 1,\n",
    ")\n",
    "# добавляем ось X\n",
    "plt.axhline(y=0, color='red', linestyle='--')\n",
    "plt.title('График относительного изменения кумулятивного среднего чека группы B к группе A')\n",
    "plt.xlabel('Даты');"
   ]
  },
  {
   "cell_type": "markdown",
   "metadata": {},
   "source": [
    "**Вывод**\n",
    "\n",
    "В нескольких точках график различия между группами резко скачет. Значит действительно имеют место быть аномальные значения и выбросы."
   ]
  },
  {
   "cell_type": "markdown",
   "metadata": {},
   "source": [
    "**График кумулятивного среднего количества заказов на посетителя по группам**"
   ]
  },
  {
   "cell_type": "code",
   "execution_count": 21,
   "metadata": {},
   "outputs": [
    {
     "data": {
      "image/png": "[encoded data removed]",
      "text/plain": [
       "<Figure size 936x360 with 1 Axes>"
      ]
     },
     "metadata": {
      "needs_background": "light"
     },
     "output_type": "display_data"
    }
   ],
   "source": [
    "# считаем кумулятивную конверсию\n",
    "cumulative_df['conversion'] = cumulative_df['orders']/cumulative_df['visitors']\n",
    "\n",
    "# отделяем данные по группе A\n",
    "cumulative_A = cumulative_df[cumulative_df['group']=='A']\n",
    "\n",
    "# отделяем данные по группе B\n",
    "cumulative_B = cumulative_df[cumulative_df['group']=='B']\n",
    "\n",
    "# строим графики\n",
    "plt.figure(figsize=(13, 5))\n",
    "\n",
    "plt.plot(cumulative_A['date'], cumulative_A['conversion'], label='A')\n",
    "plt.plot(cumulative_B['date'], cumulative_B['conversion'], label='B')\n",
    "plt.legend()\n",
    "plt.title('График кумулятивной конверсии по группам')\n",
    "plt.xlabel('Даты');"
   ]
  },
  {
   "cell_type": "markdown",
   "metadata": {},
   "source": [
    "**Выводы**\n",
    "\n",
    "1. В первые дни конверсия группы А выше, чем у В, что позже изменяется\n",
    "2. В целом кумулятивная конверсия в покупку у группы В выше, чем у А\n",
    "3. В конце кумулятивная конверсия у обеих групп снижается"
   ]
  },
  {
   "cell_type": "markdown",
   "metadata": {},
   "source": [
    "**График относительного изменения кумулятивного среднего количества заказов на посетителя группы B к группе A**"
   ]
  },
  {
   "cell_type": "code",
   "execution_count": 22,
   "metadata": {},
   "outputs": [
    {
     "data": {
      "image/png": "[encoded data removed]",
      "text/plain": [
       "<Figure size 936x360 with 1 Axes>"
      ]
     },
     "metadata": {
      "needs_background": "light"
     },
     "output_type": "display_data"
    }
   ],
   "source": [
    "merged_cumulative_cr = cumulative_A[['date', 'conversion']].merge(\n",
    "    cumulative_B[['date', 'conversion']],\n",
    "    on='date',\n",
    "    how='left',\n",
    "    suffixes=['A', 'B'],\n",
    ")\n",
    "\n",
    "# строим график\n",
    "plt.figure(figsize=(13, 5))\n",
    "plt.plot(\n",
    "    merged_cumulative_cr['date'],\n",
    "    merged_cumulative_cr['conversionB'] / merged_cumulative_cr['conversionA'] - 1,\n",
    "    label='Относительный прирост конверсии группы B относительно группы A',\n",
    ")\n",
    "plt.legend()\n",
    "\n",
    "plt.axhline(y=0, color='red', linestyle='--')\n",
    "plt.axhline(y=-0.08, color='grey', linestyle='--')\n",
    "plt.title('График относительного различия кумулятивных конверсий')\n",
    "plt.xlabel('Даты');"
   ]
  },
  {
   "cell_type": "markdown",
   "metadata": {},
   "source": [
    "**Выводы**\n",
    "\n",
    "В начале теста группа B проигрывала группе A (видны резкие снижения в течение первых 5ти дней), затем вырвалась вперёд. Потом её конверсия показывает резкий рост, также в конце тестирования она постепенно растёт."
   ]
  },
  {
   "cell_type": "markdown",
   "metadata": {},
   "source": [
    "**Промежуточные выводы по данным А/B-теста**\n",
    "\n"
   ]
  },
  {
   "cell_type": "markdown",
   "metadata": {},
   "source": [
    "**Выручка**: В начале теста группы имели примерно одинаковую выручку, но группа В впоследствии вырвалась вперед, возможно из-за резкого всплеска числа заказов. По итогам теста группа В приносит больше выручки, чем группа А.\n",
    "\n",
    "**Средний чек**: Графики кумулятивного среднего чека также показывают резкие скачки, возможно, вызванные аномально большими заказами или изменениями в ассортименте товаров. В целом, средний чек в группе В оказался выше, чем в группе А, но наблюдаются тенденции к снижению среднего чека в обеих группах к концу теста.\n",
    "\n",
    "**Конверсия**: В начале теста группа А имела более высокую конверсию, но затем группа В вырвалась вперед и продолжала расти. В конечном итоге, кумулятивная конверсия в покупку оказалась выше у группы В. Конверсия в обеих группах снижалась к концу теста.\n",
    "\n",
    "**Резкие скачки и аномалии**: Наличие резких скачков на графиках выручки, среднего чека и конверсии свидетельствует о наличии аномалий или выбросов в данных. Эти аномалии могут исказить результаты теста и требуют дополнительного анализа."
   ]
  },
  {
   "cell_type": "markdown",
   "metadata": {},
   "source": [
    "####"
   ]
  },
  {
   "cell_type": "markdown",
   "metadata": {},
   "source": [
    "### Анализ выбросов и всплесков"
   ]
  },
  {
   "cell_type": "markdown",
   "metadata": {},
   "source": [
    "**График количества заказов по пользователям**"
   ]
  },
  {
   "cell_type": "code",
   "execution_count": 23,
   "metadata": {},
   "outputs": [
    {
     "data": {
      "text/html": [
       "<div>\n",
       "<style scoped>\n",
       "    .dataframe tbody tr th:only-of-type {\n",
       "        vertical-align: middle;\n",
       "    }\n",
       "\n",
       "    .dataframe tbody tr th {\n",
       "        vertical-align: top;\n",
       "    }\n",
       "\n",
       "    .dataframe thead th {\n",
       "        text-align: right;\n",
       "    }\n",
       "</style>\n",
       "<table border=\"1\" class=\"dataframe\">\n",
       "  <thead>\n",
       "    <tr style=\"text-align: right;\">\n",
       "      <th></th>\n",
       "      <th>count</th>\n",
       "    </tr>\n",
       "    <tr>\n",
       "      <th>visitor_id</th>\n",
       "      <th></th>\n",
       "    </tr>\n",
       "  </thead>\n",
       "  <tbody>\n",
       "    <tr>\n",
       "      <th>4256040402</th>\n",
       "      <td>11</td>\n",
       "    </tr>\n",
       "    <tr>\n",
       "      <th>2458001652</th>\n",
       "      <td>11</td>\n",
       "    </tr>\n",
       "    <tr>\n",
       "      <th>2378935119</th>\n",
       "      <td>9</td>\n",
       "    </tr>\n",
       "    <tr>\n",
       "      <th>2038680547</th>\n",
       "      <td>8</td>\n",
       "    </tr>\n",
       "    <tr>\n",
       "      <th>199603092</th>\n",
       "      <td>5</td>\n",
       "    </tr>\n",
       "  </tbody>\n",
       "</table>\n",
       "</div>"
      ],
      "text/plain": [
       "            count\n",
       "visitor_id       \n",
       "4256040402     11\n",
       "2458001652     11\n",
       "2378935119      9\n",
       "2038680547      8\n",
       "199603092       5"
      ]
     },
     "execution_count": 23,
     "metadata": {},
     "output_type": "execute_result"
    }
   ],
   "source": [
    "# создадим сводную таблицу с колическом заказов по каждому пользователю \n",
    "orders_count = (\n",
    "    orders.groupby('visitor_id')\n",
    "    .agg({'transaction_id': 'nunique'})\n",
    ")\n",
    "orders_count.columns = ['count']\n",
    "orders_count.sort_values(by='count', ascending=False).head()"
   ]
  },
  {
   "cell_type": "code",
   "execution_count": 24,
   "metadata": {},
   "outputs": [
    {
     "data": {
      "image/png": "[encoded data removed]",
      "text/plain": [
       "<Figure size 936x360 with 1 Axes>"
      ]
     },
     "metadata": {
      "needs_background": "light"
     },
     "output_type": "display_data"
    }
   ],
   "source": [
    "# точечный график количества заказов по пользователям\n",
    "plt.figure(figsize=(13, 5))\n",
    "x_values = pd.Series(range(0,len(orders_count['count'])))\n",
    "plt.scatter(x_values, orders_count['count'])\n",
    "plt.title('График количества заказов по пользователям')\n",
    "plt.ylabel('Количество заказов');"
   ]
  },
  {
   "cell_type": "markdown",
   "metadata": {},
   "source": [
    "**Выводы**\n",
    "1. Большинство значений колеблятся вокруг 1 и 2 заказов, и плотность графика естественное убывает с увеличением количества заказов.\n",
    "2. Присутствуют выбросы: 2 пользователя сделали по 11 заказов, также есть значения в 9 и 8 заказов."
   ]
  },
  {
   "cell_type": "markdown",
   "metadata": {},
   "source": [
    "Посчитаем 95-й и 99-й перцентили количества заказов на пользователя и выберем границу для определения аномальных пользователей."
   ]
  },
  {
   "cell_type": "code",
   "execution_count": 25,
   "metadata": {},
   "outputs": [
    {
     "data": {
      "text/plain": [
       "array([2., 4.])"
      ]
     },
     "execution_count": 25,
     "metadata": {},
     "output_type": "execute_result"
    }
   ],
   "source": [
    "np.percentile(orders_count['count'], [95, 99])"
   ]
  },
  {
   "cell_type": "markdown",
   "metadata": {},
   "source": [
    "**Выводы**\n",
    "1. Не более 5% пользователей оформляли больше 2 заказов\n",
    "2. Не более 1% пользователей заказывали больше 4 раз\n",
    "3. Значит границей нормальных пользователей определим 4 заказа"
   ]
  },
  {
   "cell_type": "markdown",
   "metadata": {},
   "source": [
    "**График стоимость заказов по пользователям**"
   ]
  },
  {
   "cell_type": "code",
   "execution_count": 26,
   "metadata": {},
   "outputs": [
    {
     "data": {
      "image/png": "[encoded data removed]",
      "text/plain": [
       "<Figure size 936x360 with 1 Axes>"
      ]
     },
     "metadata": {
      "needs_background": "light"
     },
     "output_type": "display_data"
    }
   ],
   "source": [
    "# точечный график стоимости заказов\n",
    "plt.figure(figsize=(13, 5))\n",
    "x_values = pd.Series(range(0,len(orders['revenue'])))\n",
    "plt.scatter(x_values, orders['revenue'])\n",
    "plt.title('График стоимости заказов по пользователям')\n",
    "plt.ylabel('Сумма заказа в млн');"
   ]
  },
  {
   "cell_type": "markdown",
   "metadata": {},
   "source": [
    "Видно, что значение 1.2 и 0.2 млн руб сильно выбиваются из общей массы заказов"
   ]
  },
  {
   "cell_type": "markdown",
   "metadata": {},
   "source": [
    "Посмотри на распредление стоимости заказов по пользователям, отбросив выбросы"
   ]
  },
  {
   "cell_type": "code",
   "execution_count": 27,
   "metadata": {},
   "outputs": [
    {
     "data": {
      "image/png": "[encoded data removed]",
      "text/plain": [
       "<Figure size 936x360 with 1 Axes>"
      ]
     },
     "metadata": {
      "needs_background": "light"
     },
     "output_type": "display_data"
    }
   ],
   "source": [
    "# точечный график стоимости заказов\n",
    "plt.figure(figsize=(13, 5))\n",
    "x_values = pd.Series(range(0,len(orders['revenue'])))\n",
    "plt.scatter(x_values, orders['revenue'])\n",
    "plt.ylim(0, 150000)\n",
    "plt.title('График стоимости заказов по пользователям')\n",
    "plt.ylabel('Сумма заказа в млн');"
   ]
  },
  {
   "cell_type": "markdown",
   "metadata": {},
   "source": [
    "По данным, очищенным от выбросов, видим, что стоимость большинства заказов < 20 000."
   ]
  },
  {
   "cell_type": "markdown",
   "metadata": {},
   "source": [
    "Посчитаем 95-й и 99-й перцентили стоимости заказов ивыберем границу для определения аномальных заказов"
   ]
  },
  {
   "cell_type": "code",
   "execution_count": 28,
   "metadata": {},
   "outputs": [
    {
     "data": {
      "text/plain": [
       "array([28000. , 58233.2])"
      ]
     },
     "execution_count": 28,
     "metadata": {},
     "output_type": "execute_result"
    }
   ],
   "source": [
    "np.percentile(orders['revenue'], [95, 99])"
   ]
  },
  {
   "cell_type": "markdown",
   "metadata": {},
   "source": [
    "**Вывод**\n",
    "\n",
    "Не более 5% заказов дороже 28 000 рублей и не более 1% дороже 58 233.2 рублей.\n",
    "\n",
    "Определим границу для аномальных заказов в 28 000 рублей."
   ]
  },
  {
   "cell_type": "markdown",
   "metadata": {},
   "source": [
    "### Проверка статистической значимости"
   ]
  },
  {
   "cell_type": "markdown",
   "metadata": {},
   "source": [
    "Посчитаем статистическую значимость различий в среднем числе заказов на пользователя и среднем чеке между группами по «сырым» данным — без удаления аномальных пользователей и по \"очищенным\" данным. \n",
    "\n",
    "Уровень значимости примем за 5%."
   ]
  },
  {
   "cell_type": "markdown",
   "metadata": {},
   "source": [
    "**Статистическая значимость различий в среднем количестве заказов на посетителя между группами по «сырым» данным**"
   ]
  },
  {
   "cell_type": "markdown",
   "metadata": {},
   "source": [
    "Гипотезы\n",
    "\n",
    "**Нулевая**: различий в среднем количестве заказов между группами нет. \n",
    "\n",
    "**Альтернативная**: различия в среднем между группами есть."
   ]
  },
  {
   "cell_type": "code",
   "execution_count": 29,
   "metadata": {},
   "outputs": [],
   "source": [
    "# создадим переменные, в которых будут пользователи, совершившие хотя бы 1 заказ\n",
    "orders_users_a = (\n",
    "    orders[orders['group'] == 'A']\n",
    "    .groupby('visitor_id', as_index=False)\n",
    "    .agg({'transaction_id': pd.Series.nunique})\n",
    ")\n",
    "orders_users_a.columns = ['visitor_id', 'orders']\n",
    "\n",
    "orders_users_b = (\n",
    "    orders[orders['group'] == 'B']\n",
    "    .groupby('visitor_id', as_index=False)\n",
    "    .agg({'transaction_id': pd.Series.nunique})\n",
    ")\n",
    "orders_users_b.columns = ['visitor_id', 'orders']"
   ]
  },
  {
   "cell_type": "code",
   "execution_count": 30,
   "metadata": {},
   "outputs": [],
   "source": [
    "# объявим переменные sample_a и sample_b, в которых пользователям из разных групп будет соответствовать количество заказов\n",
    "sample_a = pd.concat(\n",
    "    [\n",
    "        orders_users_a['orders'],\n",
    "        pd.Series(\n",
    "            0,\n",
    "            index=np.arange(\n",
    "                visitors[visitors['group'] == 'A']['visitors'].sum() - len(orders_users_a['orders'])\n",
    "            ),\n",
    "            name='orders',\n",
    "        ),\n",
    "    ],\n",
    "    axis=0,\n",
    ")\n",
    "\n",
    "sample_b = pd.concat(\n",
    "    [\n",
    "        orders_users_b['orders'],\n",
    "        pd.Series(\n",
    "            0,\n",
    "            index=np.arange(\n",
    "                visitors[visitors['group'] == 'B']['visitors'].sum() - len(orders_users_b['orders'])\n",
    "            ),\n",
    "            name='orders',\n",
    "        ),\n",
    "    ],\n",
    "    axis=0,\n",
    ")"
   ]
  },
  {
   "cell_type": "code",
   "execution_count": 31,
   "metadata": {},
   "outputs": [
    {
     "name": "stdout",
     "output_type": "stream",
     "text": [
      "p_value = 0.017\n",
      "Относительный прирост среднего числа заказов группы B = 0.138\n"
     ]
    }
   ],
   "source": [
    "# применим критерий Манна-Уитни и отформатируем p-value, округлив его до трёх знаков после запятой\n",
    "\n",
    "print('p_value =', '{0:.3f}'.format(stats.mannwhitneyu(sample_a, sample_b)[1]))\n",
    "\n",
    "print('Относительный прирост среднего числа заказов группы B =', '{0:.3f}'.format(sample_b.mean() / sample_a.mean() - 1))"
   ]
  },
  {
   "cell_type": "markdown",
   "metadata": {},
   "source": [
    "**Выводы**\n",
    "1. P_value меньше 0.05, значит, нулевую гипотезу о том, что статистически значимых различий в среднем числе заказов между группами нет, отвергаем, различия есть. \n",
    "2. Относительный выигрыш группы B равен 13.8%"
   ]
  },
  {
   "cell_type": "markdown",
   "metadata": {},
   "source": [
    "**Статистическая значимость различий в среднем чеке заказа между группами по «сырым» данным**"
   ]
  },
  {
   "cell_type": "markdown",
   "metadata": {},
   "source": [
    "Гипотезы\n",
    "\n",
    "**Нулевая**: различий в среднем чеке между группами нет. \n",
    "\n",
    "**Альтернативная**: различия в среднем чеке между группами есть. "
   ]
  },
  {
   "cell_type": "code",
   "execution_count": 32,
   "metadata": {},
   "outputs": [
    {
     "name": "stdout",
     "output_type": "stream",
     "text": [
      "p_value = 0.729\n",
      "Относительный прирост среднего чека группы В = 0.259\n"
     ]
    }
   ],
   "source": [
    "print(\n",
    "    'p_value =', \n",
    "    '{0:.3f}'.format(\n",
    "        stats.mannwhitneyu(\n",
    "            orders[orders['group']=='A']['revenue'],\n",
    "            orders[orders['group']=='B']['revenue'])[1]\n",
    "    )\n",
    ")\n",
    "\n",
    "print(\n",
    "    'Относительный прирост среднего чека группы В =',\n",
    "    '{0:.3f}'.format(\n",
    "        orders[orders['group']=='B']['revenue'].mean()\n",
    "        /orders[orders['group']=='A']['revenue'].mean()\n",
    "        -1\n",
    "    )\n",
    ")"
   ]
  },
  {
   "cell_type": "markdown",
   "metadata": {},
   "source": [
    "**Выводы**\n",
    "1. P-value значительно больше 0.05. Значит, причин отвергать нулевую гипотезу и считать, что в среднем чеке есть различия, нет.\n",
    "2. При этом средний чек группы B выше среднего чека группы A на 25.9%\n",
    "3. Поскольку относительное различие среднего чека между сегментами составляет около 26%, наблюдаемые различия не являются значимыми при заданном уровне значимости в 5%, а следовательно были получены случайно."
   ]
  },
  {
   "cell_type": "markdown",
   "metadata": {},
   "source": [
    "**Cтатистическая значимость различий в среднем количестве заказов на посетителя между группами по «очищенным» данным**"
   ]
  },
  {
   "cell_type": "markdown",
   "metadata": {},
   "source": [
    "Примем за аномальных пользователей тех, кто совершил от 3 заказов или совершил заказ дороже 28 000 рублей. Так мы уберём от 1% до 5% пользователей с наибольшим числом заказов и 5% пользователей с дорогими заказами."
   ]
  },
  {
   "cell_type": "code",
   "execution_count": 33,
   "metadata": {},
   "outputs": [
    {
     "data": {
      "text/plain": [
       "1099    148427295\n",
       "928     204675465\n",
       "684     358944393\n",
       "648     382846391\n",
       "1189    393266494\n",
       "Name: visitor_id, dtype: int64"
      ]
     },
     "execution_count": 33,
     "metadata": {},
     "output_type": "execute_result"
    }
   ],
   "source": [
    "# вычисление 99-го процентиля для количества заказов\n",
    "orders_99 = np.percentile(orders_count['count'], 99)\n",
    "\n",
    "users_many_orders = pd.concat(\n",
    "    [\n",
    "        orders_users_a[orders_users_a['orders'] > orders_99]['visitor_id'],\n",
    "        orders_users_b[orders_users_b['orders'] > orders_99]['visitor_id'],\n",
    "    ],\n",
    "    axis=0,\n",
    ")\n",
    "# вычисление 95-го процентиля для столбца 'revenue'\n",
    "revenue_95 = np.percentile(orders['revenue'], 95)\n",
    "\n",
    "# выбираем все строки, где 'revenue' больше 95-го процентиля\n",
    "users_expensive_orders = orders[orders['revenue'] > revenue_95]['visitor_id']\n",
    "\n",
    "abnormal_users = (\n",
    "    pd.concat([users_many_orders, users_expensive_orders], axis=0)\n",
    "    .drop_duplicates()\n",
    "    .sort_values()\n",
    ")\n",
    "abnormal_users.head()"
   ]
  },
  {
   "cell_type": "code",
   "execution_count": 34,
   "metadata": {},
   "outputs": [],
   "source": [
    "# отфильтруем переменные\n",
    "sample_a_filt = pd.concat(\n",
    "    [\n",
    "        orders_users_a[\n",
    "            np.logical_not(orders_users_a['visitor_id'].isin(abnormal_users))\n",
    "        ]['orders'],\n",
    "        pd.Series(\n",
    "            0,\n",
    "            index=np.arange(\n",
    "                visitors[visitors['group'] == 'A']['visitors'].sum() - len(orders_users_a['orders'])\n",
    "            ),\n",
    "            name='orders',\n",
    "        ),\n",
    "    ],\n",
    "    axis=0,\n",
    ")\n",
    "\n",
    "sample_b_filt = pd.concat(\n",
    "    [\n",
    "        orders_users_b[\n",
    "            np.logical_not(orders_users_b['visitor_id'].isin(abnormal_users))\n",
    "        ]['orders'],\n",
    "        pd.Series(\n",
    "            0,\n",
    "            index=np.arange(\n",
    "                visitors[visitors['group'] == 'B']['visitors'].sum() - len(orders_users_b['orders'])\n",
    "            ),\n",
    "            name='orders',\n",
    "        ),\n",
    "    ],\n",
    "    axis=0,\n",
    ")"
   ]
  },
  {
   "cell_type": "code",
   "execution_count": 35,
   "metadata": {},
   "outputs": [
    {
     "name": "stdout",
     "output_type": "stream",
     "text": [
      "p_value = 0.018\n",
      "Относительный прирост среднего чека группы В = 0.145\n"
     ]
    }
   ],
   "source": [
    "# применим статистический критерий Манна-Уитни к полученным выборкам\n",
    "print(\n",
    "    'p_value =', \n",
    "      '{0:.3f}'.format(\n",
    "          stats.mannwhitneyu(sample_a_filt, sample_b_filt)[1]\n",
    "      )\n",
    "     )\n",
    "print(\n",
    "    'Относительный прирост среднего чека группы В =',\n",
    "      '{0:.3f}'.format(\n",
    "          sample_b_filt.mean()\n",
    "          /sample_a_filt.mean()-1\n",
    "      )\n",
    "     )"
   ]
  },
  {
   "cell_type": "markdown",
   "metadata": {},
   "source": [
    "**Выводы**\n",
    "1. P_value меньше 0.05, значит, нулевую гипотезу о том, что статистически значимых различий в среднем числе заказов между группами нет, все же отвергаем. \n",
    "2. Относительный выигрыш группы B равен 14.5%, что выше по сравнению с \"сырыми данными\" на почти 1%"
   ]
  },
  {
   "cell_type": "markdown",
   "metadata": {},
   "source": [
    "**Статистическая значимость различий в среднем чеке заказа между группами по «очищенным» данным**"
   ]
  },
  {
   "cell_type": "code",
   "execution_count": 36,
   "metadata": {},
   "outputs": [
    {
     "name": "stdout",
     "output_type": "stream",
     "text": [
      "p_value = 0.961\n",
      "Относительный прирост среднего чека группы В = -0.014\n"
     ]
    }
   ],
   "source": [
    "print(\n",
    "    'p_value =',\n",
    "    '{0:.3f}'.format(\n",
    "        stats.mannwhitneyu(\n",
    "            orders[\n",
    "                np.logical_and(\n",
    "                    orders['group'] == 'A',\n",
    "                    np.logical_not(orders['visitor_id'].isin(abnormal_users)),\n",
    "                )\n",
    "            ]['revenue'],\n",
    "            orders[\n",
    "                np.logical_and(\n",
    "                    orders['group'] == 'B',\n",
    "                    np.logical_not(orders['visitor_id'].isin(abnormal_users)),\n",
    "                )\n",
    "            ]['revenue'],\n",
    "        )[1]\n",
    "    )\n",
    ")\n",
    "\n",
    "print(\n",
    "    'Относительный прирост среднего чека группы В =',\n",
    "    '{0:.3f}'.format(\n",
    "        orders[\n",
    "            np.logical_and(\n",
    "                orders['group'] == 'B',\n",
    "                np.logical_not(orders['visitor_id'].isin(abnormal_users)),\n",
    "            )\n",
    "        ]['revenue'].mean()\n",
    "        / orders[\n",
    "            np.logical_and(\n",
    "                orders['group'] == 'A',\n",
    "                np.logical_not(orders['visitor_id'].isin(abnormal_users)),\n",
    "            )\n",
    "        ]['revenue'].mean()\n",
    "        - 1\n",
    "    )\n",
    ")"
   ]
  },
  {
   "cell_type": "markdown",
   "metadata": {},
   "source": [
    "**Выводы**\n",
    "1. P-value значительно больше 0.05 и увеличился после очистки от аномалий. В любом случае, причин отвергать нулевую гипотезу и считать, что в среднем чеке есть различия, нет.\n",
    "2. Относительный проигрыш по среднему чеку группы В получился 1%, что кардинально отличается от значения почти в 26% в \"сырых данных\""
   ]
  },
  {
   "cell_type": "markdown",
   "metadata": {},
   "source": [
    "### Общий вывод"
   ]
  },
  {
   "cell_type": "markdown",
   "metadata": {},
   "source": [
    "Имеющиеся факты:\n",
    "1. Есть статистически значимое различие по среднему количеству заказов между группами и по «сырым», и по данным после фильтрации аномалий\n",
    "2. Нет статистически значимого различия по среднему чеку между группами ни по «сырым», ни по данным после фильтрации аномалий;\n",
    "3. График различия среднего количества заказов между группами сообщает, что результаты группы B лучше группы A\n",
    "4. График различия среднего чека говорит о том, что результаты группы B лучше чем у А\n",
    "\n",
    "Исходя из обнаруженных фактов, тест следует остановить. Лучшие результаты в выручке, конверсии и по среднему количеству заказов показывает группа В, но по отфильтрованным данным по среднему чеку между группами группа В проигрывает группе А на 2%, что следует иметь в виду."
   ]
  }
 ],
 "metadata": {
  "ExecuteTimeLog": [
   {
    "duration": 803,
    "start_time": "2023-10-07T13:20:25.049Z"
   },
   {
    "duration": 1299,
    "start_time": "2023-10-07T13:20:25.854Z"
   },
   {
    "duration": 78,
    "start_time": "2023-10-07T13:20:39.930Z"
   },
   {
    "duration": 17,
    "start_time": "2023-10-07T13:21:11.797Z"
   },
   {
    "duration": 462,
    "start_time": "2023-10-07T13:21:55.174Z"
   },
   {
    "duration": 19,
    "start_time": "2023-10-07T13:21:55.698Z"
   },
   {
    "duration": 67,
    "start_time": "2023-10-07T13:23:23.566Z"
   },
   {
    "duration": 7,
    "start_time": "2023-10-07T13:34:07.714Z"
   },
   {
    "duration": 6,
    "start_time": "2023-10-07T13:34:23.089Z"
   },
   {
    "duration": 92,
    "start_time": "2023-10-07T13:35:26.242Z"
   },
   {
    "duration": 52,
    "start_time": "2023-10-07T13:35:43.841Z"
   },
   {
    "duration": 52,
    "start_time": "2023-10-07T13:35:55.102Z"
   },
   {
    "duration": 52,
    "start_time": "2023-10-07T13:36:03.470Z"
   },
   {
    "duration": 93,
    "start_time": "2023-10-07T13:55:43.234Z"
   },
   {
    "duration": 174,
    "start_time": "2023-10-07T13:56:29.562Z"
   },
   {
    "duration": 174,
    "start_time": "2023-10-07T13:56:36.175Z"
   },
   {
    "duration": 12,
    "start_time": "2023-10-07T14:02:46.935Z"
   },
   {
    "duration": 13,
    "start_time": "2023-10-07T14:03:22.372Z"
   },
   {
    "duration": 13,
    "start_time": "2023-10-07T14:04:23.542Z"
   },
   {
    "duration": 964,
    "start_time": "2023-10-09T14:41:28.079Z"
   },
   {
    "duration": 1317,
    "start_time": "2023-10-09T14:41:29.045Z"
   },
   {
    "duration": 26,
    "start_time": "2023-10-09T14:41:30.364Z"
   },
   {
    "duration": 96,
    "start_time": "2023-10-09T14:41:30.392Z"
   },
   {
    "duration": 7,
    "start_time": "2023-10-09T14:41:30.490Z"
   },
   {
    "duration": 222,
    "start_time": "2023-10-09T14:41:30.499Z"
   },
   {
    "duration": 0,
    "start_time": "2023-10-09T14:41:30.723Z"
   },
   {
    "duration": 0,
    "start_time": "2023-10-09T14:41:30.724Z"
   },
   {
    "duration": 0,
    "start_time": "2023-10-09T14:41:30.725Z"
   },
   {
    "duration": 1,
    "start_time": "2023-10-09T14:41:30.726Z"
   },
   {
    "duration": 0,
    "start_time": "2023-10-09T14:41:30.728Z"
   },
   {
    "duration": 0,
    "start_time": "2023-10-09T14:41:30.729Z"
   },
   {
    "duration": 113,
    "start_time": "2023-10-09T14:41:59.548Z"
   },
   {
    "duration": 57,
    "start_time": "2023-10-09T14:44:34.909Z"
   },
   {
    "duration": 183,
    "start_time": "2023-10-09T14:44:44.440Z"
   },
   {
    "duration": 60,
    "start_time": "2023-10-09T14:44:49.998Z"
   },
   {
    "duration": 60,
    "start_time": "2023-10-09T14:45:07.540Z"
   },
   {
    "duration": 84,
    "start_time": "2023-10-09T14:45:26.279Z"
   },
   {
    "duration": 30,
    "start_time": "2023-10-09T14:45:33.105Z"
   },
   {
    "duration": 58,
    "start_time": "2023-10-09T14:45:37.892Z"
   },
   {
    "duration": 61,
    "start_time": "2023-10-09T14:45:42.911Z"
   },
   {
    "duration": 107,
    "start_time": "2023-10-09T14:45:45.035Z"
   },
   {
    "duration": 86,
    "start_time": "2023-10-09T14:47:24.731Z"
   },
   {
    "duration": 62,
    "start_time": "2023-10-09T14:53:10.605Z"
   },
   {
    "duration": 795,
    "start_time": "2023-10-09T18:23:35.501Z"
   },
   {
    "duration": 1260,
    "start_time": "2023-10-09T18:23:36.298Z"
   },
   {
    "duration": 22,
    "start_time": "2023-10-09T18:23:37.560Z"
   },
   {
    "duration": 73,
    "start_time": "2023-10-09T18:23:37.584Z"
   },
   {
    "duration": 5,
    "start_time": "2023-10-09T18:23:37.659Z"
   },
   {
    "duration": 125,
    "start_time": "2023-10-09T18:23:37.665Z"
   },
   {
    "duration": 91,
    "start_time": "2023-10-09T18:23:37.792Z"
   },
   {
    "duration": 177,
    "start_time": "2023-10-09T18:23:37.884Z"
   },
   {
    "duration": 12,
    "start_time": "2023-10-09T18:23:38.063Z"
   },
   {
    "duration": 23,
    "start_time": "2023-10-09T18:23:38.077Z"
   },
   {
    "duration": 103,
    "start_time": "2023-10-09T18:23:38.101Z"
   },
   {
    "duration": 0,
    "start_time": "2023-10-09T18:23:38.206Z"
   },
   {
    "duration": 3,
    "start_time": "2023-10-09T18:25:13.282Z"
   },
   {
    "duration": 446,
    "start_time": "2023-10-09T18:25:13.937Z"
   },
   {
    "duration": 18,
    "start_time": "2023-10-09T18:25:20.326Z"
   },
   {
    "duration": 233,
    "start_time": "2023-10-09T18:25:58.317Z"
   },
   {
    "duration": 17,
    "start_time": "2023-10-09T18:26:00.488Z"
   },
   {
    "duration": 26,
    "start_time": "2023-10-09T18:26:07.682Z"
   },
   {
    "duration": 6,
    "start_time": "2023-10-09T18:26:43.883Z"
   },
   {
    "duration": 22,
    "start_time": "2023-10-09T18:26:44.938Z"
   },
   {
    "duration": 8,
    "start_time": "2023-10-09T18:26:52.450Z"
   },
   {
    "duration": 22,
    "start_time": "2023-10-09T18:28:20.316Z"
   },
   {
    "duration": 164,
    "start_time": "2023-10-09T18:28:57.580Z"
   },
   {
    "duration": 286,
    "start_time": "2023-10-09T18:37:48.472Z"
   },
   {
    "duration": 294,
    "start_time": "2023-10-09T18:38:04.227Z"
   },
   {
    "duration": 261,
    "start_time": "2023-10-09T18:39:28.897Z"
   },
   {
    "duration": 172,
    "start_time": "2023-10-09T18:39:32.014Z"
   },
   {
    "duration": 272,
    "start_time": "2023-10-09T18:41:44.176Z"
   },
   {
    "duration": 240,
    "start_time": "2023-10-09T18:41:56.859Z"
   },
   {
    "duration": 189,
    "start_time": "2023-10-09T18:42:06.875Z"
   },
   {
    "duration": 187,
    "start_time": "2023-10-09T18:43:10.332Z"
   },
   {
    "duration": 173,
    "start_time": "2023-10-09T18:49:06.367Z"
   },
   {
    "duration": 228,
    "start_time": "2023-10-09T18:49:34.434Z"
   },
   {
    "duration": 327,
    "start_time": "2023-10-09T19:17:32.748Z"
   },
   {
    "duration": 144,
    "start_time": "2023-10-09T19:17:56.092Z"
   },
   {
    "duration": 284,
    "start_time": "2023-10-09T19:18:16.704Z"
   },
   {
    "duration": 310,
    "start_time": "2023-10-09T19:18:22.719Z"
   },
   {
    "duration": 253,
    "start_time": "2023-10-09T19:18:42.881Z"
   },
   {
    "duration": 196,
    "start_time": "2023-10-09T19:23:17.263Z"
   },
   {
    "duration": 252,
    "start_time": "2023-10-09T19:23:21.684Z"
   },
   {
    "duration": 224,
    "start_time": "2023-10-09T19:23:34.543Z"
   },
   {
    "duration": 190,
    "start_time": "2023-10-09T19:23:39.155Z"
   },
   {
    "duration": 296,
    "start_time": "2023-10-09T19:23:43.129Z"
   },
   {
    "duration": 204,
    "start_time": "2023-10-09T19:24:16.493Z"
   },
   {
    "duration": 195,
    "start_time": "2023-10-09T19:24:43.004Z"
   },
   {
    "duration": 194,
    "start_time": "2023-10-09T19:25:11.456Z"
   },
   {
    "duration": 204,
    "start_time": "2023-10-09T19:25:28.598Z"
   },
   {
    "duration": 9,
    "start_time": "2023-10-09T19:29:16.204Z"
   },
   {
    "duration": 342,
    "start_time": "2023-10-09T19:29:23.039Z"
   },
   {
    "duration": 889,
    "start_time": "2023-10-10T12:59:54.323Z"
   },
   {
    "duration": 297,
    "start_time": "2023-10-10T12:59:55.214Z"
   },
   {
    "duration": 18,
    "start_time": "2023-10-10T12:59:55.513Z"
   },
   {
    "duration": 32,
    "start_time": "2023-10-10T12:59:55.533Z"
   },
   {
    "duration": 5,
    "start_time": "2023-10-10T12:59:55.567Z"
   },
   {
    "duration": 44,
    "start_time": "2023-10-10T12:59:55.574Z"
   },
   {
    "duration": 41,
    "start_time": "2023-10-10T12:59:55.619Z"
   },
   {
    "duration": 27,
    "start_time": "2023-10-10T12:59:55.662Z"
   },
   {
    "duration": 26,
    "start_time": "2023-10-10T12:59:55.691Z"
   },
   {
    "duration": 294,
    "start_time": "2023-10-10T12:59:55.718Z"
   },
   {
    "duration": 307,
    "start_time": "2023-10-10T12:59:56.014Z"
   },
   {
    "duration": 198,
    "start_time": "2023-10-10T12:59:56.323Z"
   },
   {
    "duration": 375,
    "start_time": "2023-10-10T12:59:56.523Z"
   },
   {
    "duration": 282,
    "start_time": "2023-10-10T12:59:56.900Z"
   },
   {
    "duration": 296,
    "start_time": "2023-10-10T12:59:57.184Z"
   },
   {
    "duration": 283,
    "start_time": "2023-10-10T13:08:01.085Z"
   },
   {
    "duration": 337,
    "start_time": "2023-10-10T13:08:15.842Z"
   },
   {
    "duration": 133,
    "start_time": "2023-10-10T13:17:27.869Z"
   },
   {
    "duration": 122,
    "start_time": "2023-10-10T13:48:26.832Z"
   },
   {
    "duration": 112,
    "start_time": "2023-10-10T13:48:30.461Z"
   },
   {
    "duration": 895,
    "start_time": "2023-10-11T13:39:24.498Z"
   },
   {
    "duration": 246,
    "start_time": "2023-10-11T13:39:25.396Z"
   },
   {
    "duration": 25,
    "start_time": "2023-10-11T13:39:25.644Z"
   },
   {
    "duration": 33,
    "start_time": "2023-10-11T13:39:25.671Z"
   },
   {
    "duration": 7,
    "start_time": "2023-10-11T13:39:25.706Z"
   },
   {
    "duration": 22,
    "start_time": "2023-10-11T13:39:25.715Z"
   },
   {
    "duration": 43,
    "start_time": "2023-10-11T13:39:25.739Z"
   },
   {
    "duration": 16,
    "start_time": "2023-10-11T13:39:25.784Z"
   },
   {
    "duration": 14,
    "start_time": "2023-10-11T13:39:25.802Z"
   },
   {
    "duration": 340,
    "start_time": "2023-10-11T13:39:25.819Z"
   },
   {
    "duration": 352,
    "start_time": "2023-10-11T13:39:26.161Z"
   },
   {
    "duration": 268,
    "start_time": "2023-10-11T13:39:26.515Z"
   },
   {
    "duration": 400,
    "start_time": "2023-10-11T13:39:26.785Z"
   },
   {
    "duration": 317,
    "start_time": "2023-10-11T13:39:27.187Z"
   },
   {
    "duration": 340,
    "start_time": "2023-10-11T13:39:27.507Z"
   },
   {
    "duration": 142,
    "start_time": "2023-10-11T13:39:27.848Z"
   },
   {
    "duration": 9,
    "start_time": "2023-10-11T14:04:56.863Z"
   },
   {
    "duration": 7,
    "start_time": "2023-10-11T14:05:20.130Z"
   },
   {
    "duration": 11,
    "start_time": "2023-10-11T14:05:31.860Z"
   },
   {
    "duration": 5,
    "start_time": "2023-10-11T14:05:51.389Z"
   },
   {
    "duration": 109,
    "start_time": "2023-10-11T14:05:54.361Z"
   },
   {
    "duration": 125,
    "start_time": "2023-10-11T14:06:12.739Z"
   },
   {
    "duration": 80,
    "start_time": "2023-10-11T14:09:04.622Z"
   },
   {
    "duration": 11,
    "start_time": "2023-10-11T14:09:34.835Z"
   },
   {
    "duration": 10,
    "start_time": "2023-10-11T14:11:43.790Z"
   },
   {
    "duration": 1573,
    "start_time": "2023-10-11T14:13:00.493Z"
   },
   {
    "duration": 147,
    "start_time": "2023-10-11T14:13:12.985Z"
   },
   {
    "duration": 16,
    "start_time": "2023-10-11T14:14:04.182Z"
   },
   {
    "duration": 130,
    "start_time": "2023-10-11T14:14:11.776Z"
   },
   {
    "duration": 7,
    "start_time": "2023-10-11T14:22:35.774Z"
   },
   {
    "duration": 5,
    "start_time": "2023-10-11T14:22:48.146Z"
   },
   {
    "duration": 85,
    "start_time": "2023-10-11T14:28:59.496Z"
   },
   {
    "duration": 16,
    "start_time": "2023-10-11T14:38:22.514Z"
   },
   {
    "duration": 149,
    "start_time": "2023-10-11T14:38:24.992Z"
   },
   {
    "duration": 134,
    "start_time": "2023-10-11T14:39:11.617Z"
   },
   {
    "duration": 5,
    "start_time": "2023-10-11T14:41:13.586Z"
   },
   {
    "duration": 5,
    "start_time": "2023-10-11T14:41:21.380Z"
   },
   {
    "duration": 4,
    "start_time": "2023-10-11T14:41:36.859Z"
   },
   {
    "duration": 136,
    "start_time": "2023-10-11T14:44:50.910Z"
   },
   {
    "duration": 5,
    "start_time": "2023-10-11T14:45:30.890Z"
   },
   {
    "duration": 1143,
    "start_time": "2023-10-11T14:52:02.527Z"
   },
   {
    "duration": 126,
    "start_time": "2023-10-11T14:52:03.672Z"
   },
   {
    "duration": 63,
    "start_time": "2023-10-11T14:52:03.800Z"
   },
   {
    "duration": 29,
    "start_time": "2023-10-11T14:52:03.865Z"
   },
   {
    "duration": 12,
    "start_time": "2023-10-11T14:52:03.896Z"
   },
   {
    "duration": 34,
    "start_time": "2023-10-11T14:52:03.910Z"
   },
   {
    "duration": 5,
    "start_time": "2023-10-11T14:52:03.946Z"
   },
   {
    "duration": 16,
    "start_time": "2023-10-11T14:52:03.952Z"
   },
   {
    "duration": 25,
    "start_time": "2023-10-11T14:52:03.970Z"
   },
   {
    "duration": 293,
    "start_time": "2023-10-11T14:52:03.997Z"
   },
   {
    "duration": 284,
    "start_time": "2023-10-11T14:52:04.292Z"
   },
   {
    "duration": 203,
    "start_time": "2023-10-11T14:52:04.578Z"
   },
   {
    "duration": 330,
    "start_time": "2023-10-11T14:52:04.782Z"
   },
   {
    "duration": 247,
    "start_time": "2023-10-11T14:52:05.114Z"
   },
   {
    "duration": 349,
    "start_time": "2023-10-11T14:52:05.362Z"
   },
   {
    "duration": 9,
    "start_time": "2023-10-11T14:52:05.713Z"
   },
   {
    "duration": 140,
    "start_time": "2023-10-11T14:52:05.724Z"
   },
   {
    "duration": 5,
    "start_time": "2023-10-11T14:52:05.866Z"
   },
   {
    "duration": 149,
    "start_time": "2023-10-11T14:52:05.873Z"
   },
   {
    "duration": 6,
    "start_time": "2023-10-11T14:52:06.025Z"
   },
   {
    "duration": 199,
    "start_time": "2023-10-11T15:01:47.569Z"
   },
   {
    "duration": 110,
    "start_time": "2023-10-11T15:02:37.880Z"
   },
   {
    "duration": 154,
    "start_time": "2023-10-11T15:03:50.299Z"
   },
   {
    "duration": 229,
    "start_time": "2023-10-11T15:04:18.157Z"
   },
   {
    "duration": 340,
    "start_time": "2023-10-11T15:04:26.494Z"
   },
   {
    "duration": 126,
    "start_time": "2023-10-11T15:05:58.880Z"
   },
   {
    "duration": 1431,
    "start_time": "2023-10-11T15:11:37.256Z"
   },
   {
    "duration": 11,
    "start_time": "2023-10-11T15:12:39.172Z"
   },
   {
    "duration": 148,
    "start_time": "2023-10-11T15:12:47.111Z"
   },
   {
    "duration": 1482,
    "start_time": "2023-10-11T15:12:48.063Z"
   },
   {
    "duration": 143,
    "start_time": "2023-10-11T15:13:18.666Z"
   },
   {
    "duration": 119,
    "start_time": "2023-10-11T15:14:55.213Z"
   },
   {
    "duration": 1782,
    "start_time": "2023-10-11T15:14:59.228Z"
   },
   {
    "duration": 152,
    "start_time": "2023-10-11T15:15:10.248Z"
   },
   {
    "duration": 2204,
    "start_time": "2023-10-11T15:15:10.654Z"
   },
   {
    "duration": 131,
    "start_time": "2023-10-11T15:15:29.935Z"
   },
   {
    "duration": 1719,
    "start_time": "2023-10-11T15:15:30.304Z"
   },
   {
    "duration": 7,
    "start_time": "2023-10-11T15:15:43.634Z"
   },
   {
    "duration": 10,
    "start_time": "2023-10-11T15:17:57.730Z"
   },
   {
    "duration": 7,
    "start_time": "2023-10-11T15:18:01.962Z"
   },
   {
    "duration": 127,
    "start_time": "2023-10-11T15:18:02.305Z"
   },
   {
    "duration": 6,
    "start_time": "2023-10-11T15:18:07.547Z"
   },
   {
    "duration": 26,
    "start_time": "2023-10-11T15:18:08.095Z"
   },
   {
    "duration": 25,
    "start_time": "2023-10-11T15:18:49.583Z"
   },
   {
    "duration": 26,
    "start_time": "2023-10-11T15:19:15.226Z"
   },
   {
    "duration": 26,
    "start_time": "2023-10-11T15:19:27.501Z"
   },
   {
    "duration": 25,
    "start_time": "2023-10-11T15:25:19.121Z"
   },
   {
    "duration": 16,
    "start_time": "2023-10-11T15:27:26.723Z"
   },
   {
    "duration": 12,
    "start_time": "2023-10-11T15:29:45.094Z"
   },
   {
    "duration": 12,
    "start_time": "2023-10-11T15:30:19.944Z"
   },
   {
    "duration": 11,
    "start_time": "2023-10-11T15:43:43.829Z"
   },
   {
    "duration": 10,
    "start_time": "2023-10-11T15:43:56.225Z"
   },
   {
    "duration": 1680,
    "start_time": "2023-10-11T15:45:09.981Z"
   },
   {
    "duration": 1723,
    "start_time": "2023-10-11T15:45:54.728Z"
   },
   {
    "duration": 8,
    "start_time": "2023-10-11T15:46:10.367Z"
   },
   {
    "duration": 24,
    "start_time": "2023-10-11T15:47:14.201Z"
   },
   {
    "duration": 24,
    "start_time": "2023-10-11T15:47:38.403Z"
   },
   {
    "duration": 24,
    "start_time": "2023-10-11T15:47:43.778Z"
   },
   {
    "duration": 11,
    "start_time": "2023-10-11T15:47:51.539Z"
   },
   {
    "duration": 13,
    "start_time": "2023-10-11T15:51:35.311Z"
   },
   {
    "duration": 14,
    "start_time": "2023-10-11T15:52:34.278Z"
   },
   {
    "duration": 1264,
    "start_time": "2023-10-11T16:03:05.651Z"
   },
   {
    "duration": 117,
    "start_time": "2023-10-11T16:03:06.917Z"
   },
   {
    "duration": 23,
    "start_time": "2023-10-11T16:03:07.036Z"
   },
   {
    "duration": 32,
    "start_time": "2023-10-11T16:03:07.061Z"
   },
   {
    "duration": 7,
    "start_time": "2023-10-11T16:03:07.095Z"
   },
   {
    "duration": 33,
    "start_time": "2023-10-11T16:03:07.105Z"
   },
   {
    "duration": 16,
    "start_time": "2023-10-11T16:03:07.141Z"
   },
   {
    "duration": 35,
    "start_time": "2023-10-11T16:03:07.160Z"
   },
   {
    "duration": 16,
    "start_time": "2023-10-11T16:03:07.197Z"
   },
   {
    "duration": 361,
    "start_time": "2023-10-11T16:03:07.217Z"
   },
   {
    "duration": 308,
    "start_time": "2023-10-11T16:03:07.581Z"
   },
   {
    "duration": 231,
    "start_time": "2023-10-11T16:03:07.892Z"
   },
   {
    "duration": 318,
    "start_time": "2023-10-11T16:03:08.125Z"
   },
   {
    "duration": 263,
    "start_time": "2023-10-11T16:03:08.444Z"
   },
   {
    "duration": 341,
    "start_time": "2023-10-11T16:03:08.709Z"
   },
   {
    "duration": 10,
    "start_time": "2023-10-11T16:03:09.052Z"
   },
   {
    "duration": 153,
    "start_time": "2023-10-11T16:03:09.064Z"
   },
   {
    "duration": 6,
    "start_time": "2023-10-11T16:03:09.219Z"
   },
   {
    "duration": 161,
    "start_time": "2023-10-11T16:03:09.227Z"
   },
   {
    "duration": 6,
    "start_time": "2023-10-11T16:03:09.390Z"
   },
   {
    "duration": 161,
    "start_time": "2023-10-11T16:03:09.398Z"
   },
   {
    "duration": 21,
    "start_time": "2023-10-11T16:03:09.560Z"
   },
   {
    "duration": 82,
    "start_time": "2023-10-11T16:03:09.584Z"
   },
   {
    "duration": 11,
    "start_time": "2023-10-11T16:03:09.668Z"
   },
   {
    "duration": 11,
    "start_time": "2023-10-11T16:03:09.681Z"
   },
   {
    "duration": 32,
    "start_time": "2023-10-11T16:03:09.694Z"
   },
   {
    "duration": 65,
    "start_time": "2023-10-11T16:03:09.728Z"
   },
   {
    "duration": 16,
    "start_time": "2023-10-11T16:03:09.797Z"
   },
   {
    "duration": 12,
    "start_time": "2023-10-11T16:07:36.542Z"
   },
   {
    "duration": 273,
    "start_time": "2023-10-11T16:33:01.417Z"
   },
   {
    "duration": 378,
    "start_time": "2023-10-11T16:33:07.697Z"
   },
   {
    "duration": 282,
    "start_time": "2023-10-11T16:33:34.691Z"
   },
   {
    "duration": 130,
    "start_time": "2023-10-11T16:33:57.515Z"
   },
   {
    "duration": 157,
    "start_time": "2023-10-11T16:34:04.768Z"
   },
   {
    "duration": 51,
    "start_time": "2023-10-11T19:03:35.527Z"
   },
   {
    "duration": 1383,
    "start_time": "2023-10-11T19:03:42.311Z"
   },
   {
    "duration": 242,
    "start_time": "2023-10-11T19:03:43.697Z"
   },
   {
    "duration": 27,
    "start_time": "2023-10-11T19:03:43.944Z"
   },
   {
    "duration": 171,
    "start_time": "2023-10-11T19:03:43.974Z"
   },
   {
    "duration": 69,
    "start_time": "2023-10-11T19:03:44.147Z"
   },
   {
    "duration": 27,
    "start_time": "2023-10-11T19:03:44.218Z"
   },
   {
    "duration": 32,
    "start_time": "2023-10-11T19:03:44.247Z"
   },
   {
    "duration": 63,
    "start_time": "2023-10-11T19:03:44.281Z"
   },
   {
    "duration": 19,
    "start_time": "2023-10-11T19:03:44.348Z"
   },
   {
    "duration": 309,
    "start_time": "2023-10-11T19:03:44.369Z"
   },
   {
    "duration": 880,
    "start_time": "2023-10-11T19:03:44.680Z"
   },
   {
    "duration": 679,
    "start_time": "2023-10-11T19:03:45.563Z"
   },
   {
    "duration": 714,
    "start_time": "2023-10-11T19:03:46.244Z"
   },
   {
    "duration": 277,
    "start_time": "2023-10-11T19:03:46.960Z"
   },
   {
    "duration": 343,
    "start_time": "2023-10-11T19:03:47.239Z"
   },
   {
    "duration": 11,
    "start_time": "2023-10-11T19:03:47.584Z"
   },
   {
    "duration": 212,
    "start_time": "2023-10-11T19:03:47.597Z"
   },
   {
    "duration": 11,
    "start_time": "2023-10-11T19:03:47.811Z"
   },
   {
    "duration": 256,
    "start_time": "2023-10-11T19:03:47.825Z"
   },
   {
    "duration": 5,
    "start_time": "2023-10-11T19:03:48.083Z"
   },
   {
    "duration": 258,
    "start_time": "2023-10-11T19:03:48.090Z"
   },
   {
    "duration": 8,
    "start_time": "2023-10-11T19:03:48.350Z"
   },
   {
    "duration": 43,
    "start_time": "2023-10-11T19:03:48.359Z"
   },
   {
    "duration": 38,
    "start_time": "2023-10-11T19:03:48.403Z"
   },
   {
    "duration": 54,
    "start_time": "2023-10-11T19:03:48.443Z"
   },
   {
    "duration": 52,
    "start_time": "2023-10-11T19:03:48.499Z"
   },
   {
    "duration": 56,
    "start_time": "2023-10-11T19:03:48.554Z"
   },
   {
    "duration": 31,
    "start_time": "2023-10-11T19:03:48.612Z"
   },
   {
    "duration": 12,
    "start_time": "2023-10-11T19:03:52.794Z"
   },
   {
    "duration": 13,
    "start_time": "2023-10-11T19:03:56.496Z"
   },
   {
    "duration": 13,
    "start_time": "2023-10-11T19:03:59.197Z"
   },
   {
    "duration": 12,
    "start_time": "2023-10-11T19:04:02.690Z"
   },
   {
    "duration": 12,
    "start_time": "2023-10-11T19:04:05.251Z"
   },
   {
    "duration": 18,
    "start_time": "2023-10-11T19:04:12.787Z"
   },
   {
    "duration": 13,
    "start_time": "2023-10-11T19:04:29.970Z"
   },
   {
    "duration": 20,
    "start_time": "2023-10-11T19:04:42.516Z"
   },
   {
    "duration": 10,
    "start_time": "2023-10-11T19:08:37.176Z"
   },
   {
    "duration": 12,
    "start_time": "2023-10-11T19:09:00.095Z"
   },
   {
    "duration": 11,
    "start_time": "2023-10-11T19:09:09.404Z"
   },
   {
    "duration": 1286,
    "start_time": "2023-10-11T19:35:58.161Z"
   },
   {
    "duration": 255,
    "start_time": "2023-10-11T19:35:59.450Z"
   },
   {
    "duration": 25,
    "start_time": "2023-10-11T19:35:59.707Z"
   },
   {
    "duration": 38,
    "start_time": "2023-10-11T19:35:59.734Z"
   },
   {
    "duration": 7,
    "start_time": "2023-10-11T19:35:59.774Z"
   },
   {
    "duration": 42,
    "start_time": "2023-10-11T19:35:59.783Z"
   },
   {
    "duration": 31,
    "start_time": "2023-10-11T19:35:59.827Z"
   },
   {
    "duration": 37,
    "start_time": "2023-10-11T19:35:59.860Z"
   },
   {
    "duration": 14,
    "start_time": "2023-10-11T19:35:59.899Z"
   },
   {
    "duration": 23,
    "start_time": "2023-10-11T19:35:59.915Z"
   },
   {
    "duration": 322,
    "start_time": "2023-10-11T19:35:59.940Z"
   },
   {
    "duration": 342,
    "start_time": "2023-10-11T19:36:00.265Z"
   },
   {
    "duration": 246,
    "start_time": "2023-10-11T19:36:00.610Z"
   },
   {
    "duration": 324,
    "start_time": "2023-10-11T19:36:00.858Z"
   },
   {
    "duration": 244,
    "start_time": "2023-10-11T19:36:01.185Z"
   },
   {
    "duration": 362,
    "start_time": "2023-10-11T19:36:01.431Z"
   },
   {
    "duration": 13,
    "start_time": "2023-10-11T19:36:01.794Z"
   },
   {
    "duration": 199,
    "start_time": "2023-10-11T19:36:01.809Z"
   },
   {
    "duration": 6,
    "start_time": "2023-10-11T19:36:02.010Z"
   },
   {
    "duration": 255,
    "start_time": "2023-10-11T19:36:02.018Z"
   },
   {
    "duration": 7,
    "start_time": "2023-10-11T19:36:02.276Z"
   },
   {
    "duration": 305,
    "start_time": "2023-10-11T19:36:02.285Z"
   },
   {
    "duration": 102,
    "start_time": "2023-10-11T19:36:02.593Z"
   },
   {
    "duration": 37,
    "start_time": "2023-10-11T19:36:02.697Z"
   },
   {
    "duration": 14,
    "start_time": "2023-10-11T19:36:02.736Z"
   },
   {
    "duration": 19,
    "start_time": "2023-10-11T19:36:02.752Z"
   },
   {
    "duration": 79,
    "start_time": "2023-10-11T19:36:02.772Z"
   },
   {
    "duration": 65,
    "start_time": "2023-10-11T19:36:02.855Z"
   },
   {
    "duration": 18,
    "start_time": "2023-10-11T19:36:02.922Z"
   },
   {
    "duration": 1430,
    "start_time": "2023-10-15T13:41:08.310Z"
   },
   {
    "duration": 281,
    "start_time": "2023-10-15T13:41:09.742Z"
   },
   {
    "duration": 23,
    "start_time": "2023-10-15T13:41:10.025Z"
   },
   {
    "duration": 65,
    "start_time": "2023-10-15T13:41:10.050Z"
   },
   {
    "duration": 12,
    "start_time": "2023-10-15T13:41:10.117Z"
   },
   {
    "duration": 57,
    "start_time": "2023-10-15T13:41:10.131Z"
   },
   {
    "duration": 17,
    "start_time": "2023-10-15T13:41:10.190Z"
   },
   {
    "duration": 50,
    "start_time": "2023-10-15T13:41:10.209Z"
   },
   {
    "duration": 17,
    "start_time": "2023-10-15T13:41:10.261Z"
   },
   {
    "duration": 50,
    "start_time": "2023-10-15T13:41:10.281Z"
   },
   {
    "duration": 315,
    "start_time": "2023-10-15T13:41:10.334Z"
   },
   {
    "duration": 313,
    "start_time": "2023-10-15T13:41:10.650Z"
   },
   {
    "duration": 223,
    "start_time": "2023-10-15T13:41:10.964Z"
   },
   {
    "duration": 351,
    "start_time": "2023-10-15T13:41:11.189Z"
   },
   {
    "duration": 237,
    "start_time": "2023-10-15T13:41:11.542Z"
   },
   {
    "duration": 320,
    "start_time": "2023-10-15T13:41:11.780Z"
   },
   {
    "duration": 11,
    "start_time": "2023-10-15T13:41:12.102Z"
   },
   {
    "duration": 165,
    "start_time": "2023-10-15T13:41:12.114Z"
   },
   {
    "duration": 5,
    "start_time": "2023-10-15T13:41:12.281Z"
   },
   {
    "duration": 175,
    "start_time": "2023-10-15T13:41:12.287Z"
   },
   {
    "duration": 5,
    "start_time": "2023-10-15T13:41:12.464Z"
   },
   {
    "duration": 153,
    "start_time": "2023-10-15T13:41:12.471Z"
   },
   {
    "duration": 8,
    "start_time": "2023-10-15T13:41:12.626Z"
   },
   {
    "duration": 39,
    "start_time": "2023-10-15T13:41:12.635Z"
   },
   {
    "duration": 15,
    "start_time": "2023-10-15T13:41:12.676Z"
   },
   {
    "duration": 13,
    "start_time": "2023-10-15T13:41:12.692Z"
   },
   {
    "duration": 13,
    "start_time": "2023-10-15T13:41:12.707Z"
   },
   {
    "duration": 37,
    "start_time": "2023-10-15T13:41:12.723Z"
   },
   {
    "duration": 14,
    "start_time": "2023-10-15T13:41:12.762Z"
   },
   {
    "duration": 100,
    "start_time": "2023-10-15T13:45:20.258Z"
   },
   {
    "duration": 231,
    "start_time": "2023-10-15T13:46:58.908Z"
   },
   {
    "duration": 333,
    "start_time": "2023-10-15T14:00:18.796Z"
   },
   {
    "duration": 167,
    "start_time": "2023-10-15T14:00:31.713Z"
   },
   {
    "duration": 139,
    "start_time": "2023-10-15T14:00:43.923Z"
   },
   {
    "duration": 175,
    "start_time": "2023-10-15T14:01:27.135Z"
   },
   {
    "duration": 163,
    "start_time": "2023-10-15T14:01:33.857Z"
   },
   {
    "duration": 169,
    "start_time": "2023-10-15T14:03:00.678Z"
   },
   {
    "duration": 184,
    "start_time": "2023-10-15T14:03:10.065Z"
   },
   {
    "duration": 173,
    "start_time": "2023-10-15T14:03:19.897Z"
   },
   {
    "duration": 178,
    "start_time": "2023-10-15T14:03:24.930Z"
   },
   {
    "duration": 18,
    "start_time": "2023-10-15T14:08:47.253Z"
   },
   {
    "duration": 1350,
    "start_time": "2023-10-15T14:09:04.461Z"
   },
   {
    "duration": 11,
    "start_time": "2023-10-15T14:13:59.598Z"
   },
   {
    "duration": 237,
    "start_time": "2023-10-15T14:15:34.311Z"
   },
   {
    "duration": 18,
    "start_time": "2023-10-15T14:17:29.641Z"
   },
   {
    "duration": 8,
    "start_time": "2023-10-15T14:17:37.198Z"
   },
   {
    "duration": 12,
    "start_time": "2023-10-15T14:17:40.849Z"
   },
   {
    "duration": 5,
    "start_time": "2023-10-15T14:18:02.567Z"
   },
   {
    "duration": 5,
    "start_time": "2023-10-15T14:18:41.669Z"
   },
   {
    "duration": 5,
    "start_time": "2023-10-15T14:19:13.577Z"
   },
   {
    "duration": 5,
    "start_time": "2023-10-15T14:20:28.763Z"
   },
   {
    "duration": 6,
    "start_time": "2023-10-15T14:20:56.087Z"
   },
   {
    "duration": 14,
    "start_time": "2023-10-15T14:21:46.413Z"
   },
   {
    "duration": 5,
    "start_time": "2023-10-15T14:21:57.979Z"
   },
   {
    "duration": 10,
    "start_time": "2023-10-15T14:22:31.032Z"
   },
   {
    "duration": 11,
    "start_time": "2023-10-15T14:23:25.668Z"
   },
   {
    "duration": 6,
    "start_time": "2023-10-15T14:37:48.661Z"
   },
   {
    "duration": 12,
    "start_time": "2023-10-15T14:44:57.952Z"
   },
   {
    "duration": 10,
    "start_time": "2023-10-15T14:45:06.125Z"
   },
   {
    "duration": 1392,
    "start_time": "2023-10-15T14:47:40.548Z"
   },
   {
    "duration": 165,
    "start_time": "2023-10-15T14:47:53.163Z"
   },
   {
    "duration": 169,
    "start_time": "2023-10-15T14:48:08.654Z"
   },
   {
    "duration": 1272,
    "start_time": "2023-10-15T14:51:28.880Z"
   },
   {
    "duration": 9,
    "start_time": "2023-10-15T14:51:58.975Z"
   },
   {
    "duration": 16,
    "start_time": "2023-10-15T14:52:08.008Z"
   },
   {
    "duration": 17,
    "start_time": "2023-10-15T14:52:51.320Z"
   },
   {
    "duration": 1205,
    "start_time": "2023-10-15T14:52:57.978Z"
   },
   {
    "duration": 319,
    "start_time": "2023-10-15T14:53:08.485Z"
   },
   {
    "duration": 240,
    "start_time": "2023-10-15T14:53:22.016Z"
   },
   {
    "duration": 292,
    "start_time": "2023-10-15T14:53:26.929Z"
   },
   {
    "duration": 255,
    "start_time": "2023-10-15T14:54:13.154Z"
   },
   {
    "duration": 10,
    "start_time": "2023-10-15T14:56:50.604Z"
   },
   {
    "duration": 5,
    "start_time": "2023-10-15T14:56:57.886Z"
   },
   {
    "duration": 8,
    "start_time": "2023-10-15T14:57:02.365Z"
   },
   {
    "duration": 6,
    "start_time": "2023-10-15T14:57:13.404Z"
   },
   {
    "duration": 6,
    "start_time": "2023-10-15T14:57:16.293Z"
   },
   {
    "duration": 19,
    "start_time": "2023-10-15T15:05:18.056Z"
   },
   {
    "duration": 21,
    "start_time": "2023-10-15T15:05:50.669Z"
   },
   {
    "duration": 15,
    "start_time": "2023-10-15T15:06:17.225Z"
   },
   {
    "duration": 1260,
    "start_time": "2023-10-15T15:06:48.675Z"
   },
   {
    "duration": 12,
    "start_time": "2023-10-15T15:07:30.606Z"
   },
   {
    "duration": 21,
    "start_time": "2023-10-15T15:07:51.806Z"
   },
   {
    "duration": 15,
    "start_time": "2023-10-15T15:09:10.656Z"
   },
   {
    "duration": 22,
    "start_time": "2023-10-15T15:09:45.770Z"
   },
   {
    "duration": 23,
    "start_time": "2023-10-15T15:09:55.370Z"
   },
   {
    "duration": 17,
    "start_time": "2023-10-15T15:10:01.059Z"
   },
   {
    "duration": 6,
    "start_time": "2023-10-15T15:14:05.873Z"
   },
   {
    "duration": 306,
    "start_time": "2023-10-15T15:15:18.677Z"
   },
   {
    "duration": 12,
    "start_time": "2023-10-15T15:19:58.456Z"
   },
   {
    "duration": 1315,
    "start_time": "2023-10-15T15:20:34.542Z"
   },
   {
    "duration": 135,
    "start_time": "2023-10-15T15:20:35.860Z"
   },
   {
    "duration": 25,
    "start_time": "2023-10-15T15:20:35.997Z"
   },
   {
    "duration": 43,
    "start_time": "2023-10-15T15:20:36.025Z"
   },
   {
    "duration": 9,
    "start_time": "2023-10-15T15:20:36.072Z"
   },
   {
    "duration": 35,
    "start_time": "2023-10-15T15:20:36.083Z"
   },
   {
    "duration": 25,
    "start_time": "2023-10-15T15:20:36.125Z"
   },
   {
    "duration": 13,
    "start_time": "2023-10-15T15:20:36.153Z"
   },
   {
    "duration": 10,
    "start_time": "2023-10-15T15:20:36.169Z"
   },
   {
    "duration": 25,
    "start_time": "2023-10-15T15:20:36.181Z"
   },
   {
    "duration": 35,
    "start_time": "2023-10-15T15:20:36.208Z"
   },
   {
    "duration": 390,
    "start_time": "2023-10-15T15:20:36.244Z"
   },
   {
    "duration": 21,
    "start_time": "2023-10-15T15:20:36.636Z"
   },
   {
    "duration": 19,
    "start_time": "2023-10-15T15:20:36.661Z"
   },
   {
    "duration": 33,
    "start_time": "2023-10-15T15:20:36.682Z"
   },
   {
    "duration": 330,
    "start_time": "2023-10-15T15:20:36.718Z"
   },
   {
    "duration": 6,
    "start_time": "2023-10-15T15:20:37.050Z"
   },
   {
    "duration": 273,
    "start_time": "2023-10-15T15:20:37.058Z"
   },
   {
    "duration": 241,
    "start_time": "2023-10-15T15:20:37.333Z"
   },
   {
    "duration": 330,
    "start_time": "2023-10-15T15:20:37.575Z"
   },
   {
    "duration": 250,
    "start_time": "2023-10-15T15:20:37.906Z"
   },
   {
    "duration": 406,
    "start_time": "2023-10-15T15:20:38.158Z"
   },
   {
    "duration": 15,
    "start_time": "2023-10-15T15:20:38.566Z"
   },
   {
    "duration": 180,
    "start_time": "2023-10-15T15:20:38.584Z"
   },
   {
    "duration": 6,
    "start_time": "2023-10-15T15:20:38.767Z"
   },
   {
    "duration": 187,
    "start_time": "2023-10-15T15:20:38.774Z"
   },
   {
    "duration": 339,
    "start_time": "2023-10-15T15:20:38.963Z"
   },
   {
    "duration": 11,
    "start_time": "2023-10-15T15:20:39.307Z"
   },
   {
    "duration": 194,
    "start_time": "2023-10-15T15:20:39.320Z"
   },
   {
    "duration": 10,
    "start_time": "2023-10-15T15:20:39.516Z"
   },
   {
    "duration": 42,
    "start_time": "2023-10-15T15:20:39.528Z"
   },
   {
    "duration": 12,
    "start_time": "2023-10-15T15:20:39.573Z"
   },
   {
    "duration": 13,
    "start_time": "2023-10-15T15:20:39.587Z"
   },
   {
    "duration": 45,
    "start_time": "2023-10-15T15:20:39.602Z"
   },
   {
    "duration": 30,
    "start_time": "2023-10-15T15:20:39.649Z"
   },
   {
    "duration": 17,
    "start_time": "2023-10-15T15:20:39.681Z"
   },
   {
    "duration": 13,
    "start_time": "2023-10-15T15:23:12.631Z"
   },
   {
    "duration": 17,
    "start_time": "2023-10-15T15:24:23.659Z"
   },
   {
    "duration": 1152,
    "start_time": "2023-10-30T16:53:42.470Z"
   },
   {
    "duration": 224,
    "start_time": "2023-10-30T16:53:43.624Z"
   },
   {
    "duration": 22,
    "start_time": "2023-10-30T16:53:43.850Z"
   },
   {
    "duration": 27,
    "start_time": "2023-10-30T16:53:43.874Z"
   },
   {
    "duration": 6,
    "start_time": "2023-10-30T16:53:43.903Z"
   },
   {
    "duration": 51,
    "start_time": "2023-10-30T16:53:43.910Z"
   },
   {
    "duration": 6,
    "start_time": "2023-10-30T16:53:43.963Z"
   },
   {
    "duration": 11,
    "start_time": "2023-10-30T16:53:43.971Z"
   },
   {
    "duration": 9,
    "start_time": "2023-10-30T16:53:43.984Z"
   },
   {
    "duration": 20,
    "start_time": "2023-10-30T16:53:43.995Z"
   },
   {
    "duration": 45,
    "start_time": "2023-10-30T16:53:44.017Z"
   },
   {
    "duration": 364,
    "start_time": "2023-10-30T16:53:44.063Z"
   },
   {
    "duration": 24,
    "start_time": "2023-10-30T16:53:44.429Z"
   },
   {
    "duration": 12,
    "start_time": "2023-10-30T16:53:44.454Z"
   },
   {
    "duration": 35,
    "start_time": "2023-10-30T16:53:44.468Z"
   },
   {
    "duration": 295,
    "start_time": "2023-10-30T16:53:44.505Z"
   },
   {
    "duration": 4,
    "start_time": "2023-10-30T16:53:44.802Z"
   },
   {
    "duration": 231,
    "start_time": "2023-10-30T16:53:44.807Z"
   },
   {
    "duration": 220,
    "start_time": "2023-10-30T16:53:45.039Z"
   },
   {
    "duration": 371,
    "start_time": "2023-10-30T16:53:45.260Z"
   },
   {
    "duration": 251,
    "start_time": "2023-10-30T16:53:45.633Z"
   },
   {
    "duration": 323,
    "start_time": "2023-10-30T16:53:45.886Z"
   },
   {
    "duration": 10,
    "start_time": "2023-10-30T16:53:46.211Z"
   },
   {
    "duration": 170,
    "start_time": "2023-10-30T16:53:46.223Z"
   },
   {
    "duration": 6,
    "start_time": "2023-10-30T16:53:46.394Z"
   },
   {
    "duration": 175,
    "start_time": "2023-10-30T16:53:46.401Z"
   },
   {
    "duration": 259,
    "start_time": "2023-10-30T16:53:46.578Z"
   },
   {
    "duration": 7,
    "start_time": "2023-10-30T16:53:46.840Z"
   },
   {
    "duration": 156,
    "start_time": "2023-10-30T16:53:46.848Z"
   },
   {
    "duration": 9,
    "start_time": "2023-10-30T16:53:47.006Z"
   },
   {
    "duration": 42,
    "start_time": "2023-10-30T16:53:47.016Z"
   },
   {
    "duration": 11,
    "start_time": "2023-10-30T16:53:47.060Z"
   },
   {
    "duration": 11,
    "start_time": "2023-10-30T16:53:47.072Z"
   },
   {
    "duration": 18,
    "start_time": "2023-10-30T16:53:47.085Z"
   },
   {
    "duration": 42,
    "start_time": "2023-10-30T16:53:47.105Z"
   },
   {
    "duration": 15,
    "start_time": "2023-10-30T16:53:47.148Z"
   }
  ],
  "kernelspec": {
   "display_name": "Python 3 (ipykernel)",
   "language": "python",
   "name": "python3"
  },
  "language_info": {
   "codemirror_mode": {
    "name": "ipython",
    "version": 3
   },
   "file_extension": ".py",
   "mimetype": "text/x-python",
   "name": "python",
   "nbconvert_exporter": "python",
   "pygments_lexer": "ipython3",
   "version": "3.10.10"
  },
  "toc": {
   "base_numbering": 1,
   "nav_menu": {},
   "number_sections": true,
   "sideBar": true,
   "skip_h1_title": true,
   "title_cell": "Table of Contents",
   "title_sidebar": "Contents",
   "toc_cell": false,
   "toc_position": {},
   "toc_section_display": true,
   "toc_window_display": false
  }
 },
 "nbformat": 4,
 "nbformat_minor": 2
}
