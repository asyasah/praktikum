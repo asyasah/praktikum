{
 "cells": [
  {
   "cell_type": "markdown",
   "id": "f207dfc9",
   "metadata": {},
   "source": [
    "# Исследование сервиса аренды самокатов GoFast"
   ]
  },
  {
   "cell_type": "markdown",
   "id": "a4c69728",
   "metadata": {},
   "source": [
    "<h3> Бриф <a class=\"tocSkip\"></h2>"
   ]
  },
  {
   "cell_type": "markdown",
   "id": "9ee55766",
   "metadata": {},
   "source": [
    "Нам передали данные о некоторых пользователях из нескольких городов, а также об их поездках.\n",
    "\n",
    "Чтобы совершать поездки по городу, пользователи сервиса GoFast пользуются мобильным приложением. Сервисом можно пользоваться:\n",
    "* **без подписки**\n",
    "    * абонентская плата отсутствует;\n",
    "    * стоимость одной минуты поездки — 8 рублей;\n",
    "    * стоимость старта (начала поездки) — 50 рублей;\n",
    "* **с подпиской Ultra** \n",
    "    * абонентская плата — 199 рублей в месяц;\n",
    "    * стоимость одной минуты поездки — 6 рублей;\n",
    "    * стоимость старта — бесплатно."
   ]
  },
  {
   "cell_type": "markdown",
   "id": "6eb2685b",
   "metadata": {},
   "source": [
    "<h3> Цель исследования <a class=\"tocSkip\"></h2>"
   ]
  },
  {
   "cell_type": "markdown",
   "id": "ba7b6db0",
   "metadata": {},
   "source": [
    "Проанализировать данные и проверить некоторые гипотезы, которые могут помочь бизнесу вырасти."
   ]
  },
  {
   "cell_type": "markdown",
   "id": "0439501a",
   "metadata": {},
   "source": [
    "<h3> План работы <a class=\"tocSkip\"></h2>"
   ]
  },
  {
   "cell_type": "markdown",
   "id": "5ca08e15",
   "metadata": {},
   "source": [
    "1. Входные данные от сервиса **GoFast** — данные о некоторых пользователях из нескольких городов, а также об их поездках. Следует определить качество данных, соответственно первым шагом будет являться их **обзор**.\n",
    "2. **Предобработка данных**\n",
    "3. **Исследовательский анализ данных**, визуализация общей информации о пользователях и поездках, поиск зависимостей.\n",
    "4. Изучения поведения пользователей с подпиской и бесплатным тарифом.\n",
    "5. Расчет выручки\n",
    "6. Проверка гипотез на основе входных данных\n",
    "7. Общий вывод"
   ]
  },
  {
   "cell_type": "markdown",
   "id": "c42cbe00",
   "metadata": {},
   "source": [
    "### Обзор данных"
   ]
  },
  {
   "cell_type": "code",
   "execution_count": 1,
   "id": "eff9f206",
   "metadata": {},
   "outputs": [],
   "source": [
    "# загрузка библиотек\n",
    "import pandas as pd\n",
    "import matplotlib.pyplot as plt\n",
    "from scipy import stats as st\n",
    "import numpy as np\n",
    "import seaborn as sns"
   ]
  },
  {
   "cell_type": "code",
   "execution_count": 2,
   "id": "6a83daba",
   "metadata": {},
   "outputs": [],
   "source": [
    "# чтение файлов\n",
    "users = pd.read_csv('/datasets/users_go.csv')\n",
    "rides = pd.read_csv('/datasets/rides_go.csv')\n",
    "subs = pd.read_csv('/datasets/subscriptions_go.csv')"
   ]
  },
  {
   "cell_type": "code",
   "execution_count": 3,
   "id": "265001aa",
   "metadata": {},
   "outputs": [
    {
     "data": {
      "text/html": [
       "<div>\n",
       "<style scoped>\n",
       "    .dataframe tbody tr th:only-of-type {\n",
       "        vertical-align: middle;\n",
       "    }\n",
       "\n",
       "    .dataframe tbody tr th {\n",
       "        vertical-align: top;\n",
       "    }\n",
       "\n",
       "    .dataframe thead th {\n",
       "        text-align: right;\n",
       "    }\n",
       "</style>\n",
       "<table border=\"1\" class=\"dataframe\">\n",
       "  <thead>\n",
       "    <tr style=\"text-align: right;\">\n",
       "      <th></th>\n",
       "      <th>user_id</th>\n",
       "      <th>name</th>\n",
       "      <th>age</th>\n",
       "      <th>city</th>\n",
       "      <th>subscription_type</th>\n",
       "    </tr>\n",
       "  </thead>\n",
       "  <tbody>\n",
       "    <tr>\n",
       "      <th>0</th>\n",
       "      <td>1</td>\n",
       "      <td>Кира</td>\n",
       "      <td>22</td>\n",
       "      <td>Тюмень</td>\n",
       "      <td>ultra</td>\n",
       "    </tr>\n",
       "    <tr>\n",
       "      <th>1</th>\n",
       "      <td>2</td>\n",
       "      <td>Станислав</td>\n",
       "      <td>31</td>\n",
       "      <td>Омск</td>\n",
       "      <td>ultra</td>\n",
       "    </tr>\n",
       "    <tr>\n",
       "      <th>2</th>\n",
       "      <td>3</td>\n",
       "      <td>Алексей</td>\n",
       "      <td>20</td>\n",
       "      <td>Москва</td>\n",
       "      <td>ultra</td>\n",
       "    </tr>\n",
       "    <tr>\n",
       "      <th>3</th>\n",
       "      <td>4</td>\n",
       "      <td>Константин</td>\n",
       "      <td>26</td>\n",
       "      <td>Ростов-на-Дону</td>\n",
       "      <td>ultra</td>\n",
       "    </tr>\n",
       "    <tr>\n",
       "      <th>4</th>\n",
       "      <td>5</td>\n",
       "      <td>Адель</td>\n",
       "      <td>28</td>\n",
       "      <td>Омск</td>\n",
       "      <td>ultra</td>\n",
       "    </tr>\n",
       "    <tr>\n",
       "      <th>5</th>\n",
       "      <td>6</td>\n",
       "      <td>Регина</td>\n",
       "      <td>25</td>\n",
       "      <td>Краснодар</td>\n",
       "      <td>ultra</td>\n",
       "    </tr>\n",
       "    <tr>\n",
       "      <th>6</th>\n",
       "      <td>7</td>\n",
       "      <td>Игорь</td>\n",
       "      <td>23</td>\n",
       "      <td>Омск</td>\n",
       "      <td>ultra</td>\n",
       "    </tr>\n",
       "    <tr>\n",
       "      <th>7</th>\n",
       "      <td>8</td>\n",
       "      <td>Юрий</td>\n",
       "      <td>23</td>\n",
       "      <td>Краснодар</td>\n",
       "      <td>ultra</td>\n",
       "    </tr>\n",
       "    <tr>\n",
       "      <th>8</th>\n",
       "      <td>9</td>\n",
       "      <td>Ян</td>\n",
       "      <td>21</td>\n",
       "      <td>Пятигорск</td>\n",
       "      <td>ultra</td>\n",
       "    </tr>\n",
       "    <tr>\n",
       "      <th>9</th>\n",
       "      <td>10</td>\n",
       "      <td>Валерий</td>\n",
       "      <td>18</td>\n",
       "      <td>Екатеринбург</td>\n",
       "      <td>ultra</td>\n",
       "    </tr>\n",
       "  </tbody>\n",
       "</table>\n",
       "</div>"
      ],
      "text/plain": [
       "   user_id        name  age            city subscription_type\n",
       "0        1        Кира   22          Тюмень             ultra\n",
       "1        2   Станислав   31            Омск             ultra\n",
       "2        3     Алексей   20          Москва             ultra\n",
       "3        4  Константин   26  Ростов-на-Дону             ultra\n",
       "4        5       Адель   28            Омск             ultra\n",
       "5        6      Регина   25       Краснодар             ultra\n",
       "6        7       Игорь   23            Омск             ultra\n",
       "7        8        Юрий   23       Краснодар             ultra\n",
       "8        9          Ян   21       Пятигорск             ultra\n",
       "9       10     Валерий   18    Екатеринбург             ultra"
      ]
     },
     "metadata": {},
     "output_type": "display_data"
    },
    {
     "data": {
      "text/html": [
       "<div>\n",
       "<style scoped>\n",
       "    .dataframe tbody tr th:only-of-type {\n",
       "        vertical-align: middle;\n",
       "    }\n",
       "\n",
       "    .dataframe tbody tr th {\n",
       "        vertical-align: top;\n",
       "    }\n",
       "\n",
       "    .dataframe thead th {\n",
       "        text-align: right;\n",
       "    }\n",
       "</style>\n",
       "<table border=\"1\" class=\"dataframe\">\n",
       "  <thead>\n",
       "    <tr style=\"text-align: right;\">\n",
       "      <th></th>\n",
       "      <th>user_id</th>\n",
       "      <th>distance</th>\n",
       "      <th>duration</th>\n",
       "      <th>date</th>\n",
       "    </tr>\n",
       "  </thead>\n",
       "  <tbody>\n",
       "    <tr>\n",
       "      <th>0</th>\n",
       "      <td>1</td>\n",
       "      <td>4409.919140</td>\n",
       "      <td>25.599769</td>\n",
       "      <td>2021-01-01</td>\n",
       "    </tr>\n",
       "    <tr>\n",
       "      <th>1</th>\n",
       "      <td>1</td>\n",
       "      <td>2617.592153</td>\n",
       "      <td>15.816871</td>\n",
       "      <td>2021-01-18</td>\n",
       "    </tr>\n",
       "    <tr>\n",
       "      <th>2</th>\n",
       "      <td>1</td>\n",
       "      <td>754.159807</td>\n",
       "      <td>6.232113</td>\n",
       "      <td>2021-04-20</td>\n",
       "    </tr>\n",
       "    <tr>\n",
       "      <th>3</th>\n",
       "      <td>1</td>\n",
       "      <td>2694.783254</td>\n",
       "      <td>18.511000</td>\n",
       "      <td>2021-08-11</td>\n",
       "    </tr>\n",
       "    <tr>\n",
       "      <th>4</th>\n",
       "      <td>1</td>\n",
       "      <td>4028.687306</td>\n",
       "      <td>26.265803</td>\n",
       "      <td>2021-08-28</td>\n",
       "    </tr>\n",
       "    <tr>\n",
       "      <th>5</th>\n",
       "      <td>1</td>\n",
       "      <td>2770.890808</td>\n",
       "      <td>16.650138</td>\n",
       "      <td>2021-10-09</td>\n",
       "    </tr>\n",
       "    <tr>\n",
       "      <th>6</th>\n",
       "      <td>1</td>\n",
       "      <td>3039.020292</td>\n",
       "      <td>14.927879</td>\n",
       "      <td>2021-10-19</td>\n",
       "    </tr>\n",
       "    <tr>\n",
       "      <th>7</th>\n",
       "      <td>1</td>\n",
       "      <td>2842.118050</td>\n",
       "      <td>23.117468</td>\n",
       "      <td>2021-11-06</td>\n",
       "    </tr>\n",
       "    <tr>\n",
       "      <th>8</th>\n",
       "      <td>1</td>\n",
       "      <td>3412.690668</td>\n",
       "      <td>15.238072</td>\n",
       "      <td>2021-11-14</td>\n",
       "    </tr>\n",
       "    <tr>\n",
       "      <th>9</th>\n",
       "      <td>1</td>\n",
       "      <td>748.690645</td>\n",
       "      <td>15.041884</td>\n",
       "      <td>2021-11-22</td>\n",
       "    </tr>\n",
       "  </tbody>\n",
       "</table>\n",
       "</div>"
      ],
      "text/plain": [
       "   user_id     distance   duration        date\n",
       "0        1  4409.919140  25.599769  2021-01-01\n",
       "1        1  2617.592153  15.816871  2021-01-18\n",
       "2        1   754.159807   6.232113  2021-04-20\n",
       "3        1  2694.783254  18.511000  2021-08-11\n",
       "4        1  4028.687306  26.265803  2021-08-28\n",
       "5        1  2770.890808  16.650138  2021-10-09\n",
       "6        1  3039.020292  14.927879  2021-10-19\n",
       "7        1  2842.118050  23.117468  2021-11-06\n",
       "8        1  3412.690668  15.238072  2021-11-14\n",
       "9        1   748.690645  15.041884  2021-11-22"
      ]
     },
     "metadata": {},
     "output_type": "display_data"
    },
    {
     "data": {
      "text/html": [
       "<div>\n",
       "<style scoped>\n",
       "    .dataframe tbody tr th:only-of-type {\n",
       "        vertical-align: middle;\n",
       "    }\n",
       "\n",
       "    .dataframe tbody tr th {\n",
       "        vertical-align: top;\n",
       "    }\n",
       "\n",
       "    .dataframe thead th {\n",
       "        text-align: right;\n",
       "    }\n",
       "</style>\n",
       "<table border=\"1\" class=\"dataframe\">\n",
       "  <thead>\n",
       "    <tr style=\"text-align: right;\">\n",
       "      <th></th>\n",
       "      <th>subscription_type</th>\n",
       "      <th>minute_price</th>\n",
       "      <th>start_ride_price</th>\n",
       "      <th>subscription_fee</th>\n",
       "    </tr>\n",
       "  </thead>\n",
       "  <tbody>\n",
       "    <tr>\n",
       "      <th>0</th>\n",
       "      <td>free</td>\n",
       "      <td>8</td>\n",
       "      <td>50</td>\n",
       "      <td>0</td>\n",
       "    </tr>\n",
       "    <tr>\n",
       "      <th>1</th>\n",
       "      <td>ultra</td>\n",
       "      <td>6</td>\n",
       "      <td>0</td>\n",
       "      <td>199</td>\n",
       "    </tr>\n",
       "  </tbody>\n",
       "</table>\n",
       "</div>"
      ],
      "text/plain": [
       "  subscription_type  minute_price  start_ride_price  subscription_fee\n",
       "0              free             8                50                 0\n",
       "1             ultra             6                 0               199"
      ]
     },
     "execution_count": 3,
     "metadata": {},
     "output_type": "execute_result"
    }
   ],
   "source": [
    "display(users.head(10))\n",
    "display()\n",
    "display(rides.head(10))\n",
    "subs.head()"
   ]
  },
  {
   "cell_type": "code",
   "execution_count": 4,
   "id": "9717621a",
   "metadata": {},
   "outputs": [
    {
     "name": "stdout",
     "output_type": "stream",
     "text": [
      "<class 'pandas.core.frame.DataFrame'>\n",
      "RangeIndex: 1565 entries, 0 to 1564\n",
      "Data columns (total 5 columns):\n",
      " #   Column             Non-Null Count  Dtype \n",
      "---  ------             --------------  ----- \n",
      " 0   user_id            1565 non-null   int64 \n",
      " 1   name               1565 non-null   object\n",
      " 2   age                1565 non-null   int64 \n",
      " 3   city               1565 non-null   object\n",
      " 4   subscription_type  1565 non-null   object\n",
      "dtypes: int64(2), object(3)\n",
      "memory usage: 61.3+ KB\n",
      "None\n",
      "\n",
      "<class 'pandas.core.frame.DataFrame'>\n",
      "RangeIndex: 18068 entries, 0 to 18067\n",
      "Data columns (total 4 columns):\n",
      " #   Column    Non-Null Count  Dtype  \n",
      "---  ------    --------------  -----  \n",
      " 0   user_id   18068 non-null  int64  \n",
      " 1   distance  18068 non-null  float64\n",
      " 2   duration  18068 non-null  float64\n",
      " 3   date      18068 non-null  object \n",
      "dtypes: float64(2), int64(1), object(1)\n",
      "memory usage: 564.8+ KB\n",
      "None\n",
      "<class 'pandas.core.frame.DataFrame'>\n",
      "RangeIndex: 2 entries, 0 to 1\n",
      "Data columns (total 4 columns):\n",
      " #   Column             Non-Null Count  Dtype \n",
      "---  ------             --------------  ----- \n",
      " 0   subscription_type  2 non-null      object\n",
      " 1   minute_price       2 non-null      int64 \n",
      " 2   start_ride_price   2 non-null      int64 \n",
      " 3   subscription_fee   2 non-null      int64 \n",
      "dtypes: int64(3), object(1)\n",
      "memory usage: 192.0+ bytes\n"
     ]
    }
   ],
   "source": [
    "print(users.info())\n",
    "print()\n",
    "print(rides.info())\n",
    "subs.info()"
   ]
  },
  {
   "cell_type": "markdown",
   "id": "30976f1f",
   "metadata": {},
   "source": [
    "**Промежуточный вывод**"
   ]
  },
  {
   "cell_type": "markdown",
   "id": "17d94879",
   "metadata": {},
   "source": [
    "При осмотре данных были выявлены следующие моменты:\n",
    "1. Ни в одной из таблиц не замечено явных пропусков: общее количество строк равно количеству записей в каждом столбце.\n",
    "2. В столбце `'date'` датафрейма rides тип данных object, который следует поменять на datetime."
   ]
  },
  {
   "cell_type": "markdown",
   "id": "e95ebca7",
   "metadata": {},
   "source": [
    "### Предобработка данных"
   ]
  },
  {
   "cell_type": "code",
   "execution_count": 5,
   "id": "af6d202c",
   "metadata": {},
   "outputs": [],
   "source": [
    "# изменим тип данных object в datetime\n",
    "rides['date'] = pd.to_datetime(rides['date'], format='%Y-%m-%d')"
   ]
  },
  {
   "cell_type": "code",
   "execution_count": 6,
   "id": "f49c789f",
   "metadata": {},
   "outputs": [
    {
     "data": {
      "text/html": [
       "<div>\n",
       "<style scoped>\n",
       "    .dataframe tbody tr th:only-of-type {\n",
       "        vertical-align: middle;\n",
       "    }\n",
       "\n",
       "    .dataframe tbody tr th {\n",
       "        vertical-align: top;\n",
       "    }\n",
       "\n",
       "    .dataframe thead th {\n",
       "        text-align: right;\n",
       "    }\n",
       "</style>\n",
       "<table border=\"1\" class=\"dataframe\">\n",
       "  <thead>\n",
       "    <tr style=\"text-align: right;\">\n",
       "      <th></th>\n",
       "      <th>user_id</th>\n",
       "      <th>distance</th>\n",
       "      <th>duration</th>\n",
       "      <th>date</th>\n",
       "      <th>month</th>\n",
       "    </tr>\n",
       "  </thead>\n",
       "  <tbody>\n",
       "    <tr>\n",
       "      <th>0</th>\n",
       "      <td>1</td>\n",
       "      <td>4409.919140</td>\n",
       "      <td>25.599769</td>\n",
       "      <td>2021-01-01</td>\n",
       "      <td>1</td>\n",
       "    </tr>\n",
       "    <tr>\n",
       "      <th>1</th>\n",
       "      <td>1</td>\n",
       "      <td>2617.592153</td>\n",
       "      <td>15.816871</td>\n",
       "      <td>2021-01-18</td>\n",
       "      <td>1</td>\n",
       "    </tr>\n",
       "    <tr>\n",
       "      <th>2</th>\n",
       "      <td>1</td>\n",
       "      <td>754.159807</td>\n",
       "      <td>6.232113</td>\n",
       "      <td>2021-04-20</td>\n",
       "      <td>4</td>\n",
       "    </tr>\n",
       "    <tr>\n",
       "      <th>3</th>\n",
       "      <td>1</td>\n",
       "      <td>2694.783254</td>\n",
       "      <td>18.511000</td>\n",
       "      <td>2021-08-11</td>\n",
       "      <td>8</td>\n",
       "    </tr>\n",
       "    <tr>\n",
       "      <th>4</th>\n",
       "      <td>1</td>\n",
       "      <td>4028.687306</td>\n",
       "      <td>26.265803</td>\n",
       "      <td>2021-08-28</td>\n",
       "      <td>8</td>\n",
       "    </tr>\n",
       "    <tr>\n",
       "      <th>5</th>\n",
       "      <td>1</td>\n",
       "      <td>2770.890808</td>\n",
       "      <td>16.650138</td>\n",
       "      <td>2021-10-09</td>\n",
       "      <td>10</td>\n",
       "    </tr>\n",
       "    <tr>\n",
       "      <th>6</th>\n",
       "      <td>1</td>\n",
       "      <td>3039.020292</td>\n",
       "      <td>14.927879</td>\n",
       "      <td>2021-10-19</td>\n",
       "      <td>10</td>\n",
       "    </tr>\n",
       "    <tr>\n",
       "      <th>7</th>\n",
       "      <td>1</td>\n",
       "      <td>2842.118050</td>\n",
       "      <td>23.117468</td>\n",
       "      <td>2021-11-06</td>\n",
       "      <td>11</td>\n",
       "    </tr>\n",
       "    <tr>\n",
       "      <th>8</th>\n",
       "      <td>1</td>\n",
       "      <td>3412.690668</td>\n",
       "      <td>15.238072</td>\n",
       "      <td>2021-11-14</td>\n",
       "      <td>11</td>\n",
       "    </tr>\n",
       "    <tr>\n",
       "      <th>9</th>\n",
       "      <td>1</td>\n",
       "      <td>748.690645</td>\n",
       "      <td>15.041884</td>\n",
       "      <td>2021-11-22</td>\n",
       "      <td>11</td>\n",
       "    </tr>\n",
       "  </tbody>\n",
       "</table>\n",
       "</div>"
      ],
      "text/plain": [
       "   user_id     distance   duration       date  month\n",
       "0        1  4409.919140  25.599769 2021-01-01      1\n",
       "1        1  2617.592153  15.816871 2021-01-18      1\n",
       "2        1   754.159807   6.232113 2021-04-20      4\n",
       "3        1  2694.783254  18.511000 2021-08-11      8\n",
       "4        1  4028.687306  26.265803 2021-08-28      8\n",
       "5        1  2770.890808  16.650138 2021-10-09     10\n",
       "6        1  3039.020292  14.927879 2021-10-19     10\n",
       "7        1  2842.118050  23.117468 2021-11-06     11\n",
       "8        1  3412.690668  15.238072 2021-11-14     11\n",
       "9        1   748.690645  15.041884 2021-11-22     11"
      ]
     },
     "execution_count": 6,
     "metadata": {},
     "output_type": "execute_result"
    }
   ],
   "source": [
    "# создадим новый столбец с номером месяца\n",
    "rides['month'] = rides['date'].dt.month\n",
    "rides.head(10)"
   ]
  },
  {
   "cell_type": "code",
   "execution_count": 7,
   "id": "d9196536",
   "metadata": {},
   "outputs": [
    {
     "name": "stdout",
     "output_type": "stream",
     "text": [
      "<class 'pandas.core.frame.DataFrame'>\n",
      "RangeIndex: 18068 entries, 0 to 18067\n",
      "Data columns (total 5 columns):\n",
      " #   Column    Non-Null Count  Dtype         \n",
      "---  ------    --------------  -----         \n",
      " 0   user_id   18068 non-null  int64         \n",
      " 1   distance  18068 non-null  float64       \n",
      " 2   duration  18068 non-null  float64       \n",
      " 3   date      18068 non-null  datetime64[ns]\n",
      " 4   month     18068 non-null  int64         \n",
      "dtypes: datetime64[ns](1), float64(2), int64(2)\n",
      "memory usage: 705.9 KB\n"
     ]
    }
   ],
   "source": [
    "# чекаем\n",
    "rides.info()"
   ]
  },
  {
   "cell_type": "code",
   "execution_count": 8,
   "id": "b1691e1e",
   "metadata": {},
   "outputs": [
    {
     "name": "stdout",
     "output_type": "stream",
     "text": [
      "user_id              0\n",
      "name                 0\n",
      "age                  0\n",
      "city                 0\n",
      "subscription_type    0\n",
      "dtype: int64\n"
     ]
    },
    {
     "data": {
      "text/plain": [
       "user_id     0\n",
       "distance    0\n",
       "duration    0\n",
       "date        0\n",
       "month       0\n",
       "dtype: int64"
      ]
     },
     "execution_count": 8,
     "metadata": {},
     "output_type": "execute_result"
    }
   ],
   "source": [
    "# проверка наличия пропусков\n",
    "print(users.isna().sum())\n",
    "rides.isna().sum()"
   ]
  },
  {
   "cell_type": "code",
   "execution_count": 9,
   "id": "bb52470e",
   "metadata": {},
   "outputs": [
    {
     "name": "stdout",
     "output_type": "stream",
     "text": [
      "31\n"
     ]
    },
    {
     "data": {
      "text/plain": [
       "0"
      ]
     },
     "execution_count": 9,
     "metadata": {},
     "output_type": "execute_result"
    }
   ],
   "source": [
    "# проверка наличия дубликатов\n",
    "print(users.duplicated().sum())\n",
    "rides.duplicated().sum()"
   ]
  },
  {
   "cell_type": "code",
   "execution_count": 10,
   "id": "496d4a62",
   "metadata": {},
   "outputs": [
    {
     "data": {
      "text/plain": [
       "0"
      ]
     },
     "execution_count": 10,
     "metadata": {},
     "output_type": "execute_result"
    }
   ],
   "source": [
    "# удаление дубликатов\n",
    "users = users.drop_duplicates().reset_index(drop=True)\n",
    "users.duplicated().sum()"
   ]
  },
  {
   "cell_type": "markdown",
   "id": "e674868d",
   "metadata": {},
   "source": [
    "**Промежуточный вывод**"
   ]
  },
  {
   "cell_type": "markdown",
   "id": "006aef2b",
   "metadata": {},
   "source": [
    "В ходе предобработки данных были выполнены следующие мероприятия:\n",
    "1. Изменение типа данных в столбце `'date'`\n",
    "2. Создания столбца в **rides** с месяцем поездки\n",
    "3. Проверка наличия пропущенных значений и дубликатов в датафреймах **users** и **rides** и их обработка"
   ]
  },
  {
   "cell_type": "markdown",
   "id": "212593c7",
   "metadata": {},
   "source": [
    "### Исследовательский анализ данных"
   ]
  },
  {
   "cell_type": "markdown",
   "id": "e4354459",
   "metadata": {},
   "source": [
    "**частота встречаемости городов**"
   ]
  },
  {
   "cell_type": "code",
   "execution_count": 11,
   "id": "30185277",
   "metadata": {},
   "outputs": [
    {
     "data": {
      "text/html": [
       "<div>\n",
       "<style scoped>\n",
       "    .dataframe tbody tr th:only-of-type {\n",
       "        vertical-align: middle;\n",
       "    }\n",
       "\n",
       "    .dataframe tbody tr th {\n",
       "        vertical-align: top;\n",
       "    }\n",
       "\n",
       "    .dataframe thead th {\n",
       "        text-align: right;\n",
       "    }\n",
       "</style>\n",
       "<table border=\"1\" class=\"dataframe\">\n",
       "  <thead>\n",
       "    <tr style=\"text-align: right;\">\n",
       "      <th></th>\n",
       "      <th>freq</th>\n",
       "    </tr>\n",
       "    <tr>\n",
       "      <th>city</th>\n",
       "      <th></th>\n",
       "    </tr>\n",
       "  </thead>\n",
       "  <tbody>\n",
       "    <tr>\n",
       "      <th>Москва</th>\n",
       "      <td>168</td>\n",
       "    </tr>\n",
       "    <tr>\n",
       "      <th>Тюмень</th>\n",
       "      <td>180</td>\n",
       "    </tr>\n",
       "    <tr>\n",
       "      <th>Омск</th>\n",
       "      <td>183</td>\n",
       "    </tr>\n",
       "    <tr>\n",
       "      <th>Сочи</th>\n",
       "      <td>189</td>\n",
       "    </tr>\n",
       "    <tr>\n",
       "      <th>Краснодар</th>\n",
       "      <td>193</td>\n",
       "    </tr>\n",
       "    <tr>\n",
       "      <th>Ростов-на-Дону</th>\n",
       "      <td>198</td>\n",
       "    </tr>\n",
       "    <tr>\n",
       "      <th>Екатеринбург</th>\n",
       "      <td>204</td>\n",
       "    </tr>\n",
       "    <tr>\n",
       "      <th>Пятигорск</th>\n",
       "      <td>219</td>\n",
       "    </tr>\n",
       "  </tbody>\n",
       "</table>\n",
       "</div>"
      ],
      "text/plain": [
       "                freq\n",
       "city                \n",
       "Москва           168\n",
       "Тюмень           180\n",
       "Омск             183\n",
       "Сочи             189\n",
       "Краснодар        193\n",
       "Ростов-на-Дону   198\n",
       "Екатеринбург     204\n",
       "Пятигорск        219"
      ]
     },
     "execution_count": 11,
     "metadata": {},
     "output_type": "execute_result"
    }
   ],
   "source": [
    "# создаем таблицу частот встречаемости городов\n",
    "city_freq = users.pivot_table(index='city', values='user_id', aggfunc='count').sort_values('user_id')\n",
    "city_freq.columns = ['freq']\n",
    "city_freq"
   ]
  },
  {
   "cell_type": "code",
   "execution_count": 12,
   "id": "cec307e6",
   "metadata": {},
   "outputs": [
    {
     "data": {
      "image/png": "[encoded data removed]",
      "text/plain": [
       "<Figure size 864x432 with 1 Axes>"
      ]
     },
     "metadata": {
      "needs_background": "light"
     },
     "output_type": "display_data"
    }
   ],
   "source": [
    "city_freq.plot(kind = 'barh', \n",
    "               figsize = (12,6), \n",
    "               legend = False, \n",
    "               fontsize = 12)\n",
    "\n",
    "plt.title('Частота встречаемости городов' + \"\\n\", fontsize=15)\n",
    "plt.xlabel('Частота')\n",
    "plt.ylabel('Города');"
   ]
  },
  {
   "cell_type": "markdown",
   "id": "6c803614",
   "metadata": {},
   "source": [
    "С помощью графика и сводной таблицы можно увидеть, что в рамках данной выборки пользователи из Пятигорска чаще всего пользуются услугами сервиса, в том время как москвичи находятся на последнем месте."
   ]
  },
  {
   "cell_type": "markdown",
   "id": "26c5ab58",
   "metadata": {},
   "source": [
    "**соотношение пользователей с подпиской и без подписки**"
   ]
  },
  {
   "cell_type": "code",
   "execution_count": 13,
   "id": "2ca6cecb",
   "metadata": {},
   "outputs": [
    {
     "data": {
      "text/html": [
       "<div>\n",
       "<style scoped>\n",
       "    .dataframe tbody tr th:only-of-type {\n",
       "        vertical-align: middle;\n",
       "    }\n",
       "\n",
       "    .dataframe tbody tr th {\n",
       "        vertical-align: top;\n",
       "    }\n",
       "\n",
       "    .dataframe thead th {\n",
       "        text-align: right;\n",
       "    }\n",
       "</style>\n",
       "<table border=\"1\" class=\"dataframe\">\n",
       "  <thead>\n",
       "    <tr style=\"text-align: right;\">\n",
       "      <th></th>\n",
       "      <th>count</th>\n",
       "    </tr>\n",
       "    <tr>\n",
       "      <th>subscription_type</th>\n",
       "      <th></th>\n",
       "    </tr>\n",
       "  </thead>\n",
       "  <tbody>\n",
       "    <tr>\n",
       "      <th>free</th>\n",
       "      <td>835</td>\n",
       "    </tr>\n",
       "    <tr>\n",
       "      <th>ultra</th>\n",
       "      <td>699</td>\n",
       "    </tr>\n",
       "  </tbody>\n",
       "</table>\n",
       "</div>"
      ],
      "text/plain": [
       "                   count\n",
       "subscription_type       \n",
       "free                 835\n",
       "ultra                699"
      ]
     },
     "execution_count": 13,
     "metadata": {},
     "output_type": "execute_result"
    }
   ],
   "source": [
    "subs_ratio = users.pivot_table(index='subscription_type', values='user_id', aggfunc='count')\n",
    "subs_ratio.columns = ['count']\n",
    "subs_ratio"
   ]
  },
  {
   "cell_type": "code",
   "execution_count": 33,
   "id": "ec4260b5",
   "metadata": {},
   "outputs": [
    {
     "data": {
      "image/png": "[encoded data removed]",
      "text/plain": [
       "<Figure size 864x432 with 1 Axes>"
      ]
     },
     "metadata": {},
     "output_type": "display_data"
    }
   ],
   "source": [
    "subs_ratio.plot(y='count', \n",
    "                kind='pie', \n",
    "                figsize=(12, 6),\n",
    "                autopct='%1.0f%%')\n",
    "plt.title('Соотношение пользователей по подписке' + \"\\n\", fontsize=15)\n",
    "plt.ylabel('');"
   ]
  },
  {
   "cell_type": "markdown",
   "id": "b1de7b16",
   "metadata": {},
   "source": [
    "Исходя из выборки, пользователи, пользующиеся подпиской, составляют 46%, а не платят за подписку примерно 54% людей."
   ]
  },
  {
   "cell_type": "markdown",
   "id": "eb42ff95",
   "metadata": {},
   "source": [
    "**возраст пользователей**"
   ]
  },
  {
   "cell_type": "code",
   "execution_count": 15,
   "id": "d6decc56",
   "metadata": {},
   "outputs": [
    {
     "data": {
      "image/png": "[encoded data removed]",
      "text/plain": [
       "<Figure size 864x432 with 1 Axes>"
      ]
     },
     "metadata": {
      "needs_background": "light"
     },
     "output_type": "display_data"
    }
   ],
   "source": [
    "fig, ax = plt.subplots(figsize=(12,6))\n",
    "sns.histplot(users['age'], kde=True)\n",
    "plt.title('Возраст пользователей' + \"\\n\", fontsize=15)\n",
    "plt.xlabel('Возраст')\n",
    "plt.ylabel('Количество');"
   ]
  },
  {
   "cell_type": "markdown",
   "id": "7d4872b5",
   "metadata": {},
   "source": [
    "Среднее выборочное значение равняется 25 годам. Распределение близко к нормальному."
   ]
  },
  {
   "cell_type": "markdown",
   "id": "49cada1c",
   "metadata": {},
   "source": [
    "**расстояние, которое пользователь преодолел за одну поездку**"
   ]
  },
  {
   "cell_type": "code",
   "execution_count": 16,
   "id": "65ee501c",
   "metadata": {},
   "outputs": [
    {
     "data": {
      "image/png": "[encoded data removed]",
      "text/plain": [
       "<Figure size 864x432 with 1 Axes>"
      ]
     },
     "metadata": {
      "needs_background": "light"
     },
     "output_type": "display_data"
    }
   ],
   "source": [
    "fig, ax = plt.subplots(figsize=(12,6))\n",
    "sns.histplot(rides['distance'], kde=True)\n",
    "plt.title('Расстояние за одну поездку' + \"\\n\", fontsize=15)\n",
    "plt.xlabel('Расстояние')\n",
    "plt.ylabel('Количество');"
   ]
  },
  {
   "cell_type": "code",
   "execution_count": 17,
   "id": "1dec503e",
   "metadata": {},
   "outputs": [
    {
     "data": {
      "text/plain": [
       "count    18068.000000\n",
       "mean      3070.659976\n",
       "std       1116.831209\n",
       "min          0.855683\n",
       "25%       2543.226360\n",
       "50%       3133.609994\n",
       "75%       3776.222735\n",
       "max       7211.007745\n",
       "Name: distance, dtype: float64"
      ]
     },
     "execution_count": 17,
     "metadata": {},
     "output_type": "execute_result"
    }
   ],
   "source": [
    "rides['distance'].describe()"
   ]
  },
  {
   "cell_type": "markdown",
   "id": "760fc1a1",
   "metadata": {},
   "source": [
    "Медианна дистанции равна 3133 м, в то время как среднее значение 3070 м. \n",
    "\n",
    "Размах значений от почти 1 метра до 7.2 км. Пределы нормальных значений от 2.5 до 3.7 км. Также присутствует пик значений на 800 метрах, т.е. самокатами пользуются для преодоления не таких больших расстояний.\n",
    "\n",
    "Значит в среднем пользователи сервиса проезжают за одну поездку на самокате 3 км."
   ]
  },
  {
   "cell_type": "markdown",
   "id": "602cb91d",
   "metadata": {},
   "source": [
    "**продолжительность поездок**"
   ]
  },
  {
   "cell_type": "code",
   "execution_count": 18,
   "id": "b8399ab2",
   "metadata": {},
   "outputs": [
    {
     "data": {
      "image/png": "[encoded data removed]",
      "text/plain": [
       "<Figure size 864x432 with 1 Axes>"
      ]
     },
     "metadata": {
      "needs_background": "light"
     },
     "output_type": "display_data"
    }
   ],
   "source": [
    "fig, ax = plt.subplots(figsize=(12,6))\n",
    "sns.histplot(rides['duration'], kde=True)\n",
    "plt.title('Продолжительность поездки' + \"\\n\", fontsize=15)\n",
    "plt.xlabel('Длительность')\n",
    "plt.ylabel('Количество');"
   ]
  },
  {
   "cell_type": "code",
   "execution_count": 19,
   "id": "cad2e9a3",
   "metadata": {},
   "outputs": [
    {
     "data": {
      "text/plain": [
       "count    18068.000000\n",
       "mean        17.805011\n",
       "std          6.091051\n",
       "min          0.500000\n",
       "25%         13.597563\n",
       "50%         17.678395\n",
       "75%         21.724800\n",
       "max         40.823963\n",
       "Name: duration, dtype: float64"
      ]
     },
     "execution_count": 19,
     "metadata": {},
     "output_type": "execute_result"
    }
   ],
   "source": [
    "rides['duration'].describe()"
   ]
  },
  {
   "cell_type": "markdown",
   "id": "cbe387fe",
   "metadata": {},
   "source": [
    "Среднее выборочное значение длительности поездки равно 17 минутам. Размах значений от 5 секунд до 40 минут. Пределы же нормальных значений от 13 до 21 минуты.\n",
    "\n",
    "На графике можно заметить скопление значений в районе нуля, что может говорить о том, что пользователи могли начать поездку и резко отменить возможно по техническим причинам."
   ]
  },
  {
   "cell_type": "markdown",
   "id": "697ef555",
   "metadata": {},
   "source": [
    "**Промежуточный вывод**"
   ]
  },
  {
   "cell_type": "markdown",
   "id": "058394bf",
   "metadata": {},
   "source": [
    "1. Наибольшее количество пользователей находится в Пятигорске, наименьшее в Москве\n",
    "2. Соотношение пользователей с подпиской и без подписки примерно 50/50, а точнее 46 на 54\n",
    "3. Средний возраст пользователей колеблется от 20 до 30 лет\n",
    "4. Среднее расстояние, преодолеваемое за одну поездку, равно 3070 м\n",
    "5. Среднее время поездки равно 17 минутам"
   ]
  },
  {
   "cell_type": "markdown",
   "id": "4ef51331",
   "metadata": {},
   "source": [
    "### Объединение данных"
   ]
  },
  {
   "cell_type": "code",
   "execution_count": 20,
   "id": "6bf288b5",
   "metadata": {},
   "outputs": [
    {
     "data": {
      "text/html": [
       "<div>\n",
       "<style scoped>\n",
       "    .dataframe tbody tr th:only-of-type {\n",
       "        vertical-align: middle;\n",
       "    }\n",
       "\n",
       "    .dataframe tbody tr th {\n",
       "        vertical-align: top;\n",
       "    }\n",
       "\n",
       "    .dataframe thead th {\n",
       "        text-align: right;\n",
       "    }\n",
       "</style>\n",
       "<table border=\"1\" class=\"dataframe\">\n",
       "  <thead>\n",
       "    <tr style=\"text-align: right;\">\n",
       "      <th></th>\n",
       "      <th>user_id</th>\n",
       "      <th>name</th>\n",
       "      <th>age</th>\n",
       "      <th>city</th>\n",
       "      <th>subscription_type</th>\n",
       "      <th>distance</th>\n",
       "      <th>duration</th>\n",
       "      <th>date</th>\n",
       "      <th>month</th>\n",
       "      <th>minute_price</th>\n",
       "      <th>start_ride_price</th>\n",
       "      <th>subscription_fee</th>\n",
       "    </tr>\n",
       "  </thead>\n",
       "  <tbody>\n",
       "    <tr>\n",
       "      <th>0</th>\n",
       "      <td>1</td>\n",
       "      <td>Кира</td>\n",
       "      <td>22</td>\n",
       "      <td>Тюмень</td>\n",
       "      <td>ultra</td>\n",
       "      <td>4409.919140</td>\n",
       "      <td>25.599769</td>\n",
       "      <td>2021-01-01</td>\n",
       "      <td>1</td>\n",
       "      <td>6</td>\n",
       "      <td>0</td>\n",
       "      <td>199</td>\n",
       "    </tr>\n",
       "    <tr>\n",
       "      <th>1</th>\n",
       "      <td>1</td>\n",
       "      <td>Кира</td>\n",
       "      <td>22</td>\n",
       "      <td>Тюмень</td>\n",
       "      <td>ultra</td>\n",
       "      <td>2617.592153</td>\n",
       "      <td>15.816871</td>\n",
       "      <td>2021-01-18</td>\n",
       "      <td>1</td>\n",
       "      <td>6</td>\n",
       "      <td>0</td>\n",
       "      <td>199</td>\n",
       "    </tr>\n",
       "    <tr>\n",
       "      <th>2</th>\n",
       "      <td>1</td>\n",
       "      <td>Кира</td>\n",
       "      <td>22</td>\n",
       "      <td>Тюмень</td>\n",
       "      <td>ultra</td>\n",
       "      <td>754.159807</td>\n",
       "      <td>6.232113</td>\n",
       "      <td>2021-04-20</td>\n",
       "      <td>4</td>\n",
       "      <td>6</td>\n",
       "      <td>0</td>\n",
       "      <td>199</td>\n",
       "    </tr>\n",
       "    <tr>\n",
       "      <th>3</th>\n",
       "      <td>1</td>\n",
       "      <td>Кира</td>\n",
       "      <td>22</td>\n",
       "      <td>Тюмень</td>\n",
       "      <td>ultra</td>\n",
       "      <td>2694.783254</td>\n",
       "      <td>18.511000</td>\n",
       "      <td>2021-08-11</td>\n",
       "      <td>8</td>\n",
       "      <td>6</td>\n",
       "      <td>0</td>\n",
       "      <td>199</td>\n",
       "    </tr>\n",
       "    <tr>\n",
       "      <th>4</th>\n",
       "      <td>1</td>\n",
       "      <td>Кира</td>\n",
       "      <td>22</td>\n",
       "      <td>Тюмень</td>\n",
       "      <td>ultra</td>\n",
       "      <td>4028.687306</td>\n",
       "      <td>26.265803</td>\n",
       "      <td>2021-08-28</td>\n",
       "      <td>8</td>\n",
       "      <td>6</td>\n",
       "      <td>0</td>\n",
       "      <td>199</td>\n",
       "    </tr>\n",
       "    <tr>\n",
       "      <th>5</th>\n",
       "      <td>1</td>\n",
       "      <td>Кира</td>\n",
       "      <td>22</td>\n",
       "      <td>Тюмень</td>\n",
       "      <td>ultra</td>\n",
       "      <td>2770.890808</td>\n",
       "      <td>16.650138</td>\n",
       "      <td>2021-10-09</td>\n",
       "      <td>10</td>\n",
       "      <td>6</td>\n",
       "      <td>0</td>\n",
       "      <td>199</td>\n",
       "    </tr>\n",
       "    <tr>\n",
       "      <th>6</th>\n",
       "      <td>1</td>\n",
       "      <td>Кира</td>\n",
       "      <td>22</td>\n",
       "      <td>Тюмень</td>\n",
       "      <td>ultra</td>\n",
       "      <td>3039.020292</td>\n",
       "      <td>14.927879</td>\n",
       "      <td>2021-10-19</td>\n",
       "      <td>10</td>\n",
       "      <td>6</td>\n",
       "      <td>0</td>\n",
       "      <td>199</td>\n",
       "    </tr>\n",
       "    <tr>\n",
       "      <th>7</th>\n",
       "      <td>1</td>\n",
       "      <td>Кира</td>\n",
       "      <td>22</td>\n",
       "      <td>Тюмень</td>\n",
       "      <td>ultra</td>\n",
       "      <td>2842.118050</td>\n",
       "      <td>23.117468</td>\n",
       "      <td>2021-11-06</td>\n",
       "      <td>11</td>\n",
       "      <td>6</td>\n",
       "      <td>0</td>\n",
       "      <td>199</td>\n",
       "    </tr>\n",
       "    <tr>\n",
       "      <th>8</th>\n",
       "      <td>1</td>\n",
       "      <td>Кира</td>\n",
       "      <td>22</td>\n",
       "      <td>Тюмень</td>\n",
       "      <td>ultra</td>\n",
       "      <td>3412.690668</td>\n",
       "      <td>15.238072</td>\n",
       "      <td>2021-11-14</td>\n",
       "      <td>11</td>\n",
       "      <td>6</td>\n",
       "      <td>0</td>\n",
       "      <td>199</td>\n",
       "    </tr>\n",
       "    <tr>\n",
       "      <th>9</th>\n",
       "      <td>1</td>\n",
       "      <td>Кира</td>\n",
       "      <td>22</td>\n",
       "      <td>Тюмень</td>\n",
       "      <td>ultra</td>\n",
       "      <td>748.690645</td>\n",
       "      <td>15.041884</td>\n",
       "      <td>2021-11-22</td>\n",
       "      <td>11</td>\n",
       "      <td>6</td>\n",
       "      <td>0</td>\n",
       "      <td>199</td>\n",
       "    </tr>\n",
       "  </tbody>\n",
       "</table>\n",
       "</div>"
      ],
      "text/plain": [
       "   user_id  name  age    city subscription_type     distance   duration  \\\n",
       "0        1  Кира   22  Тюмень             ultra  4409.919140  25.599769   \n",
       "1        1  Кира   22  Тюмень             ultra  2617.592153  15.816871   \n",
       "2        1  Кира   22  Тюмень             ultra   754.159807   6.232113   \n",
       "3        1  Кира   22  Тюмень             ultra  2694.783254  18.511000   \n",
       "4        1  Кира   22  Тюмень             ultra  4028.687306  26.265803   \n",
       "5        1  Кира   22  Тюмень             ultra  2770.890808  16.650138   \n",
       "6        1  Кира   22  Тюмень             ultra  3039.020292  14.927879   \n",
       "7        1  Кира   22  Тюмень             ultra  2842.118050  23.117468   \n",
       "8        1  Кира   22  Тюмень             ultra  3412.690668  15.238072   \n",
       "9        1  Кира   22  Тюмень             ultra   748.690645  15.041884   \n",
       "\n",
       "        date  month  minute_price  start_ride_price  subscription_fee  \n",
       "0 2021-01-01      1             6                 0               199  \n",
       "1 2021-01-18      1             6                 0               199  \n",
       "2 2021-04-20      4             6                 0               199  \n",
       "3 2021-08-11      8             6                 0               199  \n",
       "4 2021-08-28      8             6                 0               199  \n",
       "5 2021-10-09     10             6                 0               199  \n",
       "6 2021-10-19     10             6                 0               199  \n",
       "7 2021-11-06     11             6                 0               199  \n",
       "8 2021-11-14     11             6                 0               199  \n",
       "9 2021-11-22     11             6                 0               199  "
      ]
     },
     "execution_count": 20,
     "metadata": {},
     "output_type": "execute_result"
    }
   ],
   "source": [
    "# объединение всех таблиц в один датафрейм\n",
    "full_stat = users.merge(rides, on='user_id').merge(subs, on='subscription_type')\n",
    "full_stat.head(10)"
   ]
  },
  {
   "cell_type": "code",
   "execution_count": 21,
   "id": "e8db5933",
   "metadata": {},
   "outputs": [
    {
     "name": "stdout",
     "output_type": "stream",
     "text": [
      "(6500, 12)\n"
     ]
    },
    {
     "data": {
      "text/html": [
       "<div>\n",
       "<style scoped>\n",
       "    .dataframe tbody tr th:only-of-type {\n",
       "        vertical-align: middle;\n",
       "    }\n",
       "\n",
       "    .dataframe tbody tr th {\n",
       "        vertical-align: top;\n",
       "    }\n",
       "\n",
       "    .dataframe thead th {\n",
       "        text-align: right;\n",
       "    }\n",
       "</style>\n",
       "<table border=\"1\" class=\"dataframe\">\n",
       "  <thead>\n",
       "    <tr style=\"text-align: right;\">\n",
       "      <th></th>\n",
       "      <th>user_id</th>\n",
       "      <th>name</th>\n",
       "      <th>age</th>\n",
       "      <th>city</th>\n",
       "      <th>subscription_type</th>\n",
       "      <th>distance</th>\n",
       "      <th>duration</th>\n",
       "      <th>date</th>\n",
       "      <th>month</th>\n",
       "      <th>minute_price</th>\n",
       "      <th>start_ride_price</th>\n",
       "      <th>subscription_fee</th>\n",
       "    </tr>\n",
       "  </thead>\n",
       "  <tbody>\n",
       "    <tr>\n",
       "      <th>0</th>\n",
       "      <td>1</td>\n",
       "      <td>Кира</td>\n",
       "      <td>22</td>\n",
       "      <td>Тюмень</td>\n",
       "      <td>ultra</td>\n",
       "      <td>4409.919140</td>\n",
       "      <td>25.599769</td>\n",
       "      <td>2021-01-01</td>\n",
       "      <td>1</td>\n",
       "      <td>6</td>\n",
       "      <td>0</td>\n",
       "      <td>199</td>\n",
       "    </tr>\n",
       "    <tr>\n",
       "      <th>1</th>\n",
       "      <td>1</td>\n",
       "      <td>Кира</td>\n",
       "      <td>22</td>\n",
       "      <td>Тюмень</td>\n",
       "      <td>ultra</td>\n",
       "      <td>2617.592153</td>\n",
       "      <td>15.816871</td>\n",
       "      <td>2021-01-18</td>\n",
       "      <td>1</td>\n",
       "      <td>6</td>\n",
       "      <td>0</td>\n",
       "      <td>199</td>\n",
       "    </tr>\n",
       "    <tr>\n",
       "      <th>2</th>\n",
       "      <td>1</td>\n",
       "      <td>Кира</td>\n",
       "      <td>22</td>\n",
       "      <td>Тюмень</td>\n",
       "      <td>ultra</td>\n",
       "      <td>754.159807</td>\n",
       "      <td>6.232113</td>\n",
       "      <td>2021-04-20</td>\n",
       "      <td>4</td>\n",
       "      <td>6</td>\n",
       "      <td>0</td>\n",
       "      <td>199</td>\n",
       "    </tr>\n",
       "    <tr>\n",
       "      <th>3</th>\n",
       "      <td>1</td>\n",
       "      <td>Кира</td>\n",
       "      <td>22</td>\n",
       "      <td>Тюмень</td>\n",
       "      <td>ultra</td>\n",
       "      <td>2694.783254</td>\n",
       "      <td>18.511000</td>\n",
       "      <td>2021-08-11</td>\n",
       "      <td>8</td>\n",
       "      <td>6</td>\n",
       "      <td>0</td>\n",
       "      <td>199</td>\n",
       "    </tr>\n",
       "    <tr>\n",
       "      <th>4</th>\n",
       "      <td>1</td>\n",
       "      <td>Кира</td>\n",
       "      <td>22</td>\n",
       "      <td>Тюмень</td>\n",
       "      <td>ultra</td>\n",
       "      <td>4028.687306</td>\n",
       "      <td>26.265803</td>\n",
       "      <td>2021-08-28</td>\n",
       "      <td>8</td>\n",
       "      <td>6</td>\n",
       "      <td>0</td>\n",
       "      <td>199</td>\n",
       "    </tr>\n",
       "  </tbody>\n",
       "</table>\n",
       "</div>"
      ],
      "text/plain": [
       "   user_id  name  age    city subscription_type     distance   duration  \\\n",
       "0        1  Кира   22  Тюмень             ultra  4409.919140  25.599769   \n",
       "1        1  Кира   22  Тюмень             ultra  2617.592153  15.816871   \n",
       "2        1  Кира   22  Тюмень             ultra   754.159807   6.232113   \n",
       "3        1  Кира   22  Тюмень             ultra  2694.783254  18.511000   \n",
       "4        1  Кира   22  Тюмень             ultra  4028.687306  26.265803   \n",
       "\n",
       "        date  month  minute_price  start_ride_price  subscription_fee  \n",
       "0 2021-01-01      1             6                 0               199  \n",
       "1 2021-01-18      1             6                 0               199  \n",
       "2 2021-04-20      4             6                 0               199  \n",
       "3 2021-08-11      8             6                 0               199  \n",
       "4 2021-08-28      8             6                 0               199  "
      ]
     },
     "execution_count": 21,
     "metadata": {},
     "output_type": "execute_result"
    }
   ],
   "source": [
    "# пользователи с подпиской \n",
    "ultra_sub = full_stat.query('subscription_type == \"ultra\"')\n",
    "print(ultra_sub.shape)\n",
    "ultra_sub.head()"
   ]
  },
  {
   "cell_type": "code",
   "execution_count": 22,
   "id": "d6ff582e",
   "metadata": {},
   "outputs": [
    {
     "name": "stdout",
     "output_type": "stream",
     "text": [
      "(11568, 12)\n"
     ]
    },
    {
     "data": {
      "text/html": [
       "<div>\n",
       "<style scoped>\n",
       "    .dataframe tbody tr th:only-of-type {\n",
       "        vertical-align: middle;\n",
       "    }\n",
       "\n",
       "    .dataframe tbody tr th {\n",
       "        vertical-align: top;\n",
       "    }\n",
       "\n",
       "    .dataframe thead th {\n",
       "        text-align: right;\n",
       "    }\n",
       "</style>\n",
       "<table border=\"1\" class=\"dataframe\">\n",
       "  <thead>\n",
       "    <tr style=\"text-align: right;\">\n",
       "      <th></th>\n",
       "      <th>user_id</th>\n",
       "      <th>name</th>\n",
       "      <th>age</th>\n",
       "      <th>city</th>\n",
       "      <th>subscription_type</th>\n",
       "      <th>distance</th>\n",
       "      <th>duration</th>\n",
       "      <th>date</th>\n",
       "      <th>month</th>\n",
       "      <th>minute_price</th>\n",
       "      <th>start_ride_price</th>\n",
       "      <th>subscription_fee</th>\n",
       "    </tr>\n",
       "  </thead>\n",
       "  <tbody>\n",
       "    <tr>\n",
       "      <th>6500</th>\n",
       "      <td>700</td>\n",
       "      <td>Айдар</td>\n",
       "      <td>22</td>\n",
       "      <td>Омск</td>\n",
       "      <td>free</td>\n",
       "      <td>2515.690719</td>\n",
       "      <td>14.944286</td>\n",
       "      <td>2021-01-02</td>\n",
       "      <td>1</td>\n",
       "      <td>8</td>\n",
       "      <td>50</td>\n",
       "      <td>0</td>\n",
       "    </tr>\n",
       "    <tr>\n",
       "      <th>6501</th>\n",
       "      <td>700</td>\n",
       "      <td>Айдар</td>\n",
       "      <td>22</td>\n",
       "      <td>Омск</td>\n",
       "      <td>free</td>\n",
       "      <td>846.932642</td>\n",
       "      <td>16.234663</td>\n",
       "      <td>2021-02-01</td>\n",
       "      <td>2</td>\n",
       "      <td>8</td>\n",
       "      <td>50</td>\n",
       "      <td>0</td>\n",
       "    </tr>\n",
       "    <tr>\n",
       "      <th>6502</th>\n",
       "      <td>700</td>\n",
       "      <td>Айдар</td>\n",
       "      <td>22</td>\n",
       "      <td>Омск</td>\n",
       "      <td>free</td>\n",
       "      <td>4004.434142</td>\n",
       "      <td>20.016628</td>\n",
       "      <td>2021-02-04</td>\n",
       "      <td>2</td>\n",
       "      <td>8</td>\n",
       "      <td>50</td>\n",
       "      <td>0</td>\n",
       "    </tr>\n",
       "    <tr>\n",
       "      <th>6503</th>\n",
       "      <td>700</td>\n",
       "      <td>Айдар</td>\n",
       "      <td>22</td>\n",
       "      <td>Омск</td>\n",
       "      <td>free</td>\n",
       "      <td>1205.911290</td>\n",
       "      <td>9.782872</td>\n",
       "      <td>2021-02-10</td>\n",
       "      <td>2</td>\n",
       "      <td>8</td>\n",
       "      <td>50</td>\n",
       "      <td>0</td>\n",
       "    </tr>\n",
       "    <tr>\n",
       "      <th>6504</th>\n",
       "      <td>700</td>\n",
       "      <td>Айдар</td>\n",
       "      <td>22</td>\n",
       "      <td>Омск</td>\n",
       "      <td>free</td>\n",
       "      <td>3047.379435</td>\n",
       "      <td>17.427673</td>\n",
       "      <td>2021-02-14</td>\n",
       "      <td>2</td>\n",
       "      <td>8</td>\n",
       "      <td>50</td>\n",
       "      <td>0</td>\n",
       "    </tr>\n",
       "  </tbody>\n",
       "</table>\n",
       "</div>"
      ],
      "text/plain": [
       "      user_id   name  age  city subscription_type     distance   duration  \\\n",
       "6500      700  Айдар   22  Омск              free  2515.690719  14.944286   \n",
       "6501      700  Айдар   22  Омск              free   846.932642  16.234663   \n",
       "6502      700  Айдар   22  Омск              free  4004.434142  20.016628   \n",
       "6503      700  Айдар   22  Омск              free  1205.911290   9.782872   \n",
       "6504      700  Айдар   22  Омск              free  3047.379435  17.427673   \n",
       "\n",
       "           date  month  minute_price  start_ride_price  subscription_fee  \n",
       "6500 2021-01-02      1             8                50                 0  \n",
       "6501 2021-02-01      2             8                50                 0  \n",
       "6502 2021-02-04      2             8                50                 0  \n",
       "6503 2021-02-10      2             8                50                 0  \n",
       "6504 2021-02-14      2             8                50                 0  "
      ]
     },
     "execution_count": 22,
     "metadata": {},
     "output_type": "execute_result"
    }
   ],
   "source": [
    "# пользователи без подписки\n",
    "free_sub = full_stat.query('subscription_type == \"free\"')\n",
    "print(free_sub.shape)\n",
    "free_sub.head()"
   ]
  },
  {
   "cell_type": "markdown",
   "id": "7b7813a6",
   "metadata": {},
   "source": [
    "**расстояние, которое пользователь преодолел за одну поездку**"
   ]
  },
  {
   "cell_type": "code",
   "execution_count": 23,
   "id": "4cbbd665",
   "metadata": {},
   "outputs": [
    {
     "data": {
      "image/png": "[encoded data removed]",
      "text/plain": [
       "<Figure size 864x432 with 1 Axes>"
      ]
     },
     "metadata": {
      "needs_background": "light"
     },
     "output_type": "display_data"
    }
   ],
   "source": [
    "ax = ultra_sub.plot(\n",
    "    kind='hist',\n",
    "    y='distance',\n",
    "    histtype='step',\n",
    "    bins=100,\n",
    "    linewidth=5,\n",
    "    alpha=0.7,\n",
    "    label='с подпиской',\n",
    ")\n",
    "free_sub.plot(\n",
    "    kind='hist',\n",
    "    y='distance',\n",
    "    histtype='step',\n",
    "    bins=100,\n",
    "    linewidth=5,\n",
    "    alpha=0.5,\n",
    "    label='без подписки',\n",
    "    ax=ax,\n",
    "    grid=True,\n",
    "    legend=True,\n",
    "    figsize=(12,6)\n",
    ")\n",
    "plt.title('Расстояние за поездку' + \"\\n\", fontsize=15)\n",
    "plt.xlabel('Расстояние')\n",
    "plt.ylabel('Количество');"
   ]
  },
  {
   "cell_type": "markdown",
   "id": "084bb86f",
   "metadata": {},
   "source": [
    "Среднее значение в обеих группах совпадают, пик приходится на значения около 3 км. После 3.5 км у пользователей обеих категорий наблюдается тенденция снижения преодоленного расстояния.\n",
    "\n",
    "На графике видно, что значения расстояния у пользователей без подписки обладают большим размахом: они проезжают как крайне малое расстояние (пик около нуля), так и достаточно длинные (график заканчивается на значении чуть больше 7 км), чем пользователи с подпиской."
   ]
  },
  {
   "cell_type": "markdown",
   "id": "be748385",
   "metadata": {},
   "source": [
    "**продолжительность поездок**"
   ]
  },
  {
   "cell_type": "code",
   "execution_count": 24,
   "id": "82e26cb9",
   "metadata": {},
   "outputs": [
    {
     "data": {
      "image/png": "[encoded data removed]",
      "text/plain": [
       "<Figure size 864x432 with 1 Axes>"
      ]
     },
     "metadata": {
      "needs_background": "light"
     },
     "output_type": "display_data"
    }
   ],
   "source": [
    "ax = ultra_sub.plot(\n",
    "    kind='hist',\n",
    "    y='duration',\n",
    "    histtype='step',\n",
    "    linewidth=5,\n",
    "    alpha=0.7,\n",
    "    label='с подпиской',\n",
    ")\n",
    "free_sub.plot(\n",
    "    kind='hist',\n",
    "    y='duration',\n",
    "    histtype='step',\n",
    "    linewidth=5,\n",
    "    alpha=0.5,\n",
    "    label='без подписки',\n",
    "    ax=ax,\n",
    "    grid=True,\n",
    "    legend=True,\n",
    "    figsize=(12,6)\n",
    ")\n",
    "plt.title('Продолжительность поездки' + \"\\n\", fontsize=15)\n",
    "plt.xlabel('Длительность')\n",
    "plt.ylabel('Количество');"
   ]
  },
  {
   "cell_type": "markdown",
   "id": "35d79ea7",
   "metadata": {},
   "source": [
    "Можно сказать, что графики дублируют друг друга, однако различие в количестве людей: пользователей без подписки больше. Среднее значение колеблется в пределах 15-20 минут, после чего продолжительность поездки постепенно уменьшается. \n",
    "\n",
    "Кроме того, на графике видно, что пользователи с подпиской совершают поездки дольше другой группы примерно на 5 минут."
   ]
  },
  {
   "cell_type": "markdown",
   "id": "402d620f",
   "metadata": {},
   "source": [
    "### Подсчёт выручки"
   ]
  },
  {
   "cell_type": "code",
   "execution_count": 25,
   "id": "53049e0a",
   "metadata": {},
   "outputs": [
    {
     "data": {
      "text/html": [
       "<div>\n",
       "<style scoped>\n",
       "    .dataframe tbody tr th:only-of-type {\n",
       "        vertical-align: middle;\n",
       "    }\n",
       "\n",
       "    .dataframe tbody tr th {\n",
       "        vertical-align: top;\n",
       "    }\n",
       "\n",
       "    .dataframe thead th {\n",
       "        text-align: right;\n",
       "    }\n",
       "</style>\n",
       "<table border=\"1\" class=\"dataframe\">\n",
       "  <thead>\n",
       "    <tr style=\"text-align: right;\">\n",
       "      <th></th>\n",
       "      <th></th>\n",
       "      <th>distance</th>\n",
       "      <th>duration</th>\n",
       "      <th>count</th>\n",
       "      <th>subscription_fee</th>\n",
       "      <th>minute_price</th>\n",
       "      <th>start_ride_price</th>\n",
       "    </tr>\n",
       "    <tr>\n",
       "      <th>user_id</th>\n",
       "      <th>month</th>\n",
       "      <th></th>\n",
       "      <th></th>\n",
       "      <th></th>\n",
       "      <th></th>\n",
       "      <th></th>\n",
       "      <th></th>\n",
       "    </tr>\n",
       "  </thead>\n",
       "  <tbody>\n",
       "    <tr>\n",
       "      <th rowspan=\"5\" valign=\"top\">1</th>\n",
       "      <th>1</th>\n",
       "      <td>7027.511294</td>\n",
       "      <td>42</td>\n",
       "      <td>2</td>\n",
       "      <td>199</td>\n",
       "      <td>6</td>\n",
       "      <td>0</td>\n",
       "    </tr>\n",
       "    <tr>\n",
       "      <th>4</th>\n",
       "      <td>754.159807</td>\n",
       "      <td>7</td>\n",
       "      <td>1</td>\n",
       "      <td>199</td>\n",
       "      <td>6</td>\n",
       "      <td>0</td>\n",
       "    </tr>\n",
       "    <tr>\n",
       "      <th>8</th>\n",
       "      <td>6723.470560</td>\n",
       "      <td>46</td>\n",
       "      <td>2</td>\n",
       "      <td>199</td>\n",
       "      <td>6</td>\n",
       "      <td>0</td>\n",
       "    </tr>\n",
       "    <tr>\n",
       "      <th>10</th>\n",
       "      <td>5809.911100</td>\n",
       "      <td>32</td>\n",
       "      <td>2</td>\n",
       "      <td>199</td>\n",
       "      <td>6</td>\n",
       "      <td>0</td>\n",
       "    </tr>\n",
       "    <tr>\n",
       "      <th>11</th>\n",
       "      <td>7003.499363</td>\n",
       "      <td>56</td>\n",
       "      <td>3</td>\n",
       "      <td>199</td>\n",
       "      <td>6</td>\n",
       "      <td>0</td>\n",
       "    </tr>\n",
       "  </tbody>\n",
       "</table>\n",
       "</div>"
      ],
      "text/plain": [
       "                  distance  duration  count  subscription_fee  minute_price  \\\n",
       "user_id month                                                                 \n",
       "1       1      7027.511294        42      2               199             6   \n",
       "        4       754.159807         7      1               199             6   \n",
       "        8      6723.470560        46      2               199             6   \n",
       "        10     5809.911100        32      2               199             6   \n",
       "        11     7003.499363        56      3               199             6   \n",
       "\n",
       "               start_ride_price  \n",
       "user_id month                    \n",
       "1       1                     0  \n",
       "        4                     0  \n",
       "        8                     0  \n",
       "        10                    0  \n",
       "        11                    0  "
      ]
     },
     "execution_count": 25,
     "metadata": {},
     "output_type": "execute_result"
    }
   ],
   "source": [
    "# каждое значение из столбца duration округляется с помощью «потолка» \n",
    "full_stat['duration'] = np.ceil(full_stat['duration']).astype('int')\n",
    "\n",
    "# создание агрегированного датафрейма\n",
    "grouped_stat = full_stat[['user_id', 'distance', 'duration', 'month',\n",
    "                          'minute_price', 'start_ride_price', 'subscription_fee']]\n",
    "grouped_stat = (grouped_stat.groupby(['user_id', 'month'])\n",
    "                .agg({'distance': 'sum',\n",
    "                      'duration': 'sum',\n",
    "                      'user_id': 'count',\n",
    "                      'subscription_fee' : 'min',\n",
    "                      'minute_price' : 'min',\n",
    "                      'start_ride_price' : 'min'})\n",
    "               )\n",
    "grouped_stat = grouped_stat.rename(columns={'user_id': 'count'})\n",
    "grouped_stat.head()"
   ]
  },
  {
   "cell_type": "code",
   "execution_count": 26,
   "id": "70ece7f4",
   "metadata": {},
   "outputs": [
    {
     "data": {
      "text/html": [
       "<div>\n",
       "<style scoped>\n",
       "    .dataframe tbody tr th:only-of-type {\n",
       "        vertical-align: middle;\n",
       "    }\n",
       "\n",
       "    .dataframe tbody tr th {\n",
       "        vertical-align: top;\n",
       "    }\n",
       "\n",
       "    .dataframe thead th {\n",
       "        text-align: right;\n",
       "    }\n",
       "</style>\n",
       "<table border=\"1\" class=\"dataframe\">\n",
       "  <thead>\n",
       "    <tr style=\"text-align: right;\">\n",
       "      <th></th>\n",
       "      <th></th>\n",
       "      <th>distance</th>\n",
       "      <th>duration</th>\n",
       "      <th>count</th>\n",
       "      <th>subscription_fee</th>\n",
       "      <th>minute_price</th>\n",
       "      <th>start_ride_price</th>\n",
       "      <th>revenue</th>\n",
       "    </tr>\n",
       "    <tr>\n",
       "      <th>user_id</th>\n",
       "      <th>month</th>\n",
       "      <th></th>\n",
       "      <th></th>\n",
       "      <th></th>\n",
       "      <th></th>\n",
       "      <th></th>\n",
       "      <th></th>\n",
       "      <th></th>\n",
       "    </tr>\n",
       "  </thead>\n",
       "  <tbody>\n",
       "    <tr>\n",
       "      <th rowspan=\"5\" valign=\"top\">1</th>\n",
       "      <th>1</th>\n",
       "      <td>7027.511294</td>\n",
       "      <td>42</td>\n",
       "      <td>2</td>\n",
       "      <td>199</td>\n",
       "      <td>6</td>\n",
       "      <td>0</td>\n",
       "      <td>451</td>\n",
       "    </tr>\n",
       "    <tr>\n",
       "      <th>4</th>\n",
       "      <td>754.159807</td>\n",
       "      <td>7</td>\n",
       "      <td>1</td>\n",
       "      <td>199</td>\n",
       "      <td>6</td>\n",
       "      <td>0</td>\n",
       "      <td>241</td>\n",
       "    </tr>\n",
       "    <tr>\n",
       "      <th>8</th>\n",
       "      <td>6723.470560</td>\n",
       "      <td>46</td>\n",
       "      <td>2</td>\n",
       "      <td>199</td>\n",
       "      <td>6</td>\n",
       "      <td>0</td>\n",
       "      <td>475</td>\n",
       "    </tr>\n",
       "    <tr>\n",
       "      <th>10</th>\n",
       "      <td>5809.911100</td>\n",
       "      <td>32</td>\n",
       "      <td>2</td>\n",
       "      <td>199</td>\n",
       "      <td>6</td>\n",
       "      <td>0</td>\n",
       "      <td>391</td>\n",
       "    </tr>\n",
       "    <tr>\n",
       "      <th>11</th>\n",
       "      <td>7003.499363</td>\n",
       "      <td>56</td>\n",
       "      <td>3</td>\n",
       "      <td>199</td>\n",
       "      <td>6</td>\n",
       "      <td>0</td>\n",
       "      <td>535</td>\n",
       "    </tr>\n",
       "  </tbody>\n",
       "</table>\n",
       "</div>"
      ],
      "text/plain": [
       "                  distance  duration  count  subscription_fee  minute_price  \\\n",
       "user_id month                                                                 \n",
       "1       1      7027.511294        42      2               199             6   \n",
       "        4       754.159807         7      1               199             6   \n",
       "        8      6723.470560        46      2               199             6   \n",
       "        10     5809.911100        32      2               199             6   \n",
       "        11     7003.499363        56      3               199             6   \n",
       "\n",
       "               start_ride_price  revenue  \n",
       "user_id month                             \n",
       "1       1                     0      451  \n",
       "        4                     0      241  \n",
       "        8                     0      475  \n",
       "        10                    0      391  \n",
       "        11                    0      535  "
      ]
     },
     "execution_count": 26,
     "metadata": {},
     "output_type": "execute_result"
    }
   ],
   "source": [
    "# добавляем столбец с помесячной выручкой\n",
    "grouped_stat['revenue'] = ((grouped_stat['start_ride_price'] * grouped_stat['count']) \n",
    "                           + (grouped_stat['minute_price'] * grouped_stat['duration']) + grouped_stat['subscription_fee'])\n",
    "grouped_stat.head()"
   ]
  },
  {
   "cell_type": "markdown",
   "id": "41545ac0",
   "metadata": {},
   "source": [
    "### Проверка гипотез"
   ]
  },
  {
   "cell_type": "markdown",
   "id": "5a6b0f41",
   "metadata": {},
   "source": [
    "Проверим некоторые гипотезы.\n",
    "1. Тратят ли пользователи с подпиской больше времени на поездки?\n",
    "2. Можно ли сказать, что расстояние, которое проезжают пользователи с подпиской за одну поездку, не превышает 3130 метров?\n",
    "3. Будет ли помесячная выручка от пользователей с подпиской по месяцам выше, чем выручка от пользователей без подписки?"
   ]
  },
  {
   "cell_type": "markdown",
   "id": "53205705",
   "metadata": {},
   "source": [
    "##### "
   ]
  },
  {
   "cell_type": "markdown",
   "id": "4ba1a456",
   "metadata": {},
   "source": [
    "**Важно понять, тратят ли пользователи с подпиской больше времени на поездки?** Если да, то пользователи с подпиской могут быть «выгоднее» для компании. \n",
    "\n",
    "Проверим гипотезу, используя исходные данные о продолжительности каждой сессии — отдельно для подписчиков и тех, у кого нет подписки.\n",
    "\n",
    "Пусть\n",
    "\n",
    "H0: значения `duration` для пользователей обеих категорий равны\n",
    "\n",
    "H1: `duration` пользователей с подпиской > `duration` пользователей с бесплатным тарифом\n",
    "\n",
    "Уровень значимости возьмем 5%"
   ]
  },
  {
   "cell_type": "code",
   "execution_count": 28,
   "id": "647eec09",
   "metadata": {},
   "outputs": [
    {
     "name": "stdout",
     "output_type": "stream",
     "text": [
      "p-значение: 1.2804098316645618e-34\n",
      "Отвергаем нулевую гипотезу\n"
     ]
    }
   ],
   "source": [
    "ultra = ultra_sub['duration']\n",
    "free = free_sub['duration']\n",
    "\n",
    "alpha = .05\n",
    "\n",
    "results = st.ttest_ind(ultra, \n",
    "                       free, \n",
    "                       alternative = 'greater')\n",
    "\n",
    "print('p-значение:', results.pvalue)\n",
    "\n",
    "if results.pvalue < alpha:\n",
    "    print('Отвергаем нулевую гипотезу')\n",
    "else:\n",
    "    print('Не получилось отвергнуть нулевую гипотезу')"
   ]
  },
  {
   "cell_type": "markdown",
   "id": "26289ed5",
   "metadata": {},
   "source": [
    "Полученное значение p-value меньше заданного уровня значимости, поэтому можно отвергнуть нулевую гипотезу. Есть основания говорить, что пользователи с подпиской тратят больше времени на поездки."
   ]
  },
  {
   "cell_type": "markdown",
   "id": "abf16b6d",
   "metadata": {},
   "source": [
    "##### "
   ]
  },
  {
   "cell_type": "markdown",
   "id": "58ed8552",
   "metadata": {},
   "source": [
    "Расстояние одной поездки в 3130 метров — оптимальное с точки зрения износа самоката. \n",
    "\n",
    "**Можно ли сказать, что расстояние, которое проезжают пользователи с подпиской за одну поездку, не превышает 3130 метров?**\n",
    "\n",
    "Проверим гипотезу, используя исходные данные о расстоянии, проезжаемом пользователями с подпиской.\n",
    "\n",
    "Пусть\n",
    "\n",
    "H0: значение `distance` для пользователей с подпиской = 3130\n",
    "\n",
    "H1: подписчики в среднем проезжают расстояние больше оптимального. `distance` пользователей с подпиской > 3130\n",
    "\n",
    "Уровень значимости возьмем 5%"
   ]
  },
  {
   "cell_type": "code",
   "execution_count": 29,
   "id": "8feaaed9",
   "metadata": {},
   "outputs": [
    {
     "name": "stdout",
     "output_type": "stream",
     "text": [
      "0.9195368847849785\n",
      "Не удалось отвергнуть нулевую гипотезу\n"
     ]
    }
   ],
   "source": [
    "ultra_dist = ultra_sub['distance']\n",
    "\n",
    "interested_value = 3130\n",
    "\n",
    "alpha = .05\n",
    "\n",
    "results = st.ttest_1samp(ultra_dist, \n",
    "                         interested_value,\n",
    "                         alternative='greater')\n",
    "    \n",
    "print(results.pvalue)\n",
    "\n",
    "if results.pvalue < alpha:\n",
    "    print('Отвергаем нулевую гипотезу')\n",
    "else:\n",
    "    print('Не удалось отвергнуть нулевую гипотезу')"
   ]
  },
  {
   "cell_type": "markdown",
   "id": "15d3ed08",
   "metadata": {},
   "source": [
    "Значение p-value больше заданного уровня значимости и составляет 91%, мы не можем отвергнуть нулевую гипотезу. Это значит, что подписчики проезжают расстояние, которое приводит к оптимальному износу."
   ]
  },
  {
   "cell_type": "markdown",
   "id": "7580aeac",
   "metadata": {},
   "source": [
    "##### "
   ]
  },
  {
   "cell_type": "markdown",
   "id": "7049dd50",
   "metadata": {},
   "source": [
    "**Будет ли помесячная выручка от пользователей с подпиской по месяцам выше, чем выручка от пользователей без подписки?**\n",
    "\n",
    "Проверим гипотезу, используя исходные данные о помесячной выручке с каждого пользователя.\n",
    "\n",
    "Пусть\n",
    "\n",
    "H0: значение `revenue` для пользователей с подпиской = `revenue` для пользователей без подписки\n",
    "\n",
    "H1: `revenue` пользователей с подпиской > `revenue` для пользователей без подписки\n",
    "\n",
    "Уровень значимости возьмем 5%"
   ]
  },
  {
   "cell_type": "code",
   "execution_count": 30,
   "id": "e654df93",
   "metadata": {},
   "outputs": [
    {
     "name": "stdout",
     "output_type": "stream",
     "text": [
      "1.8850394384715216e-31\n",
      "Отвергаем нулевую гипотезу\n"
     ]
    }
   ],
   "source": [
    "ultra_month =  grouped_stat.loc[grouped_stat['subscription_fee'] == 199, 'revenue']\n",
    "free_month = grouped_stat.loc[grouped_stat['subscription_fee'] == 0, 'revenue']\n",
    "\n",
    "\n",
    "results = st.ttest_ind(ultra_month, \n",
    "                       free_month,\n",
    "                       alternative = 'greater')\n",
    "\n",
    "alpha = .05\n",
    "\n",
    "print(results.pvalue)\n",
    "\n",
    "if results.pvalue < alpha:\n",
    "    print('Отвергаем нулевую гипотезу')\n",
    "else:\n",
    "    print('Не удалось отвергнуть нулевую гипотезу')"
   ]
  },
  {
   "cell_type": "markdown",
   "id": "489b6a5b",
   "metadata": {},
   "source": [
    "Полученное значение p-value меньше заданного уровня значимости, что позволяет утверждать, что выручка от подписчиков выше чем у пользователей с бесплатным тарифом."
   ]
  },
  {
   "cell_type": "markdown",
   "id": "3f24d9ee",
   "metadata": {},
   "source": [
    "##### "
   ]
  },
  {
   "cell_type": "markdown",
   "id": "b1302d6a",
   "metadata": {},
   "source": [
    "### Общий вывод"
   ]
  },
  {
   "cell_type": "markdown",
   "id": "1974a41a",
   "metadata": {},
   "source": [
    "Входные данные от сервиса аренды самокатов GoFast были обработаны и проанализированы.\n",
    "\n",
    "В ходе работы были проведены следующие мероприятия и сделаны выводы:\n",
    "\n",
    "**Предобработка данных:**\n",
    "* Изменение типа данных в столбце 'date'\n",
    "* Категоризация данных на основе столбца `date`\n",
    "* Проверка наличия пропущенных значений и дубликатов в датафреймах и их обработка\n",
    "\n",
    "**Исследовательский анализ данных**, который позволил глужбе изучить данные и вывести следующие инсайты:\n",
    "* Наибольшее количество пользователей находится в Пятигорске, наименьшее в Москве\n",
    "* Соотношение пользователей с подпиской и без подписки примерно 50/50, а точнее 46 на 54\n",
    "* Средний возраст пользователей колеблется от 20 до 30 лет\n",
    "* Среднее расстояние, преодолеваемое за одну поездку, равно 3070 м\n",
    "* Среднее время поездки равно 17 минутам\n",
    "\n",
    "**Поведение пользователей:**\n",
    "* Пользователи с подпиской совершают поездки дольше другой группы примерно на 5 минут.\n",
    "* Пользователи с бесплатным тарифом проезжают большие расстояние, чем подписчики сервиса\n",
    "\n",
    "**Подсчет выручки**\n",
    "\n",
    "Был добавлен столбец, отражающий помесячную выручку от каждого пользователя.\n",
    "\n",
    "**Проверка гипотез**\n",
    "* **Пользователи с подпиской тратят больше времени на поездки**\n",
    "\n",
    "Есть основания говорить, что пользователи с подпиской тратят в сервисе больше денег.\n",
    "* **Расстояние, которое проезжают пользователи с подпиской за одну поездку, не превышает 3130 метров**\n",
    "\n",
    "Подписчики проезжают расстояние, которое приводит к оптимальному износу.\n",
    "* **Помесячная выручка от пользователей с подпиской по месяцам выше, чем выручка от пользователей без подписки**\n",
    "\n",
    "Помесячная выручка от подписчиков выше чем от пользователей с бесплатным тарифом."
   ]
  }
 ],
 "metadata": {
  "ExecuteTimeLog": [
   {
    "duration": 1314,
    "start_time": "2023-08-03T09:49:02.436Z"
   },
   {
    "duration": 194,
    "start_time": "2023-08-03T09:49:03.752Z"
   },
   {
    "duration": 102,
    "start_time": "2023-08-03T09:49:03.948Z"
   },
   {
    "duration": 23,
    "start_time": "2023-08-03T09:49:47.344Z"
   },
   {
    "duration": 13,
    "start_time": "2023-08-03T09:50:10.114Z"
   },
   {
    "duration": 14,
    "start_time": "2023-08-03T09:57:19.155Z"
   },
   {
    "duration": 13,
    "start_time": "2023-08-03T09:57:40.609Z"
   },
   {
    "duration": 27,
    "start_time": "2023-08-03T09:58:13.997Z"
   },
   {
    "duration": 70,
    "start_time": "2023-08-03T11:43:22.674Z"
   },
   {
    "duration": 1672,
    "start_time": "2023-08-03T11:43:27.372Z"
   },
   {
    "duration": 329,
    "start_time": "2023-08-03T11:43:29.047Z"
   },
   {
    "duration": 24,
    "start_time": "2023-08-03T11:43:29.379Z"
   },
   {
    "duration": 51,
    "start_time": "2023-08-03T11:43:29.406Z"
   },
   {
    "duration": 469,
    "start_time": "2023-08-03T11:43:29.460Z"
   },
   {
    "duration": 285,
    "start_time": "2023-08-03T11:43:40.533Z"
   },
   {
    "duration": 9,
    "start_time": "2023-08-03T12:10:07.660Z"
   },
   {
    "duration": 7,
    "start_time": "2023-08-03T12:10:45.267Z"
   },
   {
    "duration": 14,
    "start_time": "2023-08-03T12:10:52.378Z"
   },
   {
    "duration": 9,
    "start_time": "2023-08-03T12:13:32.279Z"
   },
   {
    "duration": 4,
    "start_time": "2023-08-03T12:19:04.436Z"
   },
   {
    "duration": 64,
    "start_time": "2023-08-03T12:19:06.831Z"
   },
   {
    "duration": 20,
    "start_time": "2023-08-03T12:19:15.187Z"
   },
   {
    "duration": 5,
    "start_time": "2023-08-03T12:19:23.961Z"
   },
   {
    "duration": 23,
    "start_time": "2023-08-03T12:19:24.770Z"
   },
   {
    "duration": 4,
    "start_time": "2023-08-03T12:19:30.972Z"
   },
   {
    "duration": 22,
    "start_time": "2023-08-03T12:19:58.913Z"
   },
   {
    "duration": 4,
    "start_time": "2023-08-03T12:20:02.154Z"
   },
   {
    "duration": 11,
    "start_time": "2023-08-03T12:20:02.872Z"
   },
   {
    "duration": 8,
    "start_time": "2023-08-03T12:20:46.662Z"
   },
   {
    "duration": 12,
    "start_time": "2023-08-03T12:20:49.432Z"
   },
   {
    "duration": 10,
    "start_time": "2023-08-03T12:21:09.832Z"
   },
   {
    "duration": 3,
    "start_time": "2023-08-03T12:21:16.352Z"
   },
   {
    "duration": 120,
    "start_time": "2023-08-03T12:21:16.358Z"
   },
   {
    "duration": 15,
    "start_time": "2023-08-03T12:21:16.480Z"
   },
   {
    "duration": 85,
    "start_time": "2023-08-03T12:21:16.496Z"
   },
   {
    "duration": 17,
    "start_time": "2023-08-03T12:21:16.583Z"
   },
   {
    "duration": 50,
    "start_time": "2023-08-03T12:21:16.602Z"
   },
   {
    "duration": 14,
    "start_time": "2023-08-03T12:21:16.654Z"
   },
   {
    "duration": 16,
    "start_time": "2023-08-03T12:21:16.670Z"
   },
   {
    "duration": 10,
    "start_time": "2023-08-03T12:21:20.756Z"
   },
   {
    "duration": 9,
    "start_time": "2023-08-03T12:21:56.094Z"
   },
   {
    "duration": 10,
    "start_time": "2023-08-03T12:22:48.331Z"
   },
   {
    "duration": 16,
    "start_time": "2023-08-03T12:41:21.535Z"
   },
   {
    "duration": 7,
    "start_time": "2023-08-03T12:44:33.536Z"
   },
   {
    "duration": 15,
    "start_time": "2023-08-03T12:45:47.269Z"
   },
   {
    "duration": 17,
    "start_time": "2023-08-03T12:46:57.267Z"
   },
   {
    "duration": 21,
    "start_time": "2023-08-03T12:47:15.926Z"
   },
   {
    "duration": 5,
    "start_time": "2023-08-03T12:47:52.372Z"
   },
   {
    "duration": 23,
    "start_time": "2023-08-03T12:48:37.708Z"
   },
   {
    "duration": 12,
    "start_time": "2023-08-03T12:54:04.857Z"
   },
   {
    "duration": 15,
    "start_time": "2023-08-03T12:54:09.968Z"
   },
   {
    "duration": 20,
    "start_time": "2023-08-03T12:54:16.174Z"
   },
   {
    "duration": 15,
    "start_time": "2023-08-03T12:54:32.550Z"
   },
   {
    "duration": 19,
    "start_time": "2023-08-03T12:54:49.584Z"
   },
   {
    "duration": 11,
    "start_time": "2023-08-03T12:55:30.246Z"
   },
   {
    "duration": 20,
    "start_time": "2023-08-03T12:55:37.815Z"
   },
   {
    "duration": 19,
    "start_time": "2023-08-03T12:56:00.024Z"
   },
   {
    "duration": 15,
    "start_time": "2023-08-03T12:56:40.480Z"
   },
   {
    "duration": 15,
    "start_time": "2023-08-03T12:57:03.769Z"
   },
   {
    "duration": 226,
    "start_time": "2023-08-03T12:57:38.960Z"
   },
   {
    "duration": 222,
    "start_time": "2023-08-03T12:57:47.855Z"
   },
   {
    "duration": 228,
    "start_time": "2023-08-03T12:58:05.650Z"
   },
   {
    "duration": 282,
    "start_time": "2023-08-03T12:58:09.351Z"
   },
   {
    "duration": 202,
    "start_time": "2023-08-03T12:58:18.277Z"
   },
   {
    "duration": 232,
    "start_time": "2023-08-03T12:58:24.034Z"
   },
   {
    "duration": 318,
    "start_time": "2023-08-03T12:58:30.844Z"
   },
   {
    "duration": 243,
    "start_time": "2023-08-03T12:58:47.340Z"
   },
   {
    "duration": 238,
    "start_time": "2023-08-03T13:01:22.158Z"
   },
   {
    "duration": 214,
    "start_time": "2023-08-03T13:01:30.987Z"
   },
   {
    "duration": 16,
    "start_time": "2023-08-03T13:03:29.171Z"
   },
   {
    "duration": 15,
    "start_time": "2023-08-03T13:03:47.089Z"
   },
   {
    "duration": 19,
    "start_time": "2023-08-03T13:04:04.424Z"
   },
   {
    "duration": 190,
    "start_time": "2023-08-03T13:04:19.494Z"
   },
   {
    "duration": 182,
    "start_time": "2023-08-03T13:05:46.987Z"
   },
   {
    "duration": 174,
    "start_time": "2023-08-03T13:05:52.183Z"
   },
   {
    "duration": 15,
    "start_time": "2023-08-03T14:04:53.025Z"
   },
   {
    "duration": 165,
    "start_time": "2023-08-03T14:04:53.699Z"
   },
   {
    "duration": 17,
    "start_time": "2023-08-03T14:06:55.238Z"
   },
   {
    "duration": 17,
    "start_time": "2023-08-03T14:07:43.197Z"
   },
   {
    "duration": 129,
    "start_time": "2023-08-03T14:08:22.228Z"
   },
   {
    "duration": 147,
    "start_time": "2023-08-03T14:09:11.394Z"
   },
   {
    "duration": 136,
    "start_time": "2023-08-03T14:09:37.226Z"
   },
   {
    "duration": 161,
    "start_time": "2023-08-03T14:12:21.155Z"
   },
   {
    "duration": 322,
    "start_time": "2023-08-03T14:16:46.750Z"
   },
   {
    "duration": 226,
    "start_time": "2023-08-03T14:17:15.624Z"
   },
   {
    "duration": 199,
    "start_time": "2023-08-03T14:17:30.589Z"
   },
   {
    "duration": 60,
    "start_time": "2023-08-03T14:20:19.244Z"
   },
   {
    "duration": 96,
    "start_time": "2023-08-03T14:20:19.307Z"
   },
   {
    "duration": 24,
    "start_time": "2023-08-03T14:20:19.405Z"
   },
   {
    "duration": 42,
    "start_time": "2023-08-03T14:20:19.432Z"
   },
   {
    "duration": 22,
    "start_time": "2023-08-03T14:20:19.477Z"
   },
   {
    "duration": 23,
    "start_time": "2023-08-03T14:20:19.502Z"
   },
   {
    "duration": 15,
    "start_time": "2023-08-03T14:20:19.527Z"
   },
   {
    "duration": 17,
    "start_time": "2023-08-03T14:20:19.544Z"
   },
   {
    "duration": 22,
    "start_time": "2023-08-03T14:20:19.563Z"
   },
   {
    "duration": 9,
    "start_time": "2023-08-03T14:20:19.588Z"
   },
   {
    "duration": 41,
    "start_time": "2023-08-03T14:20:19.599Z"
   },
   {
    "duration": 189,
    "start_time": "2023-08-03T14:20:19.642Z"
   },
   {
    "duration": 14,
    "start_time": "2023-08-03T14:20:19.833Z"
   },
   {
    "duration": 197,
    "start_time": "2023-08-03T14:20:19.848Z"
   },
   {
    "duration": 180,
    "start_time": "2023-08-03T14:20:20.046Z"
   },
   {
    "duration": 210,
    "start_time": "2023-08-03T14:23:45.215Z"
   },
   {
    "duration": 411,
    "start_time": "2023-08-03T14:24:05.253Z"
   },
   {
    "duration": 199,
    "start_time": "2023-08-03T14:24:10.557Z"
   },
   {
    "duration": 291,
    "start_time": "2023-08-03T14:24:19.291Z"
   },
   {
    "duration": 391,
    "start_time": "2023-08-03T14:24:36.087Z"
   },
   {
    "duration": 21,
    "start_time": "2023-08-03T14:24:57.531Z"
   },
   {
    "duration": 190,
    "start_time": "2023-08-03T14:25:24.948Z"
   },
   {
    "duration": 188,
    "start_time": "2023-08-03T14:26:38.537Z"
   },
   {
    "duration": 130,
    "start_time": "2023-08-03T14:26:51.620Z"
   },
   {
    "duration": 189,
    "start_time": "2023-08-03T14:26:54.424Z"
   },
   {
    "duration": 305,
    "start_time": "2023-08-03T14:33:13.028Z"
   },
   {
    "duration": 218,
    "start_time": "2023-08-03T14:33:23.154Z"
   },
   {
    "duration": 206,
    "start_time": "2023-08-03T14:43:54.888Z"
   },
   {
    "duration": 194,
    "start_time": "2023-08-03T14:44:17.358Z"
   },
   {
    "duration": 281,
    "start_time": "2023-08-03T14:46:18.709Z"
   },
   {
    "duration": 246,
    "start_time": "2023-08-03T14:46:40.528Z"
   },
   {
    "duration": 156,
    "start_time": "2023-08-03T14:49:34.186Z"
   },
   {
    "duration": 155,
    "start_time": "2023-08-03T14:52:27.981Z"
   },
   {
    "duration": 185,
    "start_time": "2023-08-03T14:53:42.998Z"
   },
   {
    "duration": 468,
    "start_time": "2023-08-03T14:54:25.126Z"
   },
   {
    "duration": 19,
    "start_time": "2023-08-03T14:55:05.701Z"
   },
   {
    "duration": 244,
    "start_time": "2023-08-03T14:56:14.598Z"
   },
   {
    "duration": 488,
    "start_time": "2023-08-03T14:56:30.127Z"
   },
   {
    "duration": 1552,
    "start_time": "2023-08-03T14:58:58.419Z"
   },
   {
    "duration": 719,
    "start_time": "2023-08-03T14:59:07.223Z"
   },
   {
    "duration": 12,
    "start_time": "2023-08-03T15:00:29.067Z"
   },
   {
    "duration": 38,
    "start_time": "2023-08-03T15:21:28.852Z"
   },
   {
    "duration": 27,
    "start_time": "2023-08-03T15:21:43.652Z"
   },
   {
    "duration": 33,
    "start_time": "2023-08-03T15:22:00.440Z"
   },
   {
    "duration": 4,
    "start_time": "2023-08-03T15:25:54.537Z"
   },
   {
    "duration": 148,
    "start_time": "2023-08-03T15:25:54.544Z"
   },
   {
    "duration": 12,
    "start_time": "2023-08-03T15:25:54.694Z"
   },
   {
    "duration": 60,
    "start_time": "2023-08-03T15:25:54.711Z"
   },
   {
    "duration": 8,
    "start_time": "2023-08-03T15:25:54.773Z"
   },
   {
    "duration": 29,
    "start_time": "2023-08-03T15:25:54.783Z"
   },
   {
    "duration": 47,
    "start_time": "2023-08-03T15:25:54.814Z"
   },
   {
    "duration": 9,
    "start_time": "2023-08-03T15:25:54.863Z"
   },
   {
    "duration": 15,
    "start_time": "2023-08-03T15:25:54.875Z"
   },
   {
    "duration": 9,
    "start_time": "2023-08-03T15:25:54.892Z"
   },
   {
    "duration": 31,
    "start_time": "2023-08-03T15:25:54.903Z"
   },
   {
    "duration": 218,
    "start_time": "2023-08-03T15:25:54.935Z"
   },
   {
    "duration": 13,
    "start_time": "2023-08-03T15:25:55.157Z"
   },
   {
    "duration": 207,
    "start_time": "2023-08-03T15:25:55.171Z"
   },
   {
    "duration": 262,
    "start_time": "2023-08-03T15:25:55.380Z"
   },
   {
    "duration": 710,
    "start_time": "2023-08-03T15:25:55.644Z"
   },
   {
    "duration": 13,
    "start_time": "2023-08-03T15:25:56.358Z"
   },
   {
    "duration": 586,
    "start_time": "2023-08-03T15:25:56.374Z"
   },
   {
    "duration": 9,
    "start_time": "2023-08-03T15:25:56.963Z"
   },
   {
    "duration": 38,
    "start_time": "2023-08-03T15:25:56.973Z"
   },
   {
    "duration": 31,
    "start_time": "2023-08-03T15:25:57.013Z"
   },
   {
    "duration": 32,
    "start_time": "2023-08-03T15:25:57.046Z"
   },
   {
    "duration": 7,
    "start_time": "2023-08-03T15:31:49.838Z"
   },
   {
    "duration": 6,
    "start_time": "2023-08-03T15:31:52.696Z"
   },
   {
    "duration": 133,
    "start_time": "2023-08-03T15:34:30.066Z"
   },
   {
    "duration": 225,
    "start_time": "2023-08-03T15:34:37.848Z"
   },
   {
    "duration": 219,
    "start_time": "2023-08-03T15:35:15.083Z"
   },
   {
    "duration": 217,
    "start_time": "2023-08-03T15:36:12.483Z"
   },
   {
    "duration": 206,
    "start_time": "2023-08-03T15:36:18.043Z"
   },
   {
    "duration": 359,
    "start_time": "2023-08-03T15:36:22.809Z"
   },
   {
    "duration": 221,
    "start_time": "2023-08-03T15:37:46.925Z"
   },
   {
    "duration": 216,
    "start_time": "2023-08-03T15:38:43.533Z"
   },
   {
    "duration": 353,
    "start_time": "2023-08-03T15:44:38.646Z"
   },
   {
    "duration": 402,
    "start_time": "2023-08-03T15:44:46.088Z"
   },
   {
    "duration": 30,
    "start_time": "2023-08-03T16:03:43.722Z"
   },
   {
    "duration": 20,
    "start_time": "2023-08-03T16:08:17.497Z"
   },
   {
    "duration": 23,
    "start_time": "2023-08-03T16:08:35.559Z"
   },
   {
    "duration": 18,
    "start_time": "2023-08-03T16:15:06.236Z"
   },
   {
    "duration": 20,
    "start_time": "2023-08-03T16:16:02.308Z"
   },
   {
    "duration": 20,
    "start_time": "2023-08-03T16:16:10.511Z"
   },
   {
    "duration": 23,
    "start_time": "2023-08-03T16:17:03.943Z"
   },
   {
    "duration": 5,
    "start_time": "2023-08-03T16:19:01.298Z"
   },
   {
    "duration": 1553,
    "start_time": "2023-08-04T11:34:46.943Z"
   },
   {
    "duration": 405,
    "start_time": "2023-08-04T11:34:48.498Z"
   },
   {
    "duration": 23,
    "start_time": "2023-08-04T11:34:48.906Z"
   },
   {
    "duration": 37,
    "start_time": "2023-08-04T11:34:48.931Z"
   },
   {
    "duration": 13,
    "start_time": "2023-08-04T11:34:48.972Z"
   },
   {
    "duration": 11,
    "start_time": "2023-08-04T11:34:48.986Z"
   },
   {
    "duration": 24,
    "start_time": "2023-08-04T11:34:48.999Z"
   },
   {
    "duration": 12,
    "start_time": "2023-08-04T11:34:49.025Z"
   },
   {
    "duration": 41,
    "start_time": "2023-08-04T11:34:49.039Z"
   },
   {
    "duration": 14,
    "start_time": "2023-08-04T11:34:49.084Z"
   },
   {
    "duration": 20,
    "start_time": "2023-08-04T11:34:49.101Z"
   },
   {
    "duration": 301,
    "start_time": "2023-08-04T11:34:49.122Z"
   },
   {
    "duration": 14,
    "start_time": "2023-08-04T11:34:49.425Z"
   },
   {
    "duration": 197,
    "start_time": "2023-08-04T11:34:49.440Z"
   },
   {
    "duration": 285,
    "start_time": "2023-08-04T11:34:49.638Z"
   },
   {
    "duration": 588,
    "start_time": "2023-08-04T11:34:49.925Z"
   },
   {
    "duration": 10,
    "start_time": "2023-08-04T11:34:50.515Z"
   },
   {
    "duration": 556,
    "start_time": "2023-08-04T11:34:50.526Z"
   },
   {
    "duration": 13,
    "start_time": "2023-08-04T11:34:51.085Z"
   },
   {
    "duration": 42,
    "start_time": "2023-08-04T11:34:51.100Z"
   },
   {
    "duration": 17,
    "start_time": "2023-08-04T11:34:51.144Z"
   },
   {
    "duration": 17,
    "start_time": "2023-08-04T11:34:51.164Z"
   },
   {
    "duration": 254,
    "start_time": "2023-08-04T11:34:51.184Z"
   },
   {
    "duration": 350,
    "start_time": "2023-08-04T11:34:51.440Z"
   },
   {
    "duration": 19,
    "start_time": "2023-08-04T11:34:51.792Z"
   },
   {
    "duration": 4,
    "start_time": "2023-08-04T11:34:51.813Z"
   },
   {
    "duration": 161,
    "start_time": "2023-08-04T11:34:51.819Z"
   },
   {
    "duration": 24,
    "start_time": "2023-08-04T11:35:35.222Z"
   },
   {
    "duration": 21,
    "start_time": "2023-08-04T11:44:52.904Z"
   },
   {
    "duration": 42,
    "start_time": "2023-08-04T11:45:58.448Z"
   },
   {
    "duration": 26,
    "start_time": "2023-08-04T11:46:25.098Z"
   },
   {
    "duration": 25,
    "start_time": "2023-08-04T11:46:36.290Z"
   },
   {
    "duration": 26,
    "start_time": "2023-08-04T11:48:18.710Z"
   },
   {
    "duration": 23,
    "start_time": "2023-08-04T11:48:40.189Z"
   },
   {
    "duration": 20,
    "start_time": "2023-08-04T11:49:46.884Z"
   },
   {
    "duration": 25,
    "start_time": "2023-08-04T11:49:55.679Z"
   },
   {
    "duration": 44,
    "start_time": "2023-08-04T11:52:21.550Z"
   },
   {
    "duration": 33,
    "start_time": "2023-08-04T11:52:41.929Z"
   },
   {
    "duration": 33,
    "start_time": "2023-08-04T11:52:50.072Z"
   },
   {
    "duration": 38,
    "start_time": "2023-08-04T11:52:55.137Z"
   },
   {
    "duration": 1382,
    "start_time": "2023-08-04T11:57:28.460Z"
   },
   {
    "duration": 1062,
    "start_time": "2023-08-04T12:02:37.374Z"
   },
   {
    "duration": 25,
    "start_time": "2023-08-04T12:02:42.908Z"
   },
   {
    "duration": 25,
    "start_time": "2023-08-04T12:02:48.106Z"
   },
   {
    "duration": 96,
    "start_time": "2023-08-04T12:03:38.854Z"
   },
   {
    "duration": 38,
    "start_time": "2023-08-04T12:03:55.942Z"
   },
   {
    "duration": 1716,
    "start_time": "2023-08-04T12:07:32.114Z"
   },
   {
    "duration": 48,
    "start_time": "2023-08-04T12:07:45.645Z"
   },
   {
    "duration": 1323,
    "start_time": "2023-08-04T12:07:47.415Z"
   },
   {
    "duration": 23,
    "start_time": "2023-08-04T12:10:18.195Z"
   },
   {
    "duration": 5,
    "start_time": "2023-08-04T12:19:29.109Z"
   },
   {
    "duration": 11,
    "start_time": "2023-08-04T12:20:51.089Z"
   },
   {
    "duration": 17,
    "start_time": "2023-08-04T12:21:01.197Z"
   },
   {
    "duration": 19,
    "start_time": "2023-08-04T12:21:26.667Z"
   },
   {
    "duration": 17,
    "start_time": "2023-08-04T12:23:16.316Z"
   },
   {
    "duration": 31,
    "start_time": "2023-08-04T12:26:10.015Z"
   },
   {
    "duration": 34,
    "start_time": "2023-08-04T12:30:48.574Z"
   },
   {
    "duration": 19,
    "start_time": "2023-08-04T12:30:55.189Z"
   },
   {
    "duration": 39,
    "start_time": "2023-08-04T12:31:21.337Z"
   },
   {
    "duration": 22,
    "start_time": "2023-08-04T12:31:43.399Z"
   },
   {
    "duration": 22,
    "start_time": "2023-08-04T12:31:48.805Z"
   },
   {
    "duration": 18,
    "start_time": "2023-08-04T12:33:41.914Z"
   },
   {
    "duration": 15,
    "start_time": "2023-08-04T12:33:56.774Z"
   },
   {
    "duration": 87,
    "start_time": "2023-08-04T12:35:14.593Z"
   },
   {
    "duration": 12,
    "start_time": "2023-08-04T12:35:17.680Z"
   },
   {
    "duration": 12,
    "start_time": "2023-08-04T12:37:59.693Z"
   },
   {
    "duration": 0,
    "start_time": "2023-08-04T12:38:51.505Z"
   },
   {
    "duration": 57,
    "start_time": "2023-08-04T12:43:56.162Z"
   },
   {
    "duration": 26,
    "start_time": "2023-08-04T12:44:21.802Z"
   },
   {
    "duration": 30,
    "start_time": "2023-08-04T12:44:29.405Z"
   },
   {
    "duration": 24,
    "start_time": "2023-08-04T12:44:43.891Z"
   },
   {
    "duration": 12,
    "start_time": "2023-08-04T12:45:03.829Z"
   },
   {
    "duration": 1159,
    "start_time": "2023-08-04T15:37:06.708Z"
   },
   {
    "duration": 208,
    "start_time": "2023-08-04T15:37:07.869Z"
   },
   {
    "duration": 14,
    "start_time": "2023-08-04T15:37:08.078Z"
   },
   {
    "duration": 23,
    "start_time": "2023-08-04T15:37:08.094Z"
   },
   {
    "duration": 7,
    "start_time": "2023-08-04T15:37:08.119Z"
   },
   {
    "duration": 5,
    "start_time": "2023-08-04T15:37:08.127Z"
   },
   {
    "duration": 12,
    "start_time": "2023-08-04T15:37:08.133Z"
   },
   {
    "duration": 7,
    "start_time": "2023-08-04T15:37:08.146Z"
   },
   {
    "duration": 9,
    "start_time": "2023-08-04T15:37:08.155Z"
   },
   {
    "duration": 34,
    "start_time": "2023-08-04T15:37:08.166Z"
   },
   {
    "duration": 27,
    "start_time": "2023-08-04T15:37:08.202Z"
   },
   {
    "duration": 151,
    "start_time": "2023-08-04T15:37:08.231Z"
   },
   {
    "duration": 10,
    "start_time": "2023-08-04T15:37:08.383Z"
   },
   {
    "duration": 151,
    "start_time": "2023-08-04T15:37:08.395Z"
   },
   {
    "duration": 184,
    "start_time": "2023-08-04T15:37:08.547Z"
   },
   {
    "duration": 522,
    "start_time": "2023-08-04T15:37:08.732Z"
   },
   {
    "duration": 7,
    "start_time": "2023-08-04T15:37:09.255Z"
   },
   {
    "duration": 449,
    "start_time": "2023-08-04T15:37:09.264Z"
   },
   {
    "duration": 8,
    "start_time": "2023-08-04T15:37:09.714Z"
   },
   {
    "duration": 27,
    "start_time": "2023-08-04T15:37:09.723Z"
   },
   {
    "duration": 15,
    "start_time": "2023-08-04T15:37:09.752Z"
   },
   {
    "duration": 17,
    "start_time": "2023-08-04T15:37:09.768Z"
   },
   {
    "duration": 180,
    "start_time": "2023-08-04T15:37:09.786Z"
   },
   {
    "duration": 216,
    "start_time": "2023-08-04T15:37:09.967Z"
   },
   {
    "duration": 25,
    "start_time": "2023-08-04T15:37:10.184Z"
   },
   {
    "duration": 13,
    "start_time": "2023-08-04T15:37:10.211Z"
   },
   {
    "duration": 116,
    "start_time": "2023-08-04T15:47:23.415Z"
   },
   {
    "duration": 5,
    "start_time": "2023-08-04T15:47:35.946Z"
   },
   {
    "duration": 5,
    "start_time": "2023-08-04T15:50:29.155Z"
   },
   {
    "duration": 46,
    "start_time": "2023-08-06T11:27:02.757Z"
   },
   {
    "duration": 1337,
    "start_time": "2023-08-06T11:27:09.737Z"
   },
   {
    "duration": 293,
    "start_time": "2023-08-06T11:27:11.076Z"
   },
   {
    "duration": 16,
    "start_time": "2023-08-06T11:27:11.370Z"
   },
   {
    "duration": 22,
    "start_time": "2023-08-06T11:27:11.388Z"
   },
   {
    "duration": 6,
    "start_time": "2023-08-06T11:27:11.412Z"
   },
   {
    "duration": 4,
    "start_time": "2023-08-06T11:27:11.420Z"
   },
   {
    "duration": 9,
    "start_time": "2023-08-06T11:27:11.426Z"
   },
   {
    "duration": 28,
    "start_time": "2023-08-06T11:27:11.436Z"
   },
   {
    "duration": 16,
    "start_time": "2023-08-06T11:27:11.466Z"
   },
   {
    "duration": 8,
    "start_time": "2023-08-06T11:27:11.484Z"
   },
   {
    "duration": 15,
    "start_time": "2023-08-06T11:27:11.493Z"
   },
   {
    "duration": 180,
    "start_time": "2023-08-06T11:27:11.510Z"
   },
   {
    "duration": 12,
    "start_time": "2023-08-06T11:27:11.691Z"
   },
   {
    "duration": 147,
    "start_time": "2023-08-06T11:27:11.704Z"
   },
   {
    "duration": 225,
    "start_time": "2023-08-06T11:27:11.853Z"
   },
   {
    "duration": 542,
    "start_time": "2023-08-06T11:27:12.080Z"
   },
   {
    "duration": 9,
    "start_time": "2023-08-06T11:27:12.624Z"
   },
   {
    "duration": 502,
    "start_time": "2023-08-06T11:27:12.635Z"
   },
   {
    "duration": 8,
    "start_time": "2023-08-06T11:27:13.139Z"
   },
   {
    "duration": 25,
    "start_time": "2023-08-06T11:27:13.158Z"
   },
   {
    "duration": 8,
    "start_time": "2023-08-06T11:27:13.185Z"
   },
   {
    "duration": 10,
    "start_time": "2023-08-06T11:27:13.195Z"
   },
   {
    "duration": 200,
    "start_time": "2023-08-06T11:27:13.206Z"
   },
   {
    "duration": 255,
    "start_time": "2023-08-06T11:27:13.408Z"
   },
   {
    "duration": 24,
    "start_time": "2023-08-06T11:27:13.664Z"
   },
   {
    "duration": 10,
    "start_time": "2023-08-06T11:27:13.689Z"
   },
   {
    "duration": 4,
    "start_time": "2023-08-06T11:27:13.701Z"
   },
   {
    "duration": 4,
    "start_time": "2023-08-06T11:27:13.708Z"
   },
   {
    "duration": 101,
    "start_time": "2023-08-06T11:27:13.714Z"
   },
   {
    "duration": 1178,
    "start_time": "2023-08-06T11:30:40.109Z"
   },
   {
    "duration": 71,
    "start_time": "2023-08-06T11:30:41.289Z"
   },
   {
    "duration": 23,
    "start_time": "2023-08-06T11:30:41.362Z"
   },
   {
    "duration": 34,
    "start_time": "2023-08-06T11:30:41.387Z"
   },
   {
    "duration": 7,
    "start_time": "2023-08-06T11:30:41.423Z"
   },
   {
    "duration": 29,
    "start_time": "2023-08-06T11:30:41.432Z"
   },
   {
    "duration": 12,
    "start_time": "2023-08-06T11:30:41.462Z"
   },
   {
    "duration": 9,
    "start_time": "2023-08-06T11:30:41.475Z"
   },
   {
    "duration": 17,
    "start_time": "2023-08-06T11:30:41.486Z"
   },
   {
    "duration": 27,
    "start_time": "2023-08-06T11:30:41.504Z"
   },
   {
    "duration": 27,
    "start_time": "2023-08-06T11:30:41.533Z"
   },
   {
    "duration": 184,
    "start_time": "2023-08-06T11:30:41.562Z"
   },
   {
    "duration": 22,
    "start_time": "2023-08-06T11:30:41.748Z"
   },
   {
    "duration": 145,
    "start_time": "2023-08-06T11:30:41.773Z"
   },
   {
    "duration": 233,
    "start_time": "2023-08-06T11:30:41.919Z"
   },
   {
    "duration": 580,
    "start_time": "2023-08-06T11:30:42.158Z"
   },
   {
    "duration": 19,
    "start_time": "2023-08-06T11:30:42.740Z"
   },
   {
    "duration": 571,
    "start_time": "2023-08-06T11:30:42.761Z"
   },
   {
    "duration": 10,
    "start_time": "2023-08-06T11:30:43.334Z"
   },
   {
    "duration": 38,
    "start_time": "2023-08-06T11:30:43.345Z"
   },
   {
    "duration": 8,
    "start_time": "2023-08-06T11:30:43.385Z"
   },
   {
    "duration": 12,
    "start_time": "2023-08-06T11:30:43.394Z"
   },
   {
    "duration": 215,
    "start_time": "2023-08-06T11:30:43.408Z"
   },
   {
    "duration": 274,
    "start_time": "2023-08-06T11:30:43.625Z"
   },
   {
    "duration": 25,
    "start_time": "2023-08-06T11:30:43.900Z"
   },
   {
    "duration": 11,
    "start_time": "2023-08-06T11:30:43.926Z"
   },
   {
    "duration": 12,
    "start_time": "2023-08-06T11:30:43.959Z"
   },
   {
    "duration": 7,
    "start_time": "2023-08-06T11:30:43.973Z"
   },
   {
    "duration": 162,
    "start_time": "2023-08-06T11:30:43.981Z"
   },
   {
    "duration": 11,
    "start_time": "2023-08-06T11:31:06.509Z"
   },
   {
    "duration": 3,
    "start_time": "2023-08-06T11:39:00.929Z"
   },
   {
    "duration": 99,
    "start_time": "2023-08-06T11:39:00.934Z"
   },
   {
    "duration": 13,
    "start_time": "2023-08-06T11:39:01.035Z"
   },
   {
    "duration": 60,
    "start_time": "2023-08-06T11:39:01.049Z"
   },
   {
    "duration": 17,
    "start_time": "2023-08-06T11:39:01.111Z"
   },
   {
    "duration": 69,
    "start_time": "2023-08-06T11:39:01.129Z"
   },
   {
    "duration": 67,
    "start_time": "2023-08-06T11:39:01.200Z"
   },
   {
    "duration": 25,
    "start_time": "2023-08-06T11:39:01.269Z"
   },
   {
    "duration": 29,
    "start_time": "2023-08-06T11:39:01.296Z"
   },
   {
    "duration": 56,
    "start_time": "2023-08-06T11:39:01.326Z"
   },
   {
    "duration": 26,
    "start_time": "2023-08-06T11:39:01.384Z"
   },
   {
    "duration": 193,
    "start_time": "2023-08-06T11:39:01.411Z"
   },
   {
    "duration": 12,
    "start_time": "2023-08-06T11:39:01.606Z"
   },
   {
    "duration": 201,
    "start_time": "2023-08-06T11:39:01.621Z"
   },
   {
    "duration": 223,
    "start_time": "2023-08-06T11:39:01.824Z"
   },
   {
    "duration": 507,
    "start_time": "2023-08-06T11:39:02.050Z"
   },
   {
    "duration": 13,
    "start_time": "2023-08-06T11:39:02.559Z"
   },
   {
    "duration": 600,
    "start_time": "2023-08-06T11:39:02.574Z"
   },
   {
    "duration": 12,
    "start_time": "2023-08-06T11:39:03.176Z"
   },
   {
    "duration": 25,
    "start_time": "2023-08-06T11:39:03.189Z"
   },
   {
    "duration": 8,
    "start_time": "2023-08-06T11:39:03.215Z"
   },
   {
    "duration": 7,
    "start_time": "2023-08-06T11:39:03.224Z"
   },
   {
    "duration": 347,
    "start_time": "2023-08-06T11:39:03.233Z"
   },
   {
    "duration": 410,
    "start_time": "2023-08-06T11:39:03.582Z"
   },
   {
    "duration": 87,
    "start_time": "2023-08-06T11:39:03.993Z"
   },
   {
    "duration": 18,
    "start_time": "2023-08-06T11:39:04.082Z"
   },
   {
    "duration": 63,
    "start_time": "2023-08-06T11:39:04.102Z"
   },
   {
    "duration": 8,
    "start_time": "2023-08-06T11:39:04.174Z"
   },
   {
    "duration": 10,
    "start_time": "2023-08-06T11:39:04.184Z"
   },
   {
    "duration": 15,
    "start_time": "2023-08-06T11:39:41.569Z"
   },
   {
    "duration": 13,
    "start_time": "2023-08-06T11:39:58.080Z"
   },
   {
    "duration": 17,
    "start_time": "2023-08-06T11:40:34.191Z"
   },
   {
    "duration": 5,
    "start_time": "2023-08-06T12:10:49.152Z"
   },
   {
    "duration": 8,
    "start_time": "2023-08-06T12:31:23.579Z"
   },
   {
    "duration": 8,
    "start_time": "2023-08-06T12:31:27.891Z"
   },
   {
    "duration": 8,
    "start_time": "2023-08-06T12:31:34.639Z"
   },
   {
    "duration": 8,
    "start_time": "2023-08-06T12:31:38.856Z"
   },
   {
    "duration": 5,
    "start_time": "2023-08-06T12:31:55.791Z"
   },
   {
    "duration": 5,
    "start_time": "2023-08-06T12:32:11.883Z"
   },
   {
    "duration": 7,
    "start_time": "2023-08-06T12:32:39.732Z"
   },
   {
    "duration": 11,
    "start_time": "2023-08-06T12:32:57.487Z"
   },
   {
    "duration": 8,
    "start_time": "2023-08-06T12:33:59.767Z"
   },
   {
    "duration": 9,
    "start_time": "2023-08-06T12:34:05.826Z"
   },
   {
    "duration": 8,
    "start_time": "2023-08-06T12:34:10.863Z"
   },
   {
    "duration": 162,
    "start_time": "2023-08-06T12:36:00.425Z"
   },
   {
    "duration": 269,
    "start_time": "2023-08-06T12:36:47.921Z"
   },
   {
    "duration": 147,
    "start_time": "2023-08-06T12:37:18.823Z"
   },
   {
    "duration": 233,
    "start_time": "2023-08-06T13:09:19.443Z"
   },
   {
    "duration": 231,
    "start_time": "2023-08-06T13:09:30.274Z"
   },
   {
    "duration": 1451,
    "start_time": "2023-08-06T13:18:28.552Z"
   },
   {
    "duration": 250,
    "start_time": "2023-08-06T13:18:49.888Z"
   },
   {
    "duration": 1489,
    "start_time": "2023-08-06T13:19:06.936Z"
   },
   {
    "duration": 1491,
    "start_time": "2023-08-06T13:19:10.913Z"
   },
   {
    "duration": 198,
    "start_time": "2023-08-06T13:22:15.327Z"
   },
   {
    "duration": 1881,
    "start_time": "2023-08-06T13:22:24.013Z"
   },
   {
    "duration": 5,
    "start_time": "2023-08-06T13:28:43.851Z"
   },
   {
    "duration": 100,
    "start_time": "2023-08-06T13:32:54.511Z"
   },
   {
    "duration": 127,
    "start_time": "2023-08-06T13:33:02.209Z"
   },
   {
    "duration": 117,
    "start_time": "2023-08-06T13:35:20.616Z"
   },
   {
    "duration": 5,
    "start_time": "2023-08-06T13:37:21.373Z"
   },
   {
    "duration": 1127,
    "start_time": "2023-08-06T17:10:33.618Z"
   },
   {
    "duration": 71,
    "start_time": "2023-08-06T17:10:34.747Z"
   },
   {
    "duration": 16,
    "start_time": "2023-08-06T17:10:34.820Z"
   },
   {
    "duration": 24,
    "start_time": "2023-08-06T17:10:34.838Z"
   },
   {
    "duration": 8,
    "start_time": "2023-08-06T17:10:34.864Z"
   },
   {
    "duration": 10,
    "start_time": "2023-08-06T17:10:34.873Z"
   },
   {
    "duration": 10,
    "start_time": "2023-08-06T17:10:34.884Z"
   },
   {
    "duration": 15,
    "start_time": "2023-08-06T17:10:34.896Z"
   },
   {
    "duration": 13,
    "start_time": "2023-08-06T17:10:34.912Z"
   },
   {
    "duration": 17,
    "start_time": "2023-08-06T17:10:34.927Z"
   },
   {
    "duration": 14,
    "start_time": "2023-08-06T17:10:34.945Z"
   },
   {
    "duration": 171,
    "start_time": "2023-08-06T17:10:34.961Z"
   },
   {
    "duration": 13,
    "start_time": "2023-08-06T17:10:35.137Z"
   },
   {
    "duration": 138,
    "start_time": "2023-08-06T17:10:35.152Z"
   },
   {
    "duration": 193,
    "start_time": "2023-08-06T17:10:35.291Z"
   },
   {
    "duration": 515,
    "start_time": "2023-08-06T17:10:35.485Z"
   },
   {
    "duration": 7,
    "start_time": "2023-08-06T17:10:36.001Z"
   },
   {
    "duration": 482,
    "start_time": "2023-08-06T17:10:36.009Z"
   },
   {
    "duration": 6,
    "start_time": "2023-08-06T17:10:36.493Z"
   },
   {
    "duration": 33,
    "start_time": "2023-08-06T17:10:36.501Z"
   },
   {
    "duration": 10,
    "start_time": "2023-08-06T17:10:36.535Z"
   },
   {
    "duration": 13,
    "start_time": "2023-08-06T17:10:36.547Z"
   },
   {
    "duration": 180,
    "start_time": "2023-08-06T17:10:36.561Z"
   },
   {
    "duration": 218,
    "start_time": "2023-08-06T17:10:36.743Z"
   },
   {
    "duration": 20,
    "start_time": "2023-08-06T17:10:36.963Z"
   },
   {
    "duration": 25,
    "start_time": "2023-08-06T17:10:36.984Z"
   },
   {
    "duration": 17,
    "start_time": "2023-08-06T17:10:37.010Z"
   },
   {
    "duration": 27,
    "start_time": "2023-08-06T17:10:37.030Z"
   },
   {
    "duration": 24,
    "start_time": "2023-08-06T17:10:37.058Z"
   },
   {
    "duration": 1297,
    "start_time": "2023-08-06T17:10:37.084Z"
   },
   {
    "duration": 4,
    "start_time": "2023-08-06T17:10:38.383Z"
   },
   {
    "duration": 88,
    "start_time": "2023-08-06T17:17:33.218Z"
   },
   {
    "duration": 7,
    "start_time": "2023-08-06T17:21:08.960Z"
   },
   {
    "duration": 76,
    "start_time": "2023-08-06T17:24:34.182Z"
   },
   {
    "duration": 1476,
    "start_time": "2023-08-06T18:29:32.066Z"
   },
   {
    "duration": 323,
    "start_time": "2023-08-06T18:29:33.544Z"
   },
   {
    "duration": 26,
    "start_time": "2023-08-06T18:29:35.796Z"
   },
   {
    "duration": 34,
    "start_time": "2023-08-06T18:29:48.871Z"
   },
   {
    "duration": 30,
    "start_time": "2023-08-06T18:29:53.420Z"
   },
   {
    "duration": 29,
    "start_time": "2023-08-06T18:30:02.823Z"
   },
   {
    "duration": 113,
    "start_time": "2023-08-06T18:30:32.876Z"
   },
   {
    "duration": 4,
    "start_time": "2023-08-06T18:30:38.265Z"
   },
   {
    "duration": 81,
    "start_time": "2023-08-06T18:30:38.270Z"
   },
   {
    "duration": 28,
    "start_time": "2023-08-06T18:30:38.353Z"
   },
   {
    "duration": 27,
    "start_time": "2023-08-06T18:30:38.383Z"
   },
   {
    "duration": 7,
    "start_time": "2023-08-06T18:30:38.412Z"
   },
   {
    "duration": 8,
    "start_time": "2023-08-06T18:30:47.099Z"
   },
   {
    "duration": 12,
    "start_time": "2023-08-06T18:31:10.292Z"
   },
   {
    "duration": 10,
    "start_time": "2023-08-06T19:05:59.090Z"
   },
   {
    "duration": 3,
    "start_time": "2023-08-06T19:06:05.177Z"
   },
   {
    "duration": 73,
    "start_time": "2023-08-06T19:06:05.182Z"
   },
   {
    "duration": 20,
    "start_time": "2023-08-06T19:06:05.257Z"
   },
   {
    "duration": 25,
    "start_time": "2023-08-06T19:06:05.278Z"
   },
   {
    "duration": 10,
    "start_time": "2023-08-06T19:06:05.305Z"
   },
   {
    "duration": 21,
    "start_time": "2023-08-06T19:06:05.316Z"
   },
   {
    "duration": 28,
    "start_time": "2023-08-06T19:06:05.339Z"
   },
   {
    "duration": 11,
    "start_time": "2023-08-06T19:06:05.370Z"
   },
   {
    "duration": 20,
    "start_time": "2023-08-06T19:06:05.383Z"
   },
   {
    "duration": 24,
    "start_time": "2023-08-06T19:06:05.405Z"
   },
   {
    "duration": 25,
    "start_time": "2023-08-06T19:06:05.432Z"
   },
   {
    "duration": 218,
    "start_time": "2023-08-06T19:06:05.467Z"
   },
   {
    "duration": 14,
    "start_time": "2023-08-06T19:06:05.686Z"
   },
   {
    "duration": 176,
    "start_time": "2023-08-06T19:06:05.701Z"
   },
   {
    "duration": 240,
    "start_time": "2023-08-06T19:06:05.878Z"
   },
   {
    "duration": 528,
    "start_time": "2023-08-06T19:06:06.120Z"
   },
   {
    "duration": 17,
    "start_time": "2023-08-06T19:06:06.650Z"
   },
   {
    "duration": 494,
    "start_time": "2023-08-06T19:06:06.669Z"
   },
   {
    "duration": 10,
    "start_time": "2023-08-06T19:06:07.167Z"
   },
   {
    "duration": 28,
    "start_time": "2023-08-06T19:06:07.179Z"
   },
   {
    "duration": 19,
    "start_time": "2023-08-06T19:06:10.978Z"
   },
   {
    "duration": 20,
    "start_time": "2023-08-06T19:06:27.331Z"
   },
   {
    "duration": 4,
    "start_time": "2023-08-06T19:13:09.162Z"
   },
   {
    "duration": 91,
    "start_time": "2023-08-06T19:13:09.168Z"
   },
   {
    "duration": 25,
    "start_time": "2023-08-06T19:13:09.261Z"
   },
   {
    "duration": 34,
    "start_time": "2023-08-06T19:13:09.289Z"
   },
   {
    "duration": 8,
    "start_time": "2023-08-06T19:13:09.325Z"
   },
   {
    "duration": 46,
    "start_time": "2023-08-06T19:13:09.335Z"
   },
   {
    "duration": 15,
    "start_time": "2023-08-06T19:13:09.384Z"
   },
   {
    "duration": 18,
    "start_time": "2023-08-06T19:13:09.401Z"
   },
   {
    "duration": 46,
    "start_time": "2023-08-06T19:13:09.423Z"
   },
   {
    "duration": 9,
    "start_time": "2023-08-06T19:13:09.472Z"
   },
   {
    "duration": 15,
    "start_time": "2023-08-06T19:13:09.482Z"
   },
   {
    "duration": 203,
    "start_time": "2023-08-06T19:13:09.499Z"
   },
   {
    "duration": 15,
    "start_time": "2023-08-06T19:13:09.704Z"
   },
   {
    "duration": 261,
    "start_time": "2023-08-06T19:13:09.720Z"
   },
   {
    "duration": 257,
    "start_time": "2023-08-06T19:13:09.984Z"
   },
   {
    "duration": 683,
    "start_time": "2023-08-06T19:13:10.244Z"
   },
   {
    "duration": 12,
    "start_time": "2023-08-06T19:13:10.930Z"
   },
   {
    "duration": 539,
    "start_time": "2023-08-06T19:13:10.945Z"
   },
   {
    "duration": 12,
    "start_time": "2023-08-06T19:13:11.486Z"
   },
   {
    "duration": 27,
    "start_time": "2023-08-06T19:13:11.500Z"
   },
   {
    "duration": 44,
    "start_time": "2023-08-06T19:13:11.529Z"
   },
   {
    "duration": 21,
    "start_time": "2023-08-06T19:13:11.574Z"
   },
   {
    "duration": 195,
    "start_time": "2023-08-06T19:14:48.614Z"
   },
   {
    "duration": 202,
    "start_time": "2023-08-06T19:15:04.378Z"
   },
   {
    "duration": 29,
    "start_time": "2023-08-06T19:16:57.052Z"
   },
   {
    "duration": 27,
    "start_time": "2023-08-06T19:18:59.097Z"
   },
   {
    "duration": 28,
    "start_time": "2023-08-06T19:20:41.805Z"
   },
   {
    "duration": 31,
    "start_time": "2023-08-06T19:20:52.884Z"
   },
   {
    "duration": 28,
    "start_time": "2023-08-06T19:20:58.076Z"
   },
   {
    "duration": 40,
    "start_time": "2023-08-06T19:21:03.834Z"
   },
   {
    "duration": 40,
    "start_time": "2023-08-06T19:21:12.878Z"
   },
   {
    "duration": 13,
    "start_time": "2023-08-06T19:21:18.082Z"
   },
   {
    "duration": 36,
    "start_time": "2023-08-06T19:25:33.082Z"
   },
   {
    "duration": 15,
    "start_time": "2023-08-06T19:25:37.664Z"
   },
   {
    "duration": 9,
    "start_time": "2023-08-06T19:25:45.448Z"
   },
   {
    "duration": 7,
    "start_time": "2023-08-06T19:28:53.560Z"
   },
   {
    "duration": 4,
    "start_time": "2023-08-06T19:29:08.416Z"
   },
   {
    "duration": 82,
    "start_time": "2023-08-06T19:29:08.422Z"
   },
   {
    "duration": 23,
    "start_time": "2023-08-06T19:29:08.507Z"
   },
   {
    "duration": 39,
    "start_time": "2023-08-06T19:29:08.532Z"
   },
   {
    "duration": 8,
    "start_time": "2023-08-06T19:29:08.575Z"
   },
   {
    "duration": 16,
    "start_time": "2023-08-06T19:29:08.584Z"
   },
   {
    "duration": 18,
    "start_time": "2023-08-06T19:29:08.602Z"
   },
   {
    "duration": 49,
    "start_time": "2023-08-06T19:29:08.622Z"
   },
   {
    "duration": 16,
    "start_time": "2023-08-06T19:29:08.674Z"
   },
   {
    "duration": 12,
    "start_time": "2023-08-06T19:29:08.693Z"
   },
   {
    "duration": 21,
    "start_time": "2023-08-06T19:29:08.708Z"
   },
   {
    "duration": 236,
    "start_time": "2023-08-06T19:29:08.732Z"
   },
   {
    "duration": 14,
    "start_time": "2023-08-06T19:29:08.969Z"
   },
   {
    "duration": 194,
    "start_time": "2023-08-06T19:29:08.985Z"
   },
   {
    "duration": 240,
    "start_time": "2023-08-06T19:29:09.181Z"
   },
   {
    "duration": 642,
    "start_time": "2023-08-06T19:29:09.423Z"
   },
   {
    "duration": 12,
    "start_time": "2023-08-06T19:29:10.067Z"
   },
   {
    "duration": 567,
    "start_time": "2023-08-06T19:29:10.081Z"
   },
   {
    "duration": 18,
    "start_time": "2023-08-06T19:29:10.650Z"
   },
   {
    "duration": 27,
    "start_time": "2023-08-06T19:29:10.670Z"
   },
   {
    "duration": 21,
    "start_time": "2023-08-06T19:29:10.699Z"
   },
   {
    "duration": 48,
    "start_time": "2023-08-06T19:29:10.722Z"
   },
   {
    "duration": 227,
    "start_time": "2023-08-06T19:29:10.772Z"
   },
   {
    "duration": 203,
    "start_time": "2023-08-06T19:29:11.001Z"
   },
   {
    "duration": 41,
    "start_time": "2023-08-06T19:29:11.207Z"
   },
   {
    "duration": 19,
    "start_time": "2023-08-06T19:29:11.267Z"
   },
   {
    "duration": 10,
    "start_time": "2023-08-06T19:29:11.288Z"
   },
   {
    "duration": 7,
    "start_time": "2023-08-06T19:29:11.300Z"
   },
   {
    "duration": 5,
    "start_time": "2023-08-06T19:29:18.313Z"
   },
   {
    "duration": 9,
    "start_time": "2023-08-06T19:40:54.609Z"
   },
   {
    "duration": 13,
    "start_time": "2023-08-06T20:01:52.578Z"
   },
   {
    "duration": 144,
    "start_time": "2023-08-06T20:02:04.105Z"
   },
   {
    "duration": 172,
    "start_time": "2023-08-06T20:02:26.423Z"
   },
   {
    "duration": 157,
    "start_time": "2023-08-06T20:02:34.498Z"
   },
   {
    "duration": 194,
    "start_time": "2023-08-06T20:02:46.088Z"
   },
   {
    "duration": 1039,
    "start_time": "2023-08-07T06:57:50.047Z"
   },
   {
    "duration": 66,
    "start_time": "2023-08-07T06:57:51.088Z"
   },
   {
    "duration": 20,
    "start_time": "2023-08-07T06:57:51.156Z"
   },
   {
    "duration": 21,
    "start_time": "2023-08-07T06:57:51.178Z"
   },
   {
    "duration": 7,
    "start_time": "2023-08-07T06:57:51.201Z"
   },
   {
    "duration": 12,
    "start_time": "2023-08-07T06:57:51.209Z"
   },
   {
    "duration": 9,
    "start_time": "2023-08-07T06:57:51.222Z"
   },
   {
    "duration": 7,
    "start_time": "2023-08-07T06:57:51.232Z"
   },
   {
    "duration": 10,
    "start_time": "2023-08-07T06:57:51.240Z"
   },
   {
    "duration": 19,
    "start_time": "2023-08-07T06:57:51.252Z"
   },
   {
    "duration": 31,
    "start_time": "2023-08-07T06:57:51.273Z"
   },
   {
    "duration": 164,
    "start_time": "2023-08-07T06:57:51.306Z"
   },
   {
    "duration": 11,
    "start_time": "2023-08-07T06:57:51.472Z"
   },
   {
    "duration": 131,
    "start_time": "2023-08-07T06:57:51.484Z"
   },
   {
    "duration": 182,
    "start_time": "2023-08-07T06:57:51.617Z"
   },
   {
    "duration": 436,
    "start_time": "2023-08-07T06:57:51.801Z"
   },
   {
    "duration": 7,
    "start_time": "2023-08-07T06:57:52.238Z"
   },
   {
    "duration": 470,
    "start_time": "2023-08-07T06:57:52.246Z"
   },
   {
    "duration": 7,
    "start_time": "2023-08-07T06:57:52.718Z"
   },
   {
    "duration": 33,
    "start_time": "2023-08-07T06:57:52.727Z"
   },
   {
    "duration": 20,
    "start_time": "2023-08-07T06:57:52.762Z"
   },
   {
    "duration": 17,
    "start_time": "2023-08-07T06:57:52.784Z"
   },
   {
    "duration": 177,
    "start_time": "2023-08-07T06:57:52.802Z"
   },
   {
    "duration": 224,
    "start_time": "2023-08-07T06:57:52.981Z"
   },
   {
    "duration": 20,
    "start_time": "2023-08-07T06:57:53.207Z"
   },
   {
    "duration": 13,
    "start_time": "2023-08-07T06:57:53.229Z"
   },
   {
    "duration": 17,
    "start_time": "2023-08-07T06:57:53.243Z"
   },
   {
    "duration": 7,
    "start_time": "2023-08-07T06:57:53.262Z"
   },
   {
    "duration": 19,
    "start_time": "2023-08-07T06:57:53.271Z"
   },
   {
    "duration": 11,
    "start_time": "2023-08-07T06:57:53.292Z"
   },
   {
    "duration": 1186,
    "start_time": "2023-08-07T06:57:53.304Z"
   },
   {
    "duration": 10,
    "start_time": "2023-08-07T06:57:54.491Z"
   },
   {
    "duration": 81,
    "start_time": "2023-08-07T07:01:35.692Z"
   },
   {
    "duration": 1473,
    "start_time": "2023-10-30T14:50:12.321Z"
   },
   {
    "duration": 193,
    "start_time": "2023-10-30T14:50:13.797Z"
   },
   {
    "duration": 24,
    "start_time": "2023-10-30T14:50:13.992Z"
   },
   {
    "duration": 46,
    "start_time": "2023-10-30T14:50:14.018Z"
   },
   {
    "duration": 11,
    "start_time": "2023-10-30T14:50:14.066Z"
   },
   {
    "duration": 13,
    "start_time": "2023-10-30T14:50:14.079Z"
   },
   {
    "duration": 14,
    "start_time": "2023-10-30T14:50:14.093Z"
   },
   {
    "duration": 38,
    "start_time": "2023-10-30T14:50:14.108Z"
   },
   {
    "duration": 12,
    "start_time": "2023-10-30T14:50:14.148Z"
   },
   {
    "duration": 9,
    "start_time": "2023-10-30T14:50:14.162Z"
   },
   {
    "duration": 16,
    "start_time": "2023-10-30T14:50:14.173Z"
   },
   {
    "duration": 217,
    "start_time": "2023-10-30T14:50:14.191Z"
   },
   {
    "duration": 17,
    "start_time": "2023-10-30T14:50:14.411Z"
   },
   {
    "duration": 165,
    "start_time": "2023-10-30T14:50:14.431Z"
   },
   {
    "duration": 232,
    "start_time": "2023-10-30T14:50:14.598Z"
   },
   {
    "duration": 560,
    "start_time": "2023-10-30T14:50:14.832Z"
   },
   {
    "duration": 15,
    "start_time": "2023-10-30T14:50:15.395Z"
   },
   {
    "duration": 634,
    "start_time": "2023-10-30T14:50:15.412Z"
   },
   {
    "duration": 10,
    "start_time": "2023-10-30T14:50:16.048Z"
   },
   {
    "duration": 37,
    "start_time": "2023-10-30T14:50:16.061Z"
   },
   {
    "duration": 31,
    "start_time": "2023-10-30T14:50:16.101Z"
   },
   {
    "duration": 23,
    "start_time": "2023-10-30T14:50:16.148Z"
   },
   {
    "duration": 234,
    "start_time": "2023-10-30T14:50:16.173Z"
   },
   {
    "duration": 293,
    "start_time": "2023-10-30T14:50:16.409Z"
   },
   {
    "duration": 26,
    "start_time": "2023-10-30T14:50:16.704Z"
   },
   {
    "duration": 24,
    "start_time": "2023-10-30T14:50:16.732Z"
   },
   {
    "duration": 14,
    "start_time": "2023-10-30T14:50:16.758Z"
   },
   {
    "duration": 11,
    "start_time": "2023-10-30T14:50:16.775Z"
   },
   {
    "duration": 16,
    "start_time": "2023-10-30T14:50:16.787Z"
   },
   {
    "duration": 27,
    "start_time": "2023-10-30T14:50:16.805Z"
   },
   {
    "duration": 1640,
    "start_time": "2023-10-30T14:50:16.834Z"
   },
   {
    "duration": 6,
    "start_time": "2023-10-30T14:50:18.476Z"
   },
   {
    "duration": 156,
    "start_time": "2023-10-30T14:50:46.899Z"
   },
   {
    "duration": 1752,
    "start_time": "2023-10-30T14:52:24.574Z"
   },
   {
    "duration": 1634,
    "start_time": "2023-10-30T14:52:47.426Z"
   }
  ],
  "kernelspec": {
   "display_name": "Python 3 (ipykernel)",
   "language": "python",
   "name": "python3"
  },
  "language_info": {
   "codemirror_mode": {
    "name": "ipython",
    "version": 3
   },
   "file_extension": ".py",
   "mimetype": "text/x-python",
   "name": "python",
   "nbconvert_exporter": "python",
   "pygments_lexer": "ipython3",
   "version": "3.10.10"
  },
  "toc": {
   "base_numbering": 1,
   "nav_menu": {},
   "number_sections": true,
   "sideBar": true,
   "skip_h1_title": true,
   "title_cell": "Table of Contents",
   "title_sidebar": "Contents",
   "toc_cell": false,
   "toc_position": {
    "height": "calc(100% - 180px)",
    "left": "10px",
    "top": "150px",
    "width": "294.237px"
   },
   "toc_section_display": true,
   "toc_window_display": true
  }
 },
 "nbformat": 4,
 "nbformat_minor": 5
}
