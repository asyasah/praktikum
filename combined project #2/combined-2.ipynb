{
 "cells": [
  {
   "cell_type": "markdown",
   "metadata": {},
   "source": [
    "# Исследование результатов A/A/B-эксперимента"
   ]
  },
  {
   "cell_type": "markdown",
   "metadata": {},
   "source": [
    "<h3> Бриф <a class=\"tocSkip\"></h2>"
   ]
  },
  {
   "cell_type": "markdown",
   "metadata": {},
   "source": [
    "Вы работаете в стартапе, который продаёт продукты питания. Нужно разобраться, как ведут себя пользователи вашего мобильного приложения."
   ]
  },
  {
   "cell_type": "markdown",
   "metadata": {},
   "source": [
    "<h3> Цель исследования <a class=\"tocSkip\"></h2>"
   ]
  },
  {
   "cell_type": "markdown",
   "metadata": {},
   "source": [
    "Изучить воронку продаж, узнать как пользователи доходят до покупки, анализ результатов A/A/B-эксперимента."
   ]
  },
  {
   "cell_type": "markdown",
   "metadata": {},
   "source": [
    "<h3> План работы <a class=\"tocSkip\"></h2>"
   ]
  },
  {
   "cell_type": "markdown",
   "metadata": {},
   "source": [
    "1. Обзор данных \n",
    "2. Предобработка данных\n",
    "3. Анализ данных\n",
    "4. Изучение воронки событий\n",
    "5. Изучение результатов эксперимента\n",
    "6. Общий вывод"
   ]
  },
  {
   "cell_type": "markdown",
   "metadata": {},
   "source": [
    "### Обзор данных <a id='the_destination'></a>"
   ]
  },
  {
   "cell_type": "code",
   "execution_count": null,
   "metadata": {},
   "outputs": [],
   "source": [
    "# загрузка библиотек\n",
    "import pandas as pd\n",
    "import matplotlib.pyplot as plt\n",
    "import numpy as np\n",
    "import seaborn as sns\n",
    "import plotly.express as px\n",
    "from scipy import stats as st\n",
    "import math as mth"
   ]
  },
  {
   "cell_type": "code",
   "execution_count": null,
   "metadata": {},
   "outputs": [],
   "source": [
    "# чтение файла\n",
    "logs = pd.read_csv('logs_exp.csv', sep='\\t')"
   ]
  },
  {
   "cell_type": "code",
   "execution_count": null,
   "metadata": {},
   "outputs": [],
   "source": [
    "logs.head()"
   ]
  },
  {
   "cell_type": "code",
   "execution_count": null,
   "metadata": {},
   "outputs": [],
   "source": [
    "logs.info()"
   ]
  },
  {
   "cell_type": "markdown",
   "metadata": {},
   "source": [
    "**Промежуточный вывод**"
   ]
  },
  {
   "cell_type": "markdown",
   "metadata": {},
   "source": [
    "При осмотре данных были выявлены следующие моменты:\n",
    "1. Названия столбцов начинаются с заглавной буквы\n",
    "3. Столбец с датой не обладает соответствующим типом данных\n",
    "4. Пропусков нет"
   ]
  },
  {
   "cell_type": "markdown",
   "metadata": {},
   "source": [
    "####"
   ]
  },
  {
   "cell_type": "markdown",
   "metadata": {},
   "source": [
    "### Предобработка данных"
   ]
  },
  {
   "cell_type": "code",
   "execution_count": null,
   "metadata": {},
   "outputs": [],
   "source": [
    "# меняем названия столбцов\n",
    "logs.columns = ['event_name', 'user_id', 'event_timestamp', 'exp_id']\n",
    "print(logs.columns)"
   ]
  },
  {
   "cell_type": "code",
   "execution_count": null,
   "metadata": {},
   "outputs": [],
   "source": [
    "# изменим тип данных в 'event_timestamp' и добавим новый столбец с датой\n",
    "logs['event_timestamp'] = pd.to_datetime(logs['event_timestamp'], unit='s')\n",
    "logs['date'] = logs['event_timestamp'].dt.date\n",
    "logs.head()"
   ]
  },
  {
   "cell_type": "code",
   "execution_count": null,
   "metadata": {},
   "outputs": [],
   "source": [
    "# проверим наличие дубликатов\n",
    "logs.duplicated().sum()"
   ]
  },
  {
   "cell_type": "code",
   "execution_count": null,
   "metadata": {},
   "outputs": [],
   "source": [
    "# уберем дубликаты\n",
    "logs.drop_duplicates()"
   ]
  },
  {
   "cell_type": "markdown",
   "metadata": {},
   "source": [
    "**Промежуточный вывод**"
   ]
  },
  {
   "cell_type": "markdown",
   "metadata": {},
   "source": [
    "В ходе предобработки данных были проведены следующие мероприятия:\n",
    "1. Изменение названий столбцов\n",
    "2. Изменение типов данных на требуемый\n",
    "3. Очистка данных от дубликатов"
   ]
  },
  {
   "cell_type": "markdown",
   "metadata": {},
   "source": [
    "####"
   ]
  },
  {
   "cell_type": "markdown",
   "metadata": {},
   "source": [
    "### Анализ данных"
   ]
  },
  {
   "cell_type": "code",
   "execution_count": null,
   "metadata": {},
   "outputs": [],
   "source": [
    "# количество событий в логе\n",
    "print('Общее количество событий в логе:', logs.shape[0])"
   ]
  },
  {
   "cell_type": "code",
   "execution_count": null,
   "metadata": {},
   "outputs": [],
   "source": [
    "# количество пользователей в логе\n",
    "print('Количество уникальных пользователей в логе:', len(logs['user_id'].unique()))"
   ]
  },
  {
   "cell_type": "code",
   "execution_count": null,
   "metadata": {},
   "outputs": [],
   "source": [
    "# среднее количество событий на пользователя\n",
    "logs.groupby('user_id').agg({'event_name': 'count'}).describe()"
   ]
  },
  {
   "cell_type": "markdown",
   "metadata": {},
   "source": [
    "В среднем на пользователя приходится 32 события. Только около 25% пользователей совершают более 37 действий с сайтом."
   ]
  },
  {
   "cell_type": "markdown",
   "metadata": {},
   "source": [
    "Посмотрим на распределние нормальных значений на графике"
   ]
  },
  {
   "cell_type": "code",
   "execution_count": null,
   "metadata": {},
   "outputs": [],
   "source": [
    "# посмотрим на распределение нормальных значений количества событий на пользователя\n",
    "fig, ax = plt.subplots(figsize = (17,2))\n",
    "ax = logs.groupby('user_id').agg({'event_name': 'count'}).boxplot(vert = False, ax=ax)\n",
    "ax.set_title('Диаграмма размаха')\n",
    "ax.set_xlim(0, 100);"
   ]
  },
  {
   "cell_type": "markdown",
   "metadata": {},
   "source": [
    "Медианное значение равно 20, т.е. 20 событий на пользователя. Нормальные значения колеблются в диапозоне от 10 до 40 событий."
   ]
  },
  {
   "cell_type": "code",
   "execution_count": null,
   "metadata": {},
   "outputs": [],
   "source": [
    "# изучим временной интервал теста\n",
    "print('Дата начала проведения теста:', logs.date.min())\n",
    "print('Дата окончания проведения теста:', logs.date.max())"
   ]
  },
  {
   "cell_type": "code",
   "execution_count": null,
   "metadata": {},
   "outputs": [],
   "source": [
    "plt.figure(figsize=(18, 5))\n",
    "\n",
    "sns.histplot(x=logs['event_timestamp'], data=logs, hue='exp_id', palette='Paired')\n",
    "plt.title('Количество событий в зависимости от времени в разрезе групп')\n",
    "plt.xlabel('Даты')\n",
    "plt.ylabel('Количество посетителей');"
   ]
  },
  {
   "cell_type": "markdown",
   "metadata": {},
   "source": [
    "Посмотрим подробнее на динамику событий тогда, когда данные только начали подтягиваться."
   ]
  },
  {
   "cell_type": "code",
   "execution_count": null,
   "metadata": {},
   "outputs": [],
   "source": [
    "plt.figure(figsize=(18, 5))\n",
    "\n",
    "sns.histplot(x=logs['event_timestamp'].dt.strftime('%Y-%m-%d %H'),\n",
    "             data=logs.query('event_timestamp >= \"2019-07-31\" and event_timestamp <= \"2019-08-01\"'),\n",
    "             hue='exp_id', palette='Paired')\n",
    "plt.title('Количество событий в зависимости от времени в разрезе групп')\n",
    "plt.xlabel('Даты')\n",
    "plt.ylabel('Количество посетителей')\n",
    "plt.xticks(rotation=45);"
   ]
  },
  {
   "cell_type": "markdown",
   "metadata": {},
   "source": [
    "Рассмотрев динамику количества совершаемых событий, можем увидеть резкий всплеск 2019-07-31 в 21 час. Видимо тест был запущен именно в это время."
   ]
  },
  {
   "cell_type": "markdown",
   "metadata": {},
   "source": [
    "На графике видно, что полными данными могут можно считать только те, что начинают поступать с 2019-07-31. \n",
    "\n",
    "Т.е. мы располагаем логами в период от 2019-07-31 до 2019-08-07."
   ]
  },
  {
   "cell_type": "code",
   "execution_count": null,
   "metadata": {},
   "outputs": [],
   "source": [
    "# отбросим старые данные\n",
    "logs_new = logs.copy()\n",
    "logs_new = logs_new.query('event_timestamp >= \"2019-07-31\"')"
   ]
  },
  {
   "cell_type": "code",
   "execution_count": null,
   "metadata": {},
   "outputs": [],
   "source": [
    "# посмотрим, сколько данных отбросилась при фильтрации\n",
    "print('Процент отфильтрованных записей', round((len(logs)/len(logs_new) - 1) * 100, 2))\n",
    "print('Процент отброшенных пользователей', round(100 - logs_new['user_id'].nunique()/logs['user_id'].nunique() * 100, 2))"
   ]
  },
  {
   "cell_type": "markdown",
   "metadata": {},
   "source": [
    "Фильтрация затронула менее 1% данных."
   ]
  },
  {
   "cell_type": "code",
   "execution_count": null,
   "metadata": {},
   "outputs": [],
   "source": [
    "# проверяем наличие пользователей каждой группы\n",
    "logs_new.groupby('exp_id').agg({'user_id': 'nunique'})"
   ]
  },
  {
   "cell_type": "markdown",
   "metadata": {},
   "source": [
    "И на графике и на отдельной проверке видно, что данные есть по всем экспериментальным группам."
   ]
  },
  {
   "cell_type": "markdown",
   "metadata": {},
   "source": [
    "####"
   ]
  },
  {
   "cell_type": "markdown",
   "metadata": {},
   "source": [
    "### Изучение воронки событий"
   ]
  },
  {
   "cell_type": "markdown",
   "metadata": {},
   "source": [
    "**Посмотрим, какие события есть в логах и как часто они встречаются**"
   ]
  },
  {
   "cell_type": "code",
   "execution_count": null,
   "metadata": {},
   "outputs": [],
   "source": [
    "# формируем датафрейм с количеством логов и уникальными пользователями по событиям\n",
    "event_freq = (\n",
    "    logs_new.groupby('event_name').agg({'user_id': ['count', 'nunique']})\n",
    "    .reset_index()\n",
    ")\n",
    "event_freq.columns = ['event_name', 'user_cnt', 'user_unq']\n",
    "event_freq = event_freq.sort_values('user_cnt', ascending=False)\n",
    "event_freq"
   ]
  },
  {
   "cell_type": "markdown",
   "metadata": {},
   "source": [
    "Всего 5 основных событий:\n",
    "* `MainScreenAppear` - появление основной страницы\n",
    "* `OffersScreenAppear` - появление страницы с продуктами\n",
    "* `CartScreenAppear` - заход на страницу корзины\n",
    "* `PaymentScreenSuccessful` - пояление на экране окна после покупки\n",
    "* `Tutorial` - обучалка"
   ]
  },
  {
   "cell_type": "code",
   "execution_count": null,
   "metadata": {},
   "outputs": [],
   "source": [
    "plt.figure(figsize=(15,5))\n",
    "\n",
    "ax = sns.barplot(data=event_freq, y='event_name', x='user_cnt', palette='Paired')\n",
    "\n",
    "# добавление подписей значений к столбцам\n",
    "for i, p in enumerate(ax.patches):\n",
    "    ax.text(p.get_width() + 20, p.get_y() + p.get_height() / 2, \n",
    "            f'{int(event_freq.iloc[i][\"user_cnt\"])}', \n",
    "            ha='left', \n",
    "            fontsize=10)\n",
    "\n",
    "    ax.set_title('Частота событий в логах')\n",
    "ax.set_xlabel('Частота')\n",
    "ax.set_ylabel('События');"
   ]
  },
  {
   "cell_type": "markdown",
   "metadata": {},
   "source": [
    "* Чаще всего пользователи заходят на основную страницу `MainScreenAppear` (частота = 118681)\n",
    "* Далее меньше юзеров открывают страницу с продуктами `OffersScreenAppear` (частота = 46724)\n",
    "* `CartScreenAppear`, частота = 42623\n",
    "* `PaymentScreenSuccessful`, частота = 34253\n",
    "* На страницу `Tutorial`заходят реже всего (частота = 1048)"
   ]
  },
  {
   "cell_type": "markdown",
   "metadata": {},
   "source": [
    "**Посмотрим сколько пользователей совершали каждое из этих событий**"
   ]
  },
  {
   "cell_type": "code",
   "execution_count": null,
   "metadata": {},
   "outputs": [],
   "source": [
    "plt.figure(figsize=(13,5))\n",
    "\n",
    "ax = sns.barplot(data=event_freq, y='event_name', x='user_unq', palette='Paired')\n",
    "\n",
    "# добавление подписей значений к столбцам\n",
    "for i, p in enumerate(ax.patches):\n",
    "    ax.text(p.get_width() - 200, p.get_y() + p.get_height() / 2, \n",
    "            f'{int(event_freq.iloc[i][\"user_unq\"])}', \n",
    "            ha='right', \n",
    "            fontsize=14,\n",
    "            color = 'white')\n",
    "\n",
    "ax.set_title('Количество пользователей, совершивших событие')\n",
    "ax.set_xlabel('Количество пользователей')\n",
    "ax.set_ylabel('События');"
   ]
  },
  {
   "cell_type": "markdown",
   "metadata": {},
   "source": [
    "Также как и в случае с частотой встречаемости событий в логе\n",
    "* Cобытие `MainScreenAppear` совершили большинство пользователей, участвующих в тесте\n",
    "* далее идут все также `OffersScreenAppear` (4606), `CartScreenAppear` (3742), `PaymentScreenSuccessful` (3542)\n",
    "* `Tutorial` на последнем месте по количеству пользователей, это событие совершили 845 юзеров."
   ]
  },
  {
   "cell_type": "markdown",
   "metadata": {},
   "source": [
    "**Посчитем долю пользователей, которые хоть раз совершали событие**"
   ]
  },
  {
   "cell_type": "code",
   "execution_count": null,
   "metadata": {
    "scrolled": false
   },
   "outputs": [],
   "source": [
    "# поделим количество уникальных пользователей в событии на общее число уникальных пользователей\n",
    "event_freq['one_time_users'] = round(event_freq['user_unq'] / len(logs_new['user_id'].unique()) * 100, 2)\n",
    "\n",
    "plt.figure(figsize=(13,5))\n",
    "\n",
    "ax = sns.barplot(data=event_freq, y='event_name', x='one_time_users', palette='Paired')\n",
    "\n",
    "# добавление подписей значений к столбцам\n",
    "for i, p in enumerate(ax.patches):\n",
    "    text = f'{int(event_freq.iloc[i][\"one_time_users\"])}%'\n",
    "    ax.text(p.get_width()-2, p.get_y() + p.get_height() / 2, text,\n",
    "            ha='right',\n",
    "            fontsize=14,\n",
    "            color='white')\n",
    "\n",
    "ax.set_title('Количество пользователей, которые хоть раз совершали событие')\n",
    "ax.set_xlabel('Доля пользователей')\n",
    "ax.set_ylabel('События');"
   ]
  },
  {
   "cell_type": "markdown",
   "metadata": {},
   "source": [
    "* Почти все пользователи (98%) хотя бы раз переходили на главную страницу\n",
    "* На страницу с продуктами хотя бы один раз переходило всего 61% пользователей\n",
    "* Почти 50% пользователей хотя бы раз клали товар в корзину, а 46% оплачивали заказ\n",
    "* Всего лишь 11% юзеров зоходили на страницу с туториалом."
   ]
  },
  {
   "cell_type": "markdown",
   "metadata": {},
   "source": [
    "Предположим, что собития происходят в следующем порядке:\n",
    "1. Основная страница (`MainScreenAppear`)\n",
    "2. Страница с продуктами (`OffersScreenAppear`)\n",
    "3. Корзина с товарами (`CartScreenAppear`)\n",
    "4. Оплата товаров (`PaymentScreenSuccessful`)"
   ]
  },
  {
   "cell_type": "markdown",
   "metadata": {},
   "source": [
    "**Построим воронку событий**"
   ]
  },
  {
   "cell_type": "code",
   "execution_count": null,
   "metadata": {},
   "outputs": [],
   "source": [
    "from plotly import graph_objects as go\n",
    "\n",
    "event_funnel = event_freq[event_freq['event_name'] != 'Tutorial']\n",
    "\n",
    "fig = go.Figure()\n",
    "\n",
    "fig.add_trace(go.Funnel(\n",
    "        orientation='h',\n",
    "        y=['MainScreenAppear', 'OffersScreenAppear', 'CartScreenAppear', 'PaymentScreenSuccessful', 'Tutorial'],\n",
    "        x=event_funnel['user_unq'],\n",
    "        textposition='inside',\n",
    "        textinfo='value+percent initial',\n",
    "        hoverinfo = \"percent total+percent previous\"\n",
    "))\n",
    "\n",
    "fig.update_layout(\n",
    "    title_text='Воронка событий',  \n",
    ")\n",
    "\n",
    "fig.show()"
   ]
  },
  {
   "attachments": {
    "2023-10-30_20-04-58.png": {
     "image/png": "[encoded data removed]"
    }
   },
   "cell_type": "markdown",
   "metadata": {},
   "source": [
    "![2023-10-30_20-04-58.png](attachment:2023-10-30_20-04-58.png)"
   ]
  },
  {
   "cell_type": "markdown",
   "metadata": {},
   "source": [
    "* Целых 38,5% пользователей отвеивается при переходе на следующий уровень воронки.\n",
    "* 18% потенциальных клиентов теряется на этапе перехода с корзины к покупке."
   ]
  },
  {
   "cell_type": "markdown",
   "metadata": {},
   "source": [
    "**Посмотрим на распределение по группам**"
   ]
  },
  {
   "cell_type": "code",
   "execution_count": null,
   "metadata": {},
   "outputs": [],
   "source": [
    "from plotly import graph_objects as go\n",
    "\n",
    "logs_grouped = (logs_new[logs_new['event_name'] != 'Tutorial']\n",
    "                .pivot_table(index='event_name', columns='exp_id', values='user_id', aggfunc='nunique')\n",
    "               )\n",
    "logs_grouped = logs_grouped.sort_values(246, ascending=False)\n",
    "\n",
    "fig = go.Figure()\n",
    "\n",
    "exp_ids = [246, 247, 248]\n",
    "\n",
    "for i in range(len(exp_ids)):\n",
    "    exp_id = exp_ids[i]\n",
    "    \n",
    "    fig.add_trace(go.Funnel(\n",
    "        name=str(exp_id),\n",
    "        orientation='h',\n",
    "        y=['MainScreenAppear', 'OffersScreenAppear', 'CartScreenAppear', 'PaymentScreenSuccessful', 'Tutorial'],\n",
    "        x=logs_grouped[exp_id],\n",
    "        textposition='inside',\n",
    "        textinfo='value+percent initial'\n",
    "    ))\n",
    "\n",
    "fig.update_layout(\n",
    "    title_text='Воронка событий, распределенных по группам',  \n",
    ")\n",
    "    \n",
    "fig.show()"
   ]
  },
  {
   "attachments": {
    "2023-10-30_20-05-37.png": {
     "image/png": "[encoded data removed]"
    }
   },
   "cell_type": "markdown",
   "metadata": {},
   "source": [
    "![2023-10-30_20-05-37.png](attachment:2023-10-30_20-05-37.png)"
   ]
  },
  {
   "cell_type": "markdown",
   "metadata": {},
   "source": [
    "**Промежуточный вывод**"
   ]
  },
  {
   "cell_type": "markdown",
   "metadata": {},
   "source": [
    "1. Больше всего пользователей отсеивается на этапе `MainScreenOffer`. Причин этому может быть несколько:\n",
    "    1. возможно лендинг основной страницы неисправно работает \n",
    "    2. не продуман ux/ui\n",
    "    3. возникли другие технические проблемы\n",
    "2. Около 50% от изначального количества пользователей доходит до покупки товаров.\n",
    "3.  Смотря на событийные воронки по каждой группе, нельзя сказать, что показатели сильно отличаются."
   ]
  },
  {
   "cell_type": "markdown",
   "metadata": {},
   "source": [
    "### Изучение результатов эксперимента"
   ]
  },
  {
   "cell_type": "markdown",
   "metadata": {},
   "source": [
    "**Посмотрим на количество пользователей в каждой экспериментальной группе**"
   ]
  },
  {
   "cell_type": "code",
   "execution_count": null,
   "metadata": {},
   "outputs": [],
   "source": [
    "logs_filt = logs_new[logs_new['event_name'] != 'Tutorial'].groupby('exp_id').agg({'user_id': 'nunique'}).reset_index()\n",
    "logs_filt"
   ]
  },
  {
   "cell_type": "markdown",
   "metadata": {},
   "source": [
    "Примерно одинаковое количество пользователей в группах."
   ]
  },
  {
   "cell_type": "markdown",
   "metadata": {},
   "source": [
    "Посмотрим пересекаются ли пользователи из разных групп"
   ]
  },
  {
   "cell_type": "code",
   "execution_count": null,
   "metadata": {},
   "outputs": [],
   "source": [
    "intersection = logs_new.groupby('user_id').agg({'exp_id' : 'nunique'}).reset_index()\n",
    "\n",
    "if (intersection['exp_id'] > 1).any():\n",
    "    print('Есть пересечения по пользователям')\n",
    "else:\n",
    "    print('Нет пересечений по пользователям')"
   ]
  },
  {
   "cell_type": "markdown",
   "metadata": {},
   "source": [
    "**Проверка различий контрольных групп**"
   ]
  },
  {
   "cell_type": "markdown",
   "metadata": {},
   "source": [
    "Есть 2 контрольные группы для А/А-эксперимента, чтобы проверить корректность всех механизмов и расчётов. Проверим, находят ли статистические критерии разницу между выборками 246 и 247."
   ]
  },
  {
   "cell_type": "code",
   "execution_count": null,
   "metadata": {},
   "outputs": [],
   "source": [
    "round(1 - logs_filt[logs_filt['exp_id'] == 246]['user_id'].iloc[0] / \n",
    "      logs_filt[logs_filt['exp_id'] == 247]['user_id'].iloc[0], 2)"
   ]
  },
  {
   "cell_type": "markdown",
   "metadata": {},
   "source": [
    "Количество пользователей в различных группах различается не более, чем на 1%, что несущественно"
   ]
  },
  {
   "cell_type": "markdown",
   "metadata": {},
   "source": [
    "**Проверка различий между контрольными группами**"
   ]
  },
  {
   "cell_type": "markdown",
   "metadata": {},
   "source": [
    "Гипотезы\n",
    "\n",
    "**Нулевая**: различий между группами нет\n",
    "\n",
    "**Альтернативная**: различия есть\n",
    "\n",
    "Уровень значимости примем за 5%"
   ]
  },
  {
   "cell_type": "code",
   "execution_count": null,
   "metadata": {},
   "outputs": [],
   "source": [
    "# составим функцию для проведения теста сравнения пропорций двух генеральных совокупностей по выборкам из них\n",
    "\n",
    "def group_diff(group1, group2, alpha):\n",
    "\n",
    "    alpha = alpha  # критический уровень статистической значимости\n",
    "\n",
    "    for e in logs_grouped.index:\n",
    "\n",
    "        # пропорция успехов в первой группе:\n",
    "        p1 = (\n",
    "            logs_grouped[group1][e]\n",
    "            / logs_filt[logs_filt['exp_id'] == group1]['user_id'].iloc[0]\n",
    "        )\n",
    "\n",
    "        # пропорция успехов во второй группе:\n",
    "        p2 = (\n",
    "            logs_grouped[group2][e]\n",
    "            / logs_filt[logs_filt['exp_id'] == group2]['user_id'].iloc[0]\n",
    "        )\n",
    "                \n",
    "        # пропорция успехов в комбинированном датасете:\n",
    "        p_combined = (logs_grouped[group1][e] + logs_grouped[group2][e]) / (\n",
    "            logs_filt[logs_filt['exp_id'] == group1]['user_id'].iloc[0]\n",
    "            + logs_filt[logs_filt['exp_id'] == group2]['user_id'].iloc[0]\n",
    "        )\n",
    "\n",
    "        # разница пропорций в датасетах\n",
    "        difference = p1 - p2\n",
    "\n",
    "        # считаем статистику в ст.отклонениях стандартного нормального распределения\n",
    "        z_value = difference / mth.sqrt(\n",
    "            p_combined\n",
    "            * (1 - p_combined)\n",
    "            * (\n",
    "                1 / logs_filt[logs_filt['exp_id'] == group1]['user_id'].iloc[0]\n",
    "                + 1 / logs_filt[logs_filt['exp_id'] == group2]['user_id'].iloc[0]\n",
    "            )\n",
    "        )\n",
    "\n",
    "        # задаем стандартное нормальное распределение (среднее 0, ст.отклонение 1)\n",
    "        distr = st.norm(0, 1)\n",
    "\n",
    "        p_value = (1 - distr.cdf(abs(z_value))) * 2\n",
    "\n",
    "        print(f'На событии {e} p-значение: {p_value}')\n",
    "\n",
    "        if p_value < alpha:\n",
    "            print('Отвергаем нулевую гипотезу: между долями есть значимая разница', '\\n')\n",
    "        else:\n",
    "            print(\n",
    "                'Не получилось отвергнуть нулевую гипотезу, нет оснований считать доли разными', '\\n'\n",
    "            )\n",
    "\n",
    "group_diff(246, 247, 0.05)"
   ]
  },
  {
   "cell_type": "markdown",
   "metadata": {},
   "source": [
    "Ни на самом популярном (`MainScreenAppear`) этапе событийной воронки, ни на любом другом не было найдено статистически значимых различий между контрольными группами.\n",
    "\n",
    "Посмотрим есть ли статистически значимые различия между контрольными группами и группой с измененным шрифтом."
   ]
  },
  {
   "cell_type": "markdown",
   "metadata": {},
   "source": [
    "**Проверка различий между всеми группами**"
   ]
  },
  {
   "cell_type": "code",
   "execution_count": null,
   "metadata": {},
   "outputs": [],
   "source": [
    "group_diff(246, 248, 0.05)"
   ]
  },
  {
   "cell_type": "markdown",
   "metadata": {},
   "source": [
    "Результаты теста между 246 (контрольной) и 248 (экспериментальной) не показали значимых статистических различий"
   ]
  },
  {
   "cell_type": "code",
   "execution_count": null,
   "metadata": {},
   "outputs": [],
   "source": [
    "group_diff(247, 248, 0.05)"
   ]
  },
  {
   "cell_type": "markdown",
   "metadata": {},
   "source": [
    "Результаты теста между 246 (контрольной) и 248 (экспериментальной) также не показали значимых статистических различий"
   ]
  },
  {
   "cell_type": "markdown",
   "metadata": {},
   "source": [
    "Объединим две контрольные группы и проведем тест с экспериментальной"
   ]
  },
  {
   "cell_type": "code",
   "execution_count": null,
   "metadata": {},
   "outputs": [],
   "source": [
    "# добавляем новый столбец '249', который объединяет 2 контрольные группы\n",
    "logs_grouped[249] = logs_grouped[246] + logs_grouped[247]\n",
    "uni_group = logs_filt.loc[0, 'user_id'] + logs_filt.loc[1, 'user_id']\n",
    "logs_filt.loc[len(logs_filt.index)] = [249, uni_group]"
   ]
  },
  {
   "cell_type": "code",
   "execution_count": null,
   "metadata": {},
   "outputs": [],
   "source": [
    "group_diff(249, 248, 0.05)"
   ]
  },
  {
   "cell_type": "markdown",
   "metadata": {},
   "source": [
    "Сравнение результатов экспериментальной групы с объединенными контрольными не выявило статистически значимых различий."
   ]
  },
  {
   "cell_type": "markdown",
   "metadata": {},
   "source": [
    "**Промежуточный вывод**"
   ]
  },
  {
   "cell_type": "markdown",
   "metadata": {},
   "source": [
    "1. Для проведения тестов был определен уровень значимости в 5%.\n",
    "2. При выбранном уровнке значимости не было выявлено различий между контрольными и экспериментальной группами. \n",
    "3. Всего было сделано 16 проверок статистических гипотез, т.е. учитывая поправку Бонферрони, уровень значимости можно было бы поставить 0.05/16 = 0.003, или 0.3%"
   ]
  },
  {
   "cell_type": "markdown",
   "metadata": {},
   "source": [
    "####"
   ]
  },
  {
   "cell_type": "markdown",
   "metadata": {},
   "source": [
    "### Общий вывод"
   ]
  },
  {
   "cell_type": "markdown",
   "metadata": {},
   "source": [
    "Исходя из анализа событийной воронки можно сказать, что клиентский путь строится достаточно линейно и стандартно. Его можно описать так:\n",
    "1. Пользователей заходит на главную страницу\n",
    "2. Заходит в раздел с товарами\n",
    "3. Добавляет товар в корзину\n",
    "4. Оплачивает заказ.\n",
    "\n",
    "Около 38% пользователей отсеиваются на 1-м уровне, 24% на этапе просмотра товаров, 20% кладут товар в корзину и не покупают, только 18% делают заказ.\n",
    "\n",
    "При этом почти все пользователи (98%) хотя бы раз переходили на главную страницу, а из 46% доходили до оплаты заказа.\n",
    "\n",
    "Что касается результатов a/b-теста: его следует прекратить и зафиксировать отсутствие различий между группами, т.к. статистические тесты не показали значимых различий между группами с разными шрифтами."
   ]
  }
 ],
 "metadata": {
  "ExecuteTimeLog": [
   {
    "duration": 1357,
    "start_time": "2023-10-19T11:37:19.337Z"
   },
   {
    "duration": 722,
    "start_time": "2023-10-19T11:38:28.427Z"
   },
   {
    "duration": 12,
    "start_time": "2023-10-19T11:38:42.991Z"
   },
   {
    "duration": 121,
    "start_time": "2023-10-19T11:39:10.749Z"
   },
   {
    "duration": 91,
    "start_time": "2023-10-19T11:39:43.134Z"
   },
   {
    "duration": 220,
    "start_time": "2023-10-19T11:40:17.697Z"
   },
   {
    "duration": 8,
    "start_time": "2023-10-19T11:40:18.175Z"
   },
   {
    "duration": 37,
    "start_time": "2023-10-19T11:45:07.985Z"
   },
   {
    "duration": 13,
    "start_time": "2023-10-19T11:55:54.434Z"
   },
   {
    "duration": 40,
    "start_time": "2023-10-19T11:57:57.080Z"
   },
   {
    "duration": 31,
    "start_time": "2023-10-19T11:58:07.279Z"
   },
   {
    "duration": 4,
    "start_time": "2023-10-19T12:00:40.285Z"
   },
   {
    "duration": 25,
    "start_time": "2023-10-19T12:09:13.875Z"
   },
   {
    "duration": 19,
    "start_time": "2023-10-19T12:09:29.416Z"
   },
   {
    "duration": 17,
    "start_time": "2023-10-19T12:09:41.739Z"
   },
   {
    "duration": 1274,
    "start_time": "2023-10-19T12:10:18.781Z"
   },
   {
    "duration": 266,
    "start_time": "2023-10-19T12:10:20.058Z"
   },
   {
    "duration": 14,
    "start_time": "2023-10-19T12:10:20.325Z"
   },
   {
    "duration": 88,
    "start_time": "2023-10-19T12:10:20.341Z"
   },
   {
    "duration": 7,
    "start_time": "2023-10-19T12:10:20.431Z"
   },
   {
    "duration": 103,
    "start_time": "2023-10-19T12:10:20.440Z"
   },
   {
    "duration": 87,
    "start_time": "2023-10-19T12:11:35.261Z"
   },
   {
    "duration": 50,
    "start_time": "2023-10-19T12:13:42.263Z"
   },
   {
    "duration": 16,
    "start_time": "2023-10-19T12:14:24.175Z"
   },
   {
    "duration": 9,
    "start_time": "2023-10-19T12:15:00.110Z"
   },
   {
    "duration": 26,
    "start_time": "2023-10-19T12:17:42.423Z"
   },
   {
    "duration": 141,
    "start_time": "2023-10-19T12:19:07.592Z"
   },
   {
    "duration": 16,
    "start_time": "2023-10-19T12:19:28.068Z"
   },
   {
    "duration": 9,
    "start_time": "2023-10-19T12:19:32.270Z"
   },
   {
    "duration": 8,
    "start_time": "2023-10-19T12:19:39.680Z"
   },
   {
    "duration": 89,
    "start_time": "2023-10-19T12:22:20.880Z"
   },
   {
    "duration": 30,
    "start_time": "2023-10-19T12:24:29.200Z"
   },
   {
    "duration": 16,
    "start_time": "2023-10-19T12:24:37.463Z"
   },
   {
    "duration": 1508,
    "start_time": "2023-10-19T14:22:04.593Z"
   },
   {
    "duration": 864,
    "start_time": "2023-10-19T14:22:06.103Z"
   },
   {
    "duration": 12,
    "start_time": "2023-10-19T14:22:06.968Z"
   },
   {
    "duration": 38,
    "start_time": "2023-10-19T14:22:06.982Z"
   },
   {
    "duration": 4,
    "start_time": "2023-10-19T14:22:07.022Z"
   },
   {
    "duration": 122,
    "start_time": "2023-10-19T14:22:07.028Z"
   },
   {
    "duration": 8,
    "start_time": "2023-10-19T14:22:07.152Z"
   },
   {
    "duration": 43,
    "start_time": "2023-10-19T14:22:07.162Z"
   },
   {
    "duration": 23,
    "start_time": "2023-10-19T14:22:07.207Z"
   },
   {
    "duration": 3,
    "start_time": "2023-10-19T14:22:07.233Z"
   },
   {
    "duration": 52,
    "start_time": "2023-10-19T14:22:07.238Z"
   },
   {
    "duration": 27,
    "start_time": "2023-10-19T14:22:57.951Z"
   },
   {
    "duration": 63,
    "start_time": "2023-10-19T14:24:32.163Z"
   },
   {
    "duration": 1455,
    "start_time": "2023-10-19T14:24:38.805Z"
   },
   {
    "duration": 237,
    "start_time": "2023-10-19T14:24:40.262Z"
   },
   {
    "duration": 14,
    "start_time": "2023-10-19T14:24:40.500Z"
   },
   {
    "duration": 64,
    "start_time": "2023-10-19T14:24:40.516Z"
   },
   {
    "duration": 5,
    "start_time": "2023-10-19T14:24:40.582Z"
   },
   {
    "duration": 110,
    "start_time": "2023-10-19T14:24:40.589Z"
   },
   {
    "duration": 8,
    "start_time": "2023-10-19T14:24:40.701Z"
   },
   {
    "duration": 46,
    "start_time": "2023-10-19T14:24:40.711Z"
   },
   {
    "duration": 35,
    "start_time": "2023-10-19T14:24:40.759Z"
   },
   {
    "duration": 74,
    "start_time": "2023-10-19T14:24:40.797Z"
   },
   {
    "duration": 38,
    "start_time": "2023-10-19T14:24:40.874Z"
   },
   {
    "duration": 1332,
    "start_time": "2023-10-19T14:26:06.606Z"
   },
   {
    "duration": 239,
    "start_time": "2023-10-19T14:26:07.940Z"
   },
   {
    "duration": 10,
    "start_time": "2023-10-19T14:26:08.181Z"
   },
   {
    "duration": 49,
    "start_time": "2023-10-19T14:26:08.194Z"
   },
   {
    "duration": 4,
    "start_time": "2023-10-19T14:26:08.245Z"
   },
   {
    "duration": 121,
    "start_time": "2023-10-19T14:26:08.250Z"
   },
   {
    "duration": 8,
    "start_time": "2023-10-19T14:26:08.373Z"
   },
   {
    "duration": 70,
    "start_time": "2023-10-19T14:26:08.382Z"
   },
   {
    "duration": 25,
    "start_time": "2023-10-19T14:26:08.454Z"
   },
   {
    "duration": 34,
    "start_time": "2023-10-19T14:26:08.481Z"
   },
   {
    "duration": 41,
    "start_time": "2023-10-19T14:26:08.517Z"
   },
   {
    "duration": 1640,
    "start_time": "2023-10-19T14:30:01.730Z"
   },
   {
    "duration": 32,
    "start_time": "2023-10-19T14:31:26.819Z"
   },
   {
    "duration": 43,
    "start_time": "2023-10-19T14:33:52.787Z"
   },
   {
    "duration": 101,
    "start_time": "2023-10-19T14:34:14.973Z"
   },
   {
    "duration": 510,
    "start_time": "2023-10-19T14:35:20.122Z"
   },
   {
    "duration": 210,
    "start_time": "2023-10-19T14:38:11.084Z"
   },
   {
    "duration": 460,
    "start_time": "2023-10-19T14:40:21.510Z"
   },
   {
    "duration": 486,
    "start_time": "2023-10-19T14:40:28.782Z"
   },
   {
    "duration": 999,
    "start_time": "2023-10-19T14:40:47.637Z"
   },
   {
    "duration": 950,
    "start_time": "2023-10-19T14:41:13.120Z"
   },
   {
    "duration": 1013,
    "start_time": "2023-10-19T14:41:23.096Z"
   },
   {
    "duration": 1362,
    "start_time": "2023-10-19T14:42:14.284Z"
   },
   {
    "duration": 359,
    "start_time": "2023-10-19T14:42:15.648Z"
   },
   {
    "duration": 10,
    "start_time": "2023-10-19T14:42:16.009Z"
   },
   {
    "duration": 25,
    "start_time": "2023-10-19T14:42:16.022Z"
   },
   {
    "duration": 3,
    "start_time": "2023-10-19T14:42:16.050Z"
   },
   {
    "duration": 117,
    "start_time": "2023-10-19T14:42:16.055Z"
   },
   {
    "duration": 7,
    "start_time": "2023-10-19T14:42:16.174Z"
   },
   {
    "duration": 68,
    "start_time": "2023-10-19T14:42:16.182Z"
   },
   {
    "duration": 8,
    "start_time": "2023-10-19T14:42:16.252Z"
   },
   {
    "duration": 50,
    "start_time": "2023-10-19T14:42:16.262Z"
   },
   {
    "duration": 34,
    "start_time": "2023-10-19T14:42:16.314Z"
   },
   {
    "duration": 1024,
    "start_time": "2023-10-19T14:42:16.350Z"
   },
   {
    "duration": 458,
    "start_time": "2023-10-19T14:43:12.564Z"
   },
   {
    "duration": 883,
    "start_time": "2023-10-19T14:43:20.773Z"
   },
   {
    "duration": 930,
    "start_time": "2023-10-19T14:43:34.933Z"
   },
   {
    "duration": 38,
    "start_time": "2023-10-19T14:43:48.834Z"
   },
   {
    "duration": 962,
    "start_time": "2023-10-19T14:44:00.660Z"
   },
   {
    "duration": 487,
    "start_time": "2023-10-19T14:51:38.784Z"
   },
   {
    "duration": 973,
    "start_time": "2023-10-19T14:51:45.670Z"
   },
   {
    "duration": 1024,
    "start_time": "2023-10-19T14:51:53.174Z"
   },
   {
    "duration": 1088,
    "start_time": "2023-10-19T14:52:23.307Z"
   },
   {
    "duration": 848,
    "start_time": "2023-10-19T14:53:50.019Z"
   },
   {
    "duration": 3,
    "start_time": "2023-10-19T14:58:10.130Z"
   },
   {
    "duration": 43,
    "start_time": "2023-10-19T14:59:55.830Z"
   },
   {
    "duration": 44,
    "start_time": "2023-10-19T15:01:12.067Z"
   },
   {
    "duration": 30,
    "start_time": "2023-10-19T15:01:19.167Z"
   },
   {
    "duration": 33,
    "start_time": "2023-10-19T15:02:11.824Z"
   },
   {
    "duration": 39,
    "start_time": "2023-10-19T15:02:59.340Z"
   },
   {
    "duration": 34,
    "start_time": "2023-10-19T15:03:23.985Z"
   },
   {
    "duration": 8,
    "start_time": "2023-10-19T15:09:24.432Z"
   },
   {
    "duration": 1535,
    "start_time": "2023-10-20T10:39:52.823Z"
   },
   {
    "duration": 806,
    "start_time": "2023-10-20T10:39:54.361Z"
   },
   {
    "duration": 12,
    "start_time": "2023-10-20T10:39:55.169Z"
   },
   {
    "duration": 35,
    "start_time": "2023-10-20T10:39:55.183Z"
   },
   {
    "duration": 4,
    "start_time": "2023-10-20T10:39:55.221Z"
   },
   {
    "duration": 110,
    "start_time": "2023-10-20T10:39:55.227Z"
   },
   {
    "duration": 8,
    "start_time": "2023-10-20T10:39:55.338Z"
   },
   {
    "duration": 40,
    "start_time": "2023-10-20T10:39:55.356Z"
   },
   {
    "duration": 32,
    "start_time": "2023-10-20T10:39:55.398Z"
   },
   {
    "duration": 41,
    "start_time": "2023-10-20T10:39:55.432Z"
   },
   {
    "duration": 45,
    "start_time": "2023-10-20T10:39:55.475Z"
   },
   {
    "duration": 1087,
    "start_time": "2023-10-20T10:39:55.522Z"
   },
   {
    "duration": 61,
    "start_time": "2023-10-20T10:39:56.610Z"
   },
   {
    "duration": 8,
    "start_time": "2023-10-20T10:39:56.674Z"
   },
   {
    "duration": 133,
    "start_time": "2023-10-20T10:41:42.572Z"
   },
   {
    "duration": 272,
    "start_time": "2023-10-20T10:41:56.399Z"
   },
   {
    "duration": 168,
    "start_time": "2023-10-20T10:43:09.922Z"
   },
   {
    "duration": 176,
    "start_time": "2023-10-20T10:43:16.626Z"
   },
   {
    "duration": 130,
    "start_time": "2023-10-20T10:44:16.117Z"
   },
   {
    "duration": 205,
    "start_time": "2023-10-20T10:44:22.712Z"
   },
   {
    "duration": 144,
    "start_time": "2023-10-20T10:44:45.151Z"
   },
   {
    "duration": 45,
    "start_time": "2023-10-20T10:45:04.453Z"
   },
   {
    "duration": 635,
    "start_time": "2023-10-20T10:48:09.852Z"
   },
   {
    "duration": 658,
    "start_time": "2023-10-20T10:48:28.602Z"
   },
   {
    "duration": 675,
    "start_time": "2023-10-20T10:49:04.821Z"
   },
   {
    "duration": 650,
    "start_time": "2023-10-20T10:49:09.382Z"
   },
   {
    "duration": 1277,
    "start_time": "2023-10-20T11:04:50.455Z"
   },
   {
    "duration": 255,
    "start_time": "2023-10-20T11:04:51.734Z"
   },
   {
    "duration": 10,
    "start_time": "2023-10-20T11:04:51.991Z"
   },
   {
    "duration": 53,
    "start_time": "2023-10-20T11:04:52.003Z"
   },
   {
    "duration": 33,
    "start_time": "2023-10-20T11:04:52.058Z"
   },
   {
    "duration": 143,
    "start_time": "2023-10-20T11:04:52.093Z"
   },
   {
    "duration": 6,
    "start_time": "2023-10-20T11:04:52.238Z"
   },
   {
    "duration": 44,
    "start_time": "2023-10-20T11:04:52.246Z"
   },
   {
    "duration": 31,
    "start_time": "2023-10-20T11:04:52.292Z"
   },
   {
    "duration": 29,
    "start_time": "2023-10-20T11:04:52.326Z"
   },
   {
    "duration": 36,
    "start_time": "2023-10-20T11:04:52.357Z"
   },
   {
    "duration": 1085,
    "start_time": "2023-10-20T11:04:52.395Z"
   },
   {
    "duration": 41,
    "start_time": "2023-10-20T11:04:53.481Z"
   },
   {
    "duration": 8,
    "start_time": "2023-10-20T11:04:53.523Z"
   },
   {
    "duration": 821,
    "start_time": "2023-10-20T11:04:53.532Z"
   },
   {
    "duration": 1424,
    "start_time": "2023-10-20T15:37:07.760Z"
   },
   {
    "duration": 574,
    "start_time": "2023-10-20T15:37:09.186Z"
   },
   {
    "duration": 11,
    "start_time": "2023-10-20T15:37:09.764Z"
   },
   {
    "duration": 64,
    "start_time": "2023-10-20T15:37:09.777Z"
   },
   {
    "duration": 21,
    "start_time": "2023-10-20T15:37:09.842Z"
   },
   {
    "duration": 149,
    "start_time": "2023-10-20T15:37:09.865Z"
   },
   {
    "duration": 7,
    "start_time": "2023-10-20T15:37:10.015Z"
   },
   {
    "duration": 66,
    "start_time": "2023-10-20T15:37:10.023Z"
   },
   {
    "duration": 30,
    "start_time": "2023-10-20T15:37:10.090Z"
   },
   {
    "duration": 37,
    "start_time": "2023-10-20T15:37:10.122Z"
   },
   {
    "duration": 31,
    "start_time": "2023-10-20T15:37:10.161Z"
   },
   {
    "duration": 1040,
    "start_time": "2023-10-20T15:37:10.194Z"
   },
   {
    "duration": 45,
    "start_time": "2023-10-20T15:37:11.236Z"
   },
   {
    "duration": 6,
    "start_time": "2023-10-20T15:37:11.283Z"
   },
   {
    "duration": 775,
    "start_time": "2023-10-20T15:37:11.291Z"
   },
   {
    "duration": 33,
    "start_time": "2023-10-20T15:41:17.326Z"
   },
   {
    "duration": 73,
    "start_time": "2023-10-20T15:41:24.384Z"
   },
   {
    "duration": 34,
    "start_time": "2023-10-20T15:41:29.064Z"
   },
   {
    "duration": 30,
    "start_time": "2023-10-20T15:41:40.793Z"
   },
   {
    "duration": 36,
    "start_time": "2023-10-20T15:44:41.065Z"
   },
   {
    "duration": 26,
    "start_time": "2023-10-20T15:45:21.163Z"
   },
   {
    "duration": 38,
    "start_time": "2023-10-20T15:48:13.643Z"
   },
   {
    "duration": 144,
    "start_time": "2023-10-20T15:48:58.602Z"
   },
   {
    "duration": 160,
    "start_time": "2023-10-20T15:49:06.357Z"
   },
   {
    "duration": 126,
    "start_time": "2023-10-20T15:49:36.868Z"
   },
   {
    "duration": 156,
    "start_time": "2023-10-20T15:49:46.165Z"
   },
   {
    "duration": 31,
    "start_time": "2023-10-20T15:50:07.097Z"
   },
   {
    "duration": 26,
    "start_time": "2023-10-20T15:50:14.684Z"
   },
   {
    "duration": 32,
    "start_time": "2023-10-20T15:54:16.289Z"
   },
   {
    "duration": 111,
    "start_time": "2023-10-20T15:54:23.584Z"
   },
   {
    "duration": 22,
    "start_time": "2023-10-20T15:54:40.869Z"
   },
   {
    "duration": 22,
    "start_time": "2023-10-20T15:54:45.893Z"
   },
   {
    "duration": 26,
    "start_time": "2023-10-20T15:54:49.772Z"
   },
   {
    "duration": 32,
    "start_time": "2023-10-20T15:56:42.469Z"
   },
   {
    "duration": 139,
    "start_time": "2023-10-20T15:57:15.363Z"
   },
   {
    "duration": 54,
    "start_time": "2023-10-20T15:57:40.180Z"
   },
   {
    "duration": 168,
    "start_time": "2023-10-20T15:57:48.533Z"
   },
   {
    "duration": 159,
    "start_time": "2023-10-20T16:03:53.976Z"
   },
   {
    "duration": 172,
    "start_time": "2023-10-20T16:04:26.584Z"
   },
   {
    "duration": 1204,
    "start_time": "2023-10-21T17:53:49.437Z"
   },
   {
    "duration": 528,
    "start_time": "2023-10-21T17:53:50.643Z"
   },
   {
    "duration": 9,
    "start_time": "2023-10-21T17:53:51.173Z"
   },
   {
    "duration": 17,
    "start_time": "2023-10-21T17:53:51.185Z"
   },
   {
    "duration": 3,
    "start_time": "2023-10-21T17:53:51.203Z"
   },
   {
    "duration": 84,
    "start_time": "2023-10-21T17:53:51.207Z"
   },
   {
    "duration": 6,
    "start_time": "2023-10-21T17:53:51.292Z"
   },
   {
    "duration": 20,
    "start_time": "2023-10-21T17:53:51.299Z"
   },
   {
    "duration": 24,
    "start_time": "2023-10-21T17:53:51.320Z"
   },
   {
    "duration": 20,
    "start_time": "2023-10-21T17:53:51.346Z"
   },
   {
    "duration": 23,
    "start_time": "2023-10-21T17:53:51.368Z"
   },
   {
    "duration": 139,
    "start_time": "2023-10-21T17:53:51.392Z"
   },
   {
    "duration": 0,
    "start_time": "2023-10-21T17:53:51.532Z"
   },
   {
    "duration": 0,
    "start_time": "2023-10-21T17:53:51.533Z"
   },
   {
    "duration": 0,
    "start_time": "2023-10-21T17:53:51.534Z"
   },
   {
    "duration": 831,
    "start_time": "2023-10-21T17:54:00.881Z"
   },
   {
    "duration": 230,
    "start_time": "2023-10-21T17:57:12.197Z"
   },
   {
    "duration": 231,
    "start_time": "2023-10-21T17:57:19.308Z"
   },
   {
    "duration": 216,
    "start_time": "2023-10-21T17:58:00.349Z"
   },
   {
    "duration": 841,
    "start_time": "2023-10-21T17:58:11.099Z"
   },
   {
    "duration": 813,
    "start_time": "2023-10-21T18:00:48.313Z"
   },
   {
    "duration": 1058,
    "start_time": "2023-10-21T18:02:39.751Z"
   },
   {
    "duration": 180,
    "start_time": "2023-10-21T18:02:40.810Z"
   },
   {
    "duration": 10,
    "start_time": "2023-10-21T18:02:40.991Z"
   },
   {
    "duration": 25,
    "start_time": "2023-10-21T18:02:41.002Z"
   },
   {
    "duration": 30,
    "start_time": "2023-10-21T18:02:41.028Z"
   },
   {
    "duration": 81,
    "start_time": "2023-10-21T18:02:41.059Z"
   },
   {
    "duration": 7,
    "start_time": "2023-10-21T18:02:41.142Z"
   },
   {
    "duration": 40,
    "start_time": "2023-10-21T18:02:41.151Z"
   },
   {
    "duration": 30,
    "start_time": "2023-10-21T18:02:41.192Z"
   },
   {
    "duration": 51,
    "start_time": "2023-10-21T18:02:41.225Z"
   },
   {
    "duration": 23,
    "start_time": "2023-10-21T18:02:41.277Z"
   },
   {
    "duration": 767,
    "start_time": "2023-10-21T18:02:41.302Z"
   },
   {
    "duration": 24,
    "start_time": "2023-10-21T18:02:42.070Z"
   },
   {
    "duration": 18,
    "start_time": "2023-10-21T18:02:42.096Z"
   },
   {
    "duration": 170,
    "start_time": "2023-10-21T18:02:42.115Z"
   },
   {
    "duration": 149,
    "start_time": "2023-10-21T18:02:55.853Z"
   },
   {
    "duration": 157,
    "start_time": "2023-10-21T18:11:18.311Z"
   },
   {
    "duration": 154,
    "start_time": "2023-10-21T18:11:24.521Z"
   },
   {
    "duration": 52,
    "start_time": "2023-10-21T18:15:26.832Z"
   },
   {
    "duration": 177,
    "start_time": "2023-10-21T18:16:33.374Z"
   },
   {
    "duration": 190,
    "start_time": "2023-10-21T18:16:51.367Z"
   },
   {
    "duration": 177,
    "start_time": "2023-10-21T18:19:29.254Z"
   },
   {
    "duration": 176,
    "start_time": "2023-10-21T18:20:04.150Z"
   },
   {
    "duration": 226,
    "start_time": "2023-10-21T18:20:33.128Z"
   },
   {
    "duration": 182,
    "start_time": "2023-10-21T18:21:48.969Z"
   },
   {
    "duration": 179,
    "start_time": "2023-10-21T18:23:00.498Z"
   },
   {
    "duration": 248,
    "start_time": "2023-10-21T18:24:49.465Z"
   },
   {
    "duration": 175,
    "start_time": "2023-10-21T18:25:24.656Z"
   },
   {
    "duration": 79,
    "start_time": "2023-10-21T18:27:52.834Z"
   },
   {
    "duration": 1186,
    "start_time": "2023-10-21T18:28:00.208Z"
   },
   {
    "duration": 5,
    "start_time": "2023-10-21T18:28:54.360Z"
   },
   {
    "duration": 1076,
    "start_time": "2023-10-21T18:29:01.579Z"
   },
   {
    "duration": 217,
    "start_time": "2023-10-21T18:29:02.657Z"
   },
   {
    "duration": 8,
    "start_time": "2023-10-21T18:29:02.875Z"
   },
   {
    "duration": 16,
    "start_time": "2023-10-21T18:29:02.884Z"
   },
   {
    "duration": 3,
    "start_time": "2023-10-21T18:29:02.902Z"
   },
   {
    "duration": 90,
    "start_time": "2023-10-21T18:29:02.907Z"
   },
   {
    "duration": 6,
    "start_time": "2023-10-21T18:29:02.999Z"
   },
   {
    "duration": 19,
    "start_time": "2023-10-21T18:29:03.007Z"
   },
   {
    "duration": 5,
    "start_time": "2023-10-21T18:29:03.040Z"
   },
   {
    "duration": 20,
    "start_time": "2023-10-21T18:29:03.047Z"
   },
   {
    "duration": 24,
    "start_time": "2023-10-21T18:29:03.068Z"
   },
   {
    "duration": 809,
    "start_time": "2023-10-21T18:29:03.094Z"
   },
   {
    "duration": 24,
    "start_time": "2023-10-21T18:29:03.905Z"
   },
   {
    "duration": 6,
    "start_time": "2023-10-21T18:29:03.939Z"
   },
   {
    "duration": 230,
    "start_time": "2023-10-21T18:29:03.946Z"
   },
   {
    "duration": 266,
    "start_time": "2023-10-21T18:29:04.177Z"
   },
   {
    "duration": 2,
    "start_time": "2023-10-21T18:29:20.174Z"
   },
   {
    "duration": 179,
    "start_time": "2023-10-21T18:29:29.174Z"
   },
   {
    "duration": 162,
    "start_time": "2023-10-21T18:29:40.103Z"
   },
   {
    "duration": 183,
    "start_time": "2023-10-21T18:31:46.155Z"
   },
   {
    "duration": 5,
    "start_time": "2023-10-21T18:33:51.702Z"
   },
   {
    "duration": 6,
    "start_time": "2023-10-21T18:34:03.996Z"
   },
   {
    "duration": 12,
    "start_time": "2023-10-21T18:39:57.957Z"
   },
   {
    "duration": 12,
    "start_time": "2023-10-21T18:40:16.278Z"
   },
   {
    "duration": 90,
    "start_time": "2023-10-21T18:40:29.259Z"
   },
   {
    "duration": 11,
    "start_time": "2023-10-21T18:40:48.467Z"
   },
   {
    "duration": 67,
    "start_time": "2023-10-21T18:43:11.120Z"
   },
   {
    "duration": 54,
    "start_time": "2023-10-21T18:43:17.599Z"
   },
   {
    "duration": 55,
    "start_time": "2023-10-21T18:43:39.996Z"
   },
   {
    "duration": 53,
    "start_time": "2023-10-21T18:44:43.406Z"
   },
   {
    "duration": 1485,
    "start_time": "2023-10-22T12:01:37.127Z"
   },
   {
    "duration": 823,
    "start_time": "2023-10-22T12:01:38.615Z"
   },
   {
    "duration": 16,
    "start_time": "2023-10-22T12:01:39.440Z"
   },
   {
    "duration": 49,
    "start_time": "2023-10-22T12:01:39.458Z"
   },
   {
    "duration": 10,
    "start_time": "2023-10-22T12:01:39.509Z"
   },
   {
    "duration": 115,
    "start_time": "2023-10-22T12:01:39.520Z"
   },
   {
    "duration": 6,
    "start_time": "2023-10-22T12:01:39.637Z"
   },
   {
    "duration": 44,
    "start_time": "2023-10-22T12:01:39.646Z"
   },
   {
    "duration": 10,
    "start_time": "2023-10-22T12:01:39.691Z"
   },
   {
    "duration": 42,
    "start_time": "2023-10-22T12:01:39.703Z"
   },
   {
    "duration": 38,
    "start_time": "2023-10-22T12:01:39.755Z"
   },
   {
    "duration": 1243,
    "start_time": "2023-10-22T12:01:39.796Z"
   },
   {
    "duration": 32,
    "start_time": "2023-10-22T12:01:41.041Z"
   },
   {
    "duration": 8,
    "start_time": "2023-10-22T12:01:41.076Z"
   },
   {
    "duration": 224,
    "start_time": "2023-10-22T12:01:41.086Z"
   },
   {
    "duration": 0,
    "start_time": "2023-10-22T12:01:41.312Z"
   },
   {
    "duration": 0,
    "start_time": "2023-10-22T12:01:41.314Z"
   },
   {
    "duration": 0,
    "start_time": "2023-10-22T12:01:41.315Z"
   },
   {
    "duration": 282,
    "start_time": "2023-10-22T12:01:49.078Z"
   },
   {
    "duration": 275,
    "start_time": "2023-10-22T12:02:55.219Z"
   },
   {
    "duration": 232,
    "start_time": "2023-10-22T12:03:04.379Z"
   },
   {
    "duration": 250,
    "start_time": "2023-10-22T12:03:31.990Z"
   },
   {
    "duration": 18,
    "start_time": "2023-10-22T12:03:48.692Z"
   },
   {
    "duration": 183,
    "start_time": "2023-10-22T12:03:59.529Z"
   },
   {
    "duration": 186,
    "start_time": "2023-10-22T12:05:12.226Z"
   },
   {
    "duration": 244,
    "start_time": "2023-10-22T12:07:39.763Z"
   },
   {
    "duration": 193,
    "start_time": "2023-10-22T12:08:13.150Z"
   },
   {
    "duration": 18,
    "start_time": "2023-10-22T12:15:50.646Z"
   },
   {
    "duration": 10,
    "start_time": "2023-10-22T12:16:15.859Z"
   },
   {
    "duration": 14,
    "start_time": "2023-10-22T12:16:26.106Z"
   },
   {
    "duration": 10,
    "start_time": "2023-10-22T12:16:52.081Z"
   },
   {
    "duration": 199,
    "start_time": "2023-10-22T12:20:01.164Z"
   },
   {
    "duration": 124,
    "start_time": "2023-10-22T12:20:35.588Z"
   },
   {
    "duration": 235,
    "start_time": "2023-10-22T12:21:04.539Z"
   },
   {
    "duration": 119,
    "start_time": "2023-10-22T12:21:36.546Z"
   },
   {
    "duration": 153,
    "start_time": "2023-10-22T12:22:18.646Z"
   },
   {
    "duration": 129,
    "start_time": "2023-10-22T12:22:47.563Z"
   },
   {
    "duration": 147,
    "start_time": "2023-10-22T12:22:57.092Z"
   },
   {
    "duration": 142,
    "start_time": "2023-10-22T12:23:00.463Z"
   },
   {
    "duration": 141,
    "start_time": "2023-10-22T12:23:04.259Z"
   },
   {
    "duration": 193,
    "start_time": "2023-10-22T12:23:56.570Z"
   },
   {
    "duration": 108,
    "start_time": "2023-10-22T12:38:29.857Z"
   },
   {
    "duration": 198,
    "start_time": "2023-10-22T13:58:59.043Z"
   },
   {
    "duration": 10,
    "start_time": "2023-10-22T14:01:41.524Z"
   },
   {
    "duration": 10,
    "start_time": "2023-10-22T14:04:41.117Z"
   },
   {
    "duration": 12,
    "start_time": "2023-10-22T14:05:04.453Z"
   },
   {
    "duration": 12,
    "start_time": "2023-10-22T14:13:55.890Z"
   },
   {
    "duration": 10,
    "start_time": "2023-10-22T14:14:13.181Z"
   },
   {
    "duration": 89,
    "start_time": "2023-10-22T14:14:23.136Z"
   },
   {
    "duration": 102,
    "start_time": "2023-10-22T14:14:29.435Z"
   },
   {
    "duration": 88,
    "start_time": "2023-10-22T14:16:33.527Z"
   },
   {
    "duration": 87,
    "start_time": "2023-10-22T14:16:47.514Z"
   },
   {
    "duration": 103,
    "start_time": "2023-10-22T14:17:15.566Z"
   },
   {
    "duration": 83,
    "start_time": "2023-10-22T14:17:21.097Z"
   },
   {
    "duration": 80,
    "start_time": "2023-10-22T14:17:27.055Z"
   },
   {
    "duration": 86,
    "start_time": "2023-10-22T14:17:31.335Z"
   },
   {
    "duration": 80,
    "start_time": "2023-10-22T14:17:44.529Z"
   },
   {
    "duration": 87,
    "start_time": "2023-10-22T14:17:49.234Z"
   },
   {
    "duration": 84,
    "start_time": "2023-10-22T14:18:19.970Z"
   },
   {
    "duration": 87,
    "start_time": "2023-10-22T14:18:25.412Z"
   },
   {
    "duration": 92,
    "start_time": "2023-10-22T14:18:34.076Z"
   },
   {
    "duration": 2063,
    "start_time": "2023-10-22T14:19:34.883Z"
   },
   {
    "duration": 14,
    "start_time": "2023-10-22T14:19:55.758Z"
   },
   {
    "duration": 113,
    "start_time": "2023-10-22T14:21:30.943Z"
   },
   {
    "duration": 10,
    "start_time": "2023-10-22T14:22:52.203Z"
   },
   {
    "duration": 10,
    "start_time": "2023-10-22T14:22:58.971Z"
   },
   {
    "duration": 10,
    "start_time": "2023-10-22T14:23:08.125Z"
   },
   {
    "duration": 91,
    "start_time": "2023-10-22T14:23:27.182Z"
   },
   {
    "duration": 101,
    "start_time": "2023-10-22T14:23:45.325Z"
   },
   {
    "duration": 124,
    "start_time": "2023-10-22T14:24:33.137Z"
   },
   {
    "duration": 1345,
    "start_time": "2023-10-22T14:25:27.641Z"
   },
   {
    "duration": 267,
    "start_time": "2023-10-22T14:25:28.989Z"
   },
   {
    "duration": 11,
    "start_time": "2023-10-22T14:25:29.258Z"
   },
   {
    "duration": 24,
    "start_time": "2023-10-22T14:25:29.271Z"
   },
   {
    "duration": 4,
    "start_time": "2023-10-22T14:25:29.296Z"
   },
   {
    "duration": 125,
    "start_time": "2023-10-22T14:25:29.302Z"
   },
   {
    "duration": 6,
    "start_time": "2023-10-22T14:25:29.429Z"
   },
   {
    "duration": 40,
    "start_time": "2023-10-22T14:25:29.448Z"
   },
   {
    "duration": 14,
    "start_time": "2023-10-22T14:25:29.490Z"
   },
   {
    "duration": 76,
    "start_time": "2023-10-22T14:25:29.506Z"
   },
   {
    "duration": 35,
    "start_time": "2023-10-22T14:25:29.584Z"
   },
   {
    "duration": 1252,
    "start_time": "2023-10-22T14:25:29.621Z"
   },
   {
    "duration": 28,
    "start_time": "2023-10-22T14:25:30.875Z"
   },
   {
    "duration": 8,
    "start_time": "2023-10-22T14:25:30.905Z"
   },
   {
    "duration": 280,
    "start_time": "2023-10-22T14:25:30.914Z"
   },
   {
    "duration": 204,
    "start_time": "2023-10-22T14:25:31.196Z"
   },
   {
    "duration": 205,
    "start_time": "2023-10-22T14:25:31.402Z"
   },
   {
    "duration": 172,
    "start_time": "2023-10-22T14:25:31.609Z"
   },
   {
    "duration": 193,
    "start_time": "2023-10-22T14:25:31.783Z"
   },
   {
    "duration": 108,
    "start_time": "2023-10-22T14:26:41.202Z"
   },
   {
    "duration": 12,
    "start_time": "2023-10-22T14:28:27.320Z"
   },
   {
    "duration": 134,
    "start_time": "2023-10-22T14:29:50.101Z"
   },
   {
    "duration": 130,
    "start_time": "2023-10-22T14:29:56.034Z"
   },
   {
    "duration": 19,
    "start_time": "2023-10-22T14:30:03.602Z"
   },
   {
    "duration": 19,
    "start_time": "2023-10-22T14:30:19.432Z"
   },
   {
    "duration": 24,
    "start_time": "2023-10-22T14:31:17.065Z"
   },
   {
    "duration": 239,
    "start_time": "2023-10-22T14:31:32.999Z"
   },
   {
    "duration": 101,
    "start_time": "2023-10-22T14:37:56.662Z"
   },
   {
    "duration": 108,
    "start_time": "2023-10-22T14:38:36.867Z"
   },
   {
    "duration": 6,
    "start_time": "2023-10-22T14:49:21.819Z"
   },
   {
    "duration": 6,
    "start_time": "2023-10-22T14:49:30.184Z"
   },
   {
    "duration": 202,
    "start_time": "2023-10-22T14:50:12.540Z"
   },
   {
    "duration": 4,
    "start_time": "2023-10-22T14:50:19.825Z"
   },
   {
    "duration": 5,
    "start_time": "2023-10-22T14:50:25.182Z"
   },
   {
    "duration": 1014,
    "start_time": "2023-10-22T14:51:56.389Z"
   },
   {
    "duration": 1073,
    "start_time": "2023-10-22T14:52:06.219Z"
   },
   {
    "duration": 1296,
    "start_time": "2023-10-22T14:52:49.293Z"
   },
   {
    "duration": 244,
    "start_time": "2023-10-22T14:52:50.591Z"
   },
   {
    "duration": 15,
    "start_time": "2023-10-22T14:52:50.836Z"
   },
   {
    "duration": 31,
    "start_time": "2023-10-22T14:52:50.852Z"
   },
   {
    "duration": 4,
    "start_time": "2023-10-22T14:52:50.885Z"
   },
   {
    "duration": 118,
    "start_time": "2023-10-22T14:52:50.891Z"
   },
   {
    "duration": 5,
    "start_time": "2023-10-22T14:52:51.010Z"
   },
   {
    "duration": 33,
    "start_time": "2023-10-22T14:52:51.016Z"
   },
   {
    "duration": 40,
    "start_time": "2023-10-22T14:52:51.051Z"
   },
   {
    "duration": 36,
    "start_time": "2023-10-22T14:52:51.093Z"
   },
   {
    "duration": 1344,
    "start_time": "2023-10-22T14:53:49.643Z"
   },
   {
    "duration": 234,
    "start_time": "2023-10-22T14:53:50.989Z"
   },
   {
    "duration": 12,
    "start_time": "2023-10-22T14:53:51.225Z"
   },
   {
    "duration": 41,
    "start_time": "2023-10-22T14:53:51.238Z"
   },
   {
    "duration": 4,
    "start_time": "2023-10-22T14:53:51.281Z"
   },
   {
    "duration": 119,
    "start_time": "2023-10-22T14:53:51.286Z"
   },
   {
    "duration": 4,
    "start_time": "2023-10-22T14:53:51.406Z"
   },
   {
    "duration": 9,
    "start_time": "2023-10-22T14:53:51.411Z"
   },
   {
    "duration": 39,
    "start_time": "2023-10-22T14:53:51.422Z"
   },
   {
    "duration": 35,
    "start_time": "2023-10-22T14:53:51.463Z"
   },
   {
    "duration": 1823,
    "start_time": "2023-10-22T14:53:51.500Z"
   },
   {
    "duration": 0,
    "start_time": "2023-10-22T14:53:53.325Z"
   },
   {
    "duration": 0,
    "start_time": "2023-10-22T14:53:53.326Z"
   },
   {
    "duration": 0,
    "start_time": "2023-10-22T14:53:53.327Z"
   },
   {
    "duration": 0,
    "start_time": "2023-10-22T14:53:53.328Z"
   },
   {
    "duration": 0,
    "start_time": "2023-10-22T14:53:53.329Z"
   },
   {
    "duration": 0,
    "start_time": "2023-10-22T14:53:53.329Z"
   },
   {
    "duration": 0,
    "start_time": "2023-10-22T14:53:53.330Z"
   },
   {
    "duration": 1337,
    "start_time": "2023-10-22T14:54:14.986Z"
   },
   {
    "duration": 1405,
    "start_time": "2023-10-22T14:54:24.044Z"
   },
   {
    "duration": 225,
    "start_time": "2023-10-22T14:54:25.451Z"
   },
   {
    "duration": 11,
    "start_time": "2023-10-22T14:54:25.678Z"
   },
   {
    "duration": 30,
    "start_time": "2023-10-22T14:54:25.691Z"
   },
   {
    "duration": 5,
    "start_time": "2023-10-22T14:54:25.723Z"
   },
   {
    "duration": 102,
    "start_time": "2023-10-22T14:54:25.747Z"
   },
   {
    "duration": 3,
    "start_time": "2023-10-22T14:54:25.851Z"
   },
   {
    "duration": 31,
    "start_time": "2023-10-22T14:54:25.856Z"
   },
   {
    "duration": 29,
    "start_time": "2023-10-22T14:54:25.888Z"
   },
   {
    "duration": 50,
    "start_time": "2023-10-22T14:54:25.918Z"
   },
   {
    "duration": 1176,
    "start_time": "2023-10-22T14:54:25.970Z"
   },
   {
    "duration": 28,
    "start_time": "2023-10-22T14:54:27.148Z"
   },
   {
    "duration": 8,
    "start_time": "2023-10-22T14:54:27.178Z"
   },
   {
    "duration": 272,
    "start_time": "2023-10-22T14:54:27.188Z"
   },
   {
    "duration": 185,
    "start_time": "2023-10-22T14:54:27.461Z"
   },
   {
    "duration": 192,
    "start_time": "2023-10-22T14:54:27.648Z"
   },
   {
    "duration": 377,
    "start_time": "2023-10-22T14:54:27.842Z"
   },
   {
    "duration": 163,
    "start_time": "2023-10-22T14:54:28.221Z"
   },
   {
    "duration": 34,
    "start_time": "2023-10-22T14:55:22.020Z"
   },
   {
    "duration": 36,
    "start_time": "2023-10-22T14:55:38.031Z"
   },
   {
    "duration": 41,
    "start_time": "2023-10-22T14:55:51.218Z"
   },
   {
    "duration": 77,
    "start_time": "2023-10-22T14:57:58.451Z"
   },
   {
    "duration": 35,
    "start_time": "2023-10-22T14:58:02.260Z"
   },
   {
    "duration": 287,
    "start_time": "2023-10-22T14:59:59.938Z"
   },
   {
    "duration": 376,
    "start_time": "2023-10-22T15:00:06.819Z"
   },
   {
    "duration": 251,
    "start_time": "2023-10-22T15:03:08.955Z"
   },
   {
    "duration": 246,
    "start_time": "2023-10-22T15:03:31.712Z"
   },
   {
    "duration": 253,
    "start_time": "2023-10-22T15:03:37.165Z"
   },
   {
    "duration": 251,
    "start_time": "2023-10-22T15:03:43.615Z"
   },
   {
    "duration": 250,
    "start_time": "2023-10-22T15:04:52.601Z"
   },
   {
    "duration": 71,
    "start_time": "2023-10-22T15:08:39.254Z"
   },
   {
    "duration": 95,
    "start_time": "2023-10-22T15:08:56.595Z"
   },
   {
    "duration": 89,
    "start_time": "2023-10-22T15:09:04.336Z"
   },
   {
    "duration": 187,
    "start_time": "2023-10-22T15:11:12.311Z"
   },
   {
    "duration": 188,
    "start_time": "2023-10-22T15:11:23.700Z"
   },
   {
    "duration": 198,
    "start_time": "2023-10-22T15:11:32.951Z"
   },
   {
    "duration": 193,
    "start_time": "2023-10-22T15:11:37.247Z"
   },
   {
    "duration": 188,
    "start_time": "2023-10-22T15:11:44.208Z"
   },
   {
    "duration": 106,
    "start_time": "2023-10-22T15:12:36.085Z"
   },
   {
    "duration": 199,
    "start_time": "2023-10-22T15:12:48.423Z"
   },
   {
    "duration": 295,
    "start_time": "2023-10-22T15:12:55.732Z"
   },
   {
    "duration": 194,
    "start_time": "2023-10-22T15:13:04.485Z"
   },
   {
    "duration": 193,
    "start_time": "2023-10-22T15:13:11.100Z"
   },
   {
    "duration": 192,
    "start_time": "2023-10-22T15:13:22.119Z"
   },
   {
    "duration": 217,
    "start_time": "2023-10-22T15:13:35.042Z"
   },
   {
    "duration": 197,
    "start_time": "2023-10-22T15:13:39.845Z"
   },
   {
    "duration": 164,
    "start_time": "2023-10-22T15:30:16.355Z"
   },
   {
    "duration": 161,
    "start_time": "2023-10-22T15:30:19.927Z"
   },
   {
    "duration": 280,
    "start_time": "2023-10-22T15:30:33.892Z"
   },
   {
    "duration": 724,
    "start_time": "2023-10-22T15:30:37.657Z"
   },
   {
    "duration": 76,
    "start_time": "2023-10-22T15:30:47.481Z"
   },
   {
    "duration": 257,
    "start_time": "2023-10-22T15:30:54.206Z"
   },
   {
    "duration": 69,
    "start_time": "2023-10-22T15:31:57.171Z"
   },
   {
    "duration": 232,
    "start_time": "2023-10-22T15:38:31.597Z"
   },
   {
    "duration": 238,
    "start_time": "2023-10-22T15:38:40.185Z"
   },
   {
    "duration": 218,
    "start_time": "2023-10-22T15:40:53.154Z"
   },
   {
    "duration": 208,
    "start_time": "2023-10-22T15:45:43.703Z"
   },
   {
    "duration": 341,
    "start_time": "2023-10-22T15:46:31.385Z"
   },
   {
    "duration": 287,
    "start_time": "2023-10-22T15:48:02.089Z"
   },
   {
    "duration": 237,
    "start_time": "2023-10-22T15:48:11.144Z"
   },
   {
    "duration": 256,
    "start_time": "2023-10-22T15:48:30.430Z"
   },
   {
    "duration": 225,
    "start_time": "2023-10-22T15:52:30.674Z"
   },
   {
    "duration": 164,
    "start_time": "2023-10-22T15:52:55.214Z"
   },
   {
    "duration": 229,
    "start_time": "2023-10-22T15:53:01.077Z"
   },
   {
    "duration": 217,
    "start_time": "2023-10-22T15:53:09.193Z"
   },
   {
    "duration": 227,
    "start_time": "2023-10-22T15:53:14.644Z"
   },
   {
    "duration": 231,
    "start_time": "2023-10-22T15:53:20.707Z"
   },
   {
    "duration": 245,
    "start_time": "2023-10-22T15:53:27.530Z"
   },
   {
    "duration": 208,
    "start_time": "2023-10-22T15:53:32.726Z"
   },
   {
    "duration": 225,
    "start_time": "2023-10-22T15:53:40.211Z"
   },
   {
    "duration": 250,
    "start_time": "2023-10-22T15:53:48.326Z"
   },
   {
    "duration": 358,
    "start_time": "2023-10-22T15:55:21.945Z"
   },
   {
    "duration": 9,
    "start_time": "2023-10-22T15:59:22.135Z"
   },
   {
    "duration": 7,
    "start_time": "2023-10-22T16:16:46.043Z"
   },
   {
    "duration": 180,
    "start_time": "2023-10-22T16:17:07.426Z"
   },
   {
    "duration": 51,
    "start_time": "2023-10-22T16:28:37.327Z"
   },
   {
    "duration": 36,
    "start_time": "2023-10-22T16:29:00.389Z"
   },
   {
    "duration": 45,
    "start_time": "2023-10-22T16:29:10.836Z"
   },
   {
    "duration": 47,
    "start_time": "2023-10-22T16:29:15.385Z"
   },
   {
    "duration": 150,
    "start_time": "2023-10-22T16:29:57.850Z"
   },
   {
    "duration": 40,
    "start_time": "2023-10-22T16:30:14.181Z"
   },
   {
    "duration": 44,
    "start_time": "2023-10-22T16:30:21.215Z"
   },
   {
    "duration": 42,
    "start_time": "2023-10-22T16:33:57.887Z"
   },
   {
    "duration": 49,
    "start_time": "2023-10-22T16:34:53.606Z"
   },
   {
    "duration": 91,
    "start_time": "2023-10-22T16:36:44.428Z"
   },
   {
    "duration": 48,
    "start_time": "2023-10-22T16:37:00.292Z"
   },
   {
    "duration": 124,
    "start_time": "2023-10-22T16:40:56.308Z"
   },
   {
    "duration": 150,
    "start_time": "2023-10-22T16:42:59.021Z"
   },
   {
    "duration": 129,
    "start_time": "2023-10-22T16:44:55.683Z"
   },
   {
    "duration": 137,
    "start_time": "2023-10-22T16:45:00.233Z"
   },
   {
    "duration": 4,
    "start_time": "2023-10-22T16:48:22.717Z"
   },
   {
    "duration": 4,
    "start_time": "2023-10-22T16:48:30.965Z"
   },
   {
    "duration": 1944,
    "start_time": "2023-10-23T11:01:09.868Z"
   },
   {
    "duration": 804,
    "start_time": "2023-10-23T11:01:11.815Z"
   },
   {
    "duration": 13,
    "start_time": "2023-10-23T11:01:12.624Z"
   },
   {
    "duration": 52,
    "start_time": "2023-10-23T11:01:12.638Z"
   },
   {
    "duration": 5,
    "start_time": "2023-10-23T11:01:12.693Z"
   },
   {
    "duration": 148,
    "start_time": "2023-10-23T11:01:12.700Z"
   },
   {
    "duration": 19,
    "start_time": "2023-10-23T11:01:12.850Z"
   },
   {
    "duration": 16,
    "start_time": "2023-10-23T11:01:12.872Z"
   },
   {
    "duration": 31,
    "start_time": "2023-10-23T11:01:12.891Z"
   },
   {
    "duration": 66,
    "start_time": "2023-10-23T11:01:12.925Z"
   },
   {
    "duration": 1227,
    "start_time": "2023-10-23T11:01:12.993Z"
   },
   {
    "duration": 51,
    "start_time": "2023-10-23T11:01:14.222Z"
   },
   {
    "duration": 46,
    "start_time": "2023-10-23T11:01:14.277Z"
   },
   {
    "duration": 116,
    "start_time": "2023-10-23T11:01:14.325Z"
   },
   {
    "duration": 221,
    "start_time": "2023-10-23T11:01:14.443Z"
   },
   {
    "duration": 240,
    "start_time": "2023-10-23T11:01:14.666Z"
   },
   {
    "duration": 210,
    "start_time": "2023-10-23T11:01:14.908Z"
   },
   {
    "duration": 474,
    "start_time": "2023-10-23T11:01:15.120Z"
   },
   {
    "duration": 284,
    "start_time": "2023-10-23T11:01:15.595Z"
   },
   {
    "duration": 46,
    "start_time": "2023-10-23T11:01:15.881Z"
   },
   {
    "duration": 77,
    "start_time": "2023-10-23T11:18:48.640Z"
   },
   {
    "duration": 9,
    "start_time": "2023-10-23T11:26:42.715Z"
   },
   {
    "duration": 30,
    "start_time": "2023-10-23T11:27:37.152Z"
   },
   {
    "duration": 67,
    "start_time": "2023-10-23T11:27:59.135Z"
   },
   {
    "duration": 5,
    "start_time": "2023-10-23T11:33:22.064Z"
   },
   {
    "duration": 1518,
    "start_time": "2023-10-23T11:33:29.627Z"
   },
   {
    "duration": 266,
    "start_time": "2023-10-23T11:33:31.147Z"
   },
   {
    "duration": 13,
    "start_time": "2023-10-23T11:33:31.416Z"
   },
   {
    "duration": 64,
    "start_time": "2023-10-23T11:33:31.431Z"
   },
   {
    "duration": 10,
    "start_time": "2023-10-23T11:33:31.497Z"
   },
   {
    "duration": 171,
    "start_time": "2023-10-23T11:33:31.509Z"
   },
   {
    "duration": 4,
    "start_time": "2023-10-23T11:33:31.682Z"
   },
   {
    "duration": 43,
    "start_time": "2023-10-23T11:33:31.687Z"
   },
   {
    "duration": 74,
    "start_time": "2023-10-23T11:33:31.732Z"
   },
   {
    "duration": 88,
    "start_time": "2023-10-23T11:33:31.808Z"
   },
   {
    "duration": 1225,
    "start_time": "2023-10-23T11:33:31.898Z"
   },
   {
    "duration": 53,
    "start_time": "2023-10-23T11:33:33.126Z"
   },
   {
    "duration": 59,
    "start_time": "2023-10-23T11:33:33.181Z"
   },
   {
    "duration": 100,
    "start_time": "2023-10-23T11:33:33.242Z"
   },
   {
    "duration": 230,
    "start_time": "2023-10-23T11:33:33.345Z"
   },
   {
    "duration": 229,
    "start_time": "2023-10-23T11:33:33.578Z"
   },
   {
    "duration": 203,
    "start_time": "2023-10-23T11:33:33.809Z"
   },
   {
    "duration": 419,
    "start_time": "2023-10-23T11:33:34.014Z"
   },
   {
    "duration": 242,
    "start_time": "2023-10-23T11:33:34.435Z"
   },
   {
    "duration": 95,
    "start_time": "2023-10-23T11:33:34.679Z"
   },
   {
    "duration": 7,
    "start_time": "2023-10-23T11:35:36.411Z"
   },
   {
    "duration": 79,
    "start_time": "2023-10-23T11:55:55.101Z"
   },
   {
    "duration": 6,
    "start_time": "2023-10-23T11:56:44.890Z"
   },
   {
    "duration": 1591,
    "start_time": "2023-10-23T11:57:13.280Z"
   },
   {
    "duration": 26,
    "start_time": "2023-10-23T12:01:22.585Z"
   },
   {
    "duration": 1695,
    "start_time": "2023-10-23T12:01:46.547Z"
   },
   {
    "duration": 2235,
    "start_time": "2023-10-23T12:02:09.720Z"
   },
   {
    "duration": 28,
    "start_time": "2023-10-23T13:20:44.075Z"
   },
   {
    "duration": 156,
    "start_time": "2023-10-23T13:21:31.338Z"
   },
   {
    "duration": 7,
    "start_time": "2023-10-23T13:21:42.682Z"
   },
   {
    "duration": 6,
    "start_time": "2023-10-23T13:21:49.435Z"
   },
   {
    "duration": 6,
    "start_time": "2023-10-23T13:21:55.948Z"
   },
   {
    "duration": 5,
    "start_time": "2023-10-23T13:22:28.310Z"
   },
   {
    "duration": 6,
    "start_time": "2023-10-23T13:22:41.272Z"
   },
   {
    "duration": 8,
    "start_time": "2023-10-23T13:23:31.060Z"
   },
   {
    "duration": 23,
    "start_time": "2023-10-23T13:23:49.594Z"
   },
   {
    "duration": 25,
    "start_time": "2023-10-23T13:25:27.062Z"
   },
   {
    "duration": 27,
    "start_time": "2023-10-23T13:26:22.546Z"
   },
   {
    "duration": 13,
    "start_time": "2023-10-23T13:29:20.271Z"
   },
   {
    "duration": 15,
    "start_time": "2023-10-23T13:29:27.530Z"
   },
   {
    "duration": 5,
    "start_time": "2023-10-23T13:29:38.017Z"
   },
   {
    "duration": 13,
    "start_time": "2023-10-23T13:29:45.099Z"
   },
   {
    "duration": 13,
    "start_time": "2023-10-23T13:29:48.191Z"
   },
   {
    "duration": 4,
    "start_time": "2023-10-23T13:29:51.526Z"
   },
   {
    "duration": 14,
    "start_time": "2023-10-23T13:30:02.341Z"
   },
   {
    "duration": 11,
    "start_time": "2023-10-23T13:30:08.573Z"
   },
   {
    "duration": 4,
    "start_time": "2023-10-23T13:30:11.782Z"
   },
   {
    "duration": 5,
    "start_time": "2023-10-23T13:30:59.081Z"
   },
   {
    "duration": 6,
    "start_time": "2023-10-23T13:31:36.289Z"
   },
   {
    "duration": 5,
    "start_time": "2023-10-23T13:31:55.082Z"
   },
   {
    "duration": 84,
    "start_time": "2023-10-23T13:32:04.946Z"
   },
   {
    "duration": 15,
    "start_time": "2023-10-23T13:32:10.838Z"
   },
   {
    "duration": 146,
    "start_time": "2023-10-23T13:32:55.526Z"
   },
   {
    "duration": 26,
    "start_time": "2023-10-23T13:33:00.208Z"
   },
   {
    "duration": 17,
    "start_time": "2023-10-23T13:33:08.024Z"
   },
   {
    "duration": 74,
    "start_time": "2023-10-23T13:33:59.830Z"
   },
   {
    "duration": 75,
    "start_time": "2023-10-23T13:34:04.961Z"
   },
   {
    "duration": 1030,
    "start_time": "2023-10-23T13:34:40.087Z"
   },
   {
    "duration": 1513,
    "start_time": "2023-10-23T13:35:02.356Z"
   },
   {
    "duration": 281,
    "start_time": "2023-10-23T13:35:03.872Z"
   },
   {
    "duration": 20,
    "start_time": "2023-10-23T13:35:04.155Z"
   },
   {
    "duration": 74,
    "start_time": "2023-10-23T13:35:04.177Z"
   },
   {
    "duration": 9,
    "start_time": "2023-10-23T13:35:04.253Z"
   },
   {
    "duration": 133,
    "start_time": "2023-10-23T13:35:04.266Z"
   },
   {
    "duration": 4,
    "start_time": "2023-10-23T13:35:04.402Z"
   },
   {
    "duration": 18,
    "start_time": "2023-10-23T13:35:04.407Z"
   },
   {
    "duration": 46,
    "start_time": "2023-10-23T13:35:04.427Z"
   },
   {
    "duration": 36,
    "start_time": "2023-10-23T13:35:04.475Z"
   },
   {
    "duration": 1210,
    "start_time": "2023-10-23T13:35:04.514Z"
   },
   {
    "duration": 43,
    "start_time": "2023-10-23T13:35:05.727Z"
   },
   {
    "duration": 41,
    "start_time": "2023-10-23T13:35:05.772Z"
   },
   {
    "duration": 103,
    "start_time": "2023-10-23T13:35:05.816Z"
   },
   {
    "duration": 199,
    "start_time": "2023-10-23T13:35:05.922Z"
   },
   {
    "duration": 211,
    "start_time": "2023-10-23T13:35:06.124Z"
   },
   {
    "duration": 201,
    "start_time": "2023-10-23T13:35:06.337Z"
   },
   {
    "duration": 248,
    "start_time": "2023-10-23T13:35:06.965Z"
   },
   {
    "duration": 94,
    "start_time": "2023-10-23T13:35:07.215Z"
   },
   {
    "duration": 8,
    "start_time": "2023-10-23T13:35:07.311Z"
   },
   {
    "duration": 15,
    "start_time": "2023-10-23T13:35:07.321Z"
   },
   {
    "duration": 1351,
    "start_time": "2023-10-23T13:35:07.338Z"
   },
   {
    "duration": 0,
    "start_time": "2023-10-23T13:35:08.691Z"
   },
   {
    "duration": 43,
    "start_time": "2023-10-23T13:35:56.081Z"
   },
   {
    "duration": 8,
    "start_time": "2023-10-23T13:36:47.319Z"
   },
   {
    "duration": 9,
    "start_time": "2023-10-23T13:37:21.991Z"
   },
   {
    "duration": 7,
    "start_time": "2023-10-23T13:37:28.696Z"
   },
   {
    "duration": 899,
    "start_time": "2023-10-23T13:37:40.191Z"
   },
   {
    "duration": 6,
    "start_time": "2023-10-23T13:37:45.177Z"
   },
   {
    "duration": 6,
    "start_time": "2023-10-23T13:37:54.184Z"
   },
   {
    "duration": 1999,
    "start_time": "2023-10-23T13:40:20.685Z"
   },
   {
    "duration": 6,
    "start_time": "2023-10-23T13:40:31.822Z"
   },
   {
    "duration": 14,
    "start_time": "2023-10-23T13:41:11.315Z"
   },
   {
    "duration": 5,
    "start_time": "2023-10-23T13:41:24.044Z"
   },
   {
    "duration": 8,
    "start_time": "2023-10-23T13:41:27.846Z"
   },
   {
    "duration": 6,
    "start_time": "2023-10-23T13:41:31.139Z"
   },
   {
    "duration": 6,
    "start_time": "2023-10-23T13:42:09.474Z"
   },
   {
    "duration": 8,
    "start_time": "2023-10-23T13:42:42.255Z"
   },
   {
    "duration": 5,
    "start_time": "2023-10-23T13:42:49.845Z"
   },
   {
    "duration": 5,
    "start_time": "2023-10-23T13:48:10.047Z"
   },
   {
    "duration": 1594,
    "start_time": "2023-10-23T13:48:32.771Z"
   },
   {
    "duration": 6,
    "start_time": "2023-10-23T13:48:42.007Z"
   },
   {
    "duration": 17,
    "start_time": "2023-10-23T13:48:53.411Z"
   },
   {
    "duration": 7,
    "start_time": "2023-10-23T13:50:27.306Z"
   },
   {
    "duration": 8,
    "start_time": "2023-10-23T13:55:21.892Z"
   },
   {
    "duration": 44,
    "start_time": "2023-10-23T13:55:35.939Z"
   },
   {
    "duration": 42,
    "start_time": "2023-10-23T14:00:37.429Z"
   },
   {
    "duration": 27,
    "start_time": "2023-10-23T14:00:55.114Z"
   },
   {
    "duration": 32,
    "start_time": "2023-10-23T14:04:44.340Z"
   },
   {
    "duration": 31,
    "start_time": "2023-10-23T14:07:45.398Z"
   },
   {
    "duration": 28,
    "start_time": "2023-10-23T14:08:14.988Z"
   },
   {
    "duration": 9,
    "start_time": "2023-10-23T14:19:48.910Z"
   },
   {
    "duration": 8,
    "start_time": "2023-10-23T15:20:08.599Z"
   },
   {
    "duration": 1518,
    "start_time": "2023-10-23T15:20:33.396Z"
   },
   {
    "duration": 310,
    "start_time": "2023-10-23T15:20:34.917Z"
   },
   {
    "duration": 12,
    "start_time": "2023-10-23T15:20:35.229Z"
   },
   {
    "duration": 49,
    "start_time": "2023-10-23T15:20:35.243Z"
   },
   {
    "duration": 9,
    "start_time": "2023-10-23T15:20:35.295Z"
   },
   {
    "duration": 123,
    "start_time": "2023-10-23T15:20:35.305Z"
   },
   {
    "duration": 4,
    "start_time": "2023-10-23T15:20:35.430Z"
   },
   {
    "duration": 23,
    "start_time": "2023-10-23T15:20:35.436Z"
   },
   {
    "duration": 47,
    "start_time": "2023-10-23T15:20:35.462Z"
   },
   {
    "duration": 63,
    "start_time": "2023-10-23T15:20:35.511Z"
   },
   {
    "duration": 1142,
    "start_time": "2023-10-23T15:20:35.576Z"
   },
   {
    "duration": 42,
    "start_time": "2023-10-23T15:20:36.720Z"
   },
   {
    "duration": 42,
    "start_time": "2023-10-23T15:20:36.764Z"
   },
   {
    "duration": 109,
    "start_time": "2023-10-23T15:20:36.810Z"
   },
   {
    "duration": 240,
    "start_time": "2023-10-23T15:20:36.921Z"
   },
   {
    "duration": 223,
    "start_time": "2023-10-23T15:20:37.163Z"
   },
   {
    "duration": 195,
    "start_time": "2023-10-23T15:20:37.387Z"
   },
   {
    "duration": 1403,
    "start_time": "2023-10-23T15:21:20.915Z"
   },
   {
    "duration": 314,
    "start_time": "2023-10-23T15:21:22.320Z"
   },
   {
    "duration": 21,
    "start_time": "2023-10-23T15:21:22.636Z"
   },
   {
    "duration": 24,
    "start_time": "2023-10-23T15:21:22.660Z"
   },
   {
    "duration": 9,
    "start_time": "2023-10-23T15:21:22.686Z"
   },
   {
    "duration": 128,
    "start_time": "2023-10-23T15:21:22.697Z"
   },
   {
    "duration": 4,
    "start_time": "2023-10-23T15:21:22.828Z"
   },
   {
    "duration": 40,
    "start_time": "2023-10-23T15:21:22.833Z"
   },
   {
    "duration": 58,
    "start_time": "2023-10-23T15:21:22.874Z"
   },
   {
    "duration": 51,
    "start_time": "2023-10-23T15:21:22.935Z"
   },
   {
    "duration": 1145,
    "start_time": "2023-10-23T15:21:22.988Z"
   },
   {
    "duration": 45,
    "start_time": "2023-10-23T15:21:24.135Z"
   },
   {
    "duration": 40,
    "start_time": "2023-10-23T15:21:24.182Z"
   },
   {
    "duration": 101,
    "start_time": "2023-10-23T15:21:24.224Z"
   },
   {
    "duration": 200,
    "start_time": "2023-10-23T15:21:24.327Z"
   },
   {
    "duration": 213,
    "start_time": "2023-10-23T15:21:24.529Z"
   },
   {
    "duration": 215,
    "start_time": "2023-10-23T15:21:24.744Z"
   },
   {
    "duration": 436,
    "start_time": "2023-10-23T15:21:24.961Z"
   },
   {
    "duration": 203,
    "start_time": "2023-10-23T15:21:25.399Z"
   },
   {
    "duration": 87,
    "start_time": "2023-10-23T15:21:25.604Z"
   },
   {
    "duration": 7,
    "start_time": "2023-10-23T15:21:25.693Z"
   },
   {
    "duration": 23,
    "start_time": "2023-10-23T15:21:25.702Z"
   },
   {
    "duration": 48,
    "start_time": "2023-10-23T15:21:25.727Z"
   },
   {
    "duration": 143,
    "start_time": "2023-10-23T15:22:44.142Z"
   },
   {
    "duration": 7,
    "start_time": "2023-10-23T15:22:54.957Z"
   },
   {
    "duration": 7,
    "start_time": "2023-10-23T15:23:53.580Z"
   },
   {
    "duration": 235,
    "start_time": "2023-10-23T15:25:50.290Z"
   },
   {
    "duration": 7,
    "start_time": "2023-10-23T15:27:17.167Z"
   },
   {
    "duration": 8,
    "start_time": "2023-10-23T15:27:23.946Z"
   },
   {
    "duration": 8,
    "start_time": "2023-10-23T15:27:35.539Z"
   },
   {
    "duration": 7,
    "start_time": "2023-10-23T15:27:41.110Z"
   },
   {
    "duration": 8,
    "start_time": "2023-10-23T15:27:52.697Z"
   },
   {
    "duration": 7,
    "start_time": "2023-10-23T15:28:00.043Z"
   },
   {
    "duration": 35,
    "start_time": "2023-10-23T15:32:32.053Z"
   },
   {
    "duration": 25,
    "start_time": "2023-10-23T15:36:54.998Z"
   },
   {
    "duration": 175,
    "start_time": "2023-10-23T15:46:19.529Z"
   },
   {
    "duration": 174,
    "start_time": "2023-10-23T15:53:57.180Z"
   },
   {
    "duration": 7,
    "start_time": "2023-10-23T15:54:29.380Z"
   },
   {
    "duration": 27,
    "start_time": "2023-10-23T15:55:16.703Z"
   },
   {
    "duration": 28,
    "start_time": "2023-10-23T15:55:54.517Z"
   },
   {
    "duration": 134,
    "start_time": "2023-10-23T16:03:53.562Z"
   },
   {
    "duration": 182,
    "start_time": "2023-10-23T16:05:45.947Z"
   },
   {
    "duration": 104,
    "start_time": "2023-10-23T16:06:41.577Z"
   },
   {
    "duration": 1537,
    "start_time": "2023-10-23T16:07:11.342Z"
   },
   {
    "duration": 279,
    "start_time": "2023-10-23T16:07:12.881Z"
   },
   {
    "duration": 14,
    "start_time": "2023-10-23T16:07:13.162Z"
   },
   {
    "duration": 25,
    "start_time": "2023-10-23T16:07:13.178Z"
   },
   {
    "duration": 4,
    "start_time": "2023-10-23T16:07:13.206Z"
   },
   {
    "duration": 131,
    "start_time": "2023-10-23T16:07:13.212Z"
   },
   {
    "duration": 3,
    "start_time": "2023-10-23T16:07:13.345Z"
   },
   {
    "duration": 23,
    "start_time": "2023-10-23T16:07:13.349Z"
   },
   {
    "duration": 40,
    "start_time": "2023-10-23T16:07:13.374Z"
   },
   {
    "duration": 45,
    "start_time": "2023-10-23T16:07:13.416Z"
   },
   {
    "duration": 1698,
    "start_time": "2023-10-23T16:07:13.463Z"
   },
   {
    "duration": 32,
    "start_time": "2023-10-23T16:07:15.163Z"
   },
   {
    "duration": 92,
    "start_time": "2023-10-23T16:07:15.197Z"
   },
   {
    "duration": 188,
    "start_time": "2023-10-23T16:07:15.292Z"
   },
   {
    "duration": 478,
    "start_time": "2023-10-23T16:07:15.482Z"
   },
   {
    "duration": 429,
    "start_time": "2023-10-23T16:07:15.963Z"
   },
   {
    "duration": 312,
    "start_time": "2023-10-23T16:07:16.395Z"
   },
   {
    "duration": 432,
    "start_time": "2023-10-23T16:07:16.709Z"
   },
   {
    "duration": 0,
    "start_time": "2023-10-23T16:07:17.144Z"
   },
   {
    "duration": 0,
    "start_time": "2023-10-23T16:07:17.146Z"
   },
   {
    "duration": 0,
    "start_time": "2023-10-23T16:07:17.157Z"
   },
   {
    "duration": 0,
    "start_time": "2023-10-23T16:07:17.159Z"
   },
   {
    "duration": 0,
    "start_time": "2023-10-23T16:07:17.160Z"
   },
   {
    "duration": 0,
    "start_time": "2023-10-23T16:07:17.162Z"
   },
   {
    "duration": 0,
    "start_time": "2023-10-23T16:07:17.163Z"
   },
   {
    "duration": 0,
    "start_time": "2023-10-23T16:07:17.165Z"
   },
   {
    "duration": 1477,
    "start_time": "2023-10-23T16:07:40.324Z"
   },
   {
    "duration": 311,
    "start_time": "2023-10-23T16:07:41.803Z"
   },
   {
    "duration": 13,
    "start_time": "2023-10-23T16:07:42.116Z"
   },
   {
    "duration": 37,
    "start_time": "2023-10-23T16:07:42.131Z"
   },
   {
    "duration": 4,
    "start_time": "2023-10-23T16:07:42.172Z"
   },
   {
    "duration": 125,
    "start_time": "2023-10-23T16:07:42.179Z"
   },
   {
    "duration": 4,
    "start_time": "2023-10-23T16:07:42.306Z"
   },
   {
    "duration": 16,
    "start_time": "2023-10-23T16:07:42.312Z"
   },
   {
    "duration": 47,
    "start_time": "2023-10-23T16:07:42.330Z"
   },
   {
    "duration": 40,
    "start_time": "2023-10-23T16:07:42.379Z"
   },
   {
    "duration": 1213,
    "start_time": "2023-10-23T16:07:42.421Z"
   },
   {
    "duration": 49,
    "start_time": "2023-10-23T16:07:43.636Z"
   },
   {
    "duration": 40,
    "start_time": "2023-10-23T16:07:43.687Z"
   },
   {
    "duration": 98,
    "start_time": "2023-10-23T16:07:43.732Z"
   },
   {
    "duration": 209,
    "start_time": "2023-10-23T16:07:43.832Z"
   },
   {
    "duration": 218,
    "start_time": "2023-10-23T16:07:44.044Z"
   },
   {
    "duration": 199,
    "start_time": "2023-10-23T16:07:44.265Z"
   },
   {
    "duration": 491,
    "start_time": "2023-10-23T16:07:44.467Z"
   },
   {
    "duration": 249,
    "start_time": "2023-10-23T16:07:44.960Z"
   },
   {
    "duration": 193,
    "start_time": "2023-10-23T16:07:45.212Z"
   },
   {
    "duration": 86,
    "start_time": "2023-10-23T16:07:45.407Z"
   },
   {
    "duration": 8,
    "start_time": "2023-10-23T16:07:45.495Z"
   },
   {
    "duration": 22,
    "start_time": "2023-10-23T16:07:45.506Z"
   },
   {
    "duration": 47,
    "start_time": "2023-10-23T16:07:45.530Z"
   },
   {
    "duration": 177,
    "start_time": "2023-10-23T16:07:45.579Z"
   },
   {
    "duration": 0,
    "start_time": "2023-10-23T16:07:45.759Z"
   },
   {
    "duration": 26,
    "start_time": "2023-10-23T16:16:09.365Z"
   },
   {
    "duration": 25,
    "start_time": "2023-10-23T16:16:11.209Z"
   },
   {
    "duration": 318,
    "start_time": "2023-10-23T16:17:37.796Z"
   },
   {
    "duration": 326,
    "start_time": "2023-10-23T16:17:46.439Z"
   },
   {
    "duration": 32,
    "start_time": "2023-10-23T16:21:15.146Z"
   },
   {
    "duration": 78,
    "start_time": "2023-10-23T16:24:55.522Z"
   },
   {
    "duration": 82,
    "start_time": "2023-10-23T16:26:13.952Z"
   },
   {
    "duration": 40,
    "start_time": "2023-10-23T16:26:50.057Z"
   },
   {
    "duration": 35,
    "start_time": "2023-10-23T16:27:00.684Z"
   },
   {
    "duration": 69,
    "start_time": "2023-10-23T16:27:32.993Z"
   },
   {
    "duration": 29,
    "start_time": "2023-10-23T16:58:49.733Z"
   },
   {
    "duration": 1446,
    "start_time": "2023-10-23T17:31:55.687Z"
   },
   {
    "duration": 352,
    "start_time": "2023-10-23T17:31:57.135Z"
   },
   {
    "duration": 17,
    "start_time": "2023-10-23T17:31:57.489Z"
   },
   {
    "duration": 60,
    "start_time": "2023-10-23T17:31:57.509Z"
   },
   {
    "duration": 5,
    "start_time": "2023-10-23T17:31:57.575Z"
   },
   {
    "duration": 181,
    "start_time": "2023-10-23T17:31:57.583Z"
   },
   {
    "duration": 5,
    "start_time": "2023-10-23T17:31:57.771Z"
   },
   {
    "duration": 11,
    "start_time": "2023-10-23T17:31:57.779Z"
   },
   {
    "duration": 42,
    "start_time": "2023-10-23T17:31:57.793Z"
   },
   {
    "duration": 47,
    "start_time": "2023-10-23T17:31:57.838Z"
   },
   {
    "duration": 1215,
    "start_time": "2023-10-23T17:31:57.888Z"
   },
   {
    "duration": 27,
    "start_time": "2023-10-23T17:31:59.105Z"
   },
   {
    "duration": 48,
    "start_time": "2023-10-23T17:31:59.145Z"
   },
   {
    "duration": 184,
    "start_time": "2023-10-23T17:31:59.195Z"
   },
   {
    "duration": 217,
    "start_time": "2023-10-23T17:31:59.381Z"
   },
   {
    "duration": 197,
    "start_time": "2023-10-23T17:31:59.600Z"
   },
   {
    "duration": 206,
    "start_time": "2023-10-23T17:31:59.799Z"
   },
   {
    "duration": 1159,
    "start_time": "2023-10-23T17:32:00.007Z"
   },
   {
    "duration": 278,
    "start_time": "2023-10-23T17:32:01.171Z"
   },
   {
    "duration": 106,
    "start_time": "2023-10-23T17:32:01.450Z"
   },
   {
    "duration": 287,
    "start_time": "2023-10-23T17:32:01.559Z"
   },
   {
    "duration": 113,
    "start_time": "2023-10-23T17:32:01.853Z"
   },
   {
    "duration": 80,
    "start_time": "2023-10-23T17:32:01.968Z"
   },
   {
    "duration": 95,
    "start_time": "2023-10-23T17:32:02.050Z"
   },
   {
    "duration": 124,
    "start_time": "2023-10-23T17:38:48.568Z"
   },
   {
    "duration": 53,
    "start_time": "2023-10-23T17:38:52.334Z"
   },
   {
    "duration": 41,
    "start_time": "2023-10-23T17:39:22.648Z"
   },
   {
    "duration": 32,
    "start_time": "2023-10-23T17:39:27.237Z"
   },
   {
    "duration": 37,
    "start_time": "2023-10-23T17:39:33.406Z"
   },
   {
    "duration": 53,
    "start_time": "2023-10-24T10:11:24.970Z"
   },
   {
    "duration": 1585,
    "start_time": "2023-10-24T10:11:34.708Z"
   },
   {
    "duration": 793,
    "start_time": "2023-10-24T10:11:36.295Z"
   },
   {
    "duration": 14,
    "start_time": "2023-10-24T10:11:37.090Z"
   },
   {
    "duration": 34,
    "start_time": "2023-10-24T10:11:37.107Z"
   },
   {
    "duration": 5,
    "start_time": "2023-10-24T10:11:37.143Z"
   },
   {
    "duration": 102,
    "start_time": "2023-10-24T10:11:37.156Z"
   },
   {
    "duration": 3,
    "start_time": "2023-10-24T10:11:37.260Z"
   },
   {
    "duration": 12,
    "start_time": "2023-10-24T10:11:37.265Z"
   },
   {
    "duration": 30,
    "start_time": "2023-10-24T10:11:37.279Z"
   },
   {
    "duration": 62,
    "start_time": "2023-10-24T10:11:37.311Z"
   },
   {
    "duration": 1129,
    "start_time": "2023-10-24T10:11:37.376Z"
   },
   {
    "duration": 64,
    "start_time": "2023-10-24T10:11:38.507Z"
   },
   {
    "duration": 40,
    "start_time": "2023-10-24T10:11:38.573Z"
   },
   {
    "duration": 97,
    "start_time": "2023-10-24T10:11:38.615Z"
   },
   {
    "duration": 232,
    "start_time": "2023-10-24T10:11:38.713Z"
   },
   {
    "duration": 250,
    "start_time": "2023-10-24T10:11:38.948Z"
   },
   {
    "duration": 188,
    "start_time": "2023-10-24T10:11:39.200Z"
   },
   {
    "duration": 400,
    "start_time": "2023-10-24T10:11:39.390Z"
   },
   {
    "duration": 210,
    "start_time": "2023-10-24T10:11:39.793Z"
   },
   {
    "duration": 86,
    "start_time": "2023-10-24T10:11:40.005Z"
   },
   {
    "duration": 7,
    "start_time": "2023-10-24T10:11:40.093Z"
   },
   {
    "duration": 60,
    "start_time": "2023-10-24T10:11:40.102Z"
   },
   {
    "duration": 31,
    "start_time": "2023-10-24T10:11:40.164Z"
   },
   {
    "duration": 58,
    "start_time": "2023-10-24T10:11:40.197Z"
   },
   {
    "duration": 107,
    "start_time": "2023-10-24T13:06:27.807Z"
   },
   {
    "duration": 155,
    "start_time": "2023-10-24T13:06:32.868Z"
   },
   {
    "duration": 87,
    "start_time": "2023-10-24T13:06:39.550Z"
   },
   {
    "duration": 93,
    "start_time": "2023-10-24T13:08:05.089Z"
   },
   {
    "duration": 129,
    "start_time": "2023-10-24T13:09:15.157Z"
   },
   {
    "duration": 38,
    "start_time": "2023-10-24T13:12:22.354Z"
   },
   {
    "duration": 31,
    "start_time": "2023-10-24T13:12:36.086Z"
   },
   {
    "duration": 130,
    "start_time": "2023-10-24T13:13:10.130Z"
   },
   {
    "duration": 274,
    "start_time": "2023-10-24T13:17:42.724Z"
   },
   {
    "duration": 155,
    "start_time": "2023-10-24T13:17:53.729Z"
   },
   {
    "duration": 173,
    "start_time": "2023-10-24T13:17:58.763Z"
   },
   {
    "duration": 864,
    "start_time": "2023-10-24T13:25:03.022Z"
   },
   {
    "duration": 5314,
    "start_time": "2023-10-24T13:26:28.842Z"
   },
   {
    "duration": 3787,
    "start_time": "2023-10-24T13:26:42.690Z"
   },
   {
    "duration": 3606,
    "start_time": "2023-10-24T13:26:51.223Z"
   },
   {
    "duration": 2000,
    "start_time": "2023-10-24T13:27:30.720Z"
   },
   {
    "duration": 2333,
    "start_time": "2023-10-24T13:28:47.402Z"
   },
   {
    "duration": 2397,
    "start_time": "2023-10-24T13:29:41.088Z"
   },
   {
    "duration": 23,
    "start_time": "2023-10-24T13:35:24.452Z"
   },
   {
    "duration": 19,
    "start_time": "2023-10-24T13:35:55.898Z"
   },
   {
    "duration": 147,
    "start_time": "2023-10-24T13:51:41.592Z"
   },
   {
    "duration": 29,
    "start_time": "2023-10-24T13:51:47.369Z"
   },
   {
    "duration": 15,
    "start_time": "2023-10-24T13:52:02.639Z"
   },
   {
    "duration": 14,
    "start_time": "2023-10-24T13:52:53.414Z"
   },
   {
    "duration": 18,
    "start_time": "2023-10-24T13:53:05.014Z"
   },
   {
    "duration": 16,
    "start_time": "2023-10-24T13:53:58.412Z"
   },
   {
    "duration": 31,
    "start_time": "2023-10-24T13:54:07.149Z"
   },
   {
    "duration": 27,
    "start_time": "2023-10-24T13:54:25.054Z"
   },
   {
    "duration": 149,
    "start_time": "2023-10-24T13:55:43.849Z"
   },
   {
    "duration": 20,
    "start_time": "2023-10-24T13:58:25.350Z"
   },
   {
    "duration": 20,
    "start_time": "2023-10-24T13:59:58.176Z"
   },
   {
    "duration": 124,
    "start_time": "2023-10-24T14:00:24.185Z"
   },
   {
    "duration": 21,
    "start_time": "2023-10-24T14:10:35.845Z"
   },
   {
    "duration": 63,
    "start_time": "2023-10-24T14:11:00.825Z"
   },
   {
    "duration": 52,
    "start_time": "2023-10-24T14:11:25.735Z"
   },
   {
    "duration": 47,
    "start_time": "2023-10-24T14:11:44.289Z"
   },
   {
    "duration": 59,
    "start_time": "2023-10-24T14:11:55.344Z"
   },
   {
    "duration": 61,
    "start_time": "2023-10-24T14:13:02.747Z"
   },
   {
    "duration": 73,
    "start_time": "2023-10-24T14:13:22.842Z"
   },
   {
    "duration": 63,
    "start_time": "2023-10-24T14:15:02.519Z"
   },
   {
    "duration": 68,
    "start_time": "2023-10-24T14:15:08.274Z"
   },
   {
    "duration": 52,
    "start_time": "2023-10-24T14:16:31.390Z"
   },
   {
    "duration": 27,
    "start_time": "2023-10-24T14:22:12.417Z"
   },
   {
    "duration": 2073,
    "start_time": "2023-10-24T14:24:26.294Z"
   },
   {
    "duration": 1579,
    "start_time": "2023-10-24T14:31:59.587Z"
   },
   {
    "duration": 316,
    "start_time": "2023-10-24T14:32:01.174Z"
   },
   {
    "duration": 16,
    "start_time": "2023-10-24T14:32:01.492Z"
   },
   {
    "duration": 119,
    "start_time": "2023-10-24T14:32:01.510Z"
   },
   {
    "duration": 82,
    "start_time": "2023-10-24T14:32:01.632Z"
   },
   {
    "duration": 266,
    "start_time": "2023-10-24T14:32:01.716Z"
   },
   {
    "duration": 138,
    "start_time": "2023-10-24T14:32:01.986Z"
   },
   {
    "duration": 193,
    "start_time": "2023-10-24T14:32:02.126Z"
   },
   {
    "duration": 4,
    "start_time": "2023-10-24T14:32:02.321Z"
   },
   {
    "duration": 70,
    "start_time": "2023-10-24T14:32:02.327Z"
   },
   {
    "duration": 91,
    "start_time": "2023-10-24T14:32:02.399Z"
   },
   {
    "duration": 208,
    "start_time": "2023-10-24T14:32:02.493Z"
   },
   {
    "duration": 37,
    "start_time": "2023-10-24T14:32:02.704Z"
   },
   {
    "duration": 1438,
    "start_time": "2023-10-24T14:32:02.756Z"
   },
   {
    "duration": 2518,
    "start_time": "2023-10-24T14:32:04.200Z"
   },
   {
    "duration": 46,
    "start_time": "2023-10-24T14:32:06.720Z"
   },
   {
    "duration": 17,
    "start_time": "2023-10-24T14:32:06.769Z"
   },
   {
    "duration": 92,
    "start_time": "2023-10-24T14:32:06.790Z"
   },
   {
    "duration": 110,
    "start_time": "2023-10-24T14:32:06.886Z"
   },
   {
    "duration": 217,
    "start_time": "2023-10-24T14:32:07.005Z"
   },
   {
    "duration": 263,
    "start_time": "2023-10-24T14:32:07.224Z"
   },
   {
    "duration": 228,
    "start_time": "2023-10-24T14:32:07.489Z"
   },
   {
    "duration": 340,
    "start_time": "2023-10-24T14:32:07.719Z"
   },
   {
    "duration": 280,
    "start_time": "2023-10-24T14:32:08.061Z"
   },
   {
    "duration": 105,
    "start_time": "2023-10-24T14:32:08.342Z"
   },
   {
    "duration": 60,
    "start_time": "2023-10-24T14:32:08.449Z"
   },
   {
    "duration": 7,
    "start_time": "2023-10-24T14:32:08.511Z"
   },
   {
    "duration": 63,
    "start_time": "2023-10-24T14:32:08.520Z"
   },
   {
    "duration": 37,
    "start_time": "2023-10-24T14:32:08.589Z"
   },
   {
    "duration": 25,
    "start_time": "2023-10-24T14:32:08.629Z"
   },
   {
    "duration": 9,
    "start_time": "2023-10-24T14:39:57.887Z"
   },
   {
    "duration": 151,
    "start_time": "2023-10-24T14:40:15.373Z"
   },
   {
    "duration": 8,
    "start_time": "2023-10-24T14:40:18.828Z"
   },
   {
    "duration": 7,
    "start_time": "2023-10-24T14:45:38.690Z"
   },
   {
    "duration": 7,
    "start_time": "2023-10-24T14:45:43.013Z"
   },
   {
    "duration": 2468,
    "start_time": "2023-10-24T14:46:17.829Z"
   },
   {
    "duration": 19,
    "start_time": "2023-10-24T14:50:20.016Z"
   },
   {
    "duration": 16,
    "start_time": "2023-10-24T14:50:51.092Z"
   },
   {
    "duration": 19,
    "start_time": "2023-10-24T14:51:43.112Z"
   },
   {
    "duration": 22,
    "start_time": "2023-10-24T14:51:49.927Z"
   },
   {
    "duration": 25,
    "start_time": "2023-10-24T14:52:00.386Z"
   },
   {
    "duration": 30,
    "start_time": "2023-10-24T14:52:33.537Z"
   },
   {
    "duration": 24,
    "start_time": "2023-10-24T14:52:40.899Z"
   },
   {
    "duration": 25,
    "start_time": "2023-10-24T14:53:13.534Z"
   },
   {
    "duration": 33,
    "start_time": "2023-10-24T14:53:21.139Z"
   },
   {
    "duration": 26,
    "start_time": "2023-10-24T14:53:29.587Z"
   },
   {
    "duration": 19,
    "start_time": "2023-10-24T14:53:39.716Z"
   },
   {
    "duration": 43,
    "start_time": "2023-10-24T14:54:26.636Z"
   },
   {
    "duration": 160,
    "start_time": "2023-10-24T14:55:39.386Z"
   },
   {
    "duration": 32,
    "start_time": "2023-10-24T14:55:43.888Z"
   },
   {
    "duration": 20,
    "start_time": "2023-10-24T14:55:54.615Z"
   },
   {
    "duration": 5,
    "start_time": "2023-10-24T14:56:56.620Z"
   },
   {
    "duration": 11,
    "start_time": "2023-10-24T14:56:59.443Z"
   },
   {
    "duration": 17,
    "start_time": "2023-10-24T14:58:10.582Z"
   },
   {
    "duration": 24,
    "start_time": "2023-10-24T14:58:34.721Z"
   },
   {
    "duration": 1191,
    "start_time": "2023-10-24T17:22:58.079Z"
   },
   {
    "duration": 233,
    "start_time": "2023-10-24T17:22:59.273Z"
   },
   {
    "duration": 21,
    "start_time": "2023-10-24T17:22:59.507Z"
   },
   {
    "duration": 58,
    "start_time": "2023-10-24T17:22:59.530Z"
   },
   {
    "duration": 5,
    "start_time": "2023-10-24T17:22:59.591Z"
   },
   {
    "duration": 98,
    "start_time": "2023-10-24T17:22:59.598Z"
   },
   {
    "duration": 97,
    "start_time": "2023-10-24T17:22:59.698Z"
   },
   {
    "duration": 133,
    "start_time": "2023-10-24T17:22:59.797Z"
   },
   {
    "duration": 4,
    "start_time": "2023-10-24T17:22:59.932Z"
   },
   {
    "duration": 10,
    "start_time": "2023-10-24T17:22:59.938Z"
   },
   {
    "duration": 43,
    "start_time": "2023-10-24T17:22:59.951Z"
   },
   {
    "duration": 170,
    "start_time": "2023-10-24T17:22:59.997Z"
   },
   {
    "duration": 70,
    "start_time": "2023-10-24T17:23:00.169Z"
   },
   {
    "duration": 1138,
    "start_time": "2023-10-24T17:23:00.244Z"
   },
   {
    "duration": 1906,
    "start_time": "2023-10-24T17:23:01.385Z"
   },
   {
    "duration": 37,
    "start_time": "2023-10-24T17:23:03.293Z"
   },
   {
    "duration": 104,
    "start_time": "2023-10-24T17:23:03.332Z"
   },
   {
    "duration": 101,
    "start_time": "2023-10-24T17:23:03.439Z"
   },
   {
    "duration": 85,
    "start_time": "2023-10-24T17:23:03.543Z"
   },
   {
    "duration": 207,
    "start_time": "2023-10-24T17:23:03.629Z"
   },
   {
    "duration": 189,
    "start_time": "2023-10-24T17:23:03.838Z"
   },
   {
    "duration": 200,
    "start_time": "2023-10-24T17:23:04.029Z"
   },
   {
    "duration": 897,
    "start_time": "2023-10-24T17:23:04.231Z"
   },
   {
    "duration": 248,
    "start_time": "2023-10-24T17:23:05.130Z"
   },
   {
    "duration": 70,
    "start_time": "2023-10-24T17:23:05.380Z"
   },
   {
    "duration": 50,
    "start_time": "2023-10-24T17:23:05.453Z"
   },
   {
    "duration": 21,
    "start_time": "2023-10-24T17:23:05.505Z"
   },
   {
    "duration": 55,
    "start_time": "2023-10-24T17:23:05.528Z"
   },
   {
    "duration": 21,
    "start_time": "2023-10-24T17:23:05.585Z"
   },
   {
    "duration": 47,
    "start_time": "2023-10-24T17:23:05.608Z"
   },
   {
    "duration": 16,
    "start_time": "2023-10-24T17:23:05.657Z"
   },
   {
    "duration": 52,
    "start_time": "2023-10-24T17:23:05.676Z"
   },
   {
    "duration": 1171,
    "start_time": "2023-10-24T17:31:11.659Z"
   },
   {
    "duration": 221,
    "start_time": "2023-10-24T17:31:12.831Z"
   },
   {
    "duration": 11,
    "start_time": "2023-10-24T17:31:13.054Z"
   },
   {
    "duration": 27,
    "start_time": "2023-10-24T17:31:13.066Z"
   },
   {
    "duration": 4,
    "start_time": "2023-10-24T17:31:13.095Z"
   },
   {
    "duration": 108,
    "start_time": "2023-10-24T17:31:13.101Z"
   },
   {
    "duration": 90,
    "start_time": "2023-10-24T17:31:13.211Z"
   },
   {
    "duration": 129,
    "start_time": "2023-10-24T17:31:13.303Z"
   },
   {
    "duration": 3,
    "start_time": "2023-10-24T17:31:13.435Z"
   },
   {
    "duration": 21,
    "start_time": "2023-10-24T17:31:13.441Z"
   },
   {
    "duration": 30,
    "start_time": "2023-10-24T17:31:13.466Z"
   },
   {
    "duration": 150,
    "start_time": "2023-10-24T17:31:13.498Z"
   },
   {
    "duration": 37,
    "start_time": "2023-10-24T17:31:13.650Z"
   },
   {
    "duration": 1090,
    "start_time": "2023-10-24T17:31:13.691Z"
   },
   {
    "duration": 1924,
    "start_time": "2023-10-24T17:31:14.783Z"
   },
   {
    "duration": 31,
    "start_time": "2023-10-24T17:31:16.709Z"
   },
   {
    "duration": 38,
    "start_time": "2023-10-24T17:31:16.742Z"
   },
   {
    "duration": 70,
    "start_time": "2023-10-24T17:31:16.782Z"
   },
   {
    "duration": 107,
    "start_time": "2023-10-24T17:31:16.854Z"
   },
   {
    "duration": 182,
    "start_time": "2023-10-24T17:31:16.963Z"
   },
   {
    "duration": 189,
    "start_time": "2023-10-24T17:31:17.147Z"
   },
   {
    "duration": 175,
    "start_time": "2023-10-24T17:31:17.337Z"
   },
   {
    "duration": 914,
    "start_time": "2023-10-24T17:31:17.514Z"
   },
   {
    "duration": 212,
    "start_time": "2023-10-24T17:31:18.429Z"
   },
   {
    "duration": 69,
    "start_time": "2023-10-24T17:31:18.643Z"
   },
   {
    "duration": 38,
    "start_time": "2023-10-24T17:31:18.724Z"
   },
   {
    "duration": 7,
    "start_time": "2023-10-24T17:31:18.764Z"
   },
   {
    "duration": 52,
    "start_time": "2023-10-24T17:31:18.773Z"
   },
   {
    "duration": 37,
    "start_time": "2023-10-24T17:31:18.827Z"
   },
   {
    "duration": 27,
    "start_time": "2023-10-24T17:31:18.866Z"
   },
   {
    "duration": 22,
    "start_time": "2023-10-24T17:31:18.897Z"
   },
   {
    "duration": 46,
    "start_time": "2023-10-24T17:31:18.920Z"
   },
   {
    "duration": 44,
    "start_time": "2023-10-24T17:36:30.258Z"
   },
   {
    "duration": 47,
    "start_time": "2023-10-24T17:36:38.796Z"
   },
   {
    "duration": 41,
    "start_time": "2023-10-24T17:37:01.230Z"
   },
   {
    "duration": 46,
    "start_time": "2023-10-24T17:37:06.219Z"
   },
   {
    "duration": 104,
    "start_time": "2023-10-24T17:37:10.838Z"
   },
   {
    "duration": 40,
    "start_time": "2023-10-24T17:37:18.295Z"
   },
   {
    "duration": 32,
    "start_time": "2023-10-24T17:39:01.055Z"
   },
   {
    "duration": 6,
    "start_time": "2023-10-24T17:39:04.638Z"
   },
   {
    "duration": 29,
    "start_time": "2023-10-24T17:39:06.035Z"
   },
   {
    "duration": 55,
    "start_time": "2023-10-24T19:08:39.273Z"
   },
   {
    "duration": 1656,
    "start_time": "2023-10-24T19:08:45.786Z"
   },
   {
    "duration": 779,
    "start_time": "2023-10-24T19:08:47.454Z"
   },
   {
    "duration": 18,
    "start_time": "2023-10-24T19:08:48.235Z"
   },
   {
    "duration": 53,
    "start_time": "2023-10-24T19:08:48.256Z"
   },
   {
    "duration": 4,
    "start_time": "2023-10-24T19:08:48.312Z"
   },
   {
    "duration": 178,
    "start_time": "2023-10-24T19:08:48.318Z"
   },
   {
    "duration": 111,
    "start_time": "2023-10-24T19:08:48.498Z"
   },
   {
    "duration": 134,
    "start_time": "2023-10-24T19:08:48.611Z"
   },
   {
    "duration": 5,
    "start_time": "2023-10-24T19:08:48.747Z"
   },
   {
    "duration": 38,
    "start_time": "2023-10-24T19:08:48.755Z"
   },
   {
    "duration": 47,
    "start_time": "2023-10-24T19:08:48.795Z"
   },
   {
    "duration": 168,
    "start_time": "2023-10-24T19:08:48.850Z"
   },
   {
    "duration": 63,
    "start_time": "2023-10-24T19:08:49.020Z"
   },
   {
    "duration": 1174,
    "start_time": "2023-10-24T19:08:49.088Z"
   },
   {
    "duration": 2271,
    "start_time": "2023-10-24T19:08:50.268Z"
   },
   {
    "duration": 42,
    "start_time": "2023-10-24T19:08:52.541Z"
   },
   {
    "duration": 19,
    "start_time": "2023-10-24T19:08:52.585Z"
   },
   {
    "duration": 65,
    "start_time": "2023-10-24T19:08:52.606Z"
   },
   {
    "duration": 87,
    "start_time": "2023-10-24T19:08:52.682Z"
   },
   {
    "duration": 208,
    "start_time": "2023-10-24T19:08:52.773Z"
   },
   {
    "duration": 209,
    "start_time": "2023-10-24T19:08:52.987Z"
   },
   {
    "duration": 204,
    "start_time": "2023-10-24T19:08:53.198Z"
   },
   {
    "duration": 296,
    "start_time": "2023-10-24T19:08:53.403Z"
   },
   {
    "duration": 248,
    "start_time": "2023-10-24T19:08:53.702Z"
   },
   {
    "duration": 95,
    "start_time": "2023-10-24T19:08:53.951Z"
   },
   {
    "duration": 46,
    "start_time": "2023-10-24T19:08:54.057Z"
   },
   {
    "duration": 6,
    "start_time": "2023-10-24T19:08:54.106Z"
   },
   {
    "duration": 56,
    "start_time": "2023-10-24T19:08:54.115Z"
   },
   {
    "duration": 37,
    "start_time": "2023-10-24T19:08:54.176Z"
   },
   {
    "duration": 41,
    "start_time": "2023-10-24T19:08:54.215Z"
   },
   {
    "duration": 15,
    "start_time": "2023-10-24T19:08:54.265Z"
   },
   {
    "duration": 19,
    "start_time": "2023-10-24T19:08:54.282Z"
   },
   {
    "duration": 60,
    "start_time": "2023-10-24T19:08:54.302Z"
   },
   {
    "duration": 10,
    "start_time": "2023-10-24T19:14:36.766Z"
   },
   {
    "duration": 24,
    "start_time": "2023-10-24T19:14:42.236Z"
   },
   {
    "duration": 155,
    "start_time": "2023-10-24T19:17:11.796Z"
   },
   {
    "duration": 6,
    "start_time": "2023-10-24T19:21:11.011Z"
   },
   {
    "duration": 6,
    "start_time": "2023-10-24T19:21:34.209Z"
   },
   {
    "duration": 23,
    "start_time": "2023-10-24T19:21:42.745Z"
   },
   {
    "duration": 10,
    "start_time": "2023-10-24T19:21:53.598Z"
   },
   {
    "duration": 9,
    "start_time": "2023-10-24T19:22:01.471Z"
   },
   {
    "duration": 1290,
    "start_time": "2023-10-24T19:22:09.390Z"
   },
   {
    "duration": 242,
    "start_time": "2023-10-24T19:22:10.682Z"
   },
   {
    "duration": 12,
    "start_time": "2023-10-24T19:22:10.925Z"
   },
   {
    "duration": 86,
    "start_time": "2023-10-24T19:22:10.938Z"
   },
   {
    "duration": 4,
    "start_time": "2023-10-24T19:22:11.027Z"
   },
   {
    "duration": 147,
    "start_time": "2023-10-24T19:22:11.032Z"
   },
   {
    "duration": 94,
    "start_time": "2023-10-24T19:22:11.182Z"
   },
   {
    "duration": 133,
    "start_time": "2023-10-24T19:22:11.278Z"
   },
   {
    "duration": 4,
    "start_time": "2023-10-24T19:22:11.413Z"
   },
   {
    "duration": 8,
    "start_time": "2023-10-24T19:22:11.418Z"
   },
   {
    "duration": 60,
    "start_time": "2023-10-24T19:22:11.428Z"
   },
   {
    "duration": 174,
    "start_time": "2023-10-24T19:22:11.490Z"
   },
   {
    "duration": 38,
    "start_time": "2023-10-24T19:22:11.666Z"
   },
   {
    "duration": 1194,
    "start_time": "2023-10-24T19:22:11.707Z"
   },
   {
    "duration": 2329,
    "start_time": "2023-10-24T19:22:12.903Z"
   },
   {
    "duration": 45,
    "start_time": "2023-10-24T19:22:15.234Z"
   },
   {
    "duration": 11,
    "start_time": "2023-10-24T19:22:15.281Z"
   },
   {
    "duration": 31,
    "start_time": "2023-10-24T19:22:15.294Z"
   },
   {
    "duration": 102,
    "start_time": "2023-10-24T19:22:15.326Z"
   },
   {
    "duration": 211,
    "start_time": "2023-10-24T19:22:15.430Z"
   },
   {
    "duration": 233,
    "start_time": "2023-10-24T19:22:15.644Z"
   },
   {
    "duration": 204,
    "start_time": "2023-10-24T19:22:15.879Z"
   },
   {
    "duration": 299,
    "start_time": "2023-10-24T19:22:16.085Z"
   },
   {
    "duration": 218,
    "start_time": "2023-10-24T19:22:16.386Z"
   },
   {
    "duration": 84,
    "start_time": "2023-10-24T19:22:16.606Z"
   },
   {
    "duration": 38,
    "start_time": "2023-10-24T19:22:16.691Z"
   },
   {
    "duration": 34,
    "start_time": "2023-10-24T19:22:16.731Z"
   },
   {
    "duration": 26,
    "start_time": "2023-10-24T19:22:16.774Z"
   },
   {
    "duration": 23,
    "start_time": "2023-10-24T19:22:16.802Z"
   },
   {
    "duration": 44,
    "start_time": "2023-10-24T19:22:16.826Z"
   },
   {
    "duration": 7,
    "start_time": "2023-10-24T19:22:16.873Z"
   },
   {
    "duration": 36,
    "start_time": "2023-10-24T19:22:16.881Z"
   },
   {
    "duration": 1549,
    "start_time": "2023-10-24T19:22:16.918Z"
   },
   {
    "duration": 16,
    "start_time": "2023-10-24T20:05:06.635Z"
   },
   {
    "duration": 24,
    "start_time": "2023-10-24T20:05:07.167Z"
   },
   {
    "duration": 1266,
    "start_time": "2023-10-24T20:05:17.075Z"
   },
   {
    "duration": 260,
    "start_time": "2023-10-24T20:05:18.343Z"
   },
   {
    "duration": 10,
    "start_time": "2023-10-24T20:05:18.605Z"
   },
   {
    "duration": 47,
    "start_time": "2023-10-24T20:05:18.617Z"
   },
   {
    "duration": 4,
    "start_time": "2023-10-24T20:05:18.668Z"
   },
   {
    "duration": 117,
    "start_time": "2023-10-24T20:05:18.674Z"
   },
   {
    "duration": 120,
    "start_time": "2023-10-24T20:05:18.793Z"
   },
   {
    "duration": 151,
    "start_time": "2023-10-24T20:05:18.915Z"
   },
   {
    "duration": 6,
    "start_time": "2023-10-24T20:05:19.067Z"
   },
   {
    "duration": 13,
    "start_time": "2023-10-24T20:05:19.076Z"
   },
   {
    "duration": 46,
    "start_time": "2023-10-24T20:05:19.091Z"
   },
   {
    "duration": 157,
    "start_time": "2023-10-24T20:05:19.139Z"
   },
   {
    "duration": 33,
    "start_time": "2023-10-24T20:05:19.297Z"
   },
   {
    "duration": 1120,
    "start_time": "2023-10-24T20:05:19.343Z"
   },
   {
    "duration": 2168,
    "start_time": "2023-10-24T20:05:20.465Z"
   },
   {
    "duration": 41,
    "start_time": "2023-10-24T20:05:22.635Z"
   },
   {
    "duration": 13,
    "start_time": "2023-10-24T20:05:22.678Z"
   },
   {
    "duration": 58,
    "start_time": "2023-10-24T20:05:22.693Z"
   },
   {
    "duration": 71,
    "start_time": "2023-10-24T20:05:22.757Z"
   },
   {
    "duration": 184,
    "start_time": "2023-10-24T20:05:22.830Z"
   },
   {
    "duration": 216,
    "start_time": "2023-10-24T20:05:23.016Z"
   },
   {
    "duration": 197,
    "start_time": "2023-10-24T20:05:23.234Z"
   },
   {
    "duration": 343,
    "start_time": "2023-10-24T20:05:23.433Z"
   },
   {
    "duration": 226,
    "start_time": "2023-10-24T20:05:23.778Z"
   },
   {
    "duration": 109,
    "start_time": "2023-10-24T20:05:24.006Z"
   },
   {
    "duration": 59,
    "start_time": "2023-10-24T20:05:24.116Z"
   },
   {
    "duration": 8,
    "start_time": "2023-10-24T20:05:24.177Z"
   },
   {
    "duration": 27,
    "start_time": "2023-10-24T20:05:24.187Z"
   },
   {
    "duration": 49,
    "start_time": "2023-10-24T20:05:24.216Z"
   },
   {
    "duration": 29,
    "start_time": "2023-10-24T20:05:24.269Z"
   },
   {
    "duration": 19,
    "start_time": "2023-10-24T20:05:24.300Z"
   },
   {
    "duration": 14,
    "start_time": "2023-10-24T20:05:24.320Z"
   },
   {
    "duration": 38,
    "start_time": "2023-10-24T20:05:24.335Z"
   },
   {
    "duration": 6,
    "start_time": "2023-10-24T20:08:00.300Z"
   }
  ],
  "kernelspec": {
   "display_name": "Python 3 (ipykernel)",
   "language": "python",
   "name": "python3"
  },
  "language_info": {
   "codemirror_mode": {
    "name": "ipython",
    "version": 3
   },
   "file_extension": ".py",
   "mimetype": "text/x-python",
   "name": "python",
   "nbconvert_exporter": "python",
   "pygments_lexer": "ipython3",
   "version": "3.10.10"
  },
  "toc": {
   "base_numbering": 1,
   "nav_menu": {},
   "number_sections": true,
   "sideBar": true,
   "skip_h1_title": true,
   "title_cell": "Table of Contents",
   "title_sidebar": "Contents",
   "toc_cell": false,
   "toc_position": {
    "height": "calc(100% - 180px)",
    "left": "10px",
    "top": "150px",
    "width": "258.8px"
   },
   "toc_section_display": true,
   "toc_window_display": true
  }
 },
 "nbformat": 4,
 "nbformat_minor": 2
}
